{
 "cells": [
  {
   "cell_type": "markdown",
   "metadata": {
    "toc": true
   },
   "source": [
    "<h1>Table of Contents<span class=\"tocSkip\"></span></h1>\n",
    "<div class=\"toc\" style=\"margin-top: 1em;\"><ul class=\"toc-item\"><li><span><a href=\"#abs()\" data-toc-modified-id=\"abs()-1\"><span class=\"toc-item-num\">1&nbsp;&nbsp;</span>abs()</a></span></li><li><span><a href=\"#all()-&amp;-any()\" data-toc-modified-id=\"all()-&amp;-any()-2\"><span class=\"toc-item-num\">2&nbsp;&nbsp;</span>all() &amp; any()</a></span></li><li><span><a href=\"#ascii()-&amp;-repr()-&amp;-str()\" data-toc-modified-id=\"ascii()-&amp;-repr()-&amp;-str()-3\"><span class=\"toc-item-num\">3&nbsp;&nbsp;</span>ascii() &amp; repr() &amp; str()</a></span></li><li><span><a href=\"#bin()\" data-toc-modified-id=\"bin()-4\"><span class=\"toc-item-num\">4&nbsp;&nbsp;</span>bin()</a></span></li><li><span><a href=\"#bool()\" data-toc-modified-id=\"bool()-5\"><span class=\"toc-item-num\">5&nbsp;&nbsp;</span>bool()</a></span></li><li><span><a href=\"#bytearray()-&amp;-bytes()\" data-toc-modified-id=\"bytearray()-&amp;-bytes()-6\"><span class=\"toc-item-num\">6&nbsp;&nbsp;</span>bytearray() &amp; bytes()</a></span></li><li><span><a href=\"#callable()\" data-toc-modified-id=\"callable()-7\"><span class=\"toc-item-num\">7&nbsp;&nbsp;</span>callable()</a></span></li><li><span><a href=\"#chr()-&amp;-ord()\" data-toc-modified-id=\"chr()-&amp;-ord()-8\"><span class=\"toc-item-num\">8&nbsp;&nbsp;</span>chr() &amp; ord()</a></span></li><li><span><a href=\"#classmethod()-&amp;-staticmethod()\" data-toc-modified-id=\"classmethod()-&amp;-staticmethod()-9\"><span class=\"toc-item-num\">9&nbsp;&nbsp;</span>classmethod() &amp; staticmethod()</a></span></li><li><span><a href=\"#compile()\" data-toc-modified-id=\"compile()-10\"><span class=\"toc-item-num\">10&nbsp;&nbsp;</span>compile()</a></span></li><li><span><a href=\"#complex()\" data-toc-modified-id=\"complex()-11\"><span class=\"toc-item-num\">11&nbsp;&nbsp;</span>complex()</a></span></li><li><span><a href=\"#delattr()-&amp;-setattr()-&amp;-getattr()-&amp;-hasattr()\" data-toc-modified-id=\"delattr()-&amp;-setattr()-&amp;-getattr()-&amp;-hasattr()-12\"><span class=\"toc-item-num\">12&nbsp;&nbsp;</span>delattr() &amp; setattr() &amp; getattr() &amp; hasattr()</a></span></li><li><span><a href=\"#dict()\" data-toc-modified-id=\"dict()-13\"><span class=\"toc-item-num\">13&nbsp;&nbsp;</span>dict()</a></span></li><li><span><a href=\"#dir()-&amp;-vars()\" data-toc-modified-id=\"dir()-&amp;-vars()-14\"><span class=\"toc-item-num\">14&nbsp;&nbsp;</span>dir() &amp; vars()</a></span></li><li><span><a href=\"#divmod()\" data-toc-modified-id=\"divmod()-15\"><span class=\"toc-item-num\">15&nbsp;&nbsp;</span>divmod()</a></span></li><li><span><a href=\"#enumerate()\" data-toc-modified-id=\"enumerate()-16\"><span class=\"toc-item-num\">16&nbsp;&nbsp;</span>enumerate()</a></span></li><li><span><a href=\"#eval()-&amp;-exec()\" data-toc-modified-id=\"eval()-&amp;-exec()-17\"><span class=\"toc-item-num\">17&nbsp;&nbsp;</span>eval() &amp; exec()</a></span></li><li><span><a href=\"#filter()-&amp;-map()-&amp;-zip()\" data-toc-modified-id=\"filter()-&amp;-map()-&amp;-zip()-18\"><span class=\"toc-item-num\">18&nbsp;&nbsp;</span>filter() &amp; map() &amp; zip()</a></span></li><li><span><a href=\"#float()-&amp;-int()\" data-toc-modified-id=\"float()-&amp;-int()-19\"><span class=\"toc-item-num\">19&nbsp;&nbsp;</span>float() &amp; int()</a></span></li><li><span><a href=\"#format()\" data-toc-modified-id=\"format()-20\"><span class=\"toc-item-num\">20&nbsp;&nbsp;</span>format()</a></span></li><li><span><a href=\"#frozenset()-&amp;--list()-&amp;-set()-&amp;-tuple()\" data-toc-modified-id=\"frozenset()-&amp;--list()-&amp;-set()-&amp;-tuple()-21\"><span class=\"toc-item-num\">21&nbsp;&nbsp;</span>frozenset() &amp;  list() &amp; set() &amp; tuple()</a></span></li><li><span><a href=\"#globals()-&amp;-locals()\" data-toc-modified-id=\"globals()-&amp;-locals()-22\"><span class=\"toc-item-num\">22&nbsp;&nbsp;</span>globals() &amp; locals()</a></span></li><li><span><a href=\"#hash()-&amp;-id()\" data-toc-modified-id=\"hash()-&amp;-id()-23\"><span class=\"toc-item-num\">23&nbsp;&nbsp;</span>hash() &amp; id()</a></span></li><li><span><a href=\"#help()\" data-toc-modified-id=\"help()-24\"><span class=\"toc-item-num\">24&nbsp;&nbsp;</span>help()</a></span></li><li><span><a href=\"#hex()-&amp;-oct()\" data-toc-modified-id=\"hex()-&amp;-oct()-25\"><span class=\"toc-item-num\">25&nbsp;&nbsp;</span>hex() &amp; oct()</a></span></li><li><span><a href=\"#input()\" data-toc-modified-id=\"input()-26\"><span class=\"toc-item-num\">26&nbsp;&nbsp;</span>input()</a></span></li><li><span><a href=\"#isinstance()-&amp;-issubclass()\" data-toc-modified-id=\"isinstance()-&amp;-issubclass()-27\"><span class=\"toc-item-num\">27&nbsp;&nbsp;</span>isinstance() &amp; issubclass()</a></span></li><li><span><a href=\"#iter()\" data-toc-modified-id=\"iter()-28\"><span class=\"toc-item-num\">28&nbsp;&nbsp;</span>iter()</a></span></li><li><span><a href=\"#len()\" data-toc-modified-id=\"len()-29\"><span class=\"toc-item-num\">29&nbsp;&nbsp;</span>len()</a></span></li><li><span><a href=\"#max()-&amp;-min()\" data-toc-modified-id=\"max()-&amp;-min()-30\"><span class=\"toc-item-num\">30&nbsp;&nbsp;</span>max() &amp; min()</a></span></li><li><span><a href=\"#memoryview()\" data-toc-modified-id=\"memoryview()-31\"><span class=\"toc-item-num\">31&nbsp;&nbsp;</span>memoryview()</a></span></li><li><span><a href=\"#next()\" data-toc-modified-id=\"next()-32\"><span class=\"toc-item-num\">32&nbsp;&nbsp;</span>next()</a></span></li><li><span><a href=\"#open()\" data-toc-modified-id=\"open()-33\"><span class=\"toc-item-num\">33&nbsp;&nbsp;</span>open()</a></span></li><li><span><a href=\"#pow()-&amp;-sum()\" data-toc-modified-id=\"pow()-&amp;-sum()-34\"><span class=\"toc-item-num\">34&nbsp;&nbsp;</span>pow() &amp; sum()</a></span></li><li><span><a href=\"#print()\" data-toc-modified-id=\"print()-35\"><span class=\"toc-item-num\">35&nbsp;&nbsp;</span>print()</a></span></li><li><span><a href=\"#property()\" data-toc-modified-id=\"property()-36\"><span class=\"toc-item-num\">36&nbsp;&nbsp;</span>property()</a></span></li><li><span><a href=\"#range()\" data-toc-modified-id=\"range()-37\"><span class=\"toc-item-num\">37&nbsp;&nbsp;</span>range()</a></span></li><li><span><a href=\"#reversed\" data-toc-modified-id=\"reversed-38\"><span class=\"toc-item-num\">38&nbsp;&nbsp;</span>reversed</a></span></li><li><span><a href=\"#round()\" data-toc-modified-id=\"round()-39\"><span class=\"toc-item-num\">39&nbsp;&nbsp;</span>round()</a></span></li><li><span><a href=\"#slice()\" data-toc-modified-id=\"slice()-40\"><span class=\"toc-item-num\">40&nbsp;&nbsp;</span>slice()</a></span></li><li><span><a href=\"#sorted()\" data-toc-modified-id=\"sorted()-41\"><span class=\"toc-item-num\">41&nbsp;&nbsp;</span>sorted()</a></span></li><li><span><a href=\"#super()\" data-toc-modified-id=\"super()-42\"><span class=\"toc-item-num\">42&nbsp;&nbsp;</span>super()</a></span></li><li><span><a href=\"#type()\" data-toc-modified-id=\"type()-43\"><span class=\"toc-item-num\">43&nbsp;&nbsp;</span>type()</a></span></li></ul></div>"
   ]
  },
  {
   "cell_type": "markdown",
   "metadata": {
    "collapsed": true
   },
   "source": [
    "## abs()"
   ]
  },
  {
   "cell_type": "markdown",
   "metadata": {},
   "source": [
    "$ abs(x)$\n",
    "* 返回绝对值"
   ]
  },
  {
   "cell_type": "code",
   "execution_count": 2,
   "metadata": {},
   "outputs": [
    {
     "data": {
      "text/plain": [
       "1"
      ]
     },
     "execution_count": 2,
     "metadata": {},
     "output_type": "execute_result"
    },
    {
     "data": {
      "text/plain": [
       "0.9"
      ]
     },
     "execution_count": 2,
     "metadata": {},
     "output_type": "execute_result"
    }
   ],
   "source": [
    "abs(-1)\n",
    "abs(-0.9)"
   ]
  },
  {
   "cell_type": "markdown",
   "metadata": {},
   "source": [
    "## all() & any()"
   ]
  },
  {
   "cell_type": "markdown",
   "metadata": {},
   "source": [
    "$ all(iterable) $ \n",
    "* 判断迭代器中的所有元素为 True <br>\n",
    "\n",
    "$ any(iterable) $\n",
    "* 判断迭代器中是否存在为True的元素"
   ]
  },
  {
   "cell_type": "code",
   "execution_count": 24,
   "metadata": {},
   "outputs": [
    {
     "data": {
      "text/plain": [
       "True"
      ]
     },
     "execution_count": 24,
     "metadata": {},
     "output_type": "execute_result"
    },
    {
     "data": {
      "text/plain": [
       "False"
      ]
     },
     "execution_count": 24,
     "metadata": {},
     "output_type": "execute_result"
    },
    {
     "data": {
      "text/plain": [
       "True"
      ]
     },
     "execution_count": 24,
     "metadata": {},
     "output_type": "execute_result"
    },
    {
     "data": {
      "text/plain": [
       "False"
      ]
     },
     "execution_count": 24,
     "metadata": {},
     "output_type": "execute_result"
    }
   ],
   "source": [
    "all([1, -1])\n",
    "all([0, 1])\n",
    "any([0, 1])\n",
    "any([0, 0])"
   ]
  },
  {
   "cell_type": "markdown",
   "metadata": {},
   "source": [
    "## ascii() & repr() & str()"
   ]
  },
  {
   "cell_type": "markdown",
   "metadata": {},
   "source": [
    "$ ascii(object)$\n",
    "* 返回一个准确描述python对象的字符串，类似 $repr()$，但是如果是非 $ ASCII $ 码 则返回 $\\U$ 格式 <br>\n",
    "\n",
    "$ repr(object) $\n",
    "* 返回一个准确描述python对象的字符串 <br>\n",
    "\n",
    "$class\\ str(object) $\n",
    "<br>\n",
    "$class\\ str(object=b'',\\ encoding='utf-8',\\ errors='strict')$\n",
    "* 返回一个可读的python对象的字符串"
   ]
  },
  {
   "cell_type": "code",
   "execution_count": 23,
   "metadata": {},
   "outputs": [
    {
     "data": {
      "text/plain": [
       "\"'test \\\\u63ed\\\\u6653'\""
      ]
     },
     "execution_count": 23,
     "metadata": {},
     "output_type": "execute_result"
    },
    {
     "data": {
      "text/plain": [
       "\"'test 揭晓'\""
      ]
     },
     "execution_count": 23,
     "metadata": {},
     "output_type": "execute_result"
    },
    {
     "data": {
      "text/plain": [
       "'test 揭晓'"
      ]
     },
     "execution_count": 23,
     "metadata": {},
     "output_type": "execute_result"
    }
   ],
   "source": [
    "ascii(\"test 揭晓\")\n",
    "repr(\"test 揭晓\")\n",
    "str(\"test 揭晓\")"
   ]
  },
  {
   "cell_type": "markdown",
   "metadata": {},
   "source": [
    "## bin()"
   ]
  },
  {
   "cell_type": "markdown",
   "metadata": {},
   "source": [
    "$ bin(x) $\n",
    "* 将数字转化成二进制形式的字符串，可以传入定义了 ``__index__()`` 方法的对象"
   ]
  },
  {
   "cell_type": "code",
   "execution_count": 29,
   "metadata": {},
   "outputs": [
    {
     "data": {
      "text/plain": [
       "'0b1011'"
      ]
     },
     "execution_count": 29,
     "metadata": {},
     "output_type": "execute_result"
    },
    {
     "data": {
      "text/plain": [
       "'0b1010'"
      ]
     },
     "execution_count": 29,
     "metadata": {},
     "output_type": "execute_result"
    }
   ],
   "source": [
    "class bin_test(object):\n",
    "    def __index__(self):\n",
    "        return 11\n",
    "bin(bin_test())\n",
    "bin(10)"
   ]
  },
  {
   "cell_type": "markdown",
   "metadata": {},
   "source": [
    "## bool()"
   ]
  },
  {
   "cell_type": "markdown",
   "metadata": {},
   "source": [
    "$ class \\ bool([x]) $\n",
    "* 将给定参数转化为布尔类型，如果没有参数返回 False"
   ]
  },
  {
   "cell_type": "code",
   "execution_count": 31,
   "metadata": {},
   "outputs": [
    {
     "data": {
      "text/plain": [
       "False"
      ]
     },
     "execution_count": 31,
     "metadata": {},
     "output_type": "execute_result"
    },
    {
     "data": {
      "text/plain": [
       "True"
      ]
     },
     "execution_count": 31,
     "metadata": {},
     "output_type": "execute_result"
    },
    {
     "data": {
      "text/plain": [
       "False"
      ]
     },
     "execution_count": 31,
     "metadata": {},
     "output_type": "execute_result"
    }
   ],
   "source": [
    "bool()\n",
    "bool(1)\n",
    "bool(0)"
   ]
  },
  {
   "cell_type": "markdown",
   "metadata": {},
   "source": [
    "## bytearray() & bytes()"
   ]
  },
  {
   "cell_type": "markdown",
   "metadata": {},
   "source": [
    "$ class\\ bytearray([source\\ [,\\ encoding[,\\ errors]]]) $\n",
    "* 返回一个新的bytes数组，数组元素可变，每个元素的范围是 [0, 256] <br>\n",
    "\n",
    "$ class\\ bytes([source\\ [,\\ encoding[,\\ errors]]])$\n",
    "* 返回一个新的 bytes 的实例，是 bytearray 的不可变版本，元素范围 [0, 255] <br>\n",
    "\n",
    "参数说明\n",
    "* 如果 source 为整数，则返回一个长度为 source 的初始化数组；\n",
    "* 如果 source 为字符串，则按照指定的 encoding 将字符串转换为字节序列；\n",
    "* 如果 source 为可迭代类型，则元素必须为[0 ,255] 中的整数；\n",
    "* 如果 source 为与 buffer 接口一致的对象，则此对象也可以被用于初始化 bytearray。\n",
    "* 如果没有输入任何参数，默认就是初始化数组为0个元素。"
   ]
  },
  {
   "cell_type": "code",
   "execution_count": 38,
   "metadata": {},
   "outputs": [
    {
     "data": {
      "text/plain": [
       "bytearray(b'\\x00\\x00\\x00\\x00\\x00\\x00\\x00\\x00\\x00\\x00')"
      ]
     },
     "execution_count": 38,
     "metadata": {},
     "output_type": "execute_result"
    },
    {
     "data": {
      "text/plain": [
       "bytearray(b'abc')"
      ]
     },
     "execution_count": 38,
     "metadata": {},
     "output_type": "execute_result"
    },
    {
     "data": {
      "text/plain": [
       "bytearray(b'\\x01\\x02\\x03')"
      ]
     },
     "execution_count": 38,
     "metadata": {},
     "output_type": "execute_result"
    }
   ],
   "source": [
    "bytearray(10)\n",
    "bytearray(\"abc\", \"utf-8\")\n",
    "bytearray([1, 2, 3])\n",
    "# 错误示例，元素超出256\n",
    "# bytearray([1, 2, 300])"
   ]
  },
  {
   "cell_type": "code",
   "execution_count": 51,
   "metadata": {},
   "outputs": [
    {
     "data": {
      "text/plain": [
       "b'\\x00\\x00\\x00\\x00\\x00\\x00\\x00\\x00\\x00\\x00'"
      ]
     },
     "execution_count": 51,
     "metadata": {},
     "output_type": "execute_result"
    },
    {
     "data": {
      "text/plain": [
       "b'abc'"
      ]
     },
     "execution_count": 51,
     "metadata": {},
     "output_type": "execute_result"
    },
    {
     "data": {
      "text/plain": [
       "b'\\x01\\x02\\x03'"
      ]
     },
     "execution_count": 51,
     "metadata": {},
     "output_type": "execute_result"
    }
   ],
   "source": [
    "bytes(10)\n",
    "bytes(\"abc\", \"utf-8\")\n",
    "bytes([1, 2, 3])"
   ]
  },
  {
   "cell_type": "code",
   "execution_count": 46,
   "metadata": {},
   "outputs": [
    {
     "data": {
      "text/plain": [
       "bytearray(b'\\x00\\x00\\x00\\x00\\x00\\x01')"
      ]
     },
     "execution_count": 46,
     "metadata": {},
     "output_type": "execute_result"
    }
   ],
   "source": [
    "tmp = bytearray(5)\n",
    "tmp.append(1); tmp"
   ]
  },
  {
   "cell_type": "code",
   "execution_count": 50,
   "metadata": {
    "collapsed": true
   },
   "outputs": [],
   "source": [
    "tmp = bytes(5)\n",
    "# 错误示例，bytes 没有 append 方法\n",
    "# tmp.append(1); tmp"
   ]
  },
  {
   "cell_type": "markdown",
   "metadata": {},
   "source": [
    "## callable()"
   ]
  },
  {
   "cell_type": "markdown",
   "metadata": {},
   "source": [
    "$callable(object)$\n",
    "* 检查一个object是否可以被调用，class 可以被调用(调用后相当于产生了一个新的实例)，instances 的 class 如果定义了 ``__call__()`` 方法也可以被调用"
   ]
  },
  {
   "cell_type": "code",
   "execution_count": 55,
   "metadata": {},
   "outputs": [
    {
     "data": {
      "text/plain": [
       "True"
      ]
     },
     "execution_count": 55,
     "metadata": {},
     "output_type": "execute_result"
    },
    {
     "data": {
      "text/plain": [
       "False"
      ]
     },
     "execution_count": 55,
     "metadata": {},
     "output_type": "execute_result"
    },
    {
     "data": {
      "text/plain": [
       "True"
      ]
     },
     "execution_count": 55,
     "metadata": {},
     "output_type": "execute_result"
    },
    {
     "name": "stdout",
     "output_type": "stream",
     "text": [
      "call.\n"
     ]
    }
   ],
   "source": [
    "class callable_test(object):\n",
    "    pass\n",
    "class callable_test_with_call(object):\n",
    "    def __call__(self):\n",
    "        print(\"call.\")\n",
    "callable(callable_test)\n",
    "callable(callable_test())\n",
    "callable(callable_test_with_call())\n",
    "callable_test_with_call()()"
   ]
  },
  {
   "cell_type": "markdown",
   "metadata": {},
   "source": [
    "## chr() & ord()"
   ]
  },
  {
   "cell_type": "markdown",
   "metadata": {},
   "source": [
    "$chr(i)$\n",
    "* 返回unicode对应的 character <br>\n",
    "\n",
    "$ord(i) $\n",
    "* 返回 character 对应的 unicode"
   ]
  },
  {
   "cell_type": "code",
   "execution_count": 61,
   "metadata": {},
   "outputs": [
    {
     "data": {
      "text/plain": [
       "'a'"
      ]
     },
     "execution_count": 61,
     "metadata": {},
     "output_type": "execute_result"
    },
    {
     "data": {
      "text/plain": [
       "97"
      ]
     },
     "execution_count": 61,
     "metadata": {},
     "output_type": "execute_result"
    }
   ],
   "source": [
    "chr(97)\n",
    "ord('a')"
   ]
  },
  {
   "cell_type": "markdown",
   "metadata": {},
   "source": [
    "## classmethod() & staticmethod()"
   ]
  },
  {
   "cell_type": "markdown",
   "metadata": {},
   "source": [
    "$classmethod(function)$\n",
    "* 装饰器，用于修饰一个方法，使得该方法既可以通过类进行调用也可以通过实例进行调用 <br>\n",
    "\n",
    "$staticmethod(function)$\n",
    "* 装饰器，用于修饰一个方法，使得该方法成为静态方法"
   ]
  },
  {
   "cell_type": "code",
   "execution_count": 64,
   "metadata": {},
   "outputs": [
    {
     "name": "stdout",
     "output_type": "stream",
     "text": [
      "func_2.\n",
      "1\n",
      "2\n",
      "func_1.\n"
     ]
    }
   ],
   "source": [
    "class classmethod_test():\n",
    "    var_1 = 1\n",
    "    def __init__(self):\n",
    "        self.var_2 = 2\n",
    "    def func_1(self):\n",
    "        print('func_1.')\n",
    "    @classmethod\n",
    "    def func_2(cls):\n",
    "        print('func_2.')\n",
    "        print(cls.var_1)\n",
    "        print(cls().var_2)\n",
    "        cls().func_1()\n",
    "classmethod_test.func_2()"
   ]
  },
  {
   "cell_type": "code",
   "execution_count": 326,
   "metadata": {},
   "outputs": [
    {
     "name": "stdout",
     "output_type": "stream",
     "text": [
      "Hello, World.\n",
      "Hello, World.\n"
     ]
    }
   ],
   "source": [
    "class Staticmethod_Test(object):\n",
    "    @staticmethod\n",
    "    def func_1():\n",
    "        print(\"Hello, World.\")\n",
    "Staticmethod_Test.func_1()\n",
    "Staticmethod_Test().func_1()"
   ]
  },
  {
   "cell_type": "markdown",
   "metadata": {},
   "source": [
    "## compile()"
   ]
  },
  {
   "cell_type": "markdown",
   "metadata": {},
   "source": [
    "$compile(source,\\ filename,\\ mode[,\\ flags[,\\ dont\\_inherit]])$\n",
    "* 将一个字符串编译为字节码\n",
    "* source -- 字符串或者AST（Abstract Syntax Trees）对象。。\n",
    "*　filename -- 代码文件名称，如果不是从文件读取代码则传递一些可辨认的值。\n",
    "* mode -- 指定编译代码的种类。可以指定为 exec, eval, single。\n",
    "* flags -- 变量作用域，局部命名空间，如果被提供，可以是任何映射对象。。\n",
    "* flags和dont_inherit是用来控制编译源码时的标志"
   ]
  },
  {
   "cell_type": "code",
   "execution_count": 67,
   "metadata": {},
   "outputs": [
    {
     "name": "stdout",
     "output_type": "stream",
     "text": [
      "Hello, World.\n"
     ]
    }
   ],
   "source": [
    "str = \"print('Hello, World.')\"\n",
    "c = compile(str, '', 'exec')\n",
    "exec(c)"
   ]
  },
  {
   "cell_type": "markdown",
   "metadata": {},
   "source": [
    "## complex()"
   ]
  },
  {
   "cell_type": "markdown",
   "metadata": {},
   "source": [
    "$complex([real\\ [,\\ imag]])$\n",
    "* 返回一个虚数"
   ]
  },
  {
   "cell_type": "code",
   "execution_count": 75,
   "metadata": {},
   "outputs": [
    {
     "data": {
      "text/plain": [
       "(1+2j)"
      ]
     },
     "execution_count": 75,
     "metadata": {},
     "output_type": "execute_result"
    },
    {
     "data": {
      "text/plain": [
       "(1+2j)"
      ]
     },
     "execution_count": 75,
     "metadata": {},
     "output_type": "execute_result"
    }
   ],
   "source": [
    "complex(1, 2)\n",
    "complex('1+2j')\n",
    "# + 前后不能有空格\n",
    "# complex('1 + 2j')"
   ]
  },
  {
   "cell_type": "markdown",
   "metadata": {},
   "source": [
    "## delattr() & setattr() & getattr() & hasattr()"
   ]
  },
  {
   "cell_type": "markdown",
   "metadata": {},
   "source": [
    "$delattr(object,\\ name)$\n",
    "* 删除 object 的 attribute <br>\n",
    "\n",
    "$setattr(object,\\ name,\\ value)$\n",
    "* 为 object 添加 attribute <br>\n",
    "\n",
    "$getattr(object,\\ name[,\\ default])$\n",
    "* 返回 attribute, 当名为 name 的 attribute 不存在时返回 default， 如果 default 不指定则会抛出 AttributeError <br>\n",
    "\n",
    "$hasattr(object,\\ name)$\n",
    "* 判断 attribute 是否存在，实现的方式是调用 getattr 看是否有异常抛出 <br>"
   ]
  },
  {
   "cell_type": "code",
   "execution_count": 176,
   "metadata": {},
   "outputs": [
    {
     "data": {
      "text/plain": [
       "2"
      ]
     },
     "execution_count": 176,
     "metadata": {},
     "output_type": "execute_result"
    },
    {
     "data": {
      "text/plain": [
       "3"
      ]
     },
     "execution_count": 176,
     "metadata": {},
     "output_type": "execute_result"
    },
    {
     "data": {
      "text/plain": [
       "1"
      ]
     },
     "execution_count": 176,
     "metadata": {},
     "output_type": "execute_result"
    },
    {
     "data": {
      "text/plain": [
       "1"
      ]
     },
     "execution_count": 176,
     "metadata": {},
     "output_type": "execute_result"
    },
    {
     "data": {
      "text/plain": [
       "1"
      ]
     },
     "execution_count": 176,
     "metadata": {},
     "output_type": "execute_result"
    },
    {
     "data": {
      "text/plain": [
       "True"
      ]
     },
     "execution_count": 176,
     "metadata": {},
     "output_type": "execute_result"
    }
   ],
   "source": [
    "class attr_test(object):\n",
    "    attr_1 = 1\n",
    "x = attr_test()\n",
    "x.attr_1 = 2\n",
    "x.attr_1\n",
    "setattr(x, \"attr_1\", 3)\n",
    "x.attr_1\n",
    "delattr(x, \"attr_1\")\n",
    "x.attr_1\n",
    "getattr(x, \"attr_1\")\n",
    "getattr(x, \"whatever\", 1)\n",
    "hasattr(x, \"attr_1\")"
   ]
  },
  {
   "cell_type": "markdown",
   "metadata": {},
   "source": [
    "## dict()"
   ]
  },
  {
   "cell_type": "markdown",
   "metadata": {},
   "source": [
    "$dict(**kwarg)$\n",
    "* 通过关键字创建字典 <br>\n",
    "\n",
    "$dict(mapping, **kwarg)$\n",
    "* 通过元素容器创建字典 <br>\n",
    "\n",
    "$dict(iterable, **kwarg)$\n",
    "* 通过可迭代对象创建字典 <br>\n"
   ]
  },
  {
   "cell_type": "code",
   "execution_count": 87,
   "metadata": {},
   "outputs": [
    {
     "data": {
      "text/plain": [
       "{}"
      ]
     },
     "execution_count": 87,
     "metadata": {},
     "output_type": "execute_result"
    },
    {
     "data": {
      "text/plain": [
       "{'a': 'a', 'b': 'b', 'c': 'c'}"
      ]
     },
     "execution_count": 87,
     "metadata": {},
     "output_type": "execute_result"
    },
    {
     "data": {
      "text/plain": [
       "{'a': 1, 'b': 2, 'c': 3}"
      ]
     },
     "execution_count": 87,
     "metadata": {},
     "output_type": "execute_result"
    },
    {
     "data": {
      "text/plain": [
       "{'a': 1, 'b': 2, 'c': 3}"
      ]
     },
     "execution_count": 87,
     "metadata": {},
     "output_type": "execute_result"
    }
   ],
   "source": [
    "dict()\n",
    "dict(a='a', b='b', c='c')\n",
    "dict(zip(['a', 'b', 'c'], [1, 2, 3]))\n",
    "dict([('a', 1), ('b', 2), ('c', 3)])"
   ]
  },
  {
   "cell_type": "markdown",
   "metadata": {},
   "source": [
    "## dir() & vars()"
   ]
  },
  {
   "cell_type": "markdown",
   "metadata": {},
   "source": [
    "$dir([object])$\n",
    "* 不带参数时，返回当前 scope 所有可用的 name，传入 object 时，返回该 object 所有有效的 attribute <br>\n",
    "\n",
    "$vars([object])$\n",
    "* 返回对象的 ``__dict__`` 值"
   ]
  },
  {
   "cell_type": "code",
   "execution_count": 10,
   "metadata": {
    "scrolled": true
   },
   "outputs": [
    {
     "data": {
      "text/plain": [
       "['__class__',\n",
       " '__delattr__',\n",
       " '__dict__',\n",
       " '__dir__',\n",
       " '__doc__',\n",
       " '__eq__',\n",
       " '__format__',\n",
       " '__ge__',\n",
       " '__getattribute__',\n",
       " '__gt__',\n",
       " '__hash__',\n",
       " '__init__',\n",
       " '__init_subclass__',\n",
       " '__le__',\n",
       " '__lt__',\n",
       " '__module__',\n",
       " '__ne__',\n",
       " '__new__',\n",
       " '__reduce__',\n",
       " '__reduce_ex__',\n",
       " '__repr__',\n",
       " '__setattr__',\n",
       " '__sizeof__',\n",
       " '__str__',\n",
       " '__subclasshook__',\n",
       " '__weakref__']"
      ]
     },
     "execution_count": 10,
     "metadata": {},
     "output_type": "execute_result"
    },
    {
     "data": {
      "text/plain": [
       "['attr_cumstom_1', 'attr_cumstom_2']"
      ]
     },
     "execution_count": 10,
     "metadata": {},
     "output_type": "execute_result"
    },
    {
     "data": {
      "text/plain": [
       "<function __main__.dir_test.__dir__>"
      ]
     },
     "execution_count": 10,
     "metadata": {},
     "output_type": "execute_result"
    },
    {
     "data": {
      "text/plain": [
       "<bound method dir_test.__dir__ of <__main__.dir_test object at 0x7f33c8b409e8>>"
      ]
     },
     "execution_count": 10,
     "metadata": {},
     "output_type": "execute_result"
    },
    {
     "data": {
      "text/plain": [
       "mappingproxy({'__dict__': <attribute '__dict__' of 'dir_test' objects>,\n",
       "              '__dir__': <function __main__.dir_test.__dir__>,\n",
       "              '__doc__': None,\n",
       "              '__module__': '__main__',\n",
       "              '__weakref__': <attribute '__weakref__' of 'dir_test' objects>})"
      ]
     },
     "execution_count": 10,
     "metadata": {},
     "output_type": "execute_result"
    },
    {
     "data": {
      "text/plain": [
       "{}"
      ]
     },
     "execution_count": 10,
     "metadata": {},
     "output_type": "execute_result"
    }
   ],
   "source": [
    "class dir_test(object):\n",
    "    def __dir__(self):\n",
    "        return ['attr_cumstom_1', 'attr_cumstom_2']\n",
    "dir(dir_test)\n",
    "dir(dir_test())\n",
    "dir_test.__dir__\n",
    "dir_test().__dir__\n",
    "vars(dir_test)\n",
    "vars(dir_test())"
   ]
  },
  {
   "cell_type": "markdown",
   "metadata": {},
   "source": [
    "## divmod()"
   ]
  },
  {
   "cell_type": "markdown",
   "metadata": {},
   "source": [
    "$divmod(a, b)$\n",
    "* 返回两个数相除的商及余数，如果传入整数，结果等于 (a // b, a % b), 传入浮点数，结果等于 (math.floor(a / b), a % b)"
   ]
  },
  {
   "cell_type": "code",
   "execution_count": 101,
   "metadata": {},
   "outputs": [
    {
     "data": {
      "text/plain": [
       "(2, 2)"
      ]
     },
     "execution_count": 101,
     "metadata": {},
     "output_type": "execute_result"
    },
    {
     "data": {
      "text/plain": [
       "(3.0, 2.9000000000000004)"
      ]
     },
     "execution_count": 101,
     "metadata": {},
     "output_type": "execute_result"
    }
   ],
   "source": [
    "divmod(8, 3)\n",
    "divmod(11.9, 3)"
   ]
  },
  {
   "cell_type": "markdown",
   "metadata": {},
   "source": [
    "## enumerate()"
   ]
  },
  {
   "cell_type": "markdown",
   "metadata": {},
   "source": [
    "$enumerate(iterable, start=0)$\n",
    "* 返回一个 enumerate 对象"
   ]
  },
  {
   "cell_type": "code",
   "execution_count": 102,
   "metadata": {},
   "outputs": [
    {
     "data": {
      "text/plain": [
       "[(0, 1), (1, 2), (2, 3)]"
      ]
     },
     "execution_count": 102,
     "metadata": {},
     "output_type": "execute_result"
    }
   ],
   "source": [
    "list(enumerate([1, 2, 3]))"
   ]
  },
  {
   "cell_type": "markdown",
   "metadata": {},
   "source": [
    "## eval() & exec()"
   ]
  },
  {
   "cell_type": "markdown",
   "metadata": {},
   "source": [
    "$eval(expression,\\ globals=None,\\ locals=None)$\n",
    "* 执行字符串表达式，返回其结果 <br>\n",
    "\n",
    "$exec(object\\ [,\\ globals[,\\ locals]])$\n",
    "* 执行字符串形式的python代码，返回 None <br>"
   ]
  },
  {
   "cell_type": "code",
   "execution_count": 106,
   "metadata": {},
   "outputs": [
    {
     "data": {
      "text/plain": [
       "9"
      ]
     },
     "execution_count": 106,
     "metadata": {},
     "output_type": "execute_result"
    },
    {
     "name": "stdout",
     "output_type": "stream",
     "text": [
      "4\n"
     ]
    }
   ],
   "source": [
    "x = 3\n",
    "eval('3 * x')\n",
    "exec('if x == 3: print(\"4\")')\n",
    "# eval 支持表达式，不支持复杂的语句\n",
    "# eval('if x == 3: print(\"4\")')"
   ]
  },
  {
   "cell_type": "markdown",
   "metadata": {},
   "source": [
    "## filter() & map() & zip()"
   ]
  },
  {
   "cell_type": "markdown",
   "metadata": {},
   "source": [
    "$filter(function, iterable)$\n",
    "* 遍历iterable中的元素，传入function，将所有返回 True 的元素生成新的 iter <br>\n",
    "\n",
    "$map(function, iteralbe)$\n",
    "* 遍历 iterable 中的元素，传入 function，将返回的结果生成新的 iter <br>\n",
    "\n",
    "$zip(*iteralbes)$\n",
    "* 将多个 iterables 的元素进行合并 <br>"
   ]
  },
  {
   "cell_type": "code",
   "execution_count": 13,
   "metadata": {},
   "outputs": [
    {
     "data": {
      "text/plain": [
       "[1, 2]"
      ]
     },
     "execution_count": 13,
     "metadata": {},
     "output_type": "execute_result"
    },
    {
     "data": {
      "text/plain": [
       "[1, 2, 3]"
      ]
     },
     "execution_count": 13,
     "metadata": {},
     "output_type": "execute_result"
    },
    {
     "data": {
      "text/plain": [
       "[2, 3, 4]"
      ]
     },
     "execution_count": 13,
     "metadata": {},
     "output_type": "execute_result"
    }
   ],
   "source": [
    "def map_test(x):\n",
    "    return x + 2\n",
    "list(filter(lambda x: x > 0, [-1, 0, 1, 2]))\n",
    "list(map(lambda x: x + 1, [0, 1, 2]))\n",
    "list(map(map_test, [0, 1, 2]))"
   ]
  },
  {
   "cell_type": "code",
   "execution_count": null,
   "metadata": {
    "collapsed": true
   },
   "outputs": [],
   "source": [
    "x = [1, 2, 3]\n",
    "y = ['a', 'b', 'c']\n",
    "zip(x)"
   ]
  },
  {
   "cell_type": "markdown",
   "metadata": {},
   "source": [
    "## float() & int()"
   ]
  },
  {
   "cell_type": "markdown",
   "metadata": {},
   "source": [
    "$class\\ float([x])$\n",
    "* 将一个数字或者string转换成 float\n",
    "\n",
    "$class\\ int([x],\\ base=10)$\n",
    "* 将一个数字或者string转换成 int"
   ]
  },
  {
   "cell_type": "code",
   "execution_count": 126,
   "metadata": {
    "scrolled": false
   },
   "outputs": [
    {
     "data": {
      "text/plain": [
       "1.4"
      ]
     },
     "execution_count": 126,
     "metadata": {},
     "output_type": "execute_result"
    },
    {
     "data": {
      "text/plain": [
       "inf"
      ]
     },
     "execution_count": 126,
     "metadata": {},
     "output_type": "execute_result"
    },
    {
     "data": {
      "text/plain": [
       "nan"
      ]
     },
     "execution_count": 126,
     "metadata": {},
     "output_type": "execute_result"
    }
   ],
   "source": [
    "float(\"1.4\")\n",
    "float(\"inf\")\n",
    "float(\"nan\")"
   ]
  },
  {
   "cell_type": "code",
   "execution_count": 136,
   "metadata": {},
   "outputs": [
    {
     "data": {
      "text/plain": [
       "True"
      ]
     },
     "execution_count": 136,
     "metadata": {},
     "output_type": "execute_result"
    },
    {
     "data": {
      "text/plain": [
       "False"
      ]
     },
     "execution_count": 136,
     "metadata": {},
     "output_type": "execute_result"
    }
   ],
   "source": [
    "import math\n",
    "math.isnan(float(\"nan\"))\n",
    "float(\"nan\") == float(\"nan\")"
   ]
  },
  {
   "cell_type": "code",
   "execution_count": 200,
   "metadata": {},
   "outputs": [
    {
     "data": {
      "text/plain": [
       "10"
      ]
     },
     "execution_count": 200,
     "metadata": {},
     "output_type": "execute_result"
    },
    {
     "data": {
      "text/plain": [
       "16"
      ]
     },
     "execution_count": 200,
     "metadata": {},
     "output_type": "execute_result"
    }
   ],
   "source": [
    "int(\"10\")\n",
    "int(\"10\", base=16)"
   ]
  },
  {
   "cell_type": "markdown",
   "metadata": {},
   "source": [
    "## format()"
   ]
  },
  {
   "cell_type": "markdown",
   "metadata": {},
   "source": [
    "$format(value\\ [,\\ format\\_spec])$\n",
    "* 格式化字符串"
   ]
  },
  {
   "cell_type": "markdown",
   "metadata": {},
   "source": [
    "不限参数个数，可以指定参数顺序"
   ]
  },
  {
   "cell_type": "code",
   "execution_count": 138,
   "metadata": {},
   "outputs": [
    {
     "data": {
      "text/plain": [
       "'Hello, World.'"
      ]
     },
     "execution_count": 138,
     "metadata": {},
     "output_type": "execute_result"
    },
    {
     "data": {
      "text/plain": [
       "'Hello, World.'"
      ]
     },
     "execution_count": 138,
     "metadata": {},
     "output_type": "execute_result"
    }
   ],
   "source": [
    "\"{} {}\".format(\"Hello,\", \"World.\")\n",
    "\"{1} {0}\".format(\"World.\", \"Hello,\")"
   ]
  },
  {
   "cell_type": "markdown",
   "metadata": {},
   "source": [
    "可以指定参数名，可以使用 map/list 参数"
   ]
  },
  {
   "cell_type": "code",
   "execution_count": 144,
   "metadata": {},
   "outputs": [
    {
     "data": {
      "text/plain": [
       "'名字:揭晓, 年龄:30'"
      ]
     },
     "execution_count": 144,
     "metadata": {},
     "output_type": "execute_result"
    },
    {
     "data": {
      "text/plain": [
       "'名字:揭晓, 年龄:30'"
      ]
     },
     "execution_count": 144,
     "metadata": {},
     "output_type": "execute_result"
    },
    {
     "data": {
      "text/plain": [
       "'名字:揭晓, 年龄:30'"
      ]
     },
     "execution_count": 144,
     "metadata": {},
     "output_type": "execute_result"
    }
   ],
   "source": [
    "\"名字:{name}, 年龄:{age}\".format(name=\"揭晓\", age=\"30\")\n",
    "info = dict(name=\"揭晓\", age=\"30\")\n",
    "\"名字:{name}, 年龄:{age}\".format(**info)\n",
    "info_list = ['揭晓', 30]\n",
    "\"名字:{0[0]}, 年龄:{0[1]}\".format(info_list)"
   ]
  },
  {
   "cell_type": "markdown",
   "metadata": {},
   "source": [
    "可以传入对象"
   ]
  },
  {
   "cell_type": "code",
   "execution_count": 147,
   "metadata": {},
   "outputs": [
    {
     "data": {
      "text/plain": [
       "'Value: jiexiao'"
      ]
     },
     "execution_count": 147,
     "metadata": {},
     "output_type": "execute_result"
    }
   ],
   "source": [
    "class format_test(object):\n",
    "    def __init__(self, value):\n",
    "        self.value = value\n",
    "tmp = format_test(\"jiexiao\")\n",
    "\"Value: {0.value}\".format(tmp)"
   ]
  },
  {
   "cell_type": "markdown",
   "metadata": {},
   "source": [
    "格式化数字"
   ]
  },
  {
   "cell_type": "code",
   "execution_count": 166,
   "metadata": {},
   "outputs": [
    {
     "data": {
      "text/plain": [
       "'3.14'"
      ]
     },
     "execution_count": 166,
     "metadata": {},
     "output_type": "execute_result"
    },
    {
     "data": {
      "text/plain": [
       "'+3.14'"
      ]
     },
     "execution_count": 166,
     "metadata": {},
     "output_type": "execute_result"
    },
    {
     "data": {
      "text/plain": [
       "'-3.14'"
      ]
     },
     "execution_count": 166,
     "metadata": {},
     "output_type": "execute_result"
    },
    {
     "data": {
      "text/plain": [
       "'05'"
      ]
     },
     "execution_count": 166,
     "metadata": {},
     "output_type": "execute_result"
    },
    {
     "data": {
      "text/plain": [
       "'5000'"
      ]
     },
     "execution_count": 166,
     "metadata": {},
     "output_type": "execute_result"
    },
    {
     "data": {
      "text/plain": [
       "'1,000,000'"
      ]
     },
     "execution_count": 166,
     "metadata": {},
     "output_type": "execute_result"
    },
    {
     "data": {
      "text/plain": [
       "'25.00%'"
      ]
     },
     "execution_count": 166,
     "metadata": {},
     "output_type": "execute_result"
    },
    {
     "data": {
      "text/plain": [
       "'1.11e+08'"
      ]
     },
     "execution_count": 166,
     "metadata": {},
     "output_type": "execute_result"
    },
    {
     "data": {
      "text/plain": [
       "'        13'"
      ]
     },
     "execution_count": 166,
     "metadata": {},
     "output_type": "execute_result"
    },
    {
     "data": {
      "text/plain": [
       "'13        '"
      ]
     },
     "execution_count": 166,
     "metadata": {},
     "output_type": "execute_result"
    },
    {
     "data": {
      "text/plain": [
       "'    13    '"
      ]
     },
     "execution_count": 166,
     "metadata": {},
     "output_type": "execute_result"
    }
   ],
   "source": [
    "\"{:.2f}\".format(3.1415926)\n",
    "\"{:+.2f}\".format(3.1415926)\n",
    "\"{:+.2f}\".format(-3.1415926)\n",
    "\"{:0>2d}\".format(5)\n",
    "\"{:0<4d}\".format(50)\n",
    "\"{:,}\".format(1000000)\n",
    "\"{:.2%}\".format(0.25)\n",
    "\"{:.2e}\".format(111111111)\n",
    "\"{:10d}\".format(13)\n",
    "\"{:<10d}\".format(13)\n",
    "\"{:^10d}\".format(13)"
   ]
  },
  {
   "cell_type": "markdown",
   "metadata": {},
   "source": [
    "## frozenset() &  list() & set() & tuple()"
   ]
  },
  {
   "cell_type": "markdown",
   "metadata": {},
   "source": [
    "$ class\\ frozenset([iterable]) $\n",
    "* 返回一个不可变set <br>\n",
    "\n",
    "$list([iterable])$\n",
    "* 将可迭代的对象转换成 list <br>\n",
    "\n",
    "$class\\ set([iterable])$\n",
    "* 返回一个set对象\n",
    "\n",
    "$tuple([iterable])$\n",
    "* 返回一个 tuple 对象"
   ]
  },
  {
   "cell_type": "code",
   "execution_count": 168,
   "metadata": {},
   "outputs": [
    {
     "data": {
      "text/plain": [
       "frozenset({'a', 'e', 'i', 'j', 'o', 'x'})"
      ]
     },
     "execution_count": 168,
     "metadata": {},
     "output_type": "execute_result"
    },
    {
     "data": {
      "text/plain": [
       "frozenset({'a', 'b'})"
      ]
     },
     "execution_count": 168,
     "metadata": {},
     "output_type": "execute_result"
    }
   ],
   "source": [
    "frozenset('jiexiao')\n",
    "frozenset({'a': 1, 'b': 2})"
   ]
  },
  {
   "cell_type": "code",
   "execution_count": 304,
   "metadata": {},
   "outputs": [
    {
     "data": {
      "text/plain": [
       "[('a', 1), ('b', 2)]"
      ]
     },
     "execution_count": 304,
     "metadata": {},
     "output_type": "execute_result"
    }
   ],
   "source": [
    "list({'a': 1, 'b': 2}.items())"
   ]
  },
  {
   "cell_type": "code",
   "execution_count": 309,
   "metadata": {},
   "outputs": [
    {
     "data": {
      "text/plain": [
       "{'12', 'a', 'e', 'i', 'j', 'o', 'x'}"
      ]
     },
     "execution_count": 309,
     "metadata": {},
     "output_type": "execute_result"
    }
   ],
   "source": [
    "tmp = set('jiexiao')\n",
    "tmp.add('12')\n",
    "tmp"
   ]
  },
  {
   "cell_type": "code",
   "execution_count": 336,
   "metadata": {},
   "outputs": [
    {
     "data": {
      "text/plain": [
       "(1, 2)"
      ]
     },
     "execution_count": 336,
     "metadata": {},
     "output_type": "execute_result"
    }
   ],
   "source": [
    "tuple([1, 2])"
   ]
  },
  {
   "cell_type": "markdown",
   "metadata": {},
   "source": [
    "## globals() & locals()"
   ]
  },
  {
   "cell_type": "markdown",
   "metadata": {},
   "source": [
    "$globals()$\n",
    "* 以字典的方式返回全局变量\n",
    "\n",
    "$locals()$\n",
    "* 以字典的方式返回局部变量"
   ]
  },
  {
   "cell_type": "code",
   "execution_count": 214,
   "metadata": {
    "collapsed": true
   },
   "outputs": [],
   "source": [
    "globals();\n",
    "locals();"
   ]
  },
  {
   "cell_type": "markdown",
   "metadata": {},
   "source": [
    "## hash() & id()"
   ]
  },
  {
   "cell_type": "markdown",
   "metadata": {},
   "source": [
    "$hash(object)$\n",
    "* 返回对象的 hash 值 <br>\n",
    "\n",
    "$id(object)$\n",
    "* 返回对象的唯一标示 <br>"
   ]
  },
  {
   "cell_type": "code",
   "execution_count": 180,
   "metadata": {},
   "outputs": [
    {
     "data": {
      "text/plain": [
       "8762919612301"
      ]
     },
     "execution_count": 180,
     "metadata": {},
     "output_type": "execute_result"
    },
    {
     "data": {
      "text/plain": [
       "1"
      ]
     },
     "execution_count": 180,
     "metadata": {},
     "output_type": "execute_result"
    }
   ],
   "source": [
    "class hash_test(object):\n",
    "    pass\n",
    "class hash_test_2(object):\n",
    "    def __hash__(self):\n",
    "        return 1\n",
    "hash(hash_test())\n",
    "hash(hash_test_2())"
   ]
  },
  {
   "cell_type": "code",
   "execution_count": 190,
   "metadata": {},
   "outputs": [
    {
     "data": {
      "text/plain": [
       "94197876668928"
      ]
     },
     "execution_count": 190,
     "metadata": {},
     "output_type": "execute_result"
    }
   ],
   "source": [
    "id(1)"
   ]
  },
  {
   "cell_type": "markdown",
   "metadata": {},
   "source": [
    "## help()"
   ]
  },
  {
   "cell_type": "markdown",
   "metadata": {},
   "source": [
    "$help([object])$\n",
    "* 调用帮助系统"
   ]
  },
  {
   "cell_type": "code",
   "execution_count": 183,
   "metadata": {
    "scrolled": true
   },
   "outputs": [
    {
     "name": "stdout",
     "output_type": "stream",
     "text": [
      "Help on built-in function abs in module builtins:\n",
      "\n",
      "abs(x, /)\n",
      "    Return the absolute value of the argument.\n",
      "\n"
     ]
    }
   ],
   "source": [
    "help(abs)"
   ]
  },
  {
   "cell_type": "markdown",
   "metadata": {},
   "source": [
    "## hex() & oct()"
   ]
  },
  {
   "cell_type": "markdown",
   "metadata": {},
   "source": [
    "$hex(x)$\n",
    "* 将整型转化为 16 进制的字符串\n",
    "\n",
    "$oct(x)$\n",
    "* 将整型转化为 8 进制的字符串"
   ]
  },
  {
   "cell_type": "code",
   "execution_count": 278,
   "metadata": {},
   "outputs": [
    {
     "data": {
      "text/plain": [
       "'0xa'"
      ]
     },
     "execution_count": 278,
     "metadata": {},
     "output_type": "execute_result"
    },
    {
     "data": {
      "text/plain": [
       "'0x10'"
      ]
     },
     "execution_count": 278,
     "metadata": {},
     "output_type": "execute_result"
    },
    {
     "data": {
      "text/plain": [
       "'0xa'"
      ]
     },
     "execution_count": 278,
     "metadata": {},
     "output_type": "execute_result"
    },
    {
     "data": {
      "text/plain": [
       "'0x208'"
      ]
     },
     "execution_count": 278,
     "metadata": {},
     "output_type": "execute_result"
    }
   ],
   "source": [
    "hex(10)\n",
    "hex(0x10)\n",
    "hex(0b1010)\n",
    "hex(0o1010)"
   ]
  },
  {
   "cell_type": "code",
   "execution_count": 279,
   "metadata": {},
   "outputs": [
    {
     "data": {
      "text/plain": [
       "'0o12'"
      ]
     },
     "execution_count": 279,
     "metadata": {},
     "output_type": "execute_result"
    },
    {
     "data": {
      "text/plain": [
       "'0o20'"
      ]
     },
     "execution_count": 279,
     "metadata": {},
     "output_type": "execute_result"
    },
    {
     "data": {
      "text/plain": [
       "'0o12'"
      ]
     },
     "execution_count": 279,
     "metadata": {},
     "output_type": "execute_result"
    },
    {
     "data": {
      "text/plain": [
       "'0o1010'"
      ]
     },
     "execution_count": 279,
     "metadata": {},
     "output_type": "execute_result"
    }
   ],
   "source": [
    "oct(10)\n",
    "oct(0x10)\n",
    "oct(0b1010)\n",
    "oct(0o1010)"
   ]
  },
  {
   "cell_type": "markdown",
   "metadata": {},
   "source": [
    "## input()"
   ]
  },
  {
   "cell_type": "markdown",
   "metadata": {},
   "source": [
    "$input([prompt])$\n",
    "* 从标准输入接收字符串"
   ]
  },
  {
   "cell_type": "code",
   "execution_count": 195,
   "metadata": {},
   "outputs": [
    {
     "name": "stdout",
     "output_type": "stream",
     "text": [
      "-->2\n"
     ]
    },
    {
     "data": {
      "text/plain": [
       "'2'"
      ]
     },
     "execution_count": 195,
     "metadata": {},
     "output_type": "execute_result"
    }
   ],
   "source": [
    "input(\"-->\")"
   ]
  },
  {
   "cell_type": "markdown",
   "metadata": {},
   "source": [
    "## isinstance() & issubclass()"
   ]
  },
  {
   "cell_type": "markdown",
   "metadata": {},
   "source": [
    "$isinstance(object,\\ classinfo)$\n",
    "* 判断object是否是某个 classs 的实例 <br>\n",
    "\n",
    "$issubclass(class, classinfo)$\n",
    "* 判断 class 是否为 classinfo 的子类"
   ]
  },
  {
   "cell_type": "code",
   "execution_count": 206,
   "metadata": {},
   "outputs": [
    {
     "data": {
      "text/plain": [
       "True"
      ]
     },
     "execution_count": 206,
     "metadata": {},
     "output_type": "execute_result"
    },
    {
     "data": {
      "text/plain": [
       "True"
      ]
     },
     "execution_count": 206,
     "metadata": {},
     "output_type": "execute_result"
    }
   ],
   "source": [
    "class isinstance_test(object):\n",
    "    pass\n",
    "isinstance(isinstance_test(), isinstance_test)\n",
    "issubclass(isinstance_test, object)"
   ]
  },
  {
   "cell_type": "markdown",
   "metadata": {},
   "source": [
    "## iter()"
   ]
  },
  {
   "cell_type": "markdown",
   "metadata": {},
   "source": [
    "$iter(object[,\\ sentinel])$\n",
    "* 返回一个iterator对象，如果不指定第二个参数，则第一个参数必须是一个实现了 ``__iter__()`` 或者 ``__getitem__()`` 的对象。如果指定了第二个参数，则第一个参数可以是一个 callable 的对象或函数，每次 iter 调用 ``__next__()`` 相当于调用了 call，直至调用返回了 sentinel，抛出 StopIteration 异常"
   ]
  },
  {
   "cell_type": "code",
   "execution_count": 208,
   "metadata": {},
   "outputs": [
    {
     "name": "stdout",
     "output_type": "stream",
     "text": [
      "HISTCONTROL=erasedups\n",
      "\n",
      "HISTSIZE=10000\n",
      "\n",
      "HISTFILESIZE=10000\n",
      "\n"
     ]
    }
   ],
   "source": [
    "with open(\"/root/.bash_profile\") as fp:\n",
    "    for line in iter(fp.readline, ''):\n",
    "        print(line)"
   ]
  },
  {
   "cell_type": "markdown",
   "metadata": {},
   "source": [
    "## len()"
   ]
  },
  {
   "cell_type": "markdown",
   "metadata": {},
   "source": [
    "$len(s)$\n",
    "* 返回对象长度"
   ]
  },
  {
   "cell_type": "code",
   "execution_count": 210,
   "metadata": {},
   "outputs": [
    {
     "data": {
      "text/plain": [
       "2"
      ]
     },
     "execution_count": 210,
     "metadata": {},
     "output_type": "execute_result"
    }
   ],
   "source": [
    "len(\"ab\")"
   ]
  },
  {
   "cell_type": "markdown",
   "metadata": {},
   "source": [
    "## max() & min()"
   ]
  },
  {
   "cell_type": "markdown",
   "metadata": {},
   "source": [
    "$max(iterable, *[,\\ key,\\ default])$\n",
    "<br>\n",
    "$max(arg1, arg2, *args[,\\ key])$\n",
    "* 返回一个可迭代对象或者多个item中最大的元素 <br>\n",
    "\n",
    "$min(iterable, *[,\\ key,\\ default])$\n",
    "<br>\n",
    "$min(arg1, arg2, *args[,\\ key])$\n",
    "* 返回一个可迭代对象或者多个item中最小的元素"
   ]
  },
  {
   "cell_type": "code",
   "execution_count": 270,
   "metadata": {},
   "outputs": [
    {
     "data": {
      "text/plain": [
       "3"
      ]
     },
     "execution_count": 270,
     "metadata": {},
     "output_type": "execute_result"
    },
    {
     "data": {
      "text/plain": [
       "3"
      ]
     },
     "execution_count": 270,
     "metadata": {},
     "output_type": "execute_result"
    },
    {
     "data": {
      "text/plain": [
       "6"
      ]
     },
     "execution_count": 270,
     "metadata": {},
     "output_type": "execute_result"
    },
    {
     "data": {
      "text/plain": [
       "6"
      ]
     },
     "execution_count": 270,
     "metadata": {},
     "output_type": "execute_result"
    }
   ],
   "source": [
    "max(1, 2, 3)\n",
    "max([1, 2, 3])\n",
    "class max_test(object):\n",
    "    def __init__(self, val):\n",
    "        self.val = val\n",
    "max([max_test(x) for x in range(7)], key=lambda x: x.val, default=6).val\n",
    "max([max_test(x) for x in range(0)], key=lambda x: x.val, default=6)"
   ]
  },
  {
   "cell_type": "code",
   "execution_count": 271,
   "metadata": {},
   "outputs": [
    {
     "data": {
      "text/plain": [
       "1"
      ]
     },
     "execution_count": 271,
     "metadata": {},
     "output_type": "execute_result"
    },
    {
     "data": {
      "text/plain": [
       "1"
      ]
     },
     "execution_count": 271,
     "metadata": {},
     "output_type": "execute_result"
    },
    {
     "data": {
      "text/plain": [
       "0"
      ]
     },
     "execution_count": 271,
     "metadata": {},
     "output_type": "execute_result"
    },
    {
     "data": {
      "text/plain": [
       "6"
      ]
     },
     "execution_count": 271,
     "metadata": {},
     "output_type": "execute_result"
    }
   ],
   "source": [
    "min(1, 2, 3)\n",
    "min([1, 2, 3])\n",
    "class max_test(object):\n",
    "    def __init__(self, val):\n",
    "        self.val = val\n",
    "min([max_test(x) for x in range(7)], key=lambda x: x.val, default=6).val\n",
    "min([max_test(x) for x in range(0)], key=lambda x: x.val, default=6)"
   ]
  },
  {
   "cell_type": "markdown",
   "metadata": {},
   "source": [
    "## memoryview()"
   ]
  },
  {
   "cell_type": "markdown",
   "metadata": {},
   "source": [
    "$memoryview(obj)$\n",
    "* 返回一个\"memory view\" 对象，str和bytearray的切片操作会产生新的切片str和bytearry并拷贝数据，使用memoryview之后不会"
   ]
  },
  {
   "cell_type": "code",
   "execution_count": 251,
   "metadata": {},
   "outputs": [
    {
     "data": {
      "text/plain": [
       "(bytearray(b'aaaaaa'), bytearray(b'bb'))"
      ]
     },
     "execution_count": 251,
     "metadata": {},
     "output_type": "execute_result"
    }
   ],
   "source": [
    "a = bytearray('aaaaaa', 'utf-8')\n",
    "b = a[:2] \n",
    "b[:2] = bytearray('bb', 'utf-8')\n",
    "a, b"
   ]
  },
  {
   "cell_type": "code",
   "execution_count": 268,
   "metadata": {},
   "outputs": [
    {
     "data": {
      "text/plain": [
       "b'aaaaaaa'"
      ]
     },
     "execution_count": 268,
     "metadata": {},
     "output_type": "execute_result"
    },
    {
     "data": {
      "text/plain": [
       "b'bbaaaaa'"
      ]
     },
     "execution_count": 268,
     "metadata": {},
     "output_type": "execute_result"
    },
    {
     "data": {
      "text/plain": [
       "'aaaaaaa'"
      ]
     },
     "execution_count": 268,
     "metadata": {},
     "output_type": "execute_result"
    }
   ],
   "source": [
    "a = 'aaaaaaa'\n",
    "ma = memoryview(bytearray(a, 'utf-8'))\n",
    "ma.tobytes()\n",
    "mb = ma[:4]\n",
    "mb[:2] = bytearray('bb', 'utf-8')\n",
    "# 对 mb 的修改会影响 ma\n",
    "ma.tobytes()\n",
    "# 不会改变 a\n",
    "a"
   ]
  },
  {
   "cell_type": "markdown",
   "metadata": {},
   "source": [
    "## next()"
   ]
  },
  {
   "cell_type": "markdown",
   "metadata": {},
   "source": [
    "$next(iterator\\ [,\\ default])$\n",
    "* 调用 iterator 的 ``__next__()`` 方法"
   ]
  },
  {
   "cell_type": "code",
   "execution_count": 280,
   "metadata": {},
   "outputs": [
    {
     "data": {
      "text/plain": [
       "1"
      ]
     },
     "execution_count": 280,
     "metadata": {},
     "output_type": "execute_result"
    },
    {
     "data": {
      "text/plain": [
       "2"
      ]
     },
     "execution_count": 280,
     "metadata": {},
     "output_type": "execute_result"
    }
   ],
   "source": [
    "i = iter([1, 2])\n",
    "next(i)\n",
    "next(i)"
   ]
  },
  {
   "cell_type": "markdown",
   "metadata": {},
   "source": [
    "## open()"
   ]
  },
  {
   "cell_type": "markdown",
   "metadata": {},
   "source": [
    "$\\it open(file,\\ mode='\\!\\!r',\\ buffering=-1,\\ encoding=None,\\ errors=None,\\ newline=None,\\ closefd=True,\\ opener=None)$\n",
    "* 打开文件"
   ]
  },
  {
   "cell_type": "code",
   "execution_count": 282,
   "metadata": {},
   "outputs": [
    {
     "data": {
      "text/plain": [
       "'HISTCONTROL=erasedups\\nHISTSIZE=10000\\nHISTFILESIZE=10000\\n'"
      ]
     },
     "execution_count": 282,
     "metadata": {},
     "output_type": "execute_result"
    }
   ],
   "source": [
    "with open(\"/root/.bash_profile\") as pf:\n",
    "    pf.read()"
   ]
  },
  {
   "cell_type": "markdown",
   "metadata": {},
   "source": [
    "## pow() & sum()"
   ]
  },
  {
   "cell_type": "markdown",
   "metadata": {},
   "source": [
    "$pow(x, y[, z])$\n",
    "* 传入两个参数等价于 ``x ** y`` 传入三个参数等价于 ``(x ** y) % z`` <br>\n",
    "\n",
    "$sum(iterable[,\\ start])\n",
    "* 求和"
   ]
  },
  {
   "cell_type": "code",
   "execution_count": 285,
   "metadata": {},
   "outputs": [
    {
     "data": {
      "text/plain": [
       "8"
      ]
     },
     "execution_count": 285,
     "metadata": {},
     "output_type": "execute_result"
    },
    {
     "data": {
      "text/plain": [
       "2"
      ]
     },
     "execution_count": 285,
     "metadata": {},
     "output_type": "execute_result"
    }
   ],
   "source": [
    "pow(2, 3)\n",
    "pow(2, 3, 3)"
   ]
  },
  {
   "cell_type": "code",
   "execution_count": 331,
   "metadata": {},
   "outputs": [
    {
     "data": {
      "text/plain": [
       "10"
      ]
     },
     "execution_count": 331,
     "metadata": {},
     "output_type": "execute_result"
    },
    {
     "data": {
      "text/plain": [
       "[1, 2, 3]"
      ]
     },
     "execution_count": 331,
     "metadata": {},
     "output_type": "execute_result"
    }
   ],
   "source": [
    "sum([1, 2, 3], 4)\n",
    "sum([[1], [2], [3]], [])"
   ]
  },
  {
   "cell_type": "markdown",
   "metadata": {},
   "source": [
    "## print()"
   ]
  },
  {
   "cell_type": "markdown",
   "metadata": {},
   "source": [
    "$print(*object, sep='', end='\\backslash n', file=sys.stdout, flush=False)$\n",
    "* 打印函数\n",
    "* objects -- 复数，表示可以一次输出多个对象。输出多个对象时，需要用 , 分隔。\n",
    "* sep -- 用来间隔多个对象，默认值是一个空格。\n",
    "* end -- 用来设定以什么结尾。默认值是换行符 \\n，我们可以换成其他字符串。\n",
    "* file -- 要写入的文件对象。\n",
    "* flush -- 是否使用 buffer"
   ]
  },
  {
   "cell_type": "code",
   "execution_count": 290,
   "metadata": {},
   "outputs": [
    {
     "name": "stdout",
     "output_type": "stream",
     "text": [
      "1 2 3\n",
      "1,2,3;"
     ]
    }
   ],
   "source": [
    "print(1, 2, 3)\n",
    "print(1, 2, 3, sep=',', end=';')"
   ]
  },
  {
   "cell_type": "markdown",
   "metadata": {},
   "source": [
    "## property()"
   ]
  },
  {
   "cell_type": "markdown",
   "metadata": {},
   "source": [
    "$class\\ property(fget=None, fset=None, fdel=None, doc=None)$\n",
    "* 返回一个 property attribute"
   ]
  },
  {
   "cell_type": "code",
   "execution_count": 293,
   "metadata": {},
   "outputs": [
    {
     "data": {
      "text/plain": [
       "1"
      ]
     },
     "execution_count": 293,
     "metadata": {},
     "output_type": "execute_result"
    }
   ],
   "source": [
    "class Property_Test(object):\n",
    "    def __init__(self):\n",
    "        self._x = None\n",
    "    \n",
    "    @property\n",
    "    def x(self):\n",
    "        return self._x\n",
    "    \n",
    "    @x.setter\n",
    "    def x(self, value):\n",
    "        self._x = value\n",
    "        \n",
    "    @x.deleter\n",
    "    def x(self):\n",
    "        del self._x\n",
    "\n",
    "pro = Property_Test()\n",
    "pro.x = 1\n",
    "pro.x"
   ]
  },
  {
   "cell_type": "markdown",
   "metadata": {},
   "source": [
    "## range()"
   ]
  },
  {
   "cell_type": "markdown",
   "metadata": {},
   "source": [
    "$range(stop)$\n",
    "<br>\n",
    "$range(start,\\ stop[,\\ step])$\n",
    "* 返回数列生成器"
   ]
  },
  {
   "cell_type": "code",
   "execution_count": 298,
   "metadata": {},
   "outputs": [
    {
     "data": {
      "text/plain": [
       "range(0, 5)"
      ]
     },
     "execution_count": 298,
     "metadata": {},
     "output_type": "execute_result"
    },
    {
     "data": {
      "text/plain": [
       "[0, 1, 2, 3, 4]"
      ]
     },
     "execution_count": 298,
     "metadata": {},
     "output_type": "execute_result"
    },
    {
     "data": {
      "text/plain": [
       "[-2, 1, 4]"
      ]
     },
     "execution_count": 298,
     "metadata": {},
     "output_type": "execute_result"
    }
   ],
   "source": [
    "range(5)\n",
    "list(range(5))\n",
    "list(range(-2, 5, 3))"
   ]
  },
  {
   "cell_type": "markdown",
   "metadata": {},
   "source": [
    "## reversed"
   ]
  },
  {
   "cell_type": "markdown",
   "metadata": {},
   "source": [
    "$reversed(seq)$\n",
    "* 返回一个顺序倒换的 iterator"
   ]
  },
  {
   "cell_type": "code",
   "execution_count": 300,
   "metadata": {},
   "outputs": [
    {
     "data": {
      "text/plain": [
       "[3, 2, 1]"
      ]
     },
     "execution_count": 300,
     "metadata": {},
     "output_type": "execute_result"
    }
   ],
   "source": [
    "list(reversed([1, 2, 3]))"
   ]
  },
  {
   "cell_type": "markdown",
   "metadata": {},
   "source": [
    "## round()"
   ]
  },
  {
   "cell_type": "markdown",
   "metadata": {},
   "source": [
    "$round(number[,\\ ndigits])$\n",
    "* 返回四舍五入的结果\n",
    "* ndigits 表示保留到小数点后几位"
   ]
  },
  {
   "cell_type": "code",
   "execution_count": 303,
   "metadata": {},
   "outputs": [
    {
     "data": {
      "text/plain": [
       "3"
      ]
     },
     "execution_count": 303,
     "metadata": {},
     "output_type": "execute_result"
    },
    {
     "data": {
      "text/plain": [
       "3.14"
      ]
     },
     "execution_count": 303,
     "metadata": {},
     "output_type": "execute_result"
    }
   ],
   "source": [
    "round(3.1415926)\n",
    "round(3.1415926, 2)"
   ]
  },
  {
   "cell_type": "markdown",
   "metadata": {},
   "source": [
    "## slice()"
   ]
  },
  {
   "cell_type": "markdown",
   "metadata": {},
   "source": [
    "$class\\ slice(stop)$\n",
    "<br>\n",
    "$class\\ slice(start,\\ stop[,\\ step])$\n",
    "* 实现切片对象"
   ]
  },
  {
   "cell_type": "code",
   "execution_count": 310,
   "metadata": {},
   "outputs": [
    {
     "data": {
      "text/plain": [
       "range(0, 5)"
      ]
     },
     "execution_count": 310,
     "metadata": {},
     "output_type": "execute_result"
    }
   ],
   "source": [
    "range(10)[slice(5)]"
   ]
  },
  {
   "cell_type": "markdown",
   "metadata": {},
   "source": [
    "## sorted()"
   ]
  },
  {
   "cell_type": "markdown",
   "metadata": {},
   "source": [
    "$sorted(iterable[,\\ key][,\\ reverse])$\n",
    "* 对 iter 排序"
   ]
  },
  {
   "cell_type": "code",
   "execution_count": 322,
   "metadata": {},
   "outputs": [
    {
     "data": {
      "text/plain": [
       "[1, 2, 3]"
      ]
     },
     "execution_count": 322,
     "metadata": {},
     "output_type": "execute_result"
    },
    {
     "data": {
      "text/plain": [
       "[3, 2, 1]"
      ]
     },
     "execution_count": 322,
     "metadata": {},
     "output_type": "execute_result"
    }
   ],
   "source": [
    "sorted([3, 1, 2])\n",
    "sorted([3, 1, 2], reverse=True)"
   ]
  },
  {
   "cell_type": "code",
   "execution_count": 323,
   "metadata": {},
   "outputs": [
    {
     "data": {
      "text/plain": [
       "[('a', 1), ('b', 2), ('c', 3)]"
      ]
     },
     "execution_count": 323,
     "metadata": {},
     "output_type": "execute_result"
    }
   ],
   "source": [
    "sorted([('c', 3), ('a', 1), ('b', 2)], key=lambda x: x[1])"
   ]
  },
  {
   "cell_type": "markdown",
   "metadata": {},
   "source": [
    "## super()"
   ]
  },
  {
   "cell_type": "markdown",
   "metadata": {},
   "source": [
    "$super([type[,\\ objectORtype]])$\n",
    "* 调用父类方法"
   ]
  },
  {
   "cell_type": "code",
   "execution_count": 334,
   "metadata": {},
   "outputs": [
    {
     "name": "stdout",
     "output_type": "stream",
     "text": [
      "A\n"
     ]
    }
   ],
   "source": [
    "class A:\n",
    "    def func_1(self):\n",
    "        print(\"A\")\n",
    "class B(A):\n",
    "    def func_2(self):\n",
    "        super().func_1()\n",
    "B().func_2()"
   ]
  },
  {
   "cell_type": "markdown",
   "metadata": {},
   "source": [
    "## type()"
   ]
  },
  {
   "cell_type": "markdown",
   "metadata": {},
   "source": [
    "$class type(object)$\n",
    "* 返回 object 的类型 <br>\n",
    "\n",
    "$class type(name, bases, dict)$\n",
    "* 返回一个 type 对象\n",
    "* name -- 类的名称。\n",
    "* bases -- 基类的元组。\n",
    "* dict -- 字典，类内定义的命名空间变量。"
   ]
  },
  {
   "cell_type": "code",
   "execution_count": 358,
   "metadata": {},
   "outputs": [
    {
     "data": {
      "text/plain": [
       "int"
      ]
     },
     "execution_count": 358,
     "metadata": {},
     "output_type": "execute_result"
    },
    {
     "data": {
      "text/plain": [
       "'\\nclass X(object):\\n    a = 1\\n'"
      ]
     },
     "execution_count": 358,
     "metadata": {},
     "output_type": "execute_result"
    },
    {
     "data": {
      "text/plain": [
       "1"
      ]
     },
     "execution_count": 358,
     "metadata": {},
     "output_type": "execute_result"
    },
    {
     "data": {
      "text/plain": [
       "type"
      ]
     },
     "execution_count": 358,
     "metadata": {},
     "output_type": "execute_result"
    }
   ],
   "source": [
    "type(1)\n",
    "'''\n",
    "class X(object):\n",
    "    a = 1\n",
    "'''\n",
    "X = type('X', (object,), dict(a=1))\n",
    "\n",
    "X().a\n",
    "type(X)"
   ]
  }
 ],
 "metadata": {
  "kernelspec": {
   "display_name": "Python 3",
   "language": "python",
   "name": "python3"
  },
  "language_info": {
   "codemirror_mode": {
    "name": "ipython",
    "version": 3
   },
   "file_extension": ".py",
   "mimetype": "text/x-python",
   "name": "python",
   "nbconvert_exporter": "python",
   "pygments_lexer": "ipython3",
   "version": "3.6.4"
  },
  "toc": {
   "nav_menu": {},
   "number_sections": true,
   "sideBar": true,
   "skip_h1_title": true,
   "toc_cell": true,
   "toc_position": {
    "height": "872px",
    "left": "0px",
    "right": "1531.65px",
    "top": "50.0114px",
    "width": "212px"
   },
   "toc_section_display": "block",
   "toc_window_display": true
  }
 },
 "nbformat": 4,
 "nbformat_minor": 2
}
