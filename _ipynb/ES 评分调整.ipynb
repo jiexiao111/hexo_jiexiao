{
 "cells": [
  {
   "cell_type": "markdown",
   "metadata": {
    "toc": true
   },
   "source": [
    "<h1>Table of Contents<span class=\"tocSkip\"></span></h1>\n",
    "<div class=\"toc\" style=\"margin-top: 1em;\"><ul class=\"toc-item\"><li><span><a href=\"#Setup\" data-toc-modified-id=\"Setup-1\"><span class=\"toc-item-num\">1&nbsp;&nbsp;</span>Setup</a></span></li><li><span><a href=\"#数据准备\" data-toc-modified-id=\"数据准备-2\"><span class=\"toc-item-num\">2&nbsp;&nbsp;</span>数据准备</a></span></li><li><span><a href=\"#获取评分详情\" data-toc-modified-id=\"获取评分详情-3\"><span class=\"toc-item-num\">3&nbsp;&nbsp;</span>获取评分详情</a></span></li></ul></div>"
   ]
  },
  {
   "cell_type": "markdown",
   "metadata": {},
   "source": [
    "## Setup"
   ]
  },
  {
   "cell_type": "code",
   "execution_count": 102,
   "metadata": {
    "collapsed": true
   },
   "outputs": [],
   "source": [
    "from elasticsearch import Elasticsearch\n",
    "from elasticsearch import helpers\n",
    "from datetime import datetime\n",
    "import pprint"
   ]
  },
  {
   "cell_type": "code",
   "execution_count": 103,
   "metadata": {
    "collapsed": true
   },
   "outputs": [],
   "source": [
    "es = Elasticsearch()"
   ]
  },
  {
   "cell_type": "markdown",
   "metadata": {},
   "source": [
    "## 数据准备"
   ]
  },
  {
   "cell_type": "code",
   "execution_count": 104,
   "metadata": {
    "collapsed": true
   },
   "outputs": [],
   "source": [
    "test_score_index = \"test-index\""
   ]
  },
  {
   "cell_type": "code",
   "execution_count": 148,
   "metadata": {},
   "outputs": [],
   "source": [
    "my_data_settting = {\n",
    "    \"settings\": {\n",
    "        \"analysis\": {\n",
    "            \"analyzer\": {\n",
    "                \"my_analyzer\": {\n",
    "                    \"tokenizer\": \"standard\",\n",
    "                    \"char_filter\": [\n",
    "                        \"my_char_filter\"\n",
    "                    ]\n",
    "                } \n",
    "            },\n",
    "            \"char_filter\": {\n",
    "                \"my_char_filter\": {\n",
    "                    \"type\": \"mapping\",\n",
    "                    \"mappings\": [\n",
    "                        \"- => _hyphen_\",\n",
    "                    ]\n",
    "                }\n",
    "            }\n",
    "        }\n",
    "    },\n",
    "    \"mappings\": {\n",
    "        \"my_type\": {\n",
    "            \"properties\": {\n",
    "                \"cmd_format_t\": {\n",
    "                    \"type\": \"text\",\n",
    "                    \"search_analyzer\": \"my_analyzer\",\n",
    "                    \"analyzer\": \"my_analyzer\",\n",
    "                    \"norms\": { \"enabled\": False }\n",
    "                }\n",
    "            }\n",
    "        }\n",
    "    }\n",
    "}"
   ]
  },
  {
   "cell_type": "code",
   "execution_count": 149,
   "metadata": {},
   "outputs": [
    {
     "data": {
      "text/plain": [
       "{'acknowledged': True}"
      ]
     },
     "execution_count": 149,
     "metadata": {},
     "output_type": "execute_result"
    },
    {
     "data": {
      "text/plain": [
       "{'acknowledged': True, 'index': 'test-index', 'shards_acknowledged': True}"
      ]
     },
     "execution_count": 149,
     "metadata": {},
     "output_type": "execute_result"
    }
   ],
   "source": [
    "es.indices.delete(index=test_score_index)\n",
    "es.indices.create(index=test_score_index, body=my_data_settting)"
   ]
  },
  {
   "cell_type": "code",
   "execution_count": 150,
   "metadata": {},
   "outputs": [
    {
     "data": {
      "text/plain": [
       "(3, [])"
      ]
     },
     "execution_count": 150,
     "metadata": {},
     "output_type": "execute_result"
    }
   ],
   "source": [
    "doc1 = {\n",
    "    'author': 'tangting',\n",
    "    'cmd_format_t': 'This is a brown dog a b',\n",
    "    'len': 3\n",
    "}\n",
    "doc2 = {\n",
    "    'author': 'tangting',\n",
    "    'cmd_format_t': 'This is a brown dog a asf sdfsdf s sdfsdfsdfsf  sdf s s s s s',\n",
    "    'len': 4\n",
    "}\n",
    "doc3 = {\n",
    "    'author': 'tangting',\n",
    "    'cmd_format_t': 'This is a brown dog a b',\n",
    "    'len': 5\n",
    "} \n",
    "actions = [{ \"_index\": test_score_index, \"_type\": \"my_type\", \"_id\": idx, \"_source\": value} for idx, value in enumerate([doc1, doc2, doc3])]\n",
    "helpers.bulk(es, actions)  "
   ]
  },
  {
   "cell_type": "code",
   "execution_count": 151,
   "metadata": {},
   "outputs": [
    {
     "data": {
      "text/plain": [
       "{'_shards': {'failed': 0, 'skipped': 0, 'successful': 5, 'total': 5},\n",
       " 'hits': {'hits': [], 'max_score': None, 'total': 0},\n",
       " 'timed_out': False,\n",
       " 'took': 0}"
      ]
     },
     "execution_count": 151,
     "metadata": {},
     "output_type": "execute_result"
    }
   ],
   "source": [
    "es.search(index=test_score_index, body={\"query\": {\"match_all\": {}}})"
   ]
  },
  {
   "cell_type": "markdown",
   "metadata": {},
   "source": [
    "## 获取评分详情"
   ]
  },
  {
   "cell_type": "code",
   "execution_count": 152,
   "metadata": {},
   "outputs": [
    {
     "data": {
      "text/plain": [
       "{'_shards': {'failed': 0, 'skipped': 0, 'successful': 5, 'total': 5},\n",
       " 'hits': {'hits': [{'_id': '0',\n",
       "    '_index': 'test-index',\n",
       "    '_score': 0.6781078,\n",
       "    '_source': {'author': 'tangting',\n",
       "     'cmd_format_t': 'This is a brown dog a b',\n",
       "     'len': 3},\n",
       "    '_type': 'my_type',\n",
       "    'highlight': {'cmd_format_t': ['This is <em>a</em> <em>brown</em> <em>dog</em> <em>a</em> b']}},\n",
       "   {'_id': '2',\n",
       "    '_index': 'test-index',\n",
       "    '_score': 0.6781078,\n",
       "    '_source': {'author': 'tangting',\n",
       "     'cmd_format_t': 'This is a brown dog a b',\n",
       "     'len': 5},\n",
       "    '_type': 'my_type',\n",
       "    'highlight': {'cmd_format_t': ['This is <em>a</em> <em>brown</em> <em>dog</em> <em>a</em> b']}},\n",
       "   {'_id': '1',\n",
       "    '_index': 'test-index',\n",
       "    '_score': 0.6781078,\n",
       "    '_source': {'author': 'tangting',\n",
       "     'cmd_format_t': 'This is a brown dog a asf sdfsdf s sdfsdfsdfsf  sdf s s s s s',\n",
       "     'len': 4},\n",
       "    '_type': 'my_type',\n",
       "    'highlight': {'cmd_format_t': ['This is <em>a</em> <em>brown</em> <em>dog</em> <em>a</em> asf sdfsdf s sdfsdfsdfsf  sdf s s s s s']}}],\n",
       "  'max_score': 0.6781078,\n",
       "  'total': 3},\n",
       " 'timed_out': False,\n",
       " 'took': 2}"
      ]
     },
     "execution_count": 152,
     "metadata": {},
     "output_type": "execute_result"
    }
   ],
   "source": [
    "es.search(index=test_score_index, explain=False, body={\n",
    "    \"query\": {\n",
    "        \"match_phrase\": {\n",
    "            \"cmd_format_t\": {\n",
    "                \"query\": \"brown  a dog\", \"slop\": 30\n",
    "            }\n",
    "        }\n",
    "    },\n",
    "    \"highlight\": {\n",
    "        \"fields\" : {\n",
    "            \"cmd_format_t\" : {}\n",
    "        }\n",
    "    }\n",
    "})"
   ]
  },
  {
   "cell_type": "code",
   "execution_count": 161,
   "metadata": {},
   "outputs": [
    {
     "data": {
      "text/plain": [
       "{'_shards': {'failed': 0, 'skipped': 0, 'successful': 5, 'total': 5},\n",
       " 'hits': {'hits': [{'_explanation': {'description': 'function score, product of:',\n",
       "     'details': [{'description': 'sum of:',\n",
       "       'details': [{'description': 'weight(cmd_format_t:brown in 0) [PerFieldSimilarity], result of:',\n",
       "         'details': [{'description': 'score(doc=0,freq=1.0 = termFreq=1.0\\n), product of:',\n",
       "           'details': [{'description': 'idf, computed as log(1 + (docCount - docFreq + 0.5) / (docFreq + 0.5)) from:',\n",
       "             'details': [{'description': 'docFreq',\n",
       "               'details': [],\n",
       "               'value': 1.0},\n",
       "              {'description': 'docCount', 'details': [], 'value': 1.0}],\n",
       "             'value': 0.2876821},\n",
       "            {'description': 'tfNorm, computed as (freq * (k1 + 1)) / (freq + k1) from:',\n",
       "             'details': [{'description': 'termFreq=1.0',\n",
       "               'details': [],\n",
       "               'value': 1.0},\n",
       "              {'description': 'parameter k1', 'details': [], 'value': 1.2},\n",
       "              {'description': 'parameter b (norms omitted for field)',\n",
       "               'details': [],\n",
       "               'value': 0.0}],\n",
       "             'value': 1.0}],\n",
       "           'value': 0.2876821}],\n",
       "         'value': 0.2876821},\n",
       "        {'description': 'weight(cmd_format_t:dog in 0) [PerFieldSimilarity], result of:',\n",
       "         'details': [{'description': 'score(doc=0,freq=1.0 = termFreq=1.0\\n), product of:',\n",
       "           'details': [{'description': 'idf, computed as log(1 + (docCount - docFreq + 0.5) / (docFreq + 0.5)) from:',\n",
       "             'details': [{'description': 'docFreq',\n",
       "               'details': [],\n",
       "               'value': 1.0},\n",
       "              {'description': 'docCount', 'details': [], 'value': 1.0}],\n",
       "             'value': 0.2876821},\n",
       "            {'description': 'tfNorm, computed as (freq * (k1 + 1)) / (freq + k1) from:',\n",
       "             'details': [{'description': 'termFreq=1.0',\n",
       "               'details': [],\n",
       "               'value': 1.0},\n",
       "              {'description': 'parameter k1', 'details': [], 'value': 1.2},\n",
       "              {'description': 'parameter b (norms omitted for field)',\n",
       "               'details': [],\n",
       "               'value': 0.0}],\n",
       "             'value': 1.0}],\n",
       "           'value': 0.2876821}],\n",
       "         'value': 0.2876821}],\n",
       "       'value': 0.5753642},\n",
       "      {'description': 'min of:',\n",
       "       'details': [{'description': \"field value function: reciprocal(doc['len'].value * factor=0.9)\",\n",
       "         'details': [],\n",
       "         'value': 0.3703704},\n",
       "        {'description': 'maxBoost', 'details': [], 'value': 3.4028235e+38}],\n",
       "       'value': 0.3703704}],\n",
       "     'value': 0.21309786},\n",
       "    '_id': '0',\n",
       "    '_index': 'test-index',\n",
       "    '_node': 'KQm9L7T2RMmbxHKzB29jdw',\n",
       "    '_score': 0.21309784,\n",
       "    '_shard': '[test-index][0]',\n",
       "    '_source': {'author': 'tangting',\n",
       "     'cmd_format_t': 'This is a brown dog a b',\n",
       "     'len': 3},\n",
       "    '_type': 'my_type',\n",
       "    'highlight': {'cmd_format_t': ['This is a <em>brown</em> <em>dog</em> a b']}},\n",
       "   {'_explanation': {'description': 'function score, product of:',\n",
       "     'details': [{'description': 'sum of:',\n",
       "       'details': [{'description': 'weight(cmd_format_t:brown in 0) [PerFieldSimilarity], result of:',\n",
       "         'details': [{'description': 'score(doc=0,freq=1.0 = termFreq=1.0\\n), product of:',\n",
       "           'details': [{'description': 'idf, computed as log(1 + (docCount - docFreq + 0.5) / (docFreq + 0.5)) from:',\n",
       "             'details': [{'description': 'docFreq',\n",
       "               'details': [],\n",
       "               'value': 1.0},\n",
       "              {'description': 'docCount', 'details': [], 'value': 1.0}],\n",
       "             'value': 0.2876821},\n",
       "            {'description': 'tfNorm, computed as (freq * (k1 + 1)) / (freq + k1) from:',\n",
       "             'details': [{'description': 'termFreq=1.0',\n",
       "               'details': [],\n",
       "               'value': 1.0},\n",
       "              {'description': 'parameter k1', 'details': [], 'value': 1.2},\n",
       "              {'description': 'parameter b (norms omitted for field)',\n",
       "               'details': [],\n",
       "               'value': 0.0}],\n",
       "             'value': 1.0}],\n",
       "           'value': 0.2876821}],\n",
       "         'value': 0.2876821},\n",
       "        {'description': 'weight(cmd_format_t:dog in 0) [PerFieldSimilarity], result of:',\n",
       "         'details': [{'description': 'score(doc=0,freq=1.0 = termFreq=1.0\\n), product of:',\n",
       "           'details': [{'description': 'idf, computed as log(1 + (docCount - docFreq + 0.5) / (docFreq + 0.5)) from:',\n",
       "             'details': [{'description': 'docFreq',\n",
       "               'details': [],\n",
       "               'value': 1.0},\n",
       "              {'description': 'docCount', 'details': [], 'value': 1.0}],\n",
       "             'value': 0.2876821},\n",
       "            {'description': 'tfNorm, computed as (freq * (k1 + 1)) / (freq + k1) from:',\n",
       "             'details': [{'description': 'termFreq=1.0',\n",
       "               'details': [],\n",
       "               'value': 1.0},\n",
       "              {'description': 'parameter k1', 'details': [], 'value': 1.2},\n",
       "              {'description': 'parameter b (norms omitted for field)',\n",
       "               'details': [],\n",
       "               'value': 0.0}],\n",
       "             'value': 1.0}],\n",
       "           'value': 0.2876821}],\n",
       "         'value': 0.2876821}],\n",
       "       'value': 0.5753642},\n",
       "      {'description': 'min of:',\n",
       "       'details': [{'description': \"field value function: reciprocal(doc['len'].value * factor=0.9)\",\n",
       "         'details': [],\n",
       "         'value': 0.2777778},\n",
       "        {'description': 'maxBoost', 'details': [], 'value': 3.4028235e+38}],\n",
       "       'value': 0.2777778}],\n",
       "     'value': 0.15982339},\n",
       "    '_id': '1',\n",
       "    '_index': 'test-index',\n",
       "    '_node': 'KQm9L7T2RMmbxHKzB29jdw',\n",
       "    '_score': 0.15982339,\n",
       "    '_shard': '[test-index][3]',\n",
       "    '_source': {'author': 'tangting',\n",
       "     'cmd_format_t': 'This is a brown dog a asf sdfsdf s sdfsdfsdfsf  sdf s s s s s',\n",
       "     'len': 4},\n",
       "    '_type': 'my_type',\n",
       "    'highlight': {'cmd_format_t': ['This is a <em>brown</em> <em>dog</em> a asf sdfsdf s sdfsdfsdfsf  sdf s s s s s']}},\n",
       "   {'_explanation': {'description': 'function score, product of:',\n",
       "     'details': [{'description': 'sum of:',\n",
       "       'details': [{'description': 'weight(cmd_format_t:brown in 0) [PerFieldSimilarity], result of:',\n",
       "         'details': [{'description': 'score(doc=0,freq=1.0 = termFreq=1.0\\n), product of:',\n",
       "           'details': [{'description': 'idf, computed as log(1 + (docCount - docFreq + 0.5) / (docFreq + 0.5)) from:',\n",
       "             'details': [{'description': 'docFreq',\n",
       "               'details': [],\n",
       "               'value': 1.0},\n",
       "              {'description': 'docCount', 'details': [], 'value': 1.0}],\n",
       "             'value': 0.2876821},\n",
       "            {'description': 'tfNorm, computed as (freq * (k1 + 1)) / (freq + k1) from:',\n",
       "             'details': [{'description': 'termFreq=1.0',\n",
       "               'details': [],\n",
       "               'value': 1.0},\n",
       "              {'description': 'parameter k1', 'details': [], 'value': 1.2},\n",
       "              {'description': 'parameter b (norms omitted for field)',\n",
       "               'details': [],\n",
       "               'value': 0.0}],\n",
       "             'value': 1.0}],\n",
       "           'value': 0.2876821}],\n",
       "         'value': 0.2876821},\n",
       "        {'description': 'weight(cmd_format_t:dog in 0) [PerFieldSimilarity], result of:',\n",
       "         'details': [{'description': 'score(doc=0,freq=1.0 = termFreq=1.0\\n), product of:',\n",
       "           'details': [{'description': 'idf, computed as log(1 + (docCount - docFreq + 0.5) / (docFreq + 0.5)) from:',\n",
       "             'details': [{'description': 'docFreq',\n",
       "               'details': [],\n",
       "               'value': 1.0},\n",
       "              {'description': 'docCount', 'details': [], 'value': 1.0}],\n",
       "             'value': 0.2876821},\n",
       "            {'description': 'tfNorm, computed as (freq * (k1 + 1)) / (freq + k1) from:',\n",
       "             'details': [{'description': 'termFreq=1.0',\n",
       "               'details': [],\n",
       "               'value': 1.0},\n",
       "              {'description': 'parameter k1', 'details': [], 'value': 1.2},\n",
       "              {'description': 'parameter b (norms omitted for field)',\n",
       "               'details': [],\n",
       "               'value': 0.0}],\n",
       "             'value': 1.0}],\n",
       "           'value': 0.2876821}],\n",
       "         'value': 0.2876821}],\n",
       "       'value': 0.5753642},\n",
       "      {'description': 'min of:',\n",
       "       'details': [{'description': \"field value function: reciprocal(doc['len'].value * factor=0.9)\",\n",
       "         'details': [],\n",
       "         'value': 0.22222222},\n",
       "        {'description': 'maxBoost', 'details': [], 'value': 3.4028235e+38}],\n",
       "       'value': 0.22222222}],\n",
       "     'value': 0.12785871},\n",
       "    '_id': '2',\n",
       "    '_index': 'test-index',\n",
       "    '_node': 'KQm9L7T2RMmbxHKzB29jdw',\n",
       "    '_score': 0.12785871,\n",
       "    '_shard': '[test-index][2]',\n",
       "    '_source': {'author': 'tangting',\n",
       "     'cmd_format_t': 'This is a brown dog a b',\n",
       "     'len': 5},\n",
       "    '_type': 'my_type',\n",
       "    'highlight': {'cmd_format_t': ['This is a <em>brown</em> <em>dog</em> a b']}}],\n",
       "  'max_score': 0.21309784,\n",
       "  'total': 3},\n",
       " 'timed_out': False,\n",
       " 'took': 25}"
      ]
     },
     "execution_count": 161,
     "metadata": {},
     "output_type": "execute_result"
    }
   ],
   "source": [
    "es.search(index=test_score_index, explain=True, body={\n",
    "    \"query\": {\n",
    "        \"function_score\": {\n",
    "            \"query\": {\n",
    "                \"match\": {\n",
    "                    \"cmd_format_t\": {\n",
    "                        \"query\": \"brown dog\"\n",
    "                    }\n",
    "                }\n",
    "            },\n",
    "            \"field_value_factor\": {\n",
    "                \"field\": \"len\",\n",
    "                \"modifier\": \"reciprocal\",\n",
    "                \"factor\": 0.9\n",
    "            },\n",
    "            \"boost_mode\": \"multiply\"\n",
    "        }\n",
    "    },\n",
    "    \"highlight\": {\n",
    "        \"fields\" : {\n",
    "            \"cmd_format_t\" : {}\n",
    "        }\n",
    "    }\n",
    "})"
   ]
  },
  {
   "cell_type": "code",
   "execution_count": 156,
   "metadata": {},
   "outputs": [
    {
     "data": {
      "text/plain": [
       "2.876821"
      ]
     },
     "execution_count": 156,
     "metadata": {},
     "output_type": "execute_result"
    }
   ],
   "source": [
    "0.5753642 * 5"
   ]
  },
  {
   "cell_type": "code",
   "execution_count": null,
   "metadata": {
    "collapsed": true
   },
   "outputs": [],
   "source": []
  }
 ],
 "metadata": {
  "kernelspec": {
   "display_name": "Python 3",
   "language": "python",
   "name": "python3"
  },
  "language_info": {
   "codemirror_mode": {
    "name": "ipython",
    "version": 3
   },
   "file_extension": ".py",
   "mimetype": "text/x-python",
   "name": "python",
   "nbconvert_exporter": "python",
   "pygments_lexer": "ipython3",
   "version": "3.6.4"
  },
  "toc": {
   "nav_menu": {},
   "number_sections": true,
   "sideBar": true,
   "skip_h1_title": true,
   "toc_cell": true,
   "toc_position": {},
   "toc_section_display": "block",
   "toc_window_display": true
  }
 },
 "nbformat": 4,
 "nbformat_minor": 2
}
