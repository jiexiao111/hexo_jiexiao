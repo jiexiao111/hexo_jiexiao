{
 "cells": [
  {
   "cell_type": "markdown",
   "metadata": {
    "toc": true
   },
   "source": [
    "<h1>Table of Contents<span class=\"tocSkip\"></span></h1>\n",
    "<div class=\"toc\" style=\"margin-top: 1em;\"><ul class=\"toc-item\"><li><span><a href=\"#tf.assert_negative\" data-toc-modified-id=\"tf.assert_negative-1\"><span class=\"toc-item-num\">1&nbsp;&nbsp;</span>tf.assert_negative</a></span><ul class=\"toc-item\"><li><span><a href=\"#功能\" data-toc-modified-id=\"功能-1.1\"><span class=\"toc-item-num\">1.1&nbsp;&nbsp;</span>功能</a></span></li><li><span><a href=\"#描述\" data-toc-modified-id=\"描述-1.2\"><span class=\"toc-item-num\">1.2&nbsp;&nbsp;</span>描述</a></span></li><li><span><a href=\"#示例\" data-toc-modified-id=\"示例-1.3\"><span class=\"toc-item-num\">1.3&nbsp;&nbsp;</span>示例</a></span></li></ul></li><li><span><a href=\"#tf.assert_positive\" data-toc-modified-id=\"tf.assert_positive-2\"><span class=\"toc-item-num\">2&nbsp;&nbsp;</span>tf.assert_positive</a></span><ul class=\"toc-item\"><li><span><a href=\"#功能\" data-toc-modified-id=\"功能-2.1\"><span class=\"toc-item-num\">2.1&nbsp;&nbsp;</span>功能</a></span></li><li><span><a href=\"#描述\" data-toc-modified-id=\"描述-2.2\"><span class=\"toc-item-num\">2.2&nbsp;&nbsp;</span>描述</a></span></li><li><span><a href=\"#示例\" data-toc-modified-id=\"示例-2.3\"><span class=\"toc-item-num\">2.3&nbsp;&nbsp;</span>示例</a></span></li></ul></li><li><span><a href=\"#tf.assert_proper_iterable\" data-toc-modified-id=\"tf.assert_proper_iterable-3\"><span class=\"toc-item-num\">3&nbsp;&nbsp;</span>tf.assert_proper_iterable</a></span><ul class=\"toc-item\"><li><span><a href=\"#功能\" data-toc-modified-id=\"功能-3.1\"><span class=\"toc-item-num\">3.1&nbsp;&nbsp;</span>功能</a></span></li><li><span><a href=\"#描述\" data-toc-modified-id=\"描述-3.2\"><span class=\"toc-item-num\">3.2&nbsp;&nbsp;</span>描述</a></span></li><li><span><a href=\"#示例\" data-toc-modified-id=\"示例-3.3\"><span class=\"toc-item-num\">3.3&nbsp;&nbsp;</span>示例</a></span></li></ul></li><li><span><a href=\"#tf.assert_non_positve\" data-toc-modified-id=\"tf.assert_non_positve-4\"><span class=\"toc-item-num\">4&nbsp;&nbsp;</span>tf.assert_non_positve</a></span><ul class=\"toc-item\"><li><span><a href=\"#功能\" data-toc-modified-id=\"功能-4.1\"><span class=\"toc-item-num\">4.1&nbsp;&nbsp;</span>功能</a></span></li><li><span><a href=\"#描述\" data-toc-modified-id=\"描述-4.2\"><span class=\"toc-item-num\">4.2&nbsp;&nbsp;</span>描述</a></span></li><li><span><a href=\"#示例\" data-toc-modified-id=\"示例-4.3\"><span class=\"toc-item-num\">4.3&nbsp;&nbsp;</span>示例</a></span></li></ul></li><li><span><a href=\"#tf.assert_non_negative\" data-toc-modified-id=\"tf.assert_non_negative-5\"><span class=\"toc-item-num\">5&nbsp;&nbsp;</span>tf.assert_non_negative</a></span><ul class=\"toc-item\"><li><span><a href=\"#功能\" data-toc-modified-id=\"功能-5.1\"><span class=\"toc-item-num\">5.1&nbsp;&nbsp;</span>功能</a></span></li><li><span><a href=\"#描述\" data-toc-modified-id=\"描述-5.2\"><span class=\"toc-item-num\">5.2&nbsp;&nbsp;</span>描述</a></span></li><li><span><a href=\"#示例\" data-toc-modified-id=\"示例-5.3\"><span class=\"toc-item-num\">5.3&nbsp;&nbsp;</span>示例</a></span></li></ul></li><li><span><a href=\"#tf.assert_equal\" data-toc-modified-id=\"tf.assert_equal-6\"><span class=\"toc-item-num\">6&nbsp;&nbsp;</span>tf.assert_equal</a></span><ul class=\"toc-item\"><li><span><a href=\"#功能\" data-toc-modified-id=\"功能-6.1\"><span class=\"toc-item-num\">6.1&nbsp;&nbsp;</span>功能</a></span></li><li><span><a href=\"#描述\" data-toc-modified-id=\"描述-6.2\"><span class=\"toc-item-num\">6.2&nbsp;&nbsp;</span>描述</a></span></li><li><span><a href=\"#示例\" data-toc-modified-id=\"示例-6.3\"><span class=\"toc-item-num\">6.3&nbsp;&nbsp;</span>示例</a></span></li></ul></li><li><span><a href=\"#tf.assert_integer\" data-toc-modified-id=\"tf.assert_integer-7\"><span class=\"toc-item-num\">7&nbsp;&nbsp;</span>tf.assert_integer</a></span><ul class=\"toc-item\"><li><span><a href=\"#功能\" data-toc-modified-id=\"功能-7.1\"><span class=\"toc-item-num\">7.1&nbsp;&nbsp;</span>功能</a></span></li><li><span><a href=\"#描述\" data-toc-modified-id=\"描述-7.2\"><span class=\"toc-item-num\">7.2&nbsp;&nbsp;</span>描述</a></span></li><li><span><a href=\"#示例\" data-toc-modified-id=\"示例-7.3\"><span class=\"toc-item-num\">7.3&nbsp;&nbsp;</span>示例</a></span></li></ul></li><li><span><a href=\"#tf.assert_less\" data-toc-modified-id=\"tf.assert_less-8\"><span class=\"toc-item-num\">8&nbsp;&nbsp;</span>tf.assert_less</a></span><ul class=\"toc-item\"><li><span><a href=\"#功能\" data-toc-modified-id=\"功能-8.1\"><span class=\"toc-item-num\">8.1&nbsp;&nbsp;</span>功能</a></span></li><li><span><a href=\"#描述\" data-toc-modified-id=\"描述-8.2\"><span class=\"toc-item-num\">8.2&nbsp;&nbsp;</span>描述</a></span></li><li><span><a href=\"#示例\" data-toc-modified-id=\"示例-8.3\"><span class=\"toc-item-num\">8.3&nbsp;&nbsp;</span>示例</a></span></li></ul></li><li><span><a href=\"#tf.assert_less_equal\" data-toc-modified-id=\"tf.assert_less_equal-9\"><span class=\"toc-item-num\">9&nbsp;&nbsp;</span>tf.assert_less_equal</a></span><ul class=\"toc-item\"><li><span><a href=\"#功能\" data-toc-modified-id=\"功能-9.1\"><span class=\"toc-item-num\">9.1&nbsp;&nbsp;</span>功能</a></span></li><li><span><a href=\"#描述\" data-toc-modified-id=\"描述-9.2\"><span class=\"toc-item-num\">9.2&nbsp;&nbsp;</span>描述</a></span></li><li><span><a href=\"#示例\" data-toc-modified-id=\"示例-9.3\"><span class=\"toc-item-num\">9.3&nbsp;&nbsp;</span>示例</a></span></li></ul></li><li><span><a href=\"#tf.assert_greater\" data-toc-modified-id=\"tf.assert_greater-10\"><span class=\"toc-item-num\">10&nbsp;&nbsp;</span>tf.assert_greater</a></span><ul class=\"toc-item\"><li><span><a href=\"#功能\" data-toc-modified-id=\"功能-10.1\"><span class=\"toc-item-num\">10.1&nbsp;&nbsp;</span>功能</a></span></li><li><span><a href=\"#描述\" data-toc-modified-id=\"描述-10.2\"><span class=\"toc-item-num\">10.2&nbsp;&nbsp;</span>描述</a></span></li><li><span><a href=\"#示例\" data-toc-modified-id=\"示例-10.3\"><span class=\"toc-item-num\">10.3&nbsp;&nbsp;</span>示例</a></span></li></ul></li><li><span><a href=\"#tf.assert_greater_equal\" data-toc-modified-id=\"tf.assert_greater_equal-11\"><span class=\"toc-item-num\">11&nbsp;&nbsp;</span>tf.assert_greater_equal</a></span><ul class=\"toc-item\"><li><span><a href=\"#功能\" data-toc-modified-id=\"功能-11.1\"><span class=\"toc-item-num\">11.1&nbsp;&nbsp;</span>功能</a></span></li><li><span><a href=\"#描述\" data-toc-modified-id=\"描述-11.2\"><span class=\"toc-item-num\">11.2&nbsp;&nbsp;</span>描述</a></span></li><li><span><a href=\"#示例\" data-toc-modified-id=\"示例-11.3\"><span class=\"toc-item-num\">11.3&nbsp;&nbsp;</span>示例</a></span></li></ul></li><li><span><a href=\"#tf.assert_rank\" data-toc-modified-id=\"tf.assert_rank-12\"><span class=\"toc-item-num\">12&nbsp;&nbsp;</span>tf.assert_rank</a></span><ul class=\"toc-item\"><li><span><a href=\"#功能\" data-toc-modified-id=\"功能-12.1\"><span class=\"toc-item-num\">12.1&nbsp;&nbsp;</span>功能</a></span></li><li><span><a href=\"#描述\" data-toc-modified-id=\"描述-12.2\"><span class=\"toc-item-num\">12.2&nbsp;&nbsp;</span>描述</a></span></li><li><span><a href=\"#示例\" data-toc-modified-id=\"示例-12.3\"><span class=\"toc-item-num\">12.3&nbsp;&nbsp;</span>示例</a></span></li></ul></li><li><span><a href=\"#tf.assert_rank_at_least\" data-toc-modified-id=\"tf.assert_rank_at_least-13\"><span class=\"toc-item-num\">13&nbsp;&nbsp;</span>tf.assert_rank_at_least</a></span><ul class=\"toc-item\"><li><span><a href=\"#功能\" data-toc-modified-id=\"功能-13.1\"><span class=\"toc-item-num\">13.1&nbsp;&nbsp;</span>功能</a></span></li><li><span><a href=\"#描述\" data-toc-modified-id=\"描述-13.2\"><span class=\"toc-item-num\">13.2&nbsp;&nbsp;</span>描述</a></span></li><li><span><a href=\"#示例\" data-toc-modified-id=\"示例-13.3\"><span class=\"toc-item-num\">13.3&nbsp;&nbsp;</span>示例</a></span></li></ul></li><li><span><a href=\"#tf.assert_type\" data-toc-modified-id=\"tf.assert_type-14\"><span class=\"toc-item-num\">14&nbsp;&nbsp;</span>tf.assert_type</a></span><ul class=\"toc-item\"><li><span><a href=\"#功能\" data-toc-modified-id=\"功能-14.1\"><span class=\"toc-item-num\">14.1&nbsp;&nbsp;</span>功能</a></span></li><li><span><a href=\"#描述\" data-toc-modified-id=\"描述-14.2\"><span class=\"toc-item-num\">14.2&nbsp;&nbsp;</span>描述</a></span></li><li><span><a href=\"#示例\" data-toc-modified-id=\"示例-14.3\"><span class=\"toc-item-num\">14.3&nbsp;&nbsp;</span>示例</a></span></li></ul></li><li><span><a href=\"#tf.is_non_decreasing\" data-toc-modified-id=\"tf.is_non_decreasing-15\"><span class=\"toc-item-num\">15&nbsp;&nbsp;</span>tf.is_non_decreasing</a></span><ul class=\"toc-item\"><li><span><a href=\"#功能\" data-toc-modified-id=\"功能-15.1\"><span class=\"toc-item-num\">15.1&nbsp;&nbsp;</span>功能</a></span></li><li><span><a href=\"#描述\" data-toc-modified-id=\"描述-15.2\"><span class=\"toc-item-num\">15.2&nbsp;&nbsp;</span>描述</a></span></li><li><span><a href=\"#示例\" data-toc-modified-id=\"示例-15.3\"><span class=\"toc-item-num\">15.3&nbsp;&nbsp;</span>示例</a></span></li></ul></li><li><span><a href=\"#tf\" data-toc-modified-id=\"tf-16\"><span class=\"toc-item-num\">16&nbsp;&nbsp;</span>tf</a></span><ul class=\"toc-item\"><li><span><a href=\"#功能\" data-toc-modified-id=\"功能-16.1\"><span class=\"toc-item-num\">16.1&nbsp;&nbsp;</span>功能</a></span></li><li><span><a href=\"#描述\" data-toc-modified-id=\"描述-16.2\"><span class=\"toc-item-num\">16.2&nbsp;&nbsp;</span>描述</a></span></li><li><span><a href=\"#示例\" data-toc-modified-id=\"示例-16.3\"><span class=\"toc-item-num\">16.3&nbsp;&nbsp;</span>示例</a></span></li></ul></li><li><span><a href=\"#tf.assert_negative\" data-toc-modified-id=\"tf.assert_negative-17\"><span class=\"toc-item-num\">17&nbsp;&nbsp;</span>tf.assert_negative</a></span><ul class=\"toc-item\"><li><span><a href=\"#功能\" data-toc-modified-id=\"功能-17.1\"><span class=\"toc-item-num\">17.1&nbsp;&nbsp;</span>功能</a></span></li><li><span><a href=\"#描述\" data-toc-modified-id=\"描述-17.2\"><span class=\"toc-item-num\">17.2&nbsp;&nbsp;</span>描述</a></span></li><li><span><a href=\"#示例\" data-toc-modified-id=\"示例-17.3\"><span class=\"toc-item-num\">17.3&nbsp;&nbsp;</span>示例</a></span></li></ul></li></ul></div>"
   ]
  },
  {
   "cell_type": "markdown",
   "metadata": {},
   "source": [
    "# TensorFlow API 总结"
   ]
  },
  {
   "cell_type": "markdown",
   "metadata": {
    "heading_collapsed": true
   },
   "source": [
    "## tf.assert_negative"
   ]
  },
  {
   "cell_type": "markdown",
   "metadata": {
    "heading_collapsed": true,
    "hidden": true
   },
   "source": [
    "### 功能"
   ]
  },
  {
   "cell_type": "markdown",
   "metadata": {
    "hidden": true
   },
   "source": [
    "断言 x 中所有值为负数"
   ]
  },
  {
   "cell_type": "markdown",
   "metadata": {
    "heading_collapsed": true,
    "hidden": true
   },
   "source": [
    "### 描述"
   ]
  },
  {
   "cell_type": "code",
   "execution_count": null,
   "metadata": {
    "collapsed": true,
    "hidden": true
   },
   "outputs": [],
   "source": [
    "tf.assert_negative(\n",
    "    x,\n",
    "    data=None,\n",
    "    summarize=None,\n",
    "    message=None,\n",
    "    name=None\n",
    ")"
   ]
  },
  {
   "cell_type": "markdown",
   "metadata": {
    "heading_collapsed": true,
    "hidden": true
   },
   "source": [
    "### 示例"
   ]
  },
  {
   "cell_type": "markdown",
   "metadata": {
    "hidden": true
   },
   "source": [
    "正常执行"
   ]
  },
  {
   "cell_type": "code",
   "execution_count": null,
   "metadata": {
    "collapsed": true,
    "hidden": true
   },
   "outputs": [],
   "source": [
    "import tensorflow as tf\n",
    "tmp = tf.fill([2,3], -9)\n",
    "with tf.control_dependencies([tf.assert_negative(tmp)]):\n",
    "    output = tf.reduce_sum(tmp)\n",
    "with tf.Session().as_default():\n",
    "    output.eval()"
   ]
  },
  {
   "cell_type": "markdown",
   "metadata": {
    "hidden": true
   },
   "source": [
    "触发断言"
   ]
  },
  {
   "cell_type": "code",
   "execution_count": null,
   "metadata": {
    "collapsed": true,
    "hidden": true
   },
   "outputs": [],
   "source": [
    "import tensorflow as tf\n",
    "tmp = tf.fill([2,3], 9)\n",
    "with tf.control_dependencies([tf.assert_negative(tmp)]):\n",
    "    output = tf.reduce_sum(tmp)\n",
    "with tf.Session().as_default():\n",
    "    output.eval()"
   ]
  },
  {
   "cell_type": "markdown",
   "metadata": {
    "hidden": true
   },
   "source": [
    "* data:触发断言时，需要打印的 Tensor\n",
    "* summarize:data中每个 Tensor 打印的元素个数\n",
    "* message:打印信息前缀\n",
    "* name:op名称"
   ]
  },
  {
   "cell_type": "code",
   "execution_count": null,
   "metadata": {
    "collapsed": true,
    "hidden": true
   },
   "outputs": [],
   "source": [
    "import tensorflow as tf\n",
    "\n",
    "tmp = tf.fill([2, 3], 9)\n",
    "tmp1 = tf.fill([2, 3], -9)\n",
    "\n",
    "with tf.control_dependencies([tf.assert_negative(tmp, [tmp, tmp1], summarize=5, message='jiexiao', name='assert_ng')]):\n",
    "    output2 = tf.reduce_sum(tmp)\n",
    "\n",
    "with tf.Session().as_default():\n",
    "    output2.eval()"
   ]
  },
  {
   "cell_type": "markdown",
   "metadata": {
    "heading_collapsed": true
   },
   "source": [
    "## tf.assert_positive"
   ]
  },
  {
   "cell_type": "markdown",
   "metadata": {
    "collapsed": true,
    "heading_collapsed": true,
    "hidden": true
   },
   "source": [
    "### 功能"
   ]
  },
  {
   "cell_type": "markdown",
   "metadata": {
    "hidden": true
   },
   "source": [
    "断言 x 中所有值为整数"
   ]
  },
  {
   "cell_type": "markdown",
   "metadata": {
    "heading_collapsed": true,
    "hidden": true
   },
   "source": [
    "### 描述"
   ]
  },
  {
   "cell_type": "code",
   "execution_count": null,
   "metadata": {
    "collapsed": true,
    "hidden": true
   },
   "outputs": [],
   "source": [
    "tf.assert_positive(\n",
    "    x,\n",
    "    data=None,\n",
    "    summarize=None,\n",
    "    message=None,\n",
    "    name=None\n",
    ")"
   ]
  },
  {
   "cell_type": "markdown",
   "metadata": {
    "heading_collapsed": true,
    "hidden": true
   },
   "source": [
    "### 示例"
   ]
  },
  {
   "cell_type": "markdown",
   "metadata": {
    "hidden": true
   },
   "source": [
    "参考 tf.assert_negative"
   ]
  },
  {
   "cell_type": "markdown",
   "metadata": {
    "heading_collapsed": true
   },
   "source": [
    "## tf.assert_proper_iterable"
   ]
  },
  {
   "cell_type": "markdown",
   "metadata": {
    "heading_collapsed": true,
    "hidden": true
   },
   "source": [
    "### 功能"
   ]
  },
  {
   "cell_type": "markdown",
   "metadata": {
    "hidden": true
   },
   "source": [
    "判断values是不是一个合适的迭代器，如果values是一个Tensor, SparseTensor, np.array, tf.compat.bytes_or_texts_types则报错。或者不是迭代器也报错。 \n",
    "这个函数时有用处的，因为张量Tensor或者数组np.array本身也是可迭代的 (iterable)."
   ]
  },
  {
   "cell_type": "markdown",
   "metadata": {
    "heading_collapsed": true,
    "hidden": true
   },
   "source": [
    "### 描述"
   ]
  },
  {
   "cell_type": "code",
   "execution_count": null,
   "metadata": {
    "collapsed": true,
    "hidden": true
   },
   "outputs": [],
   "source": [
    "tf.assert_proper_iterable(values)"
   ]
  },
  {
   "cell_type": "markdown",
   "metadata": {
    "heading_collapsed": true,
    "hidden": true
   },
   "source": [
    "### 示例"
   ]
  },
  {
   "cell_type": "markdown",
   "metadata": {
    "hidden": true
   },
   "source": [
    "不清楚什么类型能够不触发断言"
   ]
  },
  {
   "cell_type": "code",
   "execution_count": null,
   "metadata": {
    "collapsed": true,
    "hidden": true
   },
   "outputs": [],
   "source": [
    "import tensorflow as tf\n",
    "tmp = tf.fill([2,3], -9)\n",
    "with tf.control_dependencies([tf.assert_proper_iterable(tmp)]):\n",
    "    output = tf.reduce_sum(tmp)\n",
    "with tf.Session().as_default():\n",
    "    output.eval()"
   ]
  },
  {
   "cell_type": "markdown",
   "metadata": {
    "heading_collapsed": true
   },
   "source": [
    "## tf.assert_non_positve"
   ]
  },
  {
   "cell_type": "markdown",
   "metadata": {
    "heading_collapsed": true,
    "hidden": true
   },
   "source": [
    "### 功能"
   ]
  },
  {
   "cell_type": "markdown",
   "metadata": {
    "hidden": true
   },
   "source": [
    "断言 x 中的所有值非正"
   ]
  },
  {
   "cell_type": "markdown",
   "metadata": {
    "heading_collapsed": true,
    "hidden": true
   },
   "source": [
    "### 描述"
   ]
  },
  {
   "cell_type": "code",
   "execution_count": null,
   "metadata": {
    "collapsed": true,
    "hidden": true
   },
   "outputs": [],
   "source": [
    "tf.assert_non_positive(\n",
    "    x,\n",
    "    data=None,\n",
    "    summarize=None,\n",
    "    message=None,\n",
    "    name=None\n",
    ")"
   ]
  },
  {
   "cell_type": "markdown",
   "metadata": {
    "heading_collapsed": true,
    "hidden": true
   },
   "source": [
    "### 示例"
   ]
  },
  {
   "cell_type": "markdown",
   "metadata": {
    "hidden": true
   },
   "source": [
    "参考 tf.assert_negative"
   ]
  },
  {
   "cell_type": "markdown",
   "metadata": {
    "heading_collapsed": true
   },
   "source": [
    "## tf.assert_non_negative"
   ]
  },
  {
   "cell_type": "markdown",
   "metadata": {
    "heading_collapsed": true,
    "hidden": true
   },
   "source": [
    "### 功能"
   ]
  },
  {
   "cell_type": "markdown",
   "metadata": {
    "hidden": true
   },
   "source": [
    "断言x中的所有值非负"
   ]
  },
  {
   "cell_type": "markdown",
   "metadata": {
    "heading_collapsed": true,
    "hidden": true
   },
   "source": [
    "### 描述"
   ]
  },
  {
   "cell_type": "code",
   "execution_count": null,
   "metadata": {
    "collapsed": true,
    "hidden": true
   },
   "outputs": [],
   "source": [
    "tf.assert_non_negative(\n",
    "    x,\n",
    "    data=None,\n",
    "    summarize=None,\n",
    "    message=None,\n",
    "    name=None\n",
    ")"
   ]
  },
  {
   "cell_type": "markdown",
   "metadata": {
    "heading_collapsed": true,
    "hidden": true
   },
   "source": [
    "### 示例"
   ]
  },
  {
   "cell_type": "markdown",
   "metadata": {
    "hidden": true
   },
   "source": [
    "参考 tf.assert_negative"
   ]
  },
  {
   "cell_type": "markdown",
   "metadata": {
    "heading_collapsed": true
   },
   "source": [
    "## tf.assert_equal"
   ]
  },
  {
   "cell_type": "markdown",
   "metadata": {
    "heading_collapsed": true,
    "hidden": true
   },
   "source": [
    "### 功能"
   ]
  },
  {
   "cell_type": "markdown",
   "metadata": {
    "hidden": true
   },
   "source": [
    "断言 x 和 y 中的所有元素值一样"
   ]
  },
  {
   "cell_type": "markdown",
   "metadata": {
    "heading_collapsed": true,
    "hidden": true
   },
   "source": [
    "### 描述"
   ]
  },
  {
   "cell_type": "code",
   "execution_count": null,
   "metadata": {
    "collapsed": true,
    "hidden": true
   },
   "outputs": [],
   "source": [
    "tf.assert_equal(\n",
    "    x,\n",
    "    y,\n",
    "    data=None,\n",
    "    summarize=None,\n",
    "    message=None,\n",
    "    name=None\n",
    ")"
   ]
  },
  {
   "cell_type": "markdown",
   "metadata": {
    "heading_collapsed": true,
    "hidden": true
   },
   "source": [
    "### 示例"
   ]
  },
  {
   "cell_type": "markdown",
   "metadata": {
    "hidden": true
   },
   "source": [
    "正常执行"
   ]
  },
  {
   "cell_type": "code",
   "execution_count": null,
   "metadata": {
    "collapsed": true,
    "hidden": true
   },
   "outputs": [],
   "source": [
    "import tensorflow as tf\n",
    "\n",
    "tmp_1 = tf.fill([3,3], 9)\n",
    "tmp_2 = tf.fill([3,3], 9)\n",
    "with tf.control_dependencies([tf.assert_equal(tmp_1, tmp_2)]):\n",
    "    output = tf.reduce_sum(tmp_1)\n",
    "with tf.Session().as_default():\n",
    "    output.eval()"
   ]
  },
  {
   "cell_type": "markdown",
   "metadata": {
    "hidden": true
   },
   "source": [
    "触发断言"
   ]
  },
  {
   "cell_type": "code",
   "execution_count": null,
   "metadata": {
    "collapsed": true,
    "hidden": true
   },
   "outputs": [],
   "source": [
    "import tensorflow as tf\n",
    "\n",
    "tmp_1 = tf.fill([3,3], 9)\n",
    "tmp_2 = tf.fill([3,3], 8)\n",
    "with tf.control_dependencies([tf.assert_equal(tmp_1, tmp_2)]):\n",
    "    output = tf.reduce_sum(tmp_1)\n",
    "with tf.Session().as_default():\n",
    "    output.eval()"
   ]
  },
  {
   "cell_type": "markdown",
   "metadata": {
    "heading_collapsed": true
   },
   "source": [
    "## tf.assert_integer"
   ]
  },
  {
   "cell_type": "markdown",
   "metadata": {
    "heading_collapsed": true,
    "hidden": true
   },
   "source": [
    "### 功能"
   ]
  },
  {
   "cell_type": "markdown",
   "metadata": {
    "hidden": true
   },
   "source": [
    "断言 x 中的每个元素的类型为整型"
   ]
  },
  {
   "cell_type": "markdown",
   "metadata": {
    "heading_collapsed": true,
    "hidden": true
   },
   "source": [
    "### 描述"
   ]
  },
  {
   "cell_type": "code",
   "execution_count": null,
   "metadata": {
    "collapsed": true,
    "hidden": true
   },
   "outputs": [],
   "source": [
    "tf.assert_integer(\n",
    "    x,\n",
    "    message=None,\n",
    "    name=None\n",
    ")"
   ]
  },
  {
   "cell_type": "markdown",
   "metadata": {
    "heading_collapsed": true,
    "hidden": true
   },
   "source": [
    "### 示例"
   ]
  },
  {
   "cell_type": "markdown",
   "metadata": {
    "hidden": true
   },
   "source": [
    "正常执行"
   ]
  },
  {
   "cell_type": "code",
   "execution_count": 27,
   "metadata": {
    "hidden": true
   },
   "outputs": [
    {
     "data": {
      "text/plain": [
       "81"
      ]
     },
     "execution_count": 27,
     "metadata": {},
     "output_type": "execute_result"
    }
   ],
   "source": [
    "import tensorflow as tf\n",
    "tmp = tf.fill([3,3], 9)\n",
    "with tf.control_dependencies([tf.assert_integer(tmp)]):\n",
    "    output = tf.reduce_sum(tmp)\n",
    "with tf.Session().as_default():\n",
    "    output.eval()"
   ]
  },
  {
   "cell_type": "markdown",
   "metadata": {
    "hidden": true
   },
   "source": [
    "触发断言"
   ]
  },
  {
   "cell_type": "code",
   "execution_count": null,
   "metadata": {
    "collapsed": true,
    "hidden": true
   },
   "outputs": [],
   "source": [
    "import tensorflow as tf\n",
    "tmp = tf.fill([3,3], 9.0)\n",
    "with tf.control_dependencies([tf.assert_integer(tmp)]):\n",
    "    output = tf.reduce_sum(tmp)\n",
    "with tf.Session().as_default():\n",
    "    output.eval()"
   ]
  },
  {
   "cell_type": "markdown",
   "metadata": {
    "heading_collapsed": true
   },
   "source": [
    "## tf.assert_less"
   ]
  },
  {
   "cell_type": "markdown",
   "metadata": {
    "heading_collapsed": true,
    "hidden": true
   },
   "source": [
    "### 功能"
   ]
  },
  {
   "cell_type": "markdown",
   "metadata": {
    "hidden": true
   },
   "source": [
    "断言 x 中的每个元素小于 y 中的相同位置的元素"
   ]
  },
  {
   "cell_type": "markdown",
   "metadata": {
    "heading_collapsed": true,
    "hidden": true
   },
   "source": [
    "### 描述"
   ]
  },
  {
   "cell_type": "code",
   "execution_count": null,
   "metadata": {
    "collapsed": true,
    "hidden": true
   },
   "outputs": [],
   "source": [
    "tf.assert_less(\n",
    "    x,\n",
    "    y,\n",
    "    data=None,\n",
    "    summarize=None,\n",
    "    message=None,\n",
    "    name=None\n",
    ")"
   ]
  },
  {
   "cell_type": "markdown",
   "metadata": {
    "heading_collapsed": true,
    "hidden": true
   },
   "source": [
    "### 示例"
   ]
  },
  {
   "cell_type": "markdown",
   "metadata": {
    "hidden": true
   },
   "source": [
    "正常执行"
   ]
  },
  {
   "cell_type": "code",
   "execution_count": 33,
   "metadata": {
    "hidden": true
   },
   "outputs": [
    {
     "data": {
      "text/plain": [
       "17"
      ]
     },
     "execution_count": 33,
     "metadata": {},
     "output_type": "execute_result"
    }
   ],
   "source": [
    "import tensorflow as tf\n",
    "tmp_1 = tf.constant([1, 9, 3, 4])\n",
    "tmp_2 = tf.constant([0, 8, 2, 3])\n",
    "with tf.control_dependencies([tf.assert_less(tmp_2, tmp_1)]):\n",
    "    output = tf.reduce_sum(tmp_1)\n",
    "with tf.Session().as_default():\n",
    "    output.eval()"
   ]
  },
  {
   "cell_type": "markdown",
   "metadata": {
    "hidden": true
   },
   "source": [
    "触发断言"
   ]
  },
  {
   "cell_type": "code",
   "execution_count": null,
   "metadata": {
    "collapsed": true,
    "hidden": true
   },
   "outputs": [],
   "source": [
    "import tensorflow as tf\n",
    "tmp_1 = tf.constant([1, 8, 3, 4])\n",
    "tmp_2 = tf.constant([0, 8, 2, 3])\n",
    "with tf.control_dependencies([tf.assert_less(tmp_2, tmp_1)]):\n",
    "    output = tf.reduce_sum(tmp_1)\n",
    "with tf.Session().as_default():\n",
    "    output.eval()"
   ]
  },
  {
   "cell_type": "markdown",
   "metadata": {
    "heading_collapsed": true
   },
   "source": [
    "## tf.assert_less_equal"
   ]
  },
  {
   "cell_type": "markdown",
   "metadata": {
    "heading_collapsed": true,
    "hidden": true
   },
   "source": [
    "### 功能"
   ]
  },
  {
   "cell_type": "markdown",
   "metadata": {
    "hidden": true
   },
   "source": [
    "断言 x 中的每个元素小于等于 y 中的相同位置的元素"
   ]
  },
  {
   "cell_type": "markdown",
   "metadata": {
    "heading_collapsed": true,
    "hidden": true
   },
   "source": [
    "### 描述"
   ]
  },
  {
   "cell_type": "code",
   "execution_count": null,
   "metadata": {
    "collapsed": true,
    "hidden": true
   },
   "outputs": [],
   "source": [
    "tf.assert_less_equal(\n",
    "    x,\n",
    "    y,\n",
    "    data=None,\n",
    "    summarize=None,\n",
    "    message=None,\n",
    "    name=None\n",
    ")"
   ]
  },
  {
   "cell_type": "markdown",
   "metadata": {
    "heading_collapsed": true,
    "hidden": true
   },
   "source": [
    "### 示例"
   ]
  },
  {
   "cell_type": "markdown",
   "metadata": {
    "hidden": true
   },
   "source": [
    "参考 tf.assert_less"
   ]
  },
  {
   "cell_type": "markdown",
   "metadata": {
    "heading_collapsed": true
   },
   "source": [
    "## tf.assert_greater"
   ]
  },
  {
   "cell_type": "markdown",
   "metadata": {
    "heading_collapsed": true,
    "hidden": true
   },
   "source": [
    "### 功能"
   ]
  },
  {
   "cell_type": "markdown",
   "metadata": {
    "hidden": true
   },
   "source": [
    "断言 x 中的每个元素大于 y 中的相同位置的元素"
   ]
  },
  {
   "cell_type": "markdown",
   "metadata": {
    "heading_collapsed": true,
    "hidden": true
   },
   "source": [
    "### 描述"
   ]
  },
  {
   "cell_type": "code",
   "execution_count": null,
   "metadata": {
    "collapsed": true,
    "hidden": true
   },
   "outputs": [],
   "source": [
    "tf.assert_greater(\n",
    "    x,\n",
    "    y,\n",
    "    data=None,\n",
    "    summarize=None,\n",
    "    message=None,\n",
    "    name=None\n",
    ")"
   ]
  },
  {
   "cell_type": "markdown",
   "metadata": {
    "heading_collapsed": true,
    "hidden": true
   },
   "source": [
    "### 示例"
   ]
  },
  {
   "cell_type": "markdown",
   "metadata": {
    "hidden": true
   },
   "source": [
    "参考 tf.assert_less"
   ]
  },
  {
   "cell_type": "markdown",
   "metadata": {
    "heading_collapsed": true
   },
   "source": [
    "## tf.assert_greater_equal"
   ]
  },
  {
   "cell_type": "markdown",
   "metadata": {
    "heading_collapsed": true,
    "hidden": true
   },
   "source": [
    "### 功能"
   ]
  },
  {
   "cell_type": "markdown",
   "metadata": {
    "hidden": true
   },
   "source": [
    "断言 x 中的每个元素大于等于 y 中的相同位置的元素"
   ]
  },
  {
   "cell_type": "markdown",
   "metadata": {
    "heading_collapsed": true,
    "hidden": true
   },
   "source": [
    "### 描述"
   ]
  },
  {
   "cell_type": "code",
   "execution_count": null,
   "metadata": {
    "collapsed": true,
    "hidden": true
   },
   "outputs": [],
   "source": [
    "tf.assert_greater_equal(\n",
    "    x,\n",
    "    y,\n",
    "    data=None,\n",
    "    summarize=None,\n",
    "    message=None,\n",
    "    name=None\n",
    ")"
   ]
  },
  {
   "cell_type": "markdown",
   "metadata": {
    "heading_collapsed": true,
    "hidden": true
   },
   "source": [
    "### 示例"
   ]
  },
  {
   "cell_type": "markdown",
   "metadata": {
    "hidden": true
   },
   "source": [
    "参考 tf.assert_less"
   ]
  },
  {
   "cell_type": "markdown",
   "metadata": {
    "heading_collapsed": true
   },
   "source": [
    "## tf.assert_rank"
   ]
  },
  {
   "cell_type": "markdown",
   "metadata": {
    "heading_collapsed": true,
    "hidden": true
   },
   "source": [
    "### 功能"
   ]
  },
  {
   "cell_type": "markdown",
   "metadata": {
    "hidden": true
   },
   "source": [
    "断言 x 的维度等于 rank"
   ]
  },
  {
   "cell_type": "markdown",
   "metadata": {
    "heading_collapsed": true,
    "hidden": true
   },
   "source": [
    "### 描述"
   ]
  },
  {
   "cell_type": "code",
   "execution_count": null,
   "metadata": {
    "collapsed": true,
    "hidden": true
   },
   "outputs": [],
   "source": [
    "tf.assert_rank(\n",
    "    x,\n",
    "    rank,\n",
    "    data=None,\n",
    "    summarize=None,\n",
    "    message=None,\n",
    "    name=None\n",
    ")"
   ]
  },
  {
   "cell_type": "markdown",
   "metadata": {
    "heading_collapsed": true,
    "hidden": true
   },
   "source": [
    "### 示例"
   ]
  },
  {
   "cell_type": "markdown",
   "metadata": {
    "hidden": true
   },
   "source": [
    "正常执行"
   ]
  },
  {
   "cell_type": "code",
   "execution_count": null,
   "metadata": {
    "collapsed": true,
    "hidden": true
   },
   "outputs": [],
   "source": [
    "import tensorflow as tf\n",
    "tmp = tf.fill([3, 3], 9)\n",
    "with tf.control_dependencies([tf.assert_rank(tmp, 2)]):\n",
    "    output = tf.reduce_sum(tmp)\n",
    "with tf.Session().as_default():\n",
    "    output.eval()"
   ]
  },
  {
   "cell_type": "markdown",
   "metadata": {
    "hidden": true
   },
   "source": [
    "触发断言"
   ]
  },
  {
   "cell_type": "code",
   "execution_count": null,
   "metadata": {
    "collapsed": true,
    "hidden": true
   },
   "outputs": [],
   "source": [
    "import tensorflow as tf\n",
    "tmp = tf.fill([3, 3, 3], 9)\n",
    "with tf.control_dependencies([tf.assert_rank(tmp, 2)]):\n",
    "    output = tf.reduce_sum(tmp)\n",
    "with tf.Session().as_default():\n",
    "    output.eval()"
   ]
  },
  {
   "cell_type": "markdown",
   "metadata": {
    "heading_collapsed": true
   },
   "source": [
    "## tf.assert_rank_at_least"
   ]
  },
  {
   "cell_type": "markdown",
   "metadata": {
    "heading_collapsed": true,
    "hidden": true
   },
   "source": [
    "### 功能"
   ]
  },
  {
   "cell_type": "markdown",
   "metadata": {
    "hidden": true
   },
   "source": [
    "断言 x 的维度大于等于 rank"
   ]
  },
  {
   "cell_type": "markdown",
   "metadata": {
    "heading_collapsed": true,
    "hidden": true
   },
   "source": [
    "### 描述"
   ]
  },
  {
   "cell_type": "code",
   "execution_count": null,
   "metadata": {
    "hidden": true
   },
   "outputs": [],
   "source": [
    "tf.assert_rank_at_least(\n",
    "    x,\n",
    "    rank,\n",
    "    data=None,\n",
    "    summarize=None,\n",
    "    message=None,\n",
    "    name=None\n",
    ")"
   ]
  },
  {
   "cell_type": "markdown",
   "metadata": {
    "heading_collapsed": true,
    "hidden": true
   },
   "source": [
    "### 示例"
   ]
  },
  {
   "cell_type": "markdown",
   "metadata": {
    "hidden": true
   },
   "source": [
    "参考 tf.assert_rank"
   ]
  },
  {
   "cell_type": "markdown",
   "metadata": {
    "heading_collapsed": true
   },
   "source": [
    "## tf.assert_type"
   ]
  },
  {
   "cell_type": "markdown",
   "metadata": {
    "heading_collapsed": true,
    "hidden": true
   },
   "source": [
    "### 功能"
   ]
  },
  {
   "cell_type": "markdown",
   "metadata": {
    "hidden": true
   },
   "source": [
    "断言 x 中元素的类型为 tf_type"
   ]
  },
  {
   "cell_type": "markdown",
   "metadata": {
    "heading_collapsed": true,
    "hidden": true
   },
   "source": [
    "### 描述"
   ]
  },
  {
   "cell_type": "code",
   "execution_count": null,
   "metadata": {
    "collapsed": true,
    "hidden": true
   },
   "outputs": [],
   "source": [
    "tf.assert_type(\n",
    "    tensor,\n",
    "    tf_type,\n",
    "    message=None,\n",
    "    name=None\n",
    ")"
   ]
  },
  {
   "cell_type": "markdown",
   "metadata": {
    "hidden": true
   },
   "source": [
    "### 示例"
   ]
  },
  {
   "cell_type": "markdown",
   "metadata": {
    "hidden": true
   },
   "source": [
    "正常执行"
   ]
  },
  {
   "cell_type": "code",
   "execution_count": null,
   "metadata": {
    "hidden": true
   },
   "outputs": [],
   "source": [
    "import tensorflow as tf\n",
    "tmp = tf.fill([3, 3], 9)\n",
    "with tf.control_dependencies([tf.assert_type(tmp, tf.int32)]):\n",
    "    output = tf.reduce_sum(tmp)\n",
    "with tf.Session().as_default():\n",
    "    output.eval()"
   ]
  },
  {
   "cell_type": "markdown",
   "metadata": {
    "hidden": true
   },
   "source": [
    "触发断言"
   ]
  },
  {
   "cell_type": "code",
   "execution_count": null,
   "metadata": {
    "hidden": true
   },
   "outputs": [],
   "source": [
    "import tensorflow as tf\n",
    "tmp = tf.fill([3, 3], 9.0)\n",
    "with tf.control_dependencies([tf.assert_type(tmp, tf.int32)]):\n",
    "    output = tf.reduce_sum(tmp)\n",
    "with tf.Session().as_default():\n",
    "    output.eval()"
   ]
  },
  {
   "cell_type": "markdown",
   "metadata": {},
   "source": [
    "## tf.is_non_decreasing"
   ]
  },
  {
   "cell_type": "markdown",
   "metadata": {},
   "source": [
    "### 功能"
   ]
  },
  {
   "cell_type": "markdown",
   "metadata": {},
   "source": []
  },
  {
   "cell_type": "markdown",
   "metadata": {
    "heading_collapsed": true
   },
   "source": [
    "### 描述"
   ]
  },
  {
   "cell_type": "markdown",
   "metadata": {},
   "source": [
    "### 示例"
   ]
  },
  {
   "cell_type": "code",
   "execution_count": 63,
   "metadata": {},
   "outputs": [
    {
     "data": {
      "text/plain": [
       "array([21, 22, 23, 24], dtype=int32)"
      ]
     },
     "execution_count": 63,
     "metadata": {},
     "output_type": "execute_result"
    }
   ],
   "source": [
    "import tensorflow as tf\n",
    "tmp = tf.constant([1, 2, 3, 4])\n",
    "output = tf.cond(tf.is_non_decreasing(tmp), lambda: tf.add(tmp, 20), lambda: tf.add(tmp, 2))\n",
    "with tf.Session().as_default():\n",
    "    output.eval()"
   ]
  },
  {
   "cell_type": "markdown",
   "metadata": {
    "heading_collapsed": true
   },
   "source": [
    "## tf"
   ]
  },
  {
   "cell_type": "markdown",
   "metadata": {
    "heading_collapsed": true,
    "hidden": true
   },
   "source": [
    "### 功能"
   ]
  },
  {
   "cell_type": "markdown",
   "metadata": {
    "heading_collapsed": true,
    "hidden": true
   },
   "source": [
    "### 描述"
   ]
  },
  {
   "cell_type": "markdown",
   "metadata": {
    "heading_collapsed": true,
    "hidden": true
   },
   "source": [
    "### 示例"
   ]
  },
  {
   "cell_type": "markdown",
   "metadata": {
    "heading_collapsed": true
   },
   "source": [
    "## tf.assert_negative"
   ]
  },
  {
   "cell_type": "markdown",
   "metadata": {
    "heading_collapsed": true,
    "hidden": true
   },
   "source": [
    "### 功能"
   ]
  },
  {
   "cell_type": "markdown",
   "metadata": {
    "hidden": true
   },
   "source": [
    "断言 x 中所有值非负"
   ]
  },
  {
   "cell_type": "markdown",
   "metadata": {
    "heading_collapsed": true,
    "hidden": true
   },
   "source": [
    "### 描述"
   ]
  },
  {
   "cell_type": "code",
   "execution_count": null,
   "metadata": {
    "collapsed": true,
    "hidden": true
   },
   "outputs": [],
   "source": [
    "tf.assert_non_negative(\n",
    "    x,\n",
    "    data=None,\n",
    "    summarize=None,\n",
    "    message=None,\n",
    "    name=None\n",
    ")"
   ]
  },
  {
   "cell_type": "markdown",
   "metadata": {
    "heading_collapsed": true,
    "hidden": true
   },
   "source": [
    "### 示例"
   ]
  },
  {
   "cell_type": "markdown",
   "metadata": {
    "hidden": true
   },
   "source": [
    "参考 tf.assert_negative"
   ]
  }
 ],
 "metadata": {
  "kernelspec": {
   "display_name": "Python 3",
   "language": "python",
   "name": "python3"
  },
  "language_info": {
   "codemirror_mode": {
    "name": "ipython",
    "version": 3
   },
   "file_extension": ".py",
   "mimetype": "text/x-python",
   "name": "python",
   "nbconvert_exporter": "python",
   "pygments_lexer": "ipython3",
   "version": "3.6.4"
  },
  "toc": {
   "nav_menu": {},
   "number_sections": true,
   "sideBar": true,
   "skip_h1_title": true,
   "toc_cell": true,
   "toc_position": {
    "height": "964px",
    "left": "0px",
    "right": "1628px",
    "top": "50px",
    "width": "262px"
   },
   "toc_section_display": "block",
   "toc_window_display": true
  }
 },
 "nbformat": 4,
 "nbformat_minor": 2
}
