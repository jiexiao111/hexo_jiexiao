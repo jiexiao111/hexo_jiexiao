{
 "cells": [
  {
   "cell_type": "markdown",
   "metadata": {
    "toc": true
   },
   "source": [
    "<h1>Table of Contents<span class=\"tocSkip\"></span></h1>\n",
    "<div class=\"toc\" style=\"margin-top: 1em;\"><ul class=\"toc-item\"></ul></div>"
   ]
  },
  {
   "cell_type": "code",
   "execution_count": 34,
   "metadata": {},
   "outputs": [],
   "source": [
    "# %load /aiml/data/DevMind/06.SRC/01.TestCaseBot/02.TestAWBot/01.NMT_Train/nmt/preprocess/wordninja.py\n",
    "import gzip, os, re\n",
    "from math import log\n",
    "\n",
    "__version__ = '0.1.3'\n",
    "\n",
    "# I did not author this code, only tweaked it from:\n",
    "# http://stackoverflow.com/a/11642687/2449774\n",
    "# Thanks Generic Human!\n",
    "\n",
    "# Build a cost dictionary, assuming Zipf's law and cost = -math.log(probability).\n",
    "with gzip.open(os.path.join('/aiml/data/DevMind/06.SRC/01.TestCaseBot/02.TestAWBot/01.NMT_Train/nmt/preprocess', 'wordninja_words.txt.gz')) as f:\n",
    "  words = f.read().decode().split()\n",
    "words = ['ipv4'] + words\n",
    "_wordcost = dict((k, log((i+1)*log(len(words)))) for i,k in enumerate(words))\n",
    "_maxword = max(len(x) for x in words)\n",
    "_SPLIT_RE = re.compile(\"[^a-zA-Z0-9]+\")\n",
    "\n",
    "def split(s):\n",
    "  \"\"\"Uses dynamic programming to infer the location of spaces in a string without spaces.\"\"\"\n",
    "  l = [_split(x) for x in _SPLIT_RE.split(s)]\n",
    "  return [item for sublist in l for item in sublist]\n",
    "\n",
    "def _split(s):\n",
    "    # Find the best match for the i first characters, assuming cost has\n",
    "    # been built for the i-1 first characters.\n",
    "    # Returns a pair (match_cost, match_length).\n",
    "    def best_match(i):\n",
    "        candidates = enumerate(reversed(cost[max(0, i-_maxword):i]))\n",
    "        return min((c + _wordcost.get(s[i-k-1:i], 9e999), k+1) for k,c in candidates)\n",
    "\n",
    "    # Build the cost array.\n",
    "    cost = [0]\n",
    "    for i in range(1,len(s)+1):\n",
    "        c,k = best_match(i)\n",
    "        cost.append(c)\n",
    "\n",
    "    # Backtrack to recover the minimal-cost string.\n",
    "    out = []\n",
    "    i = len(s)\n",
    "    while i>0:\n",
    "        c,k = best_match(i)\n",
    "        assert c == cost[i]\n",
    "        out.append(s[i-k:i])\n",
    "        i -= k\n",
    "\n",
    "    return reversed(out)"
   ]
  },
  {
   "cell_type": "code",
   "execution_count": 40,
   "metadata": {},
   "outputs": [
    {
     "data": {
      "text/plain": [
       "['ipv5teighto', \"'\", 'clockonThursday', 'ipv4', 'morning']"
      ]
     },
     "execution_count": 40,
     "metadata": {},
     "output_type": "execute_result"
    }
   ],
   "source": [
    "import jieba\n",
    "jieba.add_word(\"ipv4\")\n",
    "list(jieba.cut(\"ipv5teighto'clockonThursdayipv4morning\"))"
   ]
  },
  {
   "cell_type": "code",
   "execution_count": 36,
   "metadata": {},
   "outputs": [
    {
     "data": {
      "text/plain": [
       "['ipv',\n",
       " '5',\n",
       " 't',\n",
       " 'e',\n",
       " 'i',\n",
       " 'g',\n",
       " 'h',\n",
       " 't',\n",
       " 'o',\n",
       " 'clock',\n",
       " 'on',\n",
       " 'thursday',\n",
       " 'ipv4',\n",
       " 'morning']"
      ]
     },
     "execution_count": 36,
     "metadata": {},
     "output_type": "execute_result"
    }
   ],
   "source": [
    "import wordninja\n",
    "from math import log\n",
    "\n",
    "sentence = \"ipv5teighto'clockonThursdayipv4morning\"\n",
    "split(sentence.lower())"
   ]
  }
 ],
 "metadata": {
  "kernelspec": {
   "display_name": "Python 3",
   "language": "python",
   "name": "python3"
  },
  "language_info": {
   "codemirror_mode": {
    "name": "ipython",
    "version": 3
   },
   "file_extension": ".py",
   "mimetype": "text/x-python",
   "name": "python",
   "nbconvert_exporter": "python",
   "pygments_lexer": "ipython3",
   "version": "3.6.4"
  },
  "toc": {
   "nav_menu": {},
   "number_sections": true,
   "sideBar": true,
   "skip_h1_title": true,
   "toc_cell": true,
   "toc_position": {
    "height": "964px",
    "left": "0px",
    "right": "1689px",
    "top": "50px",
    "width": "231px"
   },
   "toc_section_display": "block",
   "toc_window_display": true
  }
 },
 "nbformat": 4,
 "nbformat_minor": 2
}
