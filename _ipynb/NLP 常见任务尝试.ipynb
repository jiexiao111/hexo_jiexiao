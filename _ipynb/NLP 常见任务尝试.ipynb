{
 "cells": [
  {
   "cell_type": "markdown",
   "metadata": {
    "toc": true
   },
   "source": [
    "<h1>Table of Contents<span class=\"tocSkip\"></span></h1>\n",
    "<div class=\"toc\" style=\"margin-top: 1em;\"><ul class=\"toc-item\"><li><span><a href=\"#分词\" data-toc-modified-id=\"分词-1\"><span class=\"toc-item-num\">1&nbsp;&nbsp;</span>分词</a></span><ul class=\"toc-item\"><li><span><a href=\"#jieba加载多个词典\" data-toc-modified-id=\"jieba加载多个词典-1.1\"><span class=\"toc-item-num\">1.1&nbsp;&nbsp;</span>jieba加载多个词典</a></span></li></ul></li></ul></div>"
   ]
  },
  {
   "cell_type": "markdown",
   "metadata": {},
   "source": [
    "## 分词"
   ]
  },
  {
   "cell_type": "markdown",
   "metadata": {},
   "source": [
    "### jieba加载多个词典"
   ]
  },
  {
   "cell_type": "code",
   "execution_count": 1,
   "metadata": {},
   "outputs": [],
   "source": [
    "import jieba"
   ]
  },
  {
   "cell_type": "code",
   "execution_count": 2,
   "metadata": {},
   "outputs": [
    {
     "name": "stdout",
     "output_type": "stream",
     "text": [
      "ipv5\n",
      "clock\n",
      "Thursday\n",
      "morning\n"
     ]
    }
   ],
   "source": [
    "# prepare dict1.txt dict2.txt\n",
    "dict_path_1 = \"/tmp/dict_1.txt\"\n",
    "dict_path_2 = \"/tmp/dict_2.txt\"\n",
    "!echo \"ipv5\\nclock\" > {dict_path_1}\n",
    "!echo \"Thursday\\nmorning\" > {dict_path_2}\n",
    "!cat {dict_path_1}\n",
    "!cat {dict_path_2}\n",
    "input_str = \"ipv5teighto'clockonThursdayipv4morningtestjie\""
   ]
  },
  {
   "cell_type": "code",
   "execution_count": 3,
   "metadata": {},
   "outputs": [
    {
     "name": "stderr",
     "output_type": "stream",
     "text": [
      "Building prefix dict from the default dictionary ...\n",
      "Loading model from cache /tmp/jieba.cache\n",
      "Loading model cost 1.243 seconds.\n",
      "Prefix dict has been built succesfully.\n"
     ]
    },
    {
     "data": {
      "text/plain": [
       "['ipv5teighto', \"'\", 'clockonThursdayipv4morningtestjie']"
      ]
     },
     "execution_count": 3,
     "metadata": {},
     "output_type": "execute_result"
    }
   ],
   "source": [
    "list(jieba.cut(input_str))"
   ]
  },
  {
   "cell_type": "code",
   "execution_count": 4,
   "metadata": {},
   "outputs": [
    {
     "data": {
      "text/plain": [
       "['ipv5teighto', \"'\", 'clockonThursdayipv4morningtest', 'jie']"
      ]
     },
     "execution_count": 4,
     "metadata": {},
     "output_type": "execute_result"
    }
   ],
   "source": [
    "jieba.add_word(\"jie\")\n",
    "list(jieba.cut(input_str))"
   ]
  },
  {
   "cell_type": "code",
   "execution_count": 5,
   "metadata": {},
   "outputs": [
    {
     "data": {
      "text/plain": [
       "['ipv5', 'teighto', \"'\", 'clock', 'onThursdayipv4morningtest', 'jie']"
      ]
     },
     "execution_count": 5,
     "metadata": {},
     "output_type": "execute_result"
    }
   ],
   "source": [
    "jieba.load_userdict(dict_path_1)\n",
    "list(jieba.cut(input_str))"
   ]
  },
  {
   "cell_type": "code",
   "execution_count": 6,
   "metadata": {},
   "outputs": [
    {
     "data": {
      "text/plain": [
       "['ipv5',\n",
       " 'teighto',\n",
       " \"'\",\n",
       " 'clock',\n",
       " 'on',\n",
       " 'Thursday',\n",
       " 'ipv4',\n",
       " 'morning',\n",
       " 'test',\n",
       " 'jie']"
      ]
     },
     "execution_count": 6,
     "metadata": {},
     "output_type": "execute_result"
    }
   ],
   "source": [
    "jieba.load_userdict(dict_path_2)\n",
    "list(jieba.cut(input_str))"
   ]
  }
 ],
 "metadata": {
  "kernelspec": {
   "display_name": "Python 3",
   "language": "python",
   "name": "python3"
  },
  "language_info": {
   "codemirror_mode": {
    "name": "ipython",
    "version": 3
   },
   "file_extension": ".py",
   "mimetype": "text/x-python",
   "name": "python",
   "nbconvert_exporter": "python",
   "pygments_lexer": "ipython3",
   "version": "3.6.4"
  },
  "toc": {
   "nav_menu": {},
   "number_sections": true,
   "sideBar": true,
   "skip_h1_title": true,
   "toc_cell": true,
   "toc_position": {
    "height": "964px",
    "left": "0px",
    "right": "1689px",
    "top": "50px",
    "width": "231px"
   },
   "toc_section_display": "block",
   "toc_window_display": true
  }
 },
 "nbformat": 4,
 "nbformat_minor": 2
}
