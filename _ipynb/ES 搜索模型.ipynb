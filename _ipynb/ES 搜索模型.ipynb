{
 "cells": [
  {
   "cell_type": "markdown",
   "metadata": {
    "toc": true
   },
   "source": [
    "<h1>Table of Contents<span class=\"tocSkip\"></span></h1>\n",
    "<div class=\"toc\" style=\"margin-top: 1em;\"><ul class=\"toc-item\"><li><span><a href=\"#Setup\" data-toc-modified-id=\"Setup-1\"><span class=\"toc-item-num\">1&nbsp;&nbsp;</span>Setup</a></span></li><li><span><a href=\"#数据准备\" data-toc-modified-id=\"数据准备-2\"><span class=\"toc-item-num\">2&nbsp;&nbsp;</span>数据准备</a></span></li><li><span><a href=\"#创建表项\" data-toc-modified-id=\"创建表项-3\"><span class=\"toc-item-num\">3&nbsp;&nbsp;</span>创建表项</a></span></li><li><span><a href=\"#查看配置\" data-toc-modified-id=\"查看配置-4\"><span class=\"toc-item-num\">4&nbsp;&nbsp;</span>查看配置</a></span></li><li><span><a href=\"#搜索\" data-toc-modified-id=\"搜索-5\"><span class=\"toc-item-num\">5&nbsp;&nbsp;</span>搜索</a></span></li><li><span><a href=\"#近义词模型\" data-toc-modified-id=\"近义词模型-6\"><span class=\"toc-item-num\">6&nbsp;&nbsp;</span>近义词模型</a></span></li><li><span><a href=\"#结合近义词搜索\" data-toc-modified-id=\"结合近义词搜索-7\"><span class=\"toc-item-num\">7&nbsp;&nbsp;</span>结合近义词搜索</a></span><ul class=\"toc-item\"><li><span><a href=\"#测试\" data-toc-modified-id=\"测试-7.1\"><span class=\"toc-item-num\">7.1&nbsp;&nbsp;</span>测试</a></span></li><li><span><a href=\"#实现\" data-toc-modified-id=\"实现-7.2\"><span class=\"toc-item-num\">7.2&nbsp;&nbsp;</span>实现</a></span></li></ul></li></ul></div>"
   ]
  },
  {
   "cell_type": "markdown",
   "metadata": {},
   "source": [
    "## Setup"
   ]
  },
  {
   "cell_type": "code",
   "execution_count": 79,
   "metadata": {
    "collapsed": true
   },
   "outputs": [],
   "source": [
    "from elasticsearch import Elasticsearch\n",
    "from elasticsearch import helpers\n",
    "from datetime import datetime\n",
    "import pprint\n",
    "import gensim"
   ]
  },
  {
   "cell_type": "code",
   "execution_count": 3,
   "metadata": {
    "collapsed": true
   },
   "outputs": [],
   "source": [
    "es = Elasticsearch()"
   ]
  },
  {
   "cell_type": "markdown",
   "metadata": {},
   "source": [
    "## 数据准备"
   ]
  },
  {
   "cell_type": "code",
   "execution_count": 74,
   "metadata": {},
   "outputs": [
    {
     "name": "stdout",
     "output_type": "stream",
     "text": [
      "CAT统计\r\n",
      "获取上下行绑定的信道\r\n",
      "RCC模板配置与配置检查\r\n",
      "attenuation&equalizer\r\n",
      "通话结束后准入带宽占用查询\r\n",
      "*Node_cb068\r\n",
      "配置BPI+认证白名单\r\n",
      "防MAC欺骗验证:env_init(),execute(),check(),test_destory(),OWFunc\r\n",
      "配置证书管理状态:OWFunc;env_init();execute();check();test_destory()\r\n",
      "查询CM版本信息\r\n"
     ]
    }
   ],
   "source": [
    "!head /tmp/model_name.txt"
   ]
  },
  {
   "cell_type": "markdown",
   "metadata": {},
   "source": [
    "## 创建表项"
   ]
  },
  {
   "cell_type": "code",
   "execution_count": 55,
   "metadata": {
    "collapsed": true
   },
   "outputs": [],
   "source": [
    "test_score_index = \"modle_index\"\n",
    "type_name = \"my_type\"\n",
    "field_name = \"content\""
   ]
  },
  {
   "cell_type": "code",
   "execution_count": 127,
   "metadata": {
    "collapsed": true
   },
   "outputs": [],
   "source": [
    "my_data_settting = {\n",
    "    \"mappings\": {\n",
    "        type_name: {\n",
    "            \"properties\": {\n",
    "                field_name: {\n",
    "                    \"type\": \"text\",\n",
    "                    \"analyzer\": \"ik_max_word\",\n",
    "                    \"search_analyzer\": \"ik_smart\"\n",
    "                }\n",
    "            }\n",
    "        }\n",
    "    }\n",
    "}"
   ]
  },
  {
   "cell_type": "code",
   "execution_count": 128,
   "metadata": {},
   "outputs": [
    {
     "data": {
      "text/plain": [
       "{'acknowledged': True}"
      ]
     },
     "execution_count": 128,
     "metadata": {},
     "output_type": "execute_result"
    },
    {
     "data": {
      "text/plain": [
       "{'acknowledged': True, 'index': 'modle_index', 'shards_acknowledged': True}"
      ]
     },
     "execution_count": 128,
     "metadata": {},
     "output_type": "execute_result"
    }
   ],
   "source": [
    "es.indices.delete(index=test_score_index)\n",
    "es.indices.create(index=test_score_index, body=my_data_settting)"
   ]
  },
  {
   "cell_type": "code",
   "execution_count": 129,
   "metadata": {
    "collapsed": true
   },
   "outputs": [],
   "source": [
    "def decode_nginx_log(data_iter):\n",
    "    for idx, row in enumerate(data_iter):\n",
    "        # Filter out the below from each log line\n",
    "        # id_label = row\n",
    "        # cmd_format_t = str(row['cmd_format_t'])\n",
    "\n",
    "        # Index for elasticsearch. Typically timestamp.\n",
    "        # idx = ...\n",
    "\n",
    "        es_fields_keys = (field_name,)\n",
    "        es_fields_vals = (row,)\n",
    "\n",
    "        # We return a dict holding values from each line\n",
    "        es_nginx_d = dict(zip(es_fields_keys, es_fields_vals))\n",
    "\n",
    "        # Return the row on each iteration\n",
    "        yield idx, es_nginx_d   # <- Note the usage of 'yield'\n",
    "\n",
    "def es_add_bulk():\n",
    "    with open(\"/tmp/model_name.txt\", \"r\") as f:\n",
    "        data_iter = f.readlines()\n",
    "        data_iter = [x.strip() for x in data_iter]\n",
    "\n",
    "    # NOTE the (...) round brackets. This is for a generator.\n",
    "    k = ({\n",
    "            \"_index\": test_score_index,\n",
    "            \"_type\" : type_name,\n",
    "            \"_id\"   : idx,\n",
    "            \"_source\": es_nginx_d,\n",
    "         } for idx, es_nginx_d in decode_nginx_log(data_iter))\n",
    "\n",
    "    helpers.bulk(es, k)\n",
    "\n",
    "# Now, just run it.\n",
    "es_add_bulk()"
   ]
  },
  {
   "cell_type": "markdown",
   "metadata": {},
   "source": [
    "## 查看配置"
   ]
  },
  {
   "cell_type": "code",
   "execution_count": 130,
   "metadata": {},
   "outputs": [
    {
     "name": "stdout",
     "output_type": "stream",
     "text": [
      "{'modle_index': {'mappings': {'my_type': {'properties': {'content': {'analyzer': 'ik_max_word',\n",
      "                                                                     'search_analyzer': 'ik_smart',\n",
      "                                                                     'type': 'text'}}}}}}\n",
      "{'modle_index': {'settings': {'index': {'creation_date': '1525338542356',\n",
      "                                        'number_of_replicas': '1',\n",
      "                                        'number_of_shards': '5',\n",
      "                                        'provided_name': 'modle_index',\n",
      "                                        'uuid': 'c2GQxIJnQue2Rowzos_kdA',\n",
      "                                        'version': {'created': '6020399'}}}}}\n"
     ]
    }
   ],
   "source": [
    "pprint.pprint(es.indices.get_mapping(index=test_score_index))\n",
    "pprint.pprint(es.indices.get_settings(index=test_score_index))"
   ]
  },
  {
   "cell_type": "code",
   "execution_count": 131,
   "metadata": {},
   "outputs": [
    {
     "data": {
      "text/plain": [
       "{'_shards': {'failed': 0, 'skipped': 0, 'successful': 5, 'total': 5},\n",
       " 'hits': {'hits': [{'_id': '0',\n",
       "    '_index': 'modle_index',\n",
       "    '_score': 1.0,\n",
       "    '_source': {'content': 'CAT统计'},\n",
       "    '_type': 'my_type'},\n",
       "   {'_id': '14',\n",
       "    '_index': 'modle_index',\n",
       "    '_score': 1.0,\n",
       "    '_source': {'content': '配置EQAM信道模板'},\n",
       "    '_type': 'my_type'},\n",
       "   {'_id': '19',\n",
       "    '_index': 'modle_index',\n",
       "    '_score': 1.0,\n",
       "    '_source': {'content': '配置上行信道绑定的频谱管理策略组'},\n",
       "    '_type': 'my_type'},\n",
       "   {'_id': '22',\n",
       "    '_index': 'modle_index',\n",
       "    '_score': 1.0,\n",
       "    '_source': {'content': '配置RX光机的光路AGC增益控制范围'},\n",
       "    '_type': 'my_type'},\n",
       "   {'_id': '24',\n",
       "    '_index': 'modle_index',\n",
       "    '_score': 1.0,\n",
       "    '_source': {'content': '清除准入控制统计'},\n",
       "    '_type': 'my_type'},\n",
       "   {'_id': '25',\n",
       "    '_index': 'modle_index',\n",
       "    '_score': 1.0,\n",
       "    '_source': {'content': 'CM-REG-STATUS模板'},\n",
       "    '_type': 'my_type'},\n",
       "   {'_id': '26',\n",
       "    '_index': 'modle_index',\n",
       "    '_score': 1.0,\n",
       "    '_source': {'content': '配置负载均衡策略'},\n",
       "    '_type': 'my_type'},\n",
       "   {'_id': '29',\n",
       "    '_index': 'modle_index',\n",
       "    '_score': 1.0,\n",
       "    '_source': {'content': '下行通用modem负载均衡状态检查'},\n",
       "    '_type': 'my_type'},\n",
       "   {'_id': '40',\n",
       "    '_index': 'modle_index',\n",
       "    '_score': 1.0,\n",
       "    '_source': {'content': '基于any映射'},\n",
       "    '_type': 'my_type'},\n",
       "   {'_id': '41',\n",
       "    '_index': 'modle_index',\n",
       "    '_score': 1.0,\n",
       "    '_source': {'content': 'default QGC,single模式'},\n",
       "    '_type': 'my_type'}],\n",
       "  'max_score': 1.0,\n",
       "  'total': 808},\n",
       " 'timed_out': False,\n",
       " 'took': 4}"
      ]
     },
     "execution_count": 131,
     "metadata": {},
     "output_type": "execute_result"
    }
   ],
   "source": [
    "es.search(index=test_score_index, body={\"query\": {\"match_all\": {}}})"
   ]
  },
  {
   "cell_type": "markdown",
   "metadata": {},
   "source": [
    "## 搜索"
   ]
  },
  {
   "cell_type": "code",
   "execution_count": 132,
   "metadata": {},
   "outputs": [
    {
     "data": {
      "text/plain": [
       "{'_shards': {'failed': 0, 'skipped': 0, 'successful': 5, 'total': 5},\n",
       " 'hits': {'hits': [{'_id': '37',\n",
       "    '_index': 'modle_index',\n",
       "    '_score': 4.8841333,\n",
       "    '_source': {'content': '获取动态流sfid信息'},\n",
       "    '_type': 'my_type',\n",
       "    'highlight': {'content': ['获取动态流<em>sfid</em>信息']}},\n",
       "   {'_id': '620',\n",
       "    '_index': 'modle_index',\n",
       "    '_score': 2.126432,\n",
       "    '_source': {'content': '配置vlan'},\n",
       "    '_type': 'my_type',\n",
       "    'highlight': {'content': ['<em>配置</em>vlan']}},\n",
       "   {'_id': '2',\n",
       "    '_index': 'modle_index',\n",
       "    '_score': 2.1227982,\n",
       "    '_source': {'content': 'RCC模板配置与配置检查'},\n",
       "    '_type': 'my_type',\n",
       "    'highlight': {'content': ['RCC模板<em>配置</em>与<em>配置</em>检查']}}],\n",
       "  'max_score': 4.8841333,\n",
       "  'total': 192},\n",
       " 'timed_out': False,\n",
       " 'took': 6}"
      ]
     },
     "execution_count": 132,
     "metadata": {},
     "output_type": "execute_result"
    }
   ],
   "source": [
    "es.search(index=test_score_index, explain = False,size=3, body={\n",
    "    \"query\": {\n",
    "        \"match\": {\n",
    "            field_name: {\n",
    "                \"query\": \"配置 sfid\"\n",
    "            }\n",
    "        }\n",
    "    },\n",
    "    \"highlight\": {\n",
    "        \"fields\" : {\n",
    "            field_name : {}\n",
    "        }\n",
    "    }\n",
    "})"
   ]
  },
  {
   "cell_type": "markdown",
   "metadata": {},
   "source": [
    "## 近义词模型"
   ]
  },
  {
   "cell_type": "code",
   "execution_count": 84,
   "metadata": {},
   "outputs": [
    {
     "name": "stderr",
     "output_type": "stream",
     "text": [
      "/root/anaconda3/lib/python3.6/site-packages/ipykernel_launcher.py:2: DeprecationWarning: Call to deprecated `most_similar` (Method will be removed in 4.0.0, use self.wv.most_similar() instead).\n",
      "  \n"
     ]
    }
   ],
   "source": [
    "bin_file = '/root/workspace/mount/code/gensim/med256_5.model.bin'\n",
    "word_vectors = gensim.models.Word2Vec.load(bin_file)"
   ]
  },
  {
   "cell_type": "code",
   "execution_count": 92,
   "metadata": {},
   "outputs": [
    {
     "data": {
      "text/plain": [
       "True"
      ]
     },
     "execution_count": 92,
     "metadata": {},
     "output_type": "execute_result"
    }
   ],
   "source": [
    "\"设置\" in word_vectors.wv.vocab"
   ]
  },
  {
   "cell_type": "code",
   "execution_count": 96,
   "metadata": {},
   "outputs": [
    {
     "data": {
      "text/plain": [
       "[('修改', 0.523277759552002),\n",
       " ('设定', 0.39470696449279785),\n",
       " ('配置', 0.37758272886276245),\n",
       " ('更改', 0.35820212960243225),\n",
       " ('指定', 0.3255549371242523),\n",
       " ('小时数', 0.30822598934173584),\n",
       " ('为', 0.30258968472480774),\n",
       " ('调整', 0.3020206093788147),\n",
       " ('取值', 0.2891148030757904),\n",
       " ('无穷大', 0.28566598892211914)]"
      ]
     },
     "execution_count": 96,
     "metadata": {},
     "output_type": "execute_result"
    }
   ],
   "source": [
    "word_vectors.wv.most_similar(\"设置\", topn=10)"
   ]
  },
  {
   "cell_type": "code",
   "execution_count": 99,
   "metadata": {},
   "outputs": [
    {
     "data": {
      "text/plain": [
       "['修改', '设定', '配置', '更改', '指定', '小时数', '调整', '取值', '无穷大']"
      ]
     },
     "execution_count": 99,
     "metadata": {},
     "output_type": "execute_result"
    }
   ],
   "source": [
    "[x[0] for x in word_vectors.wv.most_similar(\"设置\", topn=10) if len(x[0]) > 1]"
   ]
  },
  {
   "cell_type": "markdown",
   "metadata": {},
   "source": [
    "## 结合近义词搜索"
   ]
  },
  {
   "cell_type": "markdown",
   "metadata": {},
   "source": [
    "### 测试"
   ]
  },
  {
   "cell_type": "code",
   "execution_count": 136,
   "metadata": {},
   "outputs": [
    {
     "data": {
      "text/plain": [
       "{'_shards': {'failed': 0, 'skipped': 0, 'successful': 5, 'total': 5},\n",
       " 'hits': {'hits': [{'_id': '255',\n",
       "    '_index': 'modle_index',\n",
       "    '_score': 8.095947,\n",
       "    '_source': {'content': '严格组设置及验证'},\n",
       "    '_type': 'my_type',\n",
       "    'highlight': {'content': ['严格组<em>设置</em>及<em>验证</em>']}}],\n",
       "  'max_score': 8.095947,\n",
       "  'total': 17},\n",
       " 'timed_out': False,\n",
       " 'took': 2}"
      ]
     },
     "execution_count": 136,
     "metadata": {},
     "output_type": "execute_result"
    }
   ],
   "source": [
    "es.search(index=test_score_index, explain = False,size=1, body={\n",
    "    \"query\": {\n",
    "        \"match\": {\n",
    "            field_name: {\n",
    "                \"query\": \"设置  验证\"\n",
    "            }\n",
    "        }\n",
    "    },\n",
    "    \"highlight\": {\n",
    "        \"fields\" : {\n",
    "            field_name : {}\n",
    "        }\n",
    "    }\n",
    "})"
   ]
  },
  {
   "cell_type": "code",
   "execution_count": 135,
   "metadata": {},
   "outputs": [
    {
     "data": {
      "text/plain": [
       "{'_shards': {'failed': 0, 'skipped': 0, 'successful': 5, 'total': 5},\n",
       " 'hits': {'hits': [{'_id': '718',\n",
       "    '_index': 'modle_index',\n",
       "    '_score': 5.3301387,\n",
       "    '_source': {'content': 'NIT验证参数'},\n",
       "    '_type': 'my_type',\n",
       "    'highlight': {'content': ['NIT<em>验证</em>参数']}}],\n",
       "  'max_score': 5.3301387,\n",
       "  'total': 14},\n",
       " 'timed_out': False,\n",
       " 'took': 3}"
      ]
     },
     "execution_count": 135,
     "metadata": {},
     "output_type": "execute_result"
    }
   ],
   "source": [
    "es.search(index=test_score_index, explain = False,size=1, body={\n",
    "    \"query\": {\n",
    "        \"match\": {\n",
    "            field_name: {\n",
    "                \"query\": \"设定  验证\"\n",
    "            }\n",
    "        }\n",
    "    },\n",
    "    \"highlight\": {\n",
    "        \"fields\" : {\n",
    "            field_name : {}\n",
    "        }\n",
    "    }\n",
    "})"
   ]
  },
  {
   "cell_type": "code",
   "execution_count": 137,
   "metadata": {},
   "outputs": [
    {
     "data": {
      "text/plain": [
       "'测试 上网 正常 定量 状态刷新 ipsubnet-vlan 检查 svrp 可靠性测试 正确处理'"
      ]
     },
     "execution_count": 137,
     "metadata": {},
     "output_type": "execute_result"
    },
    {
     "data": {
      "text/plain": [
       "'设置 aucmodifyfldlist 报文大小 接近 -tc 值未 _NUM_pps 文件大小 绝对 温度'"
      ]
     },
     "execution_count": 137,
     "metadata": {},
     "output_type": "execute_result"
    }
   ],
   "source": [
    "' '.join([x[0] for x in word_vectors.wv.most_similar(\"验证\", topn=10) if len(x[0]) > 1])\n",
    "' '.join([x[0] for x in word_vectors.wv.most_similar(\"设定\", topn=10) if len(x[0]) > 1])"
   ]
  },
  {
   "cell_type": "code",
   "execution_count": 134,
   "metadata": {},
   "outputs": [
    {
     "data": {
      "text/plain": [
       "{'_shards': {'failed': 0, 'skipped': 0, 'successful': 5, 'total': 5},\n",
       " 'hits': {'hits': [{'_id': '255',\n",
       "    '_index': 'modle_index',\n",
       "    '_score': 11.838544,\n",
       "    '_source': {'content': '严格组设置及验证'},\n",
       "    '_type': 'my_type',\n",
       "    'highlight': {'content': ['严格组<em>设置</em>及<em>验证</em>']}}],\n",
       "  'max_score': 11.838544,\n",
       "  'total': 98},\n",
       " 'timed_out': False,\n",
       " 'took': 9}"
      ]
     },
     "execution_count": 134,
     "metadata": {},
     "output_type": "execute_result"
    }
   ],
   "source": [
    "es.search(index=test_score_index, explain = False,size=1, body={\n",
    "    \"query\": {\n",
    "        \"bool\": {\n",
    "            \"should\": [\n",
    "                {\"match\": { field_name: {\"query\": \"设定  验证\", \"boost\": 2}}},\n",
    "                {\"match\": { field_name: \"设置 aucmodifyfldlist 报文大小 接近 -tc 值未 _NUM_pps 文件大小 绝对 温度 测试 上网 正常 定量 状态刷新 ipsubnet-vlan 检查 svrp 可靠性测试 正确处理\"}},\n",
    "            ]\n",
    "        }\n",
    "    },\n",
    "    \"highlight\": {\n",
    "        \"fields\" : {\n",
    "            field_name : {}\n",
    "        }\n",
    "    }\n",
    "})"
   ]
  },
  {
   "cell_type": "markdown",
   "metadata": {},
   "source": [
    "### 实现"
   ]
  },
  {
   "cell_type": "code",
   "execution_count": 139,
   "metadata": {
    "collapsed": true
   },
   "outputs": [],
   "source": [
    "input_str_a = \"设定验证\"\n",
    "input_str_b = \"设置验证\""
   ]
  },
  {
   "cell_type": "code",
   "execution_count": 166,
   "metadata": {
    "collapsed": true
   },
   "outputs": [],
   "source": [
    "def analyze_with_ik(i_str):\n",
    "    ik_analyze = es.indices.analyze(body={\"text\": i_str, \"analyzer\": \"ik_smart\"})\n",
    "    return [x['token'] for x in ik_analyze['tokens']]"
   ]
  },
  {
   "cell_type": "code",
   "execution_count": 168,
   "metadata": {},
   "outputs": [
    {
     "data": {
      "text/plain": [
       "['设定', '验证']"
      ]
     },
     "execution_count": 168,
     "metadata": {},
     "output_type": "execute_result"
    },
    {
     "data": {
      "text/plain": [
       "['设置', '验证']"
      ]
     },
     "execution_count": 168,
     "metadata": {},
     "output_type": "execute_result"
    }
   ],
   "source": [
    "analyze_with_ik(input_str_a)\n",
    "analyze_with_ik(input_str_b)"
   ]
  },
  {
   "cell_type": "code",
   "execution_count": 169,
   "metadata": {
    "collapsed": true
   },
   "outputs": [],
   "source": [
    "def get_similar_word(i_list):\n",
    "    ret_list = []\n",
    "    for v in i_list:\n",
    "        ret_list.extend([x[0] for x in word_vectors.wv.most_similar(v, topn=10) if len(x[0]) > 1])\n",
    "    return ret_list"
   ]
  },
  {
   "cell_type": "code",
   "execution_count": 179,
   "metadata": {
    "collapsed": true
   },
   "outputs": [],
   "source": [
    "def get_similar_search_wrod(i_str):\n",
    "    analyze_list = analyze_with_ik(i_str)\n",
    "    similar_list = get_similar_word(analyze_list)\n",
    "    analyze_similar_list = analyze_with_ik(' '.join(similar_list))\n",
    "    return set(similar_list) & set(analyze_similar_list)"
   ]
  },
  {
   "cell_type": "code",
   "execution_count": 182,
   "metadata": {},
   "outputs": [
    {
     "data": {
      "text/plain": [
       "{'aucmodifyfldlist',\n",
       " 'ipsubnet-vlan',\n",
       " 'svrp',\n",
       " '上网',\n",
       " '定量',\n",
       " '接近',\n",
       " '文件大小',\n",
       " '检查',\n",
       " '正常',\n",
       " '正确处理',\n",
       " '测试',\n",
       " '温度',\n",
       " '绝对',\n",
       " '设置'}"
      ]
     },
     "execution_count": 182,
     "metadata": {},
     "output_type": "execute_result"
    }
   ],
   "source": [
    "get_similar_search_wrod(input_str_a)"
   ]
  },
  {
   "cell_type": "code",
   "execution_count": 188,
   "metadata": {},
   "outputs": [],
   "source": [
    "def search_api(i_str):   \n",
    "    ret = es.search(index=test_score_index, explain = False,size=1, body={\n",
    "        \"query\": {\n",
    "            \"bool\": {\n",
    "                \"should\": [\n",
    "                    {\"match\": { field_name: {\"query\": i_str, \"boost\": 2}}},\n",
    "                    {\"match\": { field_name: ' '.join(get_similar_search_wrod(i_str))}},\n",
    "                ]\n",
    "            }\n",
    "        },\n",
    "        \"highlight\": {\n",
    "            \"fields\" : {\n",
    "                field_name : {}\n",
    "            }\n",
    "        }\n",
    "    })\n",
    "    return ret"
   ]
  },
  {
   "cell_type": "code",
   "execution_count": 189,
   "metadata": {},
   "outputs": [
    {
     "data": {
      "text/plain": [
       "{'_shards': {'failed': 0, 'skipped': 0, 'successful': 5, 'total': 5},\n",
       " 'hits': {'hits': [{'_id': '255',\n",
       "    '_index': 'modle_index',\n",
       "    '_score': 11.838544,\n",
       "    '_source': {'content': '严格组设置及验证'},\n",
       "    '_type': 'my_type',\n",
       "    'highlight': {'content': ['严格组<em>设置</em>及<em>验证</em>']}}],\n",
       "  'max_score': 11.838544,\n",
       "  'total': 68},\n",
       " 'timed_out': False,\n",
       " 'took': 13}"
      ]
     },
     "execution_count": 189,
     "metadata": {},
     "output_type": "execute_result"
    }
   ],
   "source": [
    "search_api(input_str_a)"
   ]
  },
  {
   "cell_type": "code",
   "execution_count": 190,
   "metadata": {},
   "outputs": [
    {
     "data": {
      "text/plain": [
       "{'_shards': {'failed': 0, 'skipped': 0, 'successful': 5, 'total': 5},\n",
       " 'hits': {'hits': [{'_id': '255',\n",
       "    '_index': 'modle_index',\n",
       "    '_score': 16.191895,\n",
       "    '_source': {'content': '严格组设置及验证'},\n",
       "    '_type': 'my_type',\n",
       "    'highlight': {'content': ['严格组<em>设置</em>及<em>验证</em>']}}],\n",
       "  'max_score': 16.191895,\n",
       "  'total': 264},\n",
       " 'timed_out': False,\n",
       " 'took': 5}"
      ]
     },
     "execution_count": 190,
     "metadata": {},
     "output_type": "execute_result"
    }
   ],
   "source": [
    "search_api(input_str_b)"
   ]
  }
 ],
 "metadata": {
  "kernelspec": {
   "display_name": "Python 3",
   "language": "python",
   "name": "python3"
  },
  "language_info": {
   "codemirror_mode": {
    "name": "ipython",
    "version": 3
   },
   "file_extension": ".py",
   "mimetype": "text/x-python",
   "name": "python",
   "nbconvert_exporter": "python",
   "pygments_lexer": "ipython3",
   "version": "3.6.4"
  },
  "toc": {
   "nav_menu": {},
   "number_sections": true,
   "sideBar": true,
   "skip_h1_title": true,
   "toc_cell": true,
   "toc_position": {},
   "toc_section_display": "block",
   "toc_window_display": true
  }
 },
 "nbformat": 4,
 "nbformat_minor": 2
}
