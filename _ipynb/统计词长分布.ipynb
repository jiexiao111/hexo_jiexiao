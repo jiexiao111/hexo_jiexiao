{
 "cells": [
  {
   "cell_type": "markdown",
   "metadata": {},
   "source": [
    "# 零散信息"
   ]
  },
  {
   "cell_type": "code",
   "execution_count": null,
   "metadata": {
    "collapsed": true
   },
   "outputs": [],
   "source": [
    "~/.oh-my-zsh/plugins/git 下的一些别名很适合学习git"
   ]
  },
  {
   "cell_type": "markdown",
   "metadata": {},
   "source": [
    "解决zsh和tmux 下, vim配置不一致\n",
    "编辑~/.zshrc:\n",
    "``alias tmux=\"TERM=screen-256color-bce tmux\"``\n",
    "编辑 ~/.tmux.conf:\n",
    "``set -g default-terminal \"xterm\"``\n",
    "参考 <https://stackoverflow.com/questions/10158508/lose-vim-colorscheme-in-tmux-mode>"
   ]
  },
  {
   "cell_type": "code",
   "execution_count": null,
   "metadata": {},
   "outputs": [],
   "source": [
    "import pandas as pd\n",
    "import numpy as np\n",
    "import matplotlib.pyplot as plt\n",
    "df = pd.DataFrame(np.random.randn(6,4), columns=list('ABCD'))\n",
    "tmp = df['A'].hist(bins=3, alpha=0.5)\n",
    "df['A']\n",
    "\n",
    "plt.show()"
   ]
  },
  {
   "cell_type": "code",
   "execution_count": null,
   "metadata": {},
   "outputs": [],
   "source": [
    "df = pd.read_excel('~/workspace/TestReviewBot/01_TestRviewBot_TensorFlow/04_Match_Case_Script/test/data/to_id_result.xlsx')\n",
    "tmp1 = df['Input_ID']"
   ]
  },
  {
   "cell_type": "code",
   "execution_count": null,
   "metadata": {},
   "outputs": [],
   "source": [
    "from pylab import *\n",
    "figure(figsize=(8,6), dpi=80)\n",
    "tmp1.apply(lambda x: len(str(x).split())).hist(bins=80, alpha=0.5, range=(2,40))\n",
    "tmp1.apply(lambda x: len(str(x).split())).value_counts()[:40].sum()\n",
    "tmp1.apply(lambda x: len(str(x).split())).value_counts().sum()\n",
    "plt.show()"
   ]
  },
  {
   "cell_type": "code",
   "execution_count": null,
   "metadata": {},
   "outputs": [],
   "source": [
    "df['Input_Count'] = tmp1.apply(lambda x: len(str(x).split()))\n",
    "df['Output_Count'] = df['Output_ID'].apply(lambda x: len(str(x).split()))\n",
    "df[(df.Input_Count > 1) & (df.Input_Count < 40)]['Output_Count'].hist(bins=80, alpha=0.5, range=(1,20))\n",
    "df[(df.Input_Count > 0) & (df.Input_Count < 40)]['Output_Count'].value_counts().sum()\n",
    "df[(df.Input_Count > 0) & (df.Input_Count < 40)]['Output_Count'].value_counts()[:20].sum()\n",
    "df['Output_Count'].value_counts().sum()\n",
    "plt.show()"
   ]
  }
 ],
 "metadata": {
  "kernelspec": {
   "display_name": "Python 3",
   "language": "python",
   "name": "python3"
  },
  "language_info": {
   "codemirror_mode": {
    "name": "ipython",
    "version": 3
   },
   "file_extension": ".py",
   "mimetype": "text/x-python",
   "name": "python",
   "nbconvert_exporter": "python",
   "pygments_lexer": "ipython3",
   "version": "3.6.1"
  }
 },
 "nbformat": 4,
 "nbformat_minor": 2
}
