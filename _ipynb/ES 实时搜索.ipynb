{
 "cells": [
  {
   "cell_type": "markdown",
   "metadata": {
    "toc": true
   },
   "source": [
    "<h1>Table of Contents<span class=\"tocSkip\"></span></h1>\n",
    "<div class=\"toc\" style=\"margin-top: 1em;\"><ul class=\"toc-item\"><li><span><a href=\"#Setup\" data-toc-modified-id=\"Setup-1\"><span class=\"toc-item-num\">1&nbsp;&nbsp;</span>Setup</a></span></li><li><span><a href=\"#查询时实时搜索\" data-toc-modified-id=\"查询时实时搜索-2\"><span class=\"toc-item-num\">2&nbsp;&nbsp;</span>查询时实时搜索</a></span><ul class=\"toc-item\"><li><span><a href=\"#数据准备\" data-toc-modified-id=\"数据准备-2.1\"><span class=\"toc-item-num\">2.1&nbsp;&nbsp;</span>数据准备</a></span></li><li><span><a href=\"#搜索\" data-toc-modified-id=\"搜索-2.2\"><span class=\"toc-item-num\">2.2&nbsp;&nbsp;</span>搜索</a></span></li></ul></li><li><span><a href=\"#索引时实时搜索\" data-toc-modified-id=\"索引时实时搜索-3\"><span class=\"toc-item-num\">3&nbsp;&nbsp;</span>索引时实时搜索</a></span><ul class=\"toc-item\"><li><span><a href=\"#创建数据表\" data-toc-modified-id=\"创建数据表-3.1\"><span class=\"toc-item-num\">3.1&nbsp;&nbsp;</span>创建数据表</a></span></li><li><span><a href=\"#检查设置\" data-toc-modified-id=\"检查设置-3.2\"><span class=\"toc-item-num\">3.2&nbsp;&nbsp;</span>检查设置</a></span></li><li><span><a href=\"#数据准备\" data-toc-modified-id=\"数据准备-3.3\"><span class=\"toc-item-num\">3.3&nbsp;&nbsp;</span>数据准备</a></span></li><li><span><a href=\"#搜索\" data-toc-modified-id=\"搜索-3.4\"><span class=\"toc-item-num\">3.4&nbsp;&nbsp;</span>搜索</a></span></li></ul></li></ul></div>"
   ]
  },
  {
   "cell_type": "markdown",
   "metadata": {},
   "source": [
    "## Setup"
   ]
  },
  {
   "cell_type": "code",
   "execution_count": 1,
   "metadata": {
    "collapsed": true
   },
   "outputs": [],
   "source": [
    "from elasticsearch import Elasticsearch\n",
    "from elasticsearch import helpers\n",
    "from datetime import datetime\n",
    "import pprint"
   ]
  },
  {
   "cell_type": "code",
   "execution_count": 2,
   "metadata": {
    "collapsed": true
   },
   "outputs": [],
   "source": [
    "es = Elasticsearch()"
   ]
  },
  {
   "cell_type": "markdown",
   "metadata": {},
   "source": [
    "## 查询时实时搜索"
   ]
  },
  {
   "cell_type": "markdown",
   "metadata": {},
   "source": [
    "### 数据准备"
   ]
  },
  {
   "cell_type": "code",
   "execution_count": 3,
   "metadata": {
    "collapsed": true
   },
   "outputs": [],
   "source": [
    "test_score_index = \"test-index-2\""
   ]
  },
  {
   "cell_type": "code",
   "execution_count": 4,
   "metadata": {},
   "outputs": [
    {
     "data": {
      "text/plain": [
       "(3, [])"
      ]
     },
     "execution_count": 4,
     "metadata": {},
     "output_type": "execute_result"
    }
   ],
   "source": [
    "doc1 = {\n",
    "    'cmd_format_t': 'This is a brown dog a b',\n",
    "}\n",
    "doc2 = {\n",
    "    'cmd_format_t': 'This is a brown dog a asf sdfsdf s sdfsdfsdfsf  sdf s s s s s',\n",
    "}\n",
    "doc3 = {\n",
    "    'cmd_format_t': 'This is a brown dog a b',\n",
    "} \n",
    "actions = [{ \"_index\": test_score_index, \"_type\": \"my_type\", \"_id\": idx, \"_source\": value} for idx, value in enumerate([doc1, doc2, doc3])]\n",
    "helpers.bulk(es, actions)  "
   ]
  },
  {
   "cell_type": "code",
   "execution_count": 5,
   "metadata": {},
   "outputs": [
    {
     "data": {
      "text/plain": [
       "{'_shards': {'failed': 0, 'skipped': 0, 'successful': 5, 'total': 5},\n",
       " 'hits': {'hits': [{'_id': '0',\n",
       "    '_index': 'test-index-2',\n",
       "    '_score': 1.0,\n",
       "    '_source': {'cmd_format_t': 'This is a brown dog a b'},\n",
       "    '_type': 'my_type'},\n",
       "   {'_id': '2',\n",
       "    '_index': 'test-index-2',\n",
       "    '_score': 1.0,\n",
       "    '_source': {'cmd_format_t': 'This is a brown dog a b'},\n",
       "    '_type': 'my_type'},\n",
       "   {'_id': '1',\n",
       "    '_index': 'test-index-2',\n",
       "    '_score': 1.0,\n",
       "    '_source': {'cmd_format_t': 'This is a brown dog a asf sdfsdf s sdfsdfsdfsf  sdf s s s s s'},\n",
       "    '_type': 'my_type'}],\n",
       "  'max_score': 1.0,\n",
       "  'total': 3},\n",
       " 'timed_out': False,\n",
       " 'took': 0}"
      ]
     },
     "execution_count": 5,
     "metadata": {},
     "output_type": "execute_result"
    }
   ],
   "source": [
    "es.search(index=test_score_index, body={\"query\": {\"match_all\": {}}})"
   ]
  },
  {
   "cell_type": "markdown",
   "metadata": {},
   "source": [
    "### 搜索"
   ]
  },
  {
   "cell_type": "markdown",
   "metadata": {},
   "source": [
    "搜索 \"is dog b\" 等价于搜索 \"is dog b*\""
   ]
  },
  {
   "cell_type": "code",
   "execution_count": 25,
   "metadata": {},
   "outputs": [
    {
     "data": {
      "text/plain": [
       "{'_shards': {'failed': 0, 'skipped': 0, 'successful': 5, 'total': 5},\n",
       " 'hits': {'hits': [{'_id': '0',\n",
       "    '_index': 'test-index-2',\n",
       "    '_score': 0.55034834,\n",
       "    '_source': {'cmd_format_t': 'This is a brown dog a b'},\n",
       "    '_type': 'my_type',\n",
       "    'highlight': {'cmd_format_t': ['This <em>is</em> a <em>brown</em> <em>dog</em> a b']}},\n",
       "   {'_id': '2',\n",
       "    '_index': 'test-index-2',\n",
       "    '_score': 0.55034834,\n",
       "    '_source': {'cmd_format_t': 'This is a brown dog a b'},\n",
       "    '_type': 'my_type',\n",
       "    'highlight': {'cmd_format_t': ['This <em>is</em> a <em>brown</em> <em>dog</em> a b']}},\n",
       "   {'_id': '1',\n",
       "    '_index': 'test-index-2',\n",
       "    '_score': 0.41276127,\n",
       "    '_source': {'cmd_format_t': 'This is a brown dog a asf sdfsdf s sdfsdfsdfsf  sdf s s s s s'},\n",
       "    '_type': 'my_type',\n",
       "    'highlight': {'cmd_format_t': ['This <em>is</em> a <em>brown</em> <em>dog</em> a asf sdfsdf s sdfsdfsdfsf  sdf s s s s s']}}],\n",
       "  'max_score': 0.55034834,\n",
       "  'total': 3},\n",
       " 'timed_out': False,\n",
       " 'took': 2}"
      ]
     },
     "execution_count": 25,
     "metadata": {},
     "output_type": "execute_result"
    }
   ],
   "source": [
    "es.search(index=test_score_index, explain=False, body={\n",
    "    \"query\": {\n",
    "        \"match_phrase_prefix\": {\n",
    "            \"cmd_format_t\": {\n",
    "                \"query\": \"is dog b\",\n",
    "                \"slop\": 30\n",
    "            }\n",
    "        }\n",
    "    },\n",
    "    \"highlight\": {\n",
    "        \"fields\" : {\n",
    "            \"cmd_format_t\" : {}\n",
    "        }\n",
    "    }\n",
    "})"
   ]
  },
  {
   "cell_type": "markdown",
   "metadata": {},
   "source": [
    "## 索引时实时搜索"
   ]
  },
  {
   "cell_type": "markdown",
   "metadata": {},
   "source": [
    "### 创建数据表"
   ]
  },
  {
   "cell_type": "code",
   "execution_count": 38,
   "metadata": {
    "collapsed": true
   },
   "outputs": [],
   "source": [
    "test_score_index_3 = \"test-index-3\""
   ]
  },
  {
   "cell_type": "code",
   "execution_count": 39,
   "metadata": {
    "collapsed": true
   },
   "outputs": [],
   "source": [
    "my_data_settting = {\n",
    "    \"settings\": {\n",
    "        \"number_of_shards\": 1,\n",
    "        \"analysis\": {\n",
    "            \"filter\": {\n",
    "                \"autocomplete_filter\": { \n",
    "                    \"type\": \"edge_ngram\",\n",
    "                    \"min_gram\": 1,\n",
    "                    \"max_gram\": 20\n",
    "                }\n",
    "            },\n",
    "            \"analyzer\": {\n",
    "                \"autocomplete\": {\n",
    "                    \"type\": \"custom\",\n",
    "                    \"tokenizer\": \"standard\",\n",
    "                    \"filter\": [\n",
    "                        \"lowercase\",\n",
    "                        \"autocomplete_filter\" \n",
    "                    ]\n",
    "                }\n",
    "            }\n",
    "        }\n",
    "    },\n",
    "    \"mappings\": {\n",
    "        \"my_type\": {\n",
    "            \"properties\": {\n",
    "                \"cmd_format_t\": {\n",
    "                    \"type\": \"text\",\n",
    "                    \"analyzer\": \"autocomplete\",\n",
    "                    \"search_analyzer\": \"standard\",\n",
    "                }\n",
    "            }\n",
    "        }\n",
    "    }\n",
    "}"
   ]
  },
  {
   "cell_type": "code",
   "execution_count": 41,
   "metadata": {},
   "outputs": [
    {
     "data": {
      "text/plain": [
       "{'acknowledged': True, 'index': 'test-index-3', 'shards_acknowledged': True}"
      ]
     },
     "execution_count": 41,
     "metadata": {},
     "output_type": "execute_result"
    }
   ],
   "source": [
    "#es.indices.delete(index=test_score_index_3)\n",
    "es.indices.create(index=test_score_index_3, body=my_data_settting)"
   ]
  },
  {
   "cell_type": "markdown",
   "metadata": {},
   "source": [
    "### 检查设置"
   ]
  },
  {
   "cell_type": "code",
   "execution_count": 42,
   "metadata": {},
   "outputs": [
    {
     "name": "stdout",
     "output_type": "stream",
     "text": [
      "{'test-index-3': {'settings': {'index': {'analysis': {'analyzer': {'autocomplete': {'filter': ['lowercase',\n",
      "                                                                                               'autocomplete_filter'],\n",
      "                                                                                    'tokenizer': 'standard',\n",
      "                                                                                    'type': 'custom'}},\n",
      "                                                      'filter': {'autocomplete_filter': {'max_gram': '20',\n",
      "                                                                                         'min_gram': '1',\n",
      "                                                                                         'type': 'edge_ngram'}}},\n",
      "                                         'creation_date': '1524801416578',\n",
      "                                         'number_of_replicas': '1',\n",
      "                                         'number_of_shards': '1',\n",
      "                                         'provided_name': 'test-index-3',\n",
      "                                         'uuid': 'di1yOmjeQt6vAVHB1pPyRA',\n",
      "                                         'version': {'created': '6020399'}}}}}\n",
      "{'test-index-3': {'mappings': {'my_type': {'properties': {'cmd_format_t': {'analyzer': 'autocomplete',\n",
      "                                                                           'search_analyzer': 'standard',\n",
      "                                                                           'type': 'text'}}}}}}\n"
     ]
    }
   ],
   "source": [
    "pprint.pprint(es.indices.get_settings(index=test_score_index_3))\n",
    "pprint.pprint(es.indices.get_mapping(index=test_score_index_3))"
   ]
  },
  {
   "cell_type": "code",
   "execution_count": 47,
   "metadata": {},
   "outputs": [
    {
     "data": {
      "text/plain": [
       "{'tokens': [{'end_offset': 4,\n",
       "   'position': 0,\n",
       "   'start_offset': 0,\n",
       "   'token': 'm',\n",
       "   'type': '<ALPHANUM>'},\n",
       "  {'end_offset': 4,\n",
       "   'position': 0,\n",
       "   'start_offset': 0,\n",
       "   'token': 'mp',\n",
       "   'type': '<ALPHANUM>'},\n",
       "  {'end_offset': 4,\n",
       "   'position': 0,\n",
       "   'start_offset': 0,\n",
       "   'token': 'mpl',\n",
       "   'type': '<ALPHANUM>'},\n",
       "  {'end_offset': 4,\n",
       "   'position': 0,\n",
       "   'start_offset': 0,\n",
       "   'token': 'mpls',\n",
       "   'type': '<ALPHANUM>'},\n",
       "  {'end_offset': 7,\n",
       "   'position': 1,\n",
       "   'start_offset': 5,\n",
       "   'token': 't',\n",
       "   'type': '<ALPHANUM>'},\n",
       "  {'end_offset': 7,\n",
       "   'position': 1,\n",
       "   'start_offset': 5,\n",
       "   'token': 'te',\n",
       "   'type': '<ALPHANUM>'}]}"
      ]
     },
     "execution_count": 47,
     "metadata": {},
     "output_type": "execute_result"
    }
   ],
   "source": [
    "es.indices.analyze(index=test_score_index_3, body={\"analyzer\": \"autocomplete\", \"text\": \"mpls-te\"})"
   ]
  },
  {
   "cell_type": "markdown",
   "metadata": {},
   "source": [
    "### 数据准备"
   ]
  },
  {
   "cell_type": "code",
   "execution_count": 48,
   "metadata": {},
   "outputs": [
    {
     "data": {
      "text/plain": [
       "(3, [])"
      ]
     },
     "execution_count": 48,
     "metadata": {},
     "output_type": "execute_result"
    }
   ],
   "source": [
    "doc1 = {\n",
    "    'cmd_format_t': 'Brown foxes',\n",
    "}\n",
    "doc2 = {\n",
    "    'cmd_format_t': 'Yellow furballs',\n",
    "}\n",
    "doc3 = {\n",
    "    'cmd_format_t': 'This is a brown dog a b',\n",
    "} \n",
    "actions = [{ \"_index\": test_score_index_3, \"_type\": \"my_type\", \"_id\": idx, \"_source\": value} for idx, value in enumerate([doc1, doc2, doc3])]\n",
    "helpers.bulk(es, actions)  "
   ]
  },
  {
   "cell_type": "markdown",
   "metadata": {},
   "source": [
    "### 搜索"
   ]
  },
  {
   "cell_type": "code",
   "execution_count": 53,
   "metadata": {},
   "outputs": [
    {
     "data": {
      "text/plain": [
       "{'_shards': {'failed': 0, 'skipped': 0, 'successful': 1, 'total': 1},\n",
       " 'hits': {'hits': [{'_id': '0',\n",
       "    '_index': 'test-index-3',\n",
       "    '_score': 2.2293887,\n",
       "    '_source': {'cmd_format_t': 'Brown foxes'},\n",
       "    '_type': 'my_type',\n",
       "    'highlight': {'cmd_format_t': ['<em>Brown</em> <em>foxes</em>']}},\n",
       "   {'_id': '2',\n",
       "    '_index': 'test-index-3',\n",
       "    '_score': 0.58717906,\n",
       "    '_source': {'cmd_format_t': 'This is a brown dog a b'},\n",
       "    '_type': 'my_type',\n",
       "    'highlight': {'cmd_format_t': ['This is a <em>brown</em> dog a b']}}],\n",
       "  'max_score': 2.2293887,\n",
       "  'total': 2},\n",
       " 'timed_out': False,\n",
       " 'took': 1}"
      ]
     },
     "execution_count": 53,
     "metadata": {},
     "output_type": "execute_result"
    }
   ],
   "source": [
    "es.search(index=test_score_index_3, explain=False, body={\n",
    "    \"query\": {\n",
    "        \"match\": {\n",
    "            \"cmd_format_t\": {\n",
    "                \"query\": \"brow fo\"\n",
    "            }\n",
    "        }\n",
    "    },\n",
    "    \"highlight\": {\n",
    "        \"fields\" : {\n",
    "            \"cmd_format_t\" : {}\n",
    "        }\n",
    "    }\n",
    "})"
   ]
  }
 ],
 "metadata": {
  "kernelspec": {
   "display_name": "Python 3",
   "language": "python",
   "name": "python3"
  },
  "language_info": {
   "codemirror_mode": {
    "name": "ipython",
    "version": 3
   },
   "file_extension": ".py",
   "mimetype": "text/x-python",
   "name": "python",
   "nbconvert_exporter": "python",
   "pygments_lexer": "ipython3",
   "version": "3.6.4"
  },
  "toc": {
   "nav_menu": {},
   "number_sections": true,
   "sideBar": true,
   "skip_h1_title": true,
   "toc_cell": true,
   "toc_position": {},
   "toc_section_display": "block",
   "toc_window_display": true
  }
 },
 "nbformat": 4,
 "nbformat_minor": 2
}
