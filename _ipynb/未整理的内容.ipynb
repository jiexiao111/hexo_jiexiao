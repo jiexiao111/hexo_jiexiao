{
 "cells": [
  {
   "cell_type": "markdown",
   "metadata": {},
   "source": [
    "# 零散信息"
   ]
  },
  {
   "cell_type": "code",
   "execution_count": null,
   "metadata": {
    "collapsed": true
   },
   "outputs": [],
   "source": [
    "~/.oh-my-zsh/plugins/git 下的一些别名很适合学习git"
   ]
  },
  {
   "cell_type": "markdown",
   "metadata": {},
   "source": [
    "解决zsh和tmux 下, vim配置不一致\n",
    "编辑~/.zshrc:\n",
    "``alias tmux=\"TERM=screen-256color-bce tmux\"``\n",
    "编辑 ~/.tmux.conf:\n",
    "``set -g default-terminal \"xterm\"``\n",
    "参考 <https://stackoverflow.com/questions/10158508/lose-vim-colorscheme-in-tmux-mode>"
   ]
  },
  {
   "cell_type": "markdown",
   "metadata": {},
   "source": [
    "Tmux Plugin Manager<https://github.com/tmux-plugins/tpm>\n",
    "状态栏<https://github.com/jimeh/tmux-themepack>"
   ]
  },
  {
   "cell_type": "markdown",
   "metadata": {},
   "source": [
    "合并git项目，目前为三个项目，通过以下方式合并为一个\n",
    "https://segmentfault.com/a/1190000000678808\n",
    "https://www.zhihu.com/question/28184359    "
   ]
  }
 ],
 "metadata": {
  "kernelspec": {
   "display_name": "Python 3",
   "language": "python",
   "name": "python3"
  },
  "language_info": {
   "codemirror_mode": {
    "name": "ipython",
    "version": 3
   },
   "file_extension": ".py",
   "mimetype": "text/x-python",
   "name": "python",
   "nbconvert_exporter": "python",
   "pygments_lexer": "ipython3",
   "version": "3.6.1"
  }
 },
 "nbformat": 4,
 "nbformat_minor": 2
}
