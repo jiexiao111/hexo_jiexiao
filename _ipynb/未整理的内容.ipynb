{
 "cells": [
  {
   "cell_type": "markdown",
   "metadata": {},
   "source": [
    "# 零散信息"
   ]
  },
  {
   "cell_type": "code",
   "execution_count": null,
   "metadata": {
    "collapsed": true
   },
   "outputs": [],
   "source": [
    "~/.oh-my-zsh/plugins/git 下的一些别名很适合学习git"
   ]
  },
  {
   "cell_type": "code",
   "execution_count": null,
   "metadata": {
    "collapsed": true
   },
   "outputs": [],
   "source": [
    "解决zsh和tmux 下, vim配置不一致\n",
    "编辑~/.zshrc:\n",
    "``alias tmux=\"TERM=screen-256color-bce tmux\"``\n",
    "编辑 ~/.tmux.conf:\n",
    "``set -g default-terminal \"xterm\"``\n",
    "参考 <https://stackoverflow.com/questions/10158508/lose-vim-colorscheme-in-tmux-mode>"
   ]
  },
  {
   "cell_type": "markdown",
   "metadata": {
    "collapsed": true
   },
   "source": [
    "* 点击Win+R键\n",
    "\n",
    "* 在输入框键入regedit，打开注册表\n",
    "\n",
    "* 进入HKEY_LOCAL_MACHINE -> System -> CurrentControlSet -> Control -> KeyBoard Layout。记住，一定是keyBoard Layout，而不是KeyBoard Layouts\n",
    "\n",
    "* 右键菜单，然后选择New -> Binary value\n",
    "\n",
    "* 重命名New Value #1 -> Scancode Map\n",
    "\n",
    "* 右键菜单Scancode Map -> Modify\n",
    "\n",
    "输入如下值，保存\n",
    "\n",
    "0000 00 00 00 00 00 00 00 00 \n",
    "0008 03 00 00 00 1D 00 3A 00 \n",
    "0010 3A 00 1D 00 00 00 00 00 \n",
    "0018"
   ]
  },
  {
   "cell_type": "markdown",
   "metadata": {},
   "source": [
    "* 选取苹果菜单 >“系统偏好设置”，然后点按“键盘”。\n",
    "\n",
    "* 点按“修饰键”按钮。\n",
    "\n",
    "* 从想要更改的修饰键旁边的弹出式菜单中选取一项操作，然后点按“好”。"
   ]
  }
 ],
 "metadata": {
  "kernelspec": {
   "display_name": "Python 3",
   "language": "python",
   "name": "python3"
  },
  "language_info": {
   "codemirror_mode": {
    "name": "ipython",
    "version": 3
   },
   "file_extension": ".py",
   "mimetype": "text/x-python",
   "name": "python",
   "nbconvert_exporter": "python",
   "pygments_lexer": "ipython3",
   "version": "3.6.1"
  }
 },
 "nbformat": 4,
 "nbformat_minor": 2
}
