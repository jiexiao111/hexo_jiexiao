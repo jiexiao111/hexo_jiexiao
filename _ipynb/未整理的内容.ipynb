{
 "cells": [
  {
   "cell_type": "code",
   "execution_count": 5,
   "metadata": {},
   "outputs": [
    {
     "name": "stdout",
     "output_type": "stream",
     "text": [
      "V800R005  V800R007  V800R009  V800R011\tV800R013     V800R016C00\r\n",
      "V800R006  V800R008  V800R010  V800R012\tV800R015C00  V800R018C00\r\n"
     ]
    }
   ],
   "source": [
    "!ls /root/workspace/IntelliTest/NOS/All/All/All/All/WORD/VRP/"
   ]
  }
 ],
 "metadata": {
  "kernelspec": {
   "display_name": "Python 3",
   "language": "python",
   "name": "python3"
  },
  "language_info": {
   "codemirror_mode": {
    "name": "ipython",
    "version": 2
   },
   "file_extension": ".py",
   "mimetype": "text/x-python",
   "name": "python",
   "nbconvert_exporter": "python",
   "pygments_lexer": "ipython2",
   "version": "2.7.13"
  }
 },
 "nbformat": 4,
 "nbformat_minor": 2
}
