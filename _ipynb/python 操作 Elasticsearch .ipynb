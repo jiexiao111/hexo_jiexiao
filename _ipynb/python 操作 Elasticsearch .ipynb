{
 "cells": [
  {
   "cell_type": "markdown",
   "metadata": {
    "toc": true
   },
   "source": [
    "<h1>Table of Contents<span class=\"tocSkip\"></span></h1>\n",
    "<div class=\"toc\" style=\"margin-top: 1em;\"><ul class=\"toc-item\"><li><span><a href=\"#连接-ES\" data-toc-modified-id=\"连接-ES-1\"><span class=\"toc-item-num\">1&nbsp;&nbsp;</span>连接 ES</a></span></li><li><span><a href=\"#插入数据\" data-toc-modified-id=\"插入数据-2\"><span class=\"toc-item-num\">2&nbsp;&nbsp;</span>插入数据</a></span></li><li><span><a href=\"#批量操作\" data-toc-modified-id=\"批量操作-3\"><span class=\"toc-item-num\">3&nbsp;&nbsp;</span>批量操作</a></span></li><li><span><a href=\"#查询数据\" data-toc-modified-id=\"查询数据-4\"><span class=\"toc-item-num\">4&nbsp;&nbsp;</span>查询数据</a></span></li><li><span><a href=\"#全文搜索\" data-toc-modified-id=\"全文搜索-5\"><span class=\"toc-item-num\">5&nbsp;&nbsp;</span>全文搜索</a></span></li><li><span><a href=\"#搜索词组\" data-toc-modified-id=\"搜索词组-6\"><span class=\"toc-item-num\">6&nbsp;&nbsp;</span>搜索词组</a></span></li><li><span><a href=\"#实战\" data-toc-modified-id=\"实战-7\"><span class=\"toc-item-num\">7&nbsp;&nbsp;</span>实战</a></span><ul class=\"toc-item\"><li><span><a href=\"#读取-json-文件，导入数据\" data-toc-modified-id=\"读取-json-文件，导入数据-7.1\"><span class=\"toc-item-num\">7.1&nbsp;&nbsp;</span>读取 json 文件，导入数据</a></span></li><li><span><a href=\"#调试函数\" data-toc-modified-id=\"调试函数-7.2\"><span class=\"toc-item-num\">7.2&nbsp;&nbsp;</span>调试函数</a></span></li><li><span><a href=\"#写入数据库\" data-toc-modified-id=\"写入数据库-7.3\"><span class=\"toc-item-num\">7.3&nbsp;&nbsp;</span>写入数据库</a></span></li><li><span><a href=\"#验证写入的数据\" data-toc-modified-id=\"验证写入的数据-7.4\"><span class=\"toc-item-num\">7.4&nbsp;&nbsp;</span>验证写入的数据</a></span></li></ul></li><li><span><a href=\"#尝试解析输入\" data-toc-modified-id=\"尝试解析输入-8\"><span class=\"toc-item-num\">8&nbsp;&nbsp;</span>尝试解析输入</a></span></li><li><span><a href=\"#尝试添加特殊符号\" data-toc-modified-id=\"尝试添加特殊符号-9\"><span class=\"toc-item-num\">9&nbsp;&nbsp;</span>尝试添加特殊符号</a></span></li><li><span><a href=\"#查询及变更设置\" data-toc-modified-id=\"查询及变更设置-10\"><span class=\"toc-item-num\">10&nbsp;&nbsp;</span>查询及变更设置</a></span></li></ul></div>"
   ]
  },
  {
   "cell_type": "markdown",
   "metadata": {},
   "source": [
    "参考资料"
   ]
  },
  {
   "cell_type": "markdown",
   "metadata": {},
   "source": [
    "* [es python api文档](http://elasticsearch-py.readthedocs.io/en/latest/)\n",
    "* [Elasticsearch: 权威指南](https://www.elastic.co/guide/cn/elasticsearch/guide/current/index.html)"
   ]
  },
  {
   "cell_type": "markdown",
   "metadata": {},
   "source": [
    "## 连接 ES"
   ]
  },
  {
   "cell_type": "code",
   "execution_count": 244,
   "metadata": {
    "collapsed": true
   },
   "outputs": [],
   "source": [
    "from elasticsearch import Elasticsearch\n",
    "from elasticsearch import helpers\n",
    "from datetime import datetime\n",
    "import pprint"
   ]
  },
  {
   "cell_type": "code",
   "execution_count": null,
   "metadata": {
    "collapsed": true
   },
   "outputs": [],
   "source": [
    "es = Elasticsearch()"
   ]
  },
  {
   "cell_type": "markdown",
   "metadata": {},
   "source": [
    "## 插入数据"
   ]
  },
  {
   "cell_type": "code",
   "execution_count": 24,
   "metadata": {},
   "outputs": [
    {
     "data": {
      "text/plain": [
       "{'_id': '1',\n",
       " '_index': 'test-index',\n",
       " '_primary_term': 1,\n",
       " '_seq_no': 2,\n",
       " '_shards': {'failed': 0, 'successful': 1, 'total': 2},\n",
       " '_type': 'tweet',\n",
       " '_version': 3,\n",
       " 'result': 'updated'}"
      ]
     },
     "execution_count": 24,
     "metadata": {},
     "output_type": "execute_result"
    }
   ],
   "source": [
    "doc = {\n",
    "    'author': 'kimchy',\n",
    "    'text': 'This is a brown fox',\n",
    "    'timestamp': datetime.now(),\n",
    "}\n",
    "es.index(index=\"test-index\", doc_type='tweet', id=1, body=doc)"
   ]
  },
  {
   "cell_type": "markdown",
   "metadata": {},
   "source": [
    "## 批量操作"
   ]
  },
  {
   "cell_type": "code",
   "execution_count": 25,
   "metadata": {},
   "outputs": [
    {
     "data": {
      "text/plain": [
       "(5, [])"
      ]
     },
     "execution_count": 25,
     "metadata": {},
     "output_type": "execute_result"
    }
   ],
   "source": [
    "doc2 = {\n",
    "    'author': 'jiexiao',\n",
    "    'text': 'This is a brown dog',\n",
    "    'timestamp': datetime.now(),\n",
    "}\n",
    "doc3 = {\n",
    "    'author': 'tangting',\n",
    "    'text': 'This dog is really brown',\n",
    "    'timestamp': datetime.now(),\n",
    "}\n",
    "doc4 = {\n",
    "    'author': 'tangting',\n",
    "    'text': 'The dog is brown but this document is very very long',\n",
    "    'timestamp': datetime.now(),\n",
    "}\n",
    "doc5 = {\n",
    "    'author': 'tangting',\n",
    "    'text': 'There is also a white cat',\n",
    "    'timestamp': datetime.now(),\n",
    "}\n",
    "doc6 = {\n",
    "    'author': 'tangting',\n",
    "    'text': 'The quick brown fox jumps over the lazy dog',\n",
    "    'timestamp': datetime.now(),\n",
    "}\n",
    "actions = (\n",
    "    { \"_index\": \"test-index\", \"_type\": \"tweet\", \"_id\": 2, \"_source\": doc2},\n",
    "    { \"_index\": \"test-index\", \"_type\": \"tweet\", \"_id\": 3, \"_source\": doc3},\n",
    "    { \"_index\": \"test-index\", \"_type\": \"tweet\", \"_id\": 4, \"_source\": doc4},\n",
    "    { \"_index\": \"test-index\", \"_type\": \"tweet\", \"_id\": 5, \"_source\": doc5},\n",
    "    { \"_index\": \"test-index\", \"_type\": \"tweet\", \"_id\": 6, \"_source\": doc6}\n",
    ")\n",
    "helpers.bulk(es, actions)  "
   ]
  },
  {
   "cell_type": "markdown",
   "metadata": {},
   "source": [
    "## 查询数据"
   ]
  },
  {
   "cell_type": "markdown",
   "metadata": {},
   "source": [
    "根据 ID 单条查询"
   ]
  },
  {
   "cell_type": "code",
   "execution_count": 8,
   "metadata": {},
   "outputs": [
    {
     "data": {
      "text/plain": [
       "{'_id': '1',\n",
       " '_index': 'test-index',\n",
       " '_source': {'author': 'kimchy',\n",
       "  'text': 'Elasticsearch: cool. bonsai cool.',\n",
       "  'timestamp': '2018-04-17T21:42:47.345907'},\n",
       " '_type': 'tweet',\n",
       " '_version': 2,\n",
       " 'found': True}"
      ]
     },
     "execution_count": 8,
     "metadata": {},
     "output_type": "execute_result"
    }
   ],
   "source": [
    "es.get(index=\"test-index\", doc_type='tweet', id=1)"
   ]
  },
  {
   "cell_type": "code",
   "execution_count": 27,
   "metadata": {},
   "outputs": [
    {
     "data": {
      "text/plain": [
       "{'_shards': {'failed': 0, 'successful': 5, 'total': 10}}"
      ]
     },
     "execution_count": 27,
     "metadata": {},
     "output_type": "execute_result"
    }
   ],
   "source": [
    "es.indices.refresh(index=\"test-index\")"
   ]
  },
  {
   "cell_type": "markdown",
   "metadata": {},
   "source": [
    "查询所有条目"
   ]
  },
  {
   "cell_type": "code",
   "execution_count": 28,
   "metadata": {},
   "outputs": [
    {
     "data": {
      "text/plain": [
       "{'_shards': {'failed': 0, 'skipped': 0, 'successful': 5, 'total': 5},\n",
       " 'hits': {'hits': [{'_id': '5',\n",
       "    '_index': 'test-index',\n",
       "    '_score': 1.0,\n",
       "    '_source': {'author': 'tangting',\n",
       "     'text': 'There is also a white cat',\n",
       "     'timestamp': '2018-04-18T10:55:35.734267'},\n",
       "    '_type': 'tweet'},\n",
       "   {'_id': '2',\n",
       "    '_index': 'test-index',\n",
       "    '_score': 1.0,\n",
       "    '_source': {'author': 'jiexiao',\n",
       "     'text': 'This is a brown dog',\n",
       "     'timestamp': '2018-04-18T10:55:35.733938'},\n",
       "    '_type': 'tweet'},\n",
       "   {'_id': '4',\n",
       "    '_index': 'test-index',\n",
       "    '_score': 1.0,\n",
       "    '_source': {'author': 'tangting',\n",
       "     'text': 'The dog is brown but this document is very very long',\n",
       "     'timestamp': '2018-04-18T10:55:35.734050'},\n",
       "    '_type': 'tweet'},\n",
       "   {'_id': '6',\n",
       "    '_index': 'test-index',\n",
       "    '_score': 1.0,\n",
       "    '_source': {'author': 'tangting',\n",
       "     'text': 'The quick brown fox jumps over the lazy dog',\n",
       "     'timestamp': '2018-04-18T10:55:35.734326'},\n",
       "    '_type': 'tweet'},\n",
       "   {'_id': '1',\n",
       "    '_index': 'test-index',\n",
       "    '_score': 1.0,\n",
       "    '_source': {'author': 'kimchy',\n",
       "     'text': 'This is a brown fox',\n",
       "     'timestamp': '2018-04-18T10:55:33.228343'},\n",
       "    '_type': 'tweet'},\n",
       "   {'_id': '3',\n",
       "    '_index': 'test-index',\n",
       "    '_score': 1.0,\n",
       "    '_source': {'author': 'tangting',\n",
       "     'text': 'This dog is really brown',\n",
       "     'timestamp': '2018-04-18T10:55:35.733999'},\n",
       "    '_type': 'tweet'}],\n",
       "  'max_score': 1.0,\n",
       "  'total': 6},\n",
       " 'timed_out': False,\n",
       " 'took': 2}"
      ]
     },
     "execution_count": 28,
     "metadata": {},
     "output_type": "execute_result"
    }
   ],
   "source": [
    "es.search(index=\"test-index\", body={\"query\": {\"match_all\": {}}})"
   ]
  },
  {
   "cell_type": "markdown",
   "metadata": {},
   "source": [
    "## 全文搜索"
   ]
  },
  {
   "cell_type": "code",
   "execution_count": 29,
   "metadata": {},
   "outputs": [
    {
     "data": {
      "text/plain": [
       "{'_shards': {'failed': 0, 'skipped': 0, 'successful': 5, 'total': 5},\n",
       " 'hits': {'hits': [{'_id': '6',\n",
       "    '_index': 'test-index',\n",
       "    '_score': 1.2083462,\n",
       "    '_source': {'author': 'tangting',\n",
       "     'text': 'The quick brown fox jumps over the lazy dog',\n",
       "     'timestamp': '2018-04-18T10:55:35.734326'},\n",
       "    '_type': 'tweet'},\n",
       "   {'_id': '3',\n",
       "    '_index': 'test-index',\n",
       "    '_score': 0.5753642,\n",
       "    '_source': {'author': 'tangting',\n",
       "     'text': 'This dog is really brown',\n",
       "     'timestamp': '2018-04-18T10:55:35.733999'},\n",
       "    '_type': 'tweet'},\n",
       "   {'_id': '2',\n",
       "    '_index': 'test-index',\n",
       "    '_score': 0.31931418,\n",
       "    '_source': {'author': 'jiexiao',\n",
       "     'text': 'This is a brown dog',\n",
       "     'timestamp': '2018-04-18T10:55:35.733938'},\n",
       "    '_type': 'tweet'},\n",
       "   {'_id': '1',\n",
       "    '_index': 'test-index',\n",
       "    '_score': 0.2876821,\n",
       "    '_source': {'author': 'kimchy',\n",
       "     'text': 'This is a brown fox',\n",
       "     'timestamp': '2018-04-18T10:55:33.228343'},\n",
       "    '_type': 'tweet'},\n",
       "   {'_id': '4',\n",
       "    '_index': 'test-index',\n",
       "    '_score': 0.23614877,\n",
       "    '_source': {'author': 'tangting',\n",
       "     'text': 'The dog is brown but this document is very very long',\n",
       "     'timestamp': '2018-04-18T10:55:35.734050'},\n",
       "    '_type': 'tweet'}],\n",
       "  'max_score': 1.2083462,\n",
       "  'total': 5},\n",
       " 'timed_out': False,\n",
       " 'took': 4}"
      ]
     },
     "execution_count": 29,
     "metadata": {},
     "output_type": "execute_result"
    }
   ],
   "source": [
    "es.search(index=\"test-index\", body={\"query\": {\"match\": {\"text\": \"quick brown dog tangting\"}}})"
   ]
  },
  {
   "cell_type": "markdown",
   "metadata": {},
   "source": [
    "## 搜索词组"
   ]
  },
  {
   "cell_type": "code",
   "execution_count": 30,
   "metadata": {},
   "outputs": [
    {
     "data": {
      "text/plain": [
       "{'_shards': {'failed': 0, 'skipped': 0, 'successful': 5, 'total': 5},\n",
       " 'hits': {'hits': [{'_id': '2',\n",
       "    '_index': 'test-index',\n",
       "    '_score': 0.31931418,\n",
       "    '_source': {'author': 'jiexiao',\n",
       "     'text': 'This is a brown dog',\n",
       "     'timestamp': '2018-04-18T10:55:35.733938'},\n",
       "    '_type': 'tweet'},\n",
       "   {'_id': '4',\n",
       "    '_index': 'test-index',\n",
       "    '_score': 0.08451354,\n",
       "    '_source': {'author': 'tangting',\n",
       "     'text': 'The dog is brown but this document is very very long',\n",
       "     'timestamp': '2018-04-18T10:55:35.734050'},\n",
       "    '_type': 'tweet'}],\n",
       "  'max_score': 0.31931418,\n",
       "  'total': 2},\n",
       " 'timed_out': False,\n",
       " 'took': 3}"
      ]
     },
     "execution_count": 30,
     "metadata": {},
     "output_type": "execute_result"
    }
   ],
   "source": [
    "es.search(index=\"test-index\", body={\"query\": {\"match_phrase\": {\"text\": {\"query\": \"brown  dog\", \"slop\": 3}}}})"
   ]
  },
  {
   "cell_type": "markdown",
   "metadata": {},
   "source": [
    "## 实战"
   ]
  },
  {
   "cell_type": "markdown",
   "metadata": {},
   "source": [
    "### 读取 json 文件，导入数据"
   ]
  },
  {
   "cell_type": "code",
   "execution_count": 35,
   "metadata": {
    "collapsed": true
   },
   "outputs": [],
   "source": [
    "import pandas as pd"
   ]
  },
  {
   "cell_type": "code",
   "execution_count": null,
   "metadata": {
    "collapsed": true
   },
   "outputs": [],
   "source": [
    "df = pd.read_csv(\"/tmp/API_RECOM/aw_cmd.csv\")"
   ]
  },
  {
   "cell_type": "markdown",
   "metadata": {
    "heading_collapsed": true
   },
   "source": [
    "### 调试函数"
   ]
  },
  {
   "cell_type": "code",
   "execution_count": 38,
   "metadata": {
    "hidden": true
   },
   "outputs": [
    {
     "name": "stderr",
     "output_type": "stream",
     "text": [
      "/root/anaconda3/lib/python3.6/site-packages/IPython/core/interactiveshell.py:2718: DtypeWarning: Columns (10,11,12,15,16,17,18,19,22,23,24,25,26,29,30,32,33,34,37,38,40,42,43,44,45,47,48,49,50,52,53,54,55,57,58,59) have mixed types. Specify dtype option on import or set low_memory=False.\n",
      "  interactivity=interactivity, compiler=compiler, result=result)\n"
     ]
    },
    {
     "data": {
      "text/plain": [
       "Index(['_id', 'id', 'id_label', 'file_name', 'file_path', 'type', 'belong_gem',\n",
       "       'belong_feature', 'cmd_version.0', 'cmd_version.1', 'cmd_desc.1_5_0_0',\n",
       "       'cmd_desc.1_5_1_0', 'cmd_desc.1_3_0_0', 'cmd_desc.8_1_1_0',\n",
       "       'cmd_desc.8_2_0_0', 'cmd_desc.8_8_1_0', 'cmd_desc.1_18_0_0',\n",
       "       'cmd_view.1_5_0_0', 'cmd_view.1_5_1_0', 'cmd_view.1_3_0_0',\n",
       "       'cmd_view.8_1_1_0', 'cmd_view.8_2_0_0', 'cmd_view.8_8_1_0',\n",
       "       'cmd_view.1_18_0_0', 'cmd_format.1_5_0_0', 'cmd_format.1_5_1_0',\n",
       "       'cmd_format.1_3_0_0', 'cmd_format.8_1_1_0', 'cmd_format.8_2_0_0',\n",
       "       'cmd_format.8_8_1_0', 'cmd_format.1_18_0_0', 'cmd_format_t',\n",
       "       'cmd_source_code.1_5_0_0', 'cmd_source_code.1_5_1_0',\n",
       "       'cmd_source_code.1_3_0_0', 'cmd_source_code.8_1_1_0',\n",
       "       'cmd_source_code.8_2_0_0', 'cmd_source_code.8_8_1_0',\n",
       "       'cmd_source_code.1_18_0_0', 'ret_version', 'ret_desc.8_8_1_0',\n",
       "       'ret_desc.8_2_0_0', 'ret_desc.1_3_0_0', 'ret_desc.1_5_1_0',\n",
       "       'ret_desc.1_5_0_0', 'ret_type.8_8_1_0', 'ret_type.8_2_0_0',\n",
       "       'ret_type.1_3_0_0', 'ret_type.1_5_1_0', 'ret_type.1_5_0_0',\n",
       "       'ret_format.8_8_1_0', 'ret_format.8_2_0_0', 'ret_format.1_3_0_0',\n",
       "       'ret_format.1_5_1_0', 'ret_format.1_5_0_0', 'ret_source_code.8_8_1_0',\n",
       "       'ret_source_code.8_2_0_0', 'ret_source_code.1_3_0_0',\n",
       "       'ret_source_code.1_5_1_0', 'ret_source_code.1_5_0_0', 'cmdmml_version',\n",
       "       'cmdmml_desc', 'cmdmml_view', 'cmdmml_format', 'cmdmml_source_code',\n",
       "       'retmml_version', 'retmml_desc', 'retmml_type', 'retmml_format',\n",
       "       'retmml_source_code', 'rpc_version', 'rpc_desc', 'rpc_target',\n",
       "       'rpc_operation', 'rpc_xpath', 'rpc_format', 'rpc_source_code',\n",
       "       'rpl_version', 'rpl_desc', 'rpl_xpath', 'rpl_format', 'rpl_source_code',\n",
       "       'created_by', 'created_date', 'last_updated_by', 'last_updated_date'],\n",
       "      dtype='object')"
      ]
     },
     "execution_count": 38,
     "metadata": {},
     "output_type": "execute_result"
    }
   ],
   "source": [
    "df.columns"
   ]
  },
  {
   "cell_type": "code",
   "execution_count": 66,
   "metadata": {
    "hidden": true
   },
   "outputs": [
    {
     "data": {
      "text/html": [
       "<div>\n",
       "<style scoped>\n",
       "    .dataframe tbody tr th:only-of-type {\n",
       "        vertical-align: middle;\n",
       "    }\n",
       "\n",
       "    .dataframe tbody tr th {\n",
       "        vertical-align: top;\n",
       "    }\n",
       "\n",
       "    .dataframe thead th {\n",
       "        text-align: right;\n",
       "    }\n",
       "</style>\n",
       "<table border=\"1\" class=\"dataframe\">\n",
       "  <thead>\n",
       "    <tr style=\"text-align: right;\">\n",
       "      <th></th>\n",
       "      <th>_id</th>\n",
       "      <th>id</th>\n",
       "      <th>id_label</th>\n",
       "      <th>file_name</th>\n",
       "      <th>file_path</th>\n",
       "      <th>type</th>\n",
       "      <th>belong_gem</th>\n",
       "      <th>belong_feature</th>\n",
       "      <th>cmd_version.0</th>\n",
       "      <th>cmd_version.1</th>\n",
       "      <th>...</th>\n",
       "      <th>rpc_source_code</th>\n",
       "      <th>rpl_version</th>\n",
       "      <th>rpl_desc</th>\n",
       "      <th>rpl_xpath</th>\n",
       "      <th>rpl_format</th>\n",
       "      <th>rpl_source_code</th>\n",
       "      <th>created_by</th>\n",
       "      <th>created_date</th>\n",
       "      <th>last_updated_by</th>\n",
       "      <th>last_updated_date</th>\n",
       "    </tr>\n",
       "  </thead>\n",
       "  <tbody>\n",
       "    <tr>\n",
       "      <th>0</th>\n",
       "      <td>5959a1722d0d8963d145256e</td>\n",
       "      <td>a5c1f9e2-9358-4a29-b419-a42436777586</td>\n",
       "      <td>cmd_display_dcn_encrypt_channel</td>\n",
       "      <td>CmdDcn.rb</td>\n",
       "      <td>Testlib-Vrp-Igp\\\\Dcn\\\\Igp\\\\CmdDcn.rb</td>\n",
       "      <td>NaN</td>\n",
       "      <td>ab47e47e-94ed-432f-b384-a30b1bcc40aa</td>\n",
       "      <td>e52e1502-cf82-4009-8275-fd94e3590179</td>\n",
       "      <td>8_15_0_0</td>\n",
       "      <td>NaN</td>\n",
       "      <td>...</td>\n",
       "      <td>{  }</td>\n",
       "      <td>[  ]</td>\n",
       "      <td>{  }</td>\n",
       "      <td>{  }</td>\n",
       "      <td>{  }</td>\n",
       "      <td>{  }</td>\n",
       "      <td>uuid~dzAwMzAzMTQ3</td>\n",
       "      <td>2017-07-03 09:44:18</td>\n",
       "      <td>uuid~dzAwMzAzMTQ3</td>\n",
       "      <td>2017-07-03 09:44:18</td>\n",
       "    </tr>\n",
       "  </tbody>\n",
       "</table>\n",
       "<p>1 rows × 86 columns</p>\n",
       "</div>"
      ],
      "text/plain": [
       "                        _id                                    id  \\\n",
       "0  5959a1722d0d8963d145256e  a5c1f9e2-9358-4a29-b419-a42436777586   \n",
       "\n",
       "                          id_label  file_name  \\\n",
       "0  cmd_display_dcn_encrypt_channel  CmdDcn.rb   \n",
       "\n",
       "                              file_path  type  \\\n",
       "0  Testlib-Vrp-Igp\\\\Dcn\\\\Igp\\\\CmdDcn.rb   NaN   \n",
       "\n",
       "                             belong_gem                        belong_feature  \\\n",
       "0  ab47e47e-94ed-432f-b384-a30b1bcc40aa  e52e1502-cf82-4009-8275-fd94e3590179   \n",
       "\n",
       "  cmd_version.0 cmd_version.1         ...          rpc_source_code  \\\n",
       "0      8_15_0_0           NaN         ...                     {  }   \n",
       "\n",
       "  rpl_version rpl_desc rpl_xpath rpl_format rpl_source_code  \\\n",
       "0        [  ]     {  }      {  }       {  }            {  }   \n",
       "\n",
       "          created_by         created_date    last_updated_by  \\\n",
       "0  uuid~dzAwMzAzMTQ3  2017-07-03 09:44:18  uuid~dzAwMzAzMTQ3   \n",
       "\n",
       "     last_updated_date  \n",
       "0  2017-07-03 09:44:18  \n",
       "\n",
       "[1 rows x 86 columns]"
      ]
     },
     "execution_count": 66,
     "metadata": {},
     "output_type": "execute_result"
    }
   ],
   "source": [
    "df.head(1)"
   ]
  },
  {
   "cell_type": "code",
   "execution_count": 65,
   "metadata": {
    "hidden": true
   },
   "outputs": [
    {
     "data": {
      "text/plain": [
       "int"
      ]
     },
     "execution_count": 65,
     "metadata": {},
     "output_type": "execute_result"
    },
    {
     "data": {
      "text/plain": [
       "pandas.core.series.Series"
      ]
     },
     "execution_count": 65,
     "metadata": {},
     "output_type": "execute_result"
    },
    {
     "data": {
      "text/plain": [
       "str"
      ]
     },
     "execution_count": 65,
     "metadata": {},
     "output_type": "execute_result"
    },
    {
     "data": {
      "text/plain": [
       "\"'display dcn encrypt channel [ne_id %neid%]'\\\\r\\\\n \\\\n\""
      ]
     },
     "execution_count": 65,
     "metadata": {},
     "output_type": "execute_result"
    }
   ],
   "source": [
    "for idx, row in df.iterrows():\n",
    "    type(idx)\n",
    "    type(row)\n",
    "    type(row['cmd_format_t'])\n",
    "    row['cmd_format_t']\n",
    "    break"
   ]
  },
  {
   "cell_type": "code",
   "execution_count": 80,
   "metadata": {
    "hidden": true
   },
   "outputs": [
    {
     "data": {
      "text/plain": [
       "[(1310, True),\n",
       " (1311, True),\n",
       " (1312, True),\n",
       " (1313, True),\n",
       " (1327, True),\n",
       " (1365, True),\n",
       " (1368, True),\n",
       " (1369, True),\n",
       " (1370, True),\n",
       " (1377, True),\n",
       " (1378, True),\n",
       " (1379, True),\n",
       " (1380, True),\n",
       " (1381, True),\n",
       " (1382, True),\n",
       " (1383, True),\n",
       " (1384, True),\n",
       " (1385, True),\n",
       " (1387, True),\n",
       " (1400, True),\n",
       " (1425, True),\n",
       " (1435, True),\n",
       " (1436, True),\n",
       " (1437, True),\n",
       " (1438, True),\n",
       " (1439, True),\n",
       " (1440, True),\n",
       " (1441, True),\n",
       " (1442, True),\n",
       " (1676, True),\n",
       " (1677, True),\n",
       " (1678, True),\n",
       " (1679, True),\n",
       " (1728, True),\n",
       " (1729, True),\n",
       " (1730, True),\n",
       " (1854, True),\n",
       " (1855, True),\n",
       " (1858, True),\n",
       " (1859, True),\n",
       " (1885, True),\n",
       " (1888, True),\n",
       " (1889, True),\n",
       " (1890, True),\n",
       " (1891, True),\n",
       " (1892, True),\n",
       " (1893, True),\n",
       " (1894, True),\n",
       " (1896, True),\n",
       " (1899, True),\n",
       " (1900, True),\n",
       " (1901, True),\n",
       " (1902, True),\n",
       " (1903, True),\n",
       " (1904, True),\n",
       " (2239, True),\n",
       " (2240, True),\n",
       " (2241, True),\n",
       " (2263, True),\n",
       " (2332, True),\n",
       " (2333, True),\n",
       " (2334, True),\n",
       " (2339, True),\n",
       " (2583, True),\n",
       " (3428, True),\n",
       " (4193, True),\n",
       " (4226, True),\n",
       " (4256, True),\n",
       " (4257, True),\n",
       " (4258, True),\n",
       " (4259, True),\n",
       " (4260, True),\n",
       " (4261, True),\n",
       " (4851, True),\n",
       " (5105, True),\n",
       " (5123, True),\n",
       " (5127, True),\n",
       " (5128, True),\n",
       " (5137, True),\n",
       " (5138, True),\n",
       " (5139, True),\n",
       " (5140, True),\n",
       " (5141, True),\n",
       " (5142, True),\n",
       " (5143, True),\n",
       " (5144, True),\n",
       " (5145, True),\n",
       " (5146, True),\n",
       " (5147, True),\n",
       " (5148, True),\n",
       " (5158, True),\n",
       " (5159, True),\n",
       " (5160, True),\n",
       " (5367, True),\n",
       " (5368, True),\n",
       " (5369, True),\n",
       " (5407, True),\n",
       " (5408, True),\n",
       " (5412, True),\n",
       " (5413, True),\n",
       " (5415, True),\n",
       " (5419, True),\n",
       " (5420, True),\n",
       " (6066, True),\n",
       " (6452, True),\n",
       " (6453, True),\n",
       " (6485, True),\n",
       " (6685, True),\n",
       " (6686, True),\n",
       " (6687, True),\n",
       " (6688, True),\n",
       " (6766, True),\n",
       " (7636, True),\n",
       " (8554, True),\n",
       " (11371, True),\n",
       " (11700, True),\n",
       " (16875, True),\n",
       " (16992, True),\n",
       " (17905, True),\n",
       " (17967, True),\n",
       " (17968, True),\n",
       " (17976, True),\n",
       " (18186, True),\n",
       " (18434, True),\n",
       " (18435, True),\n",
       " (18437, True),\n",
       " (21062, True),\n",
       " (21063, True),\n",
       " (21064, True),\n",
       " (21065, True),\n",
       " (21066, True),\n",
       " (21067, True),\n",
       " (21068, True),\n",
       " (21069, True),\n",
       " (21070, True),\n",
       " (21071, True),\n",
       " (21072, True),\n",
       " (21073, True),\n",
       " (21074, True),\n",
       " (21075, True),\n",
       " (21076, True),\n",
       " (21077, True),\n",
       " (21078, True),\n",
       " (21079, True),\n",
       " (21080, True),\n",
       " (21081, True),\n",
       " (21082, True),\n",
       " (21083, True),\n",
       " (21084, True),\n",
       " (22002, True),\n",
       " (22076, True),\n",
       " (22077, True),\n",
       " (23792, True),\n",
       " (26088, True),\n",
       " (26427, True),\n",
       " (26493, True),\n",
       " (26548, True),\n",
       " (26758, True),\n",
       " (26800, True),\n",
       " (26801, True),\n",
       " (28258, True),\n",
       " (28259, True),\n",
       " (28838, True),\n",
       " (30396, True),\n",
       " (30577, True),\n",
       " (30600, True),\n",
       " (30601, True),\n",
       " (30602, True),\n",
       " (30603, True),\n",
       " (30604, True),\n",
       " (30605, True),\n",
       " (30606, True),\n",
       " (30607, True),\n",
       " (30608, True),\n",
       " (30609, True),\n",
       " (30610, True),\n",
       " (30611, True),\n",
       " (30613, True),\n",
       " (30614, True),\n",
       " (30616, True),\n",
       " (30619, True),\n",
       " (30620, True),\n",
       " (30621, True),\n",
       " (30622, True),\n",
       " (30623, True),\n",
       " (30624, True),\n",
       " (30979, True),\n",
       " (30980, True),\n",
       " (30997, True),\n",
       " (30998, True),\n",
       " (30999, True),\n",
       " (31000, True),\n",
       " (31001, True),\n",
       " (31002, True),\n",
       " (31003, True),\n",
       " (31004, True),\n",
       " (31005, True),\n",
       " (31006, True),\n",
       " (31084, True),\n",
       " (31085, True),\n",
       " (31086, True),\n",
       " (31087, True),\n",
       " (31088, True),\n",
       " (31089, True),\n",
       " (31092, True),\n",
       " (31093, True),\n",
       " (31094, True),\n",
       " (31095, True),\n",
       " (31096, True),\n",
       " (31474, True),\n",
       " (31475, True),\n",
       " (31486, True),\n",
       " (31487, True),\n",
       " (31488, True),\n",
       " (31489, True),\n",
       " (31490, True),\n",
       " (31491, True),\n",
       " (31492, True),\n",
       " (31493, True),\n",
       " (31494, True),\n",
       " (33271, True),\n",
       " (33439, True),\n",
       " (33440, True),\n",
       " (33441, True),\n",
       " (33442, True),\n",
       " (33535, True),\n",
       " (33536, True),\n",
       " (33537, True),\n",
       " (33538, True),\n",
       " (33665, True),\n",
       " (33671, True),\n",
       " (33681, True),\n",
       " (33682, True),\n",
       " (33683, True),\n",
       " (33734, True),\n",
       " (33735, True),\n",
       " (33737, True),\n",
       " (33781, True),\n",
       " (33782, True),\n",
       " (33813, True),\n",
       " (33814, True),\n",
       " (34094, True),\n",
       " (34284, True),\n",
       " (36366, True),\n",
       " (36667, True),\n",
       " (37617, True),\n",
       " (37820, True),\n",
       " (38977, True),\n",
       " (40796, True),\n",
       " (41209, True),\n",
       " (42163, True),\n",
       " (42626, True),\n",
       " (43251, True),\n",
       " (44979, True),\n",
       " (45107, True),\n",
       " (45108, True),\n",
       " (45174, True),\n",
       " (45175, True),\n",
       " (45176, True),\n",
       " (45177, True),\n",
       " (45178, True),\n",
       " (45179, True),\n",
       " (45180, True),\n",
       " (45181, True),\n",
       " (45182, True),\n",
       " (45183, True),\n",
       " (45263, True),\n",
       " (45264, True),\n",
       " (45265, True),\n",
       " (45266, True),\n",
       " (45268, True),\n",
       " (45332, True),\n",
       " (45344, True),\n",
       " (45345, True),\n",
       " (45346, True),\n",
       " (45486, True),\n",
       " (45491, True),\n",
       " (45568, True),\n",
       " (45569, True),\n",
       " (45570, True),\n",
       " (45571, True),\n",
       " (45572, True),\n",
       " (45573, True),\n",
       " (45574, True),\n",
       " (45575, True),\n",
       " (45594, True),\n",
       " (45595, True),\n",
       " (45596, True),\n",
       " (45731, True),\n",
       " (45732, True),\n",
       " (45837, True),\n",
       " (46059, True),\n",
       " (46230, True),\n",
       " (46231, True),\n",
       " (46402, True),\n",
       " (46403, True),\n",
       " (46594, True),\n",
       " (46611, True)]"
      ]
     },
     "execution_count": 80,
     "metadata": {},
     "output_type": "execute_result"
    }
   ],
   "source": [
    "[(i, x) for i, x in enumerate(df['cmd_format_t'].isnull()) if x]"
   ]
  },
  {
   "cell_type": "code",
   "execution_count": 86,
   "metadata": {
    "hidden": true
   },
   "outputs": [
    {
     "data": {
      "text/plain": [
       "{'_id': '5a0e44e02d0d892f7161ec2c',\n",
       " 'belong_feature': '00e3a6eb-da23-45c4-881e-f3c668a801a3',\n",
       " 'belong_gem': '583c29f0-c815-44e6-8c01-9b8928797c8d',\n",
       " 'cmd_desc.1_18_0_0': nan,\n",
       " 'cmd_desc.1_3_0_0': nan,\n",
       " 'cmd_desc.1_5_0_0': nan,\n",
       " 'cmd_desc.1_5_1_0': nan,\n",
       " 'cmd_desc.8_1_1_0': nan,\n",
       " 'cmd_desc.8_2_0_0': nan,\n",
       " 'cmd_desc.8_8_1_0': nan,\n",
       " 'cmd_format.1_18_0_0': nan,\n",
       " 'cmd_format.1_3_0_0': nan,\n",
       " 'cmd_format.1_5_0_0': nan,\n",
       " 'cmd_format.1_5_1_0': nan,\n",
       " 'cmd_format.8_1_1_0': nan,\n",
       " 'cmd_format.8_2_0_0': nan,\n",
       " 'cmd_format.8_8_1_0': nan,\n",
       " 'cmd_format_t': nan,\n",
       " 'cmd_source_code.1_18_0_0': nan,\n",
       " 'cmd_source_code.1_3_0_0': nan,\n",
       " 'cmd_source_code.1_5_0_0': nan,\n",
       " 'cmd_source_code.1_5_1_0': nan,\n",
       " 'cmd_source_code.8_1_1_0': nan,\n",
       " 'cmd_source_code.8_2_0_0': nan,\n",
       " 'cmd_source_code.8_8_1_0': nan,\n",
       " 'cmd_version.0': nan,\n",
       " 'cmd_version.1': nan,\n",
       " 'cmd_view.1_18_0_0': nan,\n",
       " 'cmd_view.1_3_0_0': nan,\n",
       " 'cmd_view.1_5_0_0': nan,\n",
       " 'cmd_view.1_5_1_0': nan,\n",
       " 'cmd_view.8_1_1_0': nan,\n",
       " 'cmd_view.8_2_0_0': nan,\n",
       " 'cmd_view.8_8_1_0': nan,\n",
       " 'cmdmml_desc': '{  }',\n",
       " 'cmdmml_format': '{  }',\n",
       " 'cmdmml_source_code': '{  }',\n",
       " 'cmdmml_version': '[  ]',\n",
       " 'cmdmml_view': '{  }',\n",
       " 'created_by': 'uuid~dzAwMzAzMTQ3',\n",
       " 'created_date': '2017-11-17 10:09:36',\n",
       " 'file_name': 'CmdMacvlan.rb',\n",
       " 'file_path': 'Testlib-Vrp-L2\\\\\\\\Vlan\\\\\\\\L2-DC\\\\\\\\CmdMacvlan.rb',\n",
       " 'id': 'ed1bb126-bbe2-4459-a4c0-e32c97b84396',\n",
       " 'id_label': 'cmd_mac_vlan_display',\n",
       " 'last_updated_by': 'uuid~dzAwMzAzMTQ3',\n",
       " 'last_updated_date': '2017-11-17 10:09:36',\n",
       " 'ret_desc.1_3_0_0': nan,\n",
       " 'ret_desc.1_5_0_0': nan,\n",
       " 'ret_desc.1_5_1_0': nan,\n",
       " 'ret_desc.8_2_0_0': nan,\n",
       " 'ret_desc.8_8_1_0': nan,\n",
       " 'ret_format.1_3_0_0': nan,\n",
       " 'ret_format.1_5_0_0': nan,\n",
       " 'ret_format.1_5_1_0': nan,\n",
       " 'ret_format.8_2_0_0': nan,\n",
       " 'ret_format.8_8_1_0': nan,\n",
       " 'ret_source_code.1_3_0_0': nan,\n",
       " 'ret_source_code.1_5_0_0': nan,\n",
       " 'ret_source_code.1_5_1_0': nan,\n",
       " 'ret_source_code.8_2_0_0': nan,\n",
       " 'ret_source_code.8_8_1_0': nan,\n",
       " 'ret_type.1_3_0_0': nan,\n",
       " 'ret_type.1_5_0_0': nan,\n",
       " 'ret_type.1_5_1_0': nan,\n",
       " 'ret_type.8_2_0_0': nan,\n",
       " 'ret_type.8_8_1_0': nan,\n",
       " 'ret_version': '[  ]',\n",
       " 'retmml_desc': '{  }',\n",
       " 'retmml_format': '{  }',\n",
       " 'retmml_source_code': '{  }',\n",
       " 'retmml_type': '{  }',\n",
       " 'retmml_version': '[  ]',\n",
       " 'rpc_desc': '{  }',\n",
       " 'rpc_format': '{  }',\n",
       " 'rpc_operation': '{  }',\n",
       " 'rpc_source_code': '{  }',\n",
       " 'rpc_target': '{  }',\n",
       " 'rpc_version': '[  ]',\n",
       " 'rpc_xpath': '{  }',\n",
       " 'rpl_desc': '{  }',\n",
       " 'rpl_format': '{  }',\n",
       " 'rpl_source_code': '{  }',\n",
       " 'rpl_version': '[  ]',\n",
       " 'rpl_xpath': '{  }',\n",
       " 'type': nan}"
      ]
     },
     "execution_count": 86,
     "metadata": {},
     "output_type": "execute_result"
    }
   ],
   "source": [
    "tmp = df.iloc[5127]\n",
    "tmp.to_dict()"
   ]
  },
  {
   "cell_type": "code",
   "execution_count": 114,
   "metadata": {
    "hidden": true
   },
   "outputs": [
    {
     "data": {
      "text/plain": [
       "\"'ipv6 icmp [ %icmp_mode% ] source-address'\\\\r\\\\n \\\\n\""
      ]
     },
     "execution_count": 114,
     "metadata": {},
     "output_type": "execute_result"
    }
   ],
   "source": [
    "df.loc[2, 'cmd_format_t']"
   ]
  },
  {
   "cell_type": "code",
   "execution_count": 78,
   "metadata": {
    "hidden": true
   },
   "outputs": [
    {
     "data": {
      "text/plain": [
       "0"
      ]
     },
     "execution_count": 78,
     "metadata": {},
     "output_type": "execute_result"
    }
   ],
   "source": [
    "len([x for x in df['id_label'].isnull() if x])"
   ]
  },
  {
   "cell_type": "markdown",
   "metadata": {},
   "source": [
    "### 写入数据库"
   ]
  },
  {
   "cell_type": "code",
   "execution_count": 92,
   "metadata": {},
   "outputs": [],
   "source": [
    "def decode_nginx_log(_df):\n",
    "    for idx, row in _df.iterrows():\n",
    "        # Filter out the below from each log line\n",
    "        id_label = row['id_label']\n",
    "        cmd_format_t = str(row['cmd_format_t'])\n",
    "\n",
    "        # Index for elasticsearch. Typically timestamp.\n",
    "        # idx = ...\n",
    "\n",
    "        es_fields_keys = ('id_label', 'cmd_format_t')\n",
    "        es_fields_vals = (id_label, cmd_format_t)\n",
    "\n",
    "        # We return a dict holding values from each line\n",
    "        es_nginx_d = dict(zip(es_fields_keys, es_fields_vals))\n",
    "\n",
    "        # Return the row on each iteration\n",
    "        yield idx, es_nginx_d   # <- Note the usage of 'yield'\n",
    "\n",
    "def es_add_bulk(_df):\n",
    "    es = Elasticsearch(hosts = [{'host': 'localhost', 'port': 9200}])\n",
    "\n",
    "    # NOTE the (...) round brackets. This is for a generator.\n",
    "    k = ({\n",
    "            \"_index\": \"nginx\",\n",
    "            \"_type\" : \"logs\",\n",
    "            \"_id\"   : idx,\n",
    "            \"_source\": es_nginx_d,\n",
    "         } for idx, es_nginx_d in decode_nginx_log(_df))\n",
    "\n",
    "    helpers.bulk(es, k)\n",
    "\n",
    "# Now, just run it.\n",
    "es_add_bulk(df)"
   ]
  },
  {
   "cell_type": "markdown",
   "metadata": {},
   "source": [
    "### 验证写入的数据"
   ]
  },
  {
   "cell_type": "code",
   "execution_count": 93,
   "metadata": {},
   "outputs": [
    {
     "data": {
      "text/plain": [
       "{'_shards': {'failed': 0, 'skipped': 0, 'successful': 5, 'total': 5},\n",
       " 'hits': {'hits': [{'_id': '8002',\n",
       "    '_index': 'nginx',\n",
       "    '_score': 1.0,\n",
       "    '_source': {'cmd_format_t': \"'display meap interface brief'\\\\r\\\\n \\\\n\",\n",
       "     'id_label': 'cmd_meap_get_intf_brief'},\n",
       "    '_type': 'logs'},\n",
       "   {'_id': '8005',\n",
       "    '_index': 'nginx',\n",
       "    '_score': 1.0,\n",
       "    '_source': {'cmd_format_t': \"'display meap statistics'\\\\r\\\\n \\\\n\",\n",
       "     'id_label': 'cmd_meap_get_statistics'},\n",
       "    '_type': 'logs'},\n",
       "   {'_id': '8006',\n",
       "    '_index': 'nginx',\n",
       "    '_score': 1.0,\n",
       "    '_source': {'cmd_format_t': \"'meap'\\\\r\\\\n \\\\n\",\n",
       "     'id_label': 'cmd_meap_set'},\n",
       "    '_type': 'logs'},\n",
       "   {'_id': '8012',\n",
       "    '_index': 'nginx',\n",
       "    '_score': 1.0,\n",
       "    '_source': {'cmd_format_t': \"'sub-authorize-server'\\\\r\\\\n \\\\n\",\n",
       "     'id_label': 'cmd_meap_set_sub_authorize_server'},\n",
       "    '_type': 'logs'},\n",
       "   {'_id': '8018',\n",
       "    '_index': 'nginx',\n",
       "    '_score': 1.0,\n",
       "    '_source': {'cmd_format_t': \"'meap shutdown'\\\\r\\\\n \\\\n\",\n",
       "     'id_label': 'cmd_meap_set_shutdown'},\n",
       "    '_type': 'logs'},\n",
       "   {'_id': '8019',\n",
       "    '_index': 'nginx',\n",
       "    '_score': 1.0,\n",
       "    '_source': {'cmd_format_t': \"'undo meap shutdown'\\\\r\\\\n \\\\n\",\n",
       "     'id_label': 'cmd_meap_unset_shutdown'},\n",
       "    '_type': 'logs'},\n",
       "   {'_id': '8022',\n",
       "    '_index': 'nginx',\n",
       "    '_score': 1.0,\n",
       "    '_source': {'cmd_format_t': \"'meap reset'\\\\r\\\\n \\\\n\",\n",
       "     'id_label': 'cmd_meap_set_reset'},\n",
       "    '_type': 'logs'},\n",
       "   {'_id': '8028',\n",
       "    '_index': 'nginx',\n",
       "    '_score': 1.0,\n",
       "    '_source': {'cmd_format_t': \"'display this'\\\\r\\\\n \\\\n\",\n",
       "     'id_label': 'cmd_intf_ospf_get'},\n",
       "    '_type': 'logs'},\n",
       "   {'_id': '8030',\n",
       "    '_index': 'nginx',\n",
       "    '_score': 1.0,\n",
       "    '_source': {'cmd_format_t': \"'undo  ospf remote-lfa  disable [ multi-area %area_id%]'\\\\r\\\\n \\\\n\",\n",
       "     'id_label': 'cmd_intf_ospf_undisable_rlfa'},\n",
       "    '_type': 'logs'},\n",
       "   {'_id': '8031',\n",
       "    '_index': 'nginx',\n",
       "    '_score': 1.0,\n",
       "    '_source': {'cmd_format_t': \"'ospf ti-lfa disable[ multi-area %area_id%]'\\\\r\\\\n \\\\n\",\n",
       "     'id_label': 'cmd_intf_ospf_disable_tilfa'},\n",
       "    '_type': 'logs'}],\n",
       "  'max_score': 1.0,\n",
       "  'total': 46636},\n",
       " 'timed_out': False,\n",
       " 'took': 10}"
      ]
     },
     "execution_count": 93,
     "metadata": {},
     "output_type": "execute_result"
    }
   ],
   "source": [
    "es.search(index=\"nginx\", body={\"query\": {\"match_all\": {}}})"
   ]
  },
  {
   "cell_type": "code",
   "execution_count": 115,
   "metadata": {},
   "outputs": [
    {
     "data": {
      "text/plain": [
       "{'tokens': [{'end_offset': 4,\n",
       "   'position': 0,\n",
       "   'start_offset': 0,\n",
       "   'token': 'mpls',\n",
       "   'type': '<ALPHANUM>'},\n",
       "  {'end_offset': 7,\n",
       "   'position': 1,\n",
       "   'start_offset': 5,\n",
       "   'token': 'te',\n",
       "   'type': '<ALPHANUM>'}]}"
      ]
     },
     "execution_count": 115,
     "metadata": {},
     "output_type": "execute_result"
    }
   ],
   "source": [
    "es.indices.analyze(index=\"nginx\", body={\"text\": \"mpls-te\"})"
   ]
  },
  {
   "cell_type": "code",
   "execution_count": 101,
   "metadata": {},
   "outputs": [
    {
     "data": {
      "text/plain": [
       "{'_shards': {'failed': 0, 'skipped': 0, 'successful': 5, 'total': 5},\n",
       " 'hits': {'hits': [{'_id': '8310',\n",
       "    '_index': 'nginx',\n",
       "    '_score': 12.946407,\n",
       "    '_source': {'cmd_format_t': \"'undo mpls-te'\\\\r\\\\n \\\\n\",\n",
       "     'id_label': 'cmd_ospf_area_te_disable'},\n",
       "    '_type': 'logs'},\n",
       "   {'_id': '32670',\n",
       "    '_index': 'nginx',\n",
       "    '_score': 12.946407,\n",
       "    '_source': {'cmd_format_t': \"'undo mpls-te'\\\\r\\\\n \\\\n\",\n",
       "     'id_label': 'cmd_unset_inclusive_root_mplste_view'},\n",
       "    '_type': 'logs'},\n",
       "   {'_id': '33219',\n",
       "    '_index': 'nginx',\n",
       "    '_score': 12.946407,\n",
       "    '_source': {'cmd_format_t': \"'undo mpls-te'\\\\r\\\\n \\\\n\",\n",
       "     'id_label': 'cmd_unset_inclusive_root_mplste_view'},\n",
       "    '_type': 'logs'},\n",
       "   {'_id': '30708',\n",
       "    '_index': 'nginx',\n",
       "    '_score': 12.927313,\n",
       "    '_source': {'cmd_format_t': \"'undo mpls te'\\\\r\\\\n \\\\n\",\n",
       "     'id_label': 'cmd_bgp_mvpn_ipmsi_tunnel_unset_te'},\n",
       "    '_type': 'logs'},\n",
       "   {'_id': '7058',\n",
       "    '_index': 'nginx',\n",
       "    '_score': 12.763281,\n",
       "    '_source': {'cmd_format_t': \"'undo mpls te'\\\\r\\\\n \\\\n\",\n",
       "     'id_label': 'cmd_unset_mplste_view'},\n",
       "    '_type': 'logs'},\n",
       "   {'_id': '4552',\n",
       "    '_index': 'nginx',\n",
       "    '_score': 12.763281,\n",
       "    '_source': {'cmd_format_t': \"'undo mpls-te'\\\\r\\\\n \\\\n\",\n",
       "     'id_label': 'cmd_ospf_area_te_disable'},\n",
       "    '_type': 'logs'},\n",
       "   {'_id': '31669',\n",
       "    '_index': 'nginx',\n",
       "    '_score': 12.763281,\n",
       "    '_source': {'cmd_format_t': \"'undo mpls-te'\\\\r\\\\n \\\\n\",\n",
       "     'id_label': 'cmd_unset_inclusive_root_mplste_view'},\n",
       "    '_type': 'logs'},\n",
       "   {'_id': '38243',\n",
       "    '_index': 'nginx',\n",
       "    '_score': 12.734599,\n",
       "    '_source': {'cmd_format_t': \"'undo mpls te'\\\\r\\\\n \\\\n\",\n",
       "     'id_label': 'cmd_mpls_te_interface_disable'},\n",
       "    '_type': 'logs'},\n",
       "   {'_id': '38257',\n",
       "    '_index': 'nginx',\n",
       "    '_score': 12.556868,\n",
       "    '_source': {'cmd_format_t': \"'undo mpls te metric'\\\\r\\\\n \\\\n\",\n",
       "     'id_label': 'cmd_undo_mpls_te_metric'},\n",
       "    '_type': 'logs'},\n",
       "   {'_id': '38326',\n",
       "    '_index': 'nginx',\n",
       "    '_score': 12.556868,\n",
       "    '_source': {'cmd_format_t': \"'undo mpls te reoptimization'\\\\r\\\\n \\\\n\",\n",
       "     'id_label': 'cmd_undo_mpls_te_reoptimization_frequency'},\n",
       "    '_type': 'logs'}],\n",
       "  'max_score': 12.946407,\n",
       "  'total': 185},\n",
       " 'timed_out': False,\n",
       " 'took': 4}"
      ]
     },
     "execution_count": 101,
     "metadata": {},
     "output_type": "execute_result"
    }
   ],
   "source": [
    "es.search(index=\"nginx\", body={\"query\": {\"match_phrase\": {\"cmd_format_t\": {\"query\": \"undo mpls te\", \"slop\": 30}}}})"
   ]
  },
  {
   "cell_type": "markdown",
   "metadata": {},
   "source": [
    "## 尝试解析输入"
   ]
  },
  {
   "cell_type": "code",
   "execution_count": 116,
   "metadata": {},
   "outputs": [
    {
     "data": {
      "text/plain": [
       "{'tokens': [{'end_offset': 4,\n",
       "   'position': 0,\n",
       "   'start_offset': 0,\n",
       "   'token': 'mpls',\n",
       "   'type': '<ALPHANUM>'},\n",
       "  {'end_offset': 7,\n",
       "   'position': 1,\n",
       "   'start_offset': 5,\n",
       "   'token': 'te',\n",
       "   'type': '<ALPHANUM>'}]}"
      ]
     },
     "execution_count": 116,
     "metadata": {},
     "output_type": "execute_result"
    }
   ],
   "source": [
    "es.indices.analyze(index=\"nginx\", body={\"text\": \"mpls-te\"})"
   ]
  },
  {
   "cell_type": "markdown",
   "metadata": {},
   "source": [
    "## 尝试添加特殊符号"
   ]
  },
  {
   "cell_type": "code",
   "execution_count": 214,
   "metadata": {
    "collapsed": true
   },
   "outputs": [],
   "source": [
    "test_hyphen = {\n",
    "  \"settings\": {\n",
    "    \"analysis\": {\n",
    "      \"analyzer\": {\n",
    "        \"my_analyzer\": {\n",
    "          \"tokenizer\": \"standard\",\n",
    "          \"char_filter\": [\n",
    "            \"my_char_filter\"\n",
    "          ]\n",
    "        }\n",
    "      },\n",
    "      \"char_filter\": {\n",
    "        \"my_char_filter\": {\n",
    "          \"type\": \"mapping\",\n",
    "          \"mappings\": [\n",
    "            \"- => _hyphen_\",\n",
    "          ]\n",
    "        }\n",
    "      }\n",
    "    }\n",
    "  }\n",
    "}"
   ]
  },
  {
   "cell_type": "code",
   "execution_count": null,
   "metadata": {
    "collapsed": true
   },
   "outputs": [],
   "source": [
    "map_test_hyphen = {'properties': {\n",
    "    'text': {\n",
    "        \"search_analyzer\": \"my_analyzer\",\n",
    "        \"analyzer\": \"my_analyzer\",\n",
    "        'type': 'text'}}}\n",
    "es.indices.put_mapping(index=\"test_hyphen\", body=map_test_hyphen, doc_type='tweet')"
   ]
  },
  {
   "cell_type": "code",
   "execution_count": 268,
   "metadata": {},
   "outputs": [
    {
     "data": {
      "text/plain": [
       "{'acknowledged': True}"
      ]
     },
     "execution_count": 268,
     "metadata": {},
     "output_type": "execute_result"
    },
    {
     "data": {
      "text/plain": [
       "{'acknowledged': True, 'index': 'test_hyphen', 'shards_acknowledged': True}"
      ]
     },
     "execution_count": 268,
     "metadata": {},
     "output_type": "execute_result"
    }
   ],
   "source": [
    "es.indices.delete(index=\"test_hyphen\")\n",
    "es.indices.create(index=\"test_hyphen\", body=test_hyphen)"
   ]
  },
  {
   "cell_type": "code",
   "execution_count": 123,
   "metadata": {},
   "outputs": [
    {
     "data": {
      "text/plain": [
       "{'tokens': [{'end_offset': 7,\n",
       "   'position': 0,\n",
       "   'start_offset': 0,\n",
       "   'token': 'mpls_hyphen_te',\n",
       "   'type': '<ALPHANUM>'}]}"
      ]
     },
     "execution_count": 123,
     "metadata": {},
     "output_type": "execute_result"
    }
   ],
   "source": [
    "es.indices.analyze(index=\"test_hyphen\", body={\"analyzer\": \"my_analyzer\", \"text\": \"mpls-te\"})"
   ]
  },
  {
   "cell_type": "markdown",
   "metadata": {},
   "source": [
    "## 查询及变更设置"
   ]
  },
  {
   "cell_type": "code",
   "execution_count": 280,
   "metadata": {},
   "outputs": [
    {
     "name": "stdout",
     "output_type": "stream",
     "text": [
      "{'test_hyphen': {'settings': {'index': {'analysis': {'analyzer': {'my_analyzer': {'char_filter': ['my_char_filter'],\n",
      "                                                                                  'tokenizer': 'standard'}},\n",
      "                                                     'char_filter': {'my_char_filter': {'mappings': ['[ '\n",
      "                                                                                                     '=> '\n",
      "                                                                                                     '_l_square_brackets_',\n",
      "                                                                                                     '] '\n",
      "                                                                                                     '=> '\n",
      "                                                                                                     '_r_square_brackets_'],\n",
      "                                                                                        'type': 'mapping'}}},\n",
      "                                        'creation_date': '1524046326806',\n",
      "                                        'number_of_replicas': '1',\n",
      "                                        'number_of_shards': '5',\n",
      "                                        'provided_name': 'test_hyphen',\n",
      "                                        'uuid': 'cvIBpXjWTfSX6PiLXzNq9Q',\n",
      "                                        'version': {'created': '6020399'}}}}}\n"
     ]
    }
   ],
   "source": [
    "pprint.pprint(es.indices.get_settings(index=\"test_hyphen\"))"
   ]
  },
  {
   "cell_type": "code",
   "execution_count": 271,
   "metadata": {},
   "outputs": [
    {
     "name": "stdout",
     "output_type": "stream",
     "text": [
      "{'test_hyphen': {'mappings': {'tweet': {'properties': {'text': {'analyzer': 'my_analyzer',\n",
      "                                                                'type': 'text'}}}}}}\n"
     ]
    }
   ],
   "source": [
    "pprint.pprint(es.indices.get_mapping(index=\"test_hyphen\"))"
   ]
  },
  {
   "cell_type": "code",
   "execution_count": 270,
   "metadata": {},
   "outputs": [
    {
     "data": {
      "text/plain": [
       "{'acknowledged': True}"
      ]
     },
     "execution_count": 270,
     "metadata": {},
     "output_type": "execute_result"
    }
   ],
   "source": [
    "map_test_hyphen = {'properties': {\n",
    "    'text': {\n",
    "        \"search_analyzer\": \"my_analyzer\",\n",
    "        \"analyzer\": \"my_analyzer\",\n",
    "        'type': 'text'}}}\n",
    "es.indices.put_mapping(index=\"test_hyphen\", body=map_test_hyphen, doc_type='tweet')"
   ]
  },
  {
   "cell_type": "code",
   "execution_count": 284,
   "metadata": {},
   "outputs": [
    {
     "data": {
      "text/plain": [
       "{'_id': '1',\n",
       " '_index': 'test_hyphen',\n",
       " '_primary_term': 3,\n",
       " '_seq_no': 2,\n",
       " '_shards': {'failed': 0, 'successful': 1, 'total': 2},\n",
       " '_type': 'tweet',\n",
       " '_version': 3,\n",
       " 'result': 'updated'}"
      ]
     },
     "execution_count": 284,
     "metadata": {},
     "output_type": "execute_result"
    },
    {
     "data": {
      "text/plain": [
       "{'_id': '2',\n",
       " '_index': 'test_hyphen',\n",
       " '_primary_term': 3,\n",
       " '_seq_no': 4,\n",
       " '_shards': {'failed': 0, 'successful': 1, 'total': 2},\n",
       " '_type': 'tweet',\n",
       " '_version': 3,\n",
       " 'result': 'updated'}"
      ]
     },
     "execution_count": 284,
     "metadata": {},
     "output_type": "execute_result"
    },
    {
     "data": {
      "text/plain": [
       "{'_id': '3',\n",
       " '_index': 'test_hyphen',\n",
       " '_primary_term': 3,\n",
       " '_seq_no': 2,\n",
       " '_shards': {'failed': 0, 'successful': 1, 'total': 2},\n",
       " '_type': 'tweet',\n",
       " '_version': 3,\n",
       " 'result': 'updated'}"
      ]
     },
     "execution_count": 284,
     "metadata": {},
     "output_type": "execute_result"
    },
    {
     "data": {
      "text/plain": [
       "{'_id': '4',\n",
       " '_index': 'test_hyphen',\n",
       " '_primary_term': 3,\n",
       " '_seq_no': 5,\n",
       " '_shards': {'failed': 0, 'successful': 1, 'total': 2},\n",
       " '_type': 'tweet',\n",
       " '_version': 3,\n",
       " 'result': 'updated'}"
      ]
     },
     "execution_count": 284,
     "metadata": {},
     "output_type": "execute_result"
    }
   ],
   "source": [
    "doc = {\n",
    "    'text': 'This is-a [brown fox]',\n",
    "}\n",
    "doc2 = {\n",
    "    'text': 'This is a brown fox',\n",
    "}\n",
    "doc3 = {\n",
    "    'text': 'This is_a brown fox',\n",
    "}\n",
    "doc4 = {\n",
    "    'text': 'This is-a [brown fox]',\n",
    "}\n",
    "es.index(index=\"test_hyphen\", doc_type='tweet', id=1, body=doc)\n",
    "es.index(index=\"test_hyphen\", doc_type='tweet', id=2, body=doc2)\n",
    "es.index(index=\"test_hyphen\", doc_type='tweet', id=3, body=doc3)\n",
    "es.index(index=\"test_hyphen\", doc_type='tweet', id=4, body=doc4)"
   ]
  },
  {
   "cell_type": "code",
   "execution_count": 275,
   "metadata": {
    "collapsed": true
   },
   "outputs": [],
   "source": [
    "test_hyphen_2 = {\n",
    "  \"settings\": {\n",
    "    \"analysis\": {\n",
    "      \"analyzer\": {\n",
    "        \"my_analyzer\": {\n",
    "          \"tokenizer\": \"standard\",\n",
    "          \"char_filter\": [\n",
    "            \"my_char_filter\"\n",
    "          ]\n",
    "        }\n",
    "      },\n",
    "      \"char_filter\": {\n",
    "        \"my_char_filter\": {\n",
    "          \"type\": \"mapping\",\n",
    "          \"mappings\": [\n",
    "            \"[ => _l_square_brackets_\",\n",
    "            \"] => _r_square_brackets_\"\n",
    "          ]\n",
    "        }\n",
    "      }\n",
    "    }\n",
    "  }\n",
    "}"
   ]
  },
  {
   "cell_type": "markdown",
   "metadata": {},
   "source": [
    "变更配置"
   ]
  },
  {
   "cell_type": "code",
   "execution_count": 286,
   "metadata": {},
   "outputs": [
    {
     "data": {
      "text/plain": [
       "{'acknowledged': True}"
      ]
     },
     "execution_count": 286,
     "metadata": {},
     "output_type": "execute_result"
    },
    {
     "data": {
      "text/plain": [
       "{'acknowledged': True}"
      ]
     },
     "execution_count": 286,
     "metadata": {},
     "output_type": "execute_result"
    },
    {
     "data": {
      "text/plain": [
       "{'acknowledged': True, 'shards_acknowledged': True}"
      ]
     },
     "execution_count": 286,
     "metadata": {},
     "output_type": "execute_result"
    },
    {
     "data": {
      "text/plain": [
       "{'test_hyphen': {'settings': {'index': {'analysis': {'analyzer': {'my_analyzer': {'char_filter': ['my_char_filter'],\n",
       "       'tokenizer': 'standard'}},\n",
       "     'char_filter': {'my_char_filter': {'mappings': ['[ => _l_square_brackets_',\n",
       "        '] => _r_square_brackets_'],\n",
       "       'type': 'mapping'}}},\n",
       "    'creation_date': '1524046326806',\n",
       "    'number_of_replicas': '1',\n",
       "    'number_of_shards': '5',\n",
       "    'provided_name': 'test_hyphen',\n",
       "    'uuid': 'cvIBpXjWTfSX6PiLXzNq9Q',\n",
       "    'version': {'created': '6020399'}}}}}"
      ]
     },
     "execution_count": 286,
     "metadata": {},
     "output_type": "execute_result"
    }
   ],
   "source": [
    "es.indices.close(index=\"test_hyphen\")\n",
    "es.indices.put_settings(index=\"test_hyphen\", body=test_hyphen_2)\n",
    "es.indices.open(index=\"test_hyphen\")\n",
    "es.indices.get_settings(index=\"test_hyphen\")"
   ]
  },
  {
   "cell_type": "code",
   "execution_count": 289,
   "metadata": {},
   "outputs": [
    {
     "data": {
      "text/plain": [
       "{'_shards': {'failed': 0, 'skipped': 0, 'successful': 5, 'total': 5},\n",
       " 'hits': {'hits': [{'_id': '2',\n",
       "    '_index': 'test_hyphen',\n",
       "    '_score': 0.66301036,\n",
       "    '_source': {'text': 'This is a brown fox'},\n",
       "    '_type': 'tweet'}],\n",
       "  'max_score': 0.66301036,\n",
       "  'total': 1},\n",
       " 'timed_out': False,\n",
       " 'took': 2}"
      ]
     },
     "execution_count": 289,
     "metadata": {},
     "output_type": "execute_result"
    }
   ],
   "source": [
    "es.search(index=\"test_hyphen\", body={\"query\": {\"match\": {\"text\": \"is\"}}})"
   ]
  },
  {
   "cell_type": "code",
   "execution_count": 274,
   "metadata": {},
   "outputs": [
    {
     "data": {
      "text/plain": [
       "{'_shards': {'failed': 0, 'skipped': 0, 'successful': 5, 'total': 5},\n",
       " 'hits': {'hits': [{'_id': '4',\n",
       "    '_index': 'test_hyphen',\n",
       "    '_score': 0.7261542,\n",
       "    '_source': {'text': 'This is-a [brown fox]'},\n",
       "    '_type': 'tweet'},\n",
       "   {'_id': '1',\n",
       "    '_index': 'test_hyphen',\n",
       "    '_score': 0.2876821,\n",
       "    '_source': {'text': 'This is-a [brown fox]'},\n",
       "    '_type': 'tweet'}],\n",
       "  'max_score': 0.7261542,\n",
       "  'total': 2},\n",
       " 'timed_out': False,\n",
       " 'took': 2}"
      ]
     },
     "execution_count": 274,
     "metadata": {},
     "output_type": "execute_result"
    }
   ],
   "source": [
    "es.search(index=\"test_hyphen\", body={\"query\": {\"match\": {\"text\": \"is-a\"}}})"
   ]
  },
  {
   "cell_type": "code",
   "execution_count": 160,
   "metadata": {},
   "outputs": [
    {
     "data": {
      "text/plain": [
       "{'_shards': {'failed': 0, 'skipped': 0, 'successful': 5, 'total': 5},\n",
       " 'hits': {'hits': [{'_id': '2',\n",
       "    '_index': 'test_hyphen',\n",
       "    '_score': 0.2876821,\n",
       "    '_source': {'text': 'This is_a brown fox'},\n",
       "    '_type': 'tweet'},\n",
       "   {'_id': '1',\n",
       "    '_index': 'test_hyphen',\n",
       "    '_score': 0.2876821,\n",
       "    '_source': {'text': 'This is_a [brown fox]'},\n",
       "    '_type': 'tweet'}],\n",
       "  'max_score': 0.2876821,\n",
       "  'total': 2},\n",
       " 'timed_out': False,\n",
       " 'took': 3}"
      ]
     },
     "execution_count": 160,
     "metadata": {},
     "output_type": "execute_result"
    }
   ],
   "source": [
    "es.search(index=\"test_hyphen\", body={\"query\": {\"match\": {\"text\": \"[brown\"}}})"
   ]
  },
  {
   "cell_type": "code",
   "execution_count": 288,
   "metadata": {},
   "outputs": [
    {
     "data": {
      "text/plain": [
       "{'_shards': {'failed': 0, 'successful': 5, 'total': 10}}"
      ]
     },
     "execution_count": 288,
     "metadata": {},
     "output_type": "execute_result"
    },
    {
     "data": {
      "text/plain": [
       "{'_shards': {'failed': 0, 'successful': 5, 'total': 10}}"
      ]
     },
     "execution_count": 288,
     "metadata": {},
     "output_type": "execute_result"
    },
    {
     "data": {
      "text/plain": [
       "{'_shards': {'failed': 0, 'successful': 5, 'total': 10},\n",
       " 'test_hyphen': {'failed': 0, 'successful': 5, 'total': 10}}"
      ]
     },
     "execution_count": 288,
     "metadata": {},
     "output_type": "execute_result"
    }
   ],
   "source": [
    "es.indices.refresh(index=\"test_hyphen\")\n",
    "es.indices.flush(index=\"test_hyphen\")\n",
    "es.indices.flush_synced(index=\"test_hyphen\")"
   ]
  },
  {
   "cell_type": "code",
   "execution_count": 227,
   "metadata": {},
   "outputs": [
    {
     "data": {
      "text/plain": [
       "{'tokens': [{'end_offset': 7,\n",
       "   'position': 0,\n",
       "   'start_offset': 0,\n",
       "   'token': 'mpls_hyphen_te',\n",
       "   'type': '<ALPHANUM>'}]}"
      ]
     },
     "execution_count": 227,
     "metadata": {},
     "output_type": "execute_result"
    }
   ],
   "source": [
    "es.indices.analyze(index=\"test_hyphen\", body={\"text\": \"mpls-te\", \"analyzer\": \"my_analyzer\"})"
   ]
  }
 ],
 "metadata": {
  "kernelspec": {
   "display_name": "Python 3",
   "language": "python",
   "name": "python3"
  },
  "language_info": {
   "codemirror_mode": {
    "name": "ipython",
    "version": 3
   },
   "file_extension": ".py",
   "mimetype": "text/x-python",
   "name": "python",
   "nbconvert_exporter": "python",
   "pygments_lexer": "ipython3",
   "version": "3.6.4"
  },
  "toc": {
   "nav_menu": {},
   "number_sections": true,
   "sideBar": true,
   "skip_h1_title": true,
   "toc_cell": true,
   "toc_position": {
    "height": "964px",
    "left": "0px",
    "right": "1644px",
    "top": "50px",
    "width": "214px"
   },
   "toc_section_display": "block",
   "toc_window_display": true
  }
 },
 "nbformat": 4,
 "nbformat_minor": 2
}
