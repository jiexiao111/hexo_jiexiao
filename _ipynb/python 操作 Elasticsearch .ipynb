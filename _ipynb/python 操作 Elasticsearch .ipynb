{
 "cells": [
  {
   "cell_type": "markdown",
   "metadata": {
    "toc": true
   },
   "source": [
    "<h1>Table of Contents<span class=\"tocSkip\"></span></h1>\n",
    "<div class=\"toc\" style=\"margin-top: 1em;\"><ul class=\"toc-item\"><li><span><a href=\"#连接-ES\" data-toc-modified-id=\"连接-ES-1\"><span class=\"toc-item-num\">1&nbsp;&nbsp;</span>连接 ES</a></span></li><li><span><a href=\"#插入数据\" data-toc-modified-id=\"插入数据-2\"><span class=\"toc-item-num\">2&nbsp;&nbsp;</span>插入数据</a></span></li><li><span><a href=\"#批量操作\" data-toc-modified-id=\"批量操作-3\"><span class=\"toc-item-num\">3&nbsp;&nbsp;</span>批量操作</a></span></li><li><span><a href=\"#查询数据\" data-toc-modified-id=\"查询数据-4\"><span class=\"toc-item-num\">4&nbsp;&nbsp;</span>查询数据</a></span></li><li><span><a href=\"#全文搜索\" data-toc-modified-id=\"全文搜索-5\"><span class=\"toc-item-num\">5&nbsp;&nbsp;</span>全文搜索</a></span></li><li><span><a href=\"#搜索词组\" data-toc-modified-id=\"搜索词组-6\"><span class=\"toc-item-num\">6&nbsp;&nbsp;</span>搜索词组</a></span></li><li><span><a href=\"#实战\" data-toc-modified-id=\"实战-7\"><span class=\"toc-item-num\">7&nbsp;&nbsp;</span>实战</a></span><ul class=\"toc-item\"><li><span><a href=\"#读取-json-文件，导入数据\" data-toc-modified-id=\"读取-json-文件，导入数据-7.1\"><span class=\"toc-item-num\">7.1&nbsp;&nbsp;</span>读取 json 文件，导入数据</a></span></li><li><span><a href=\"#调试函数\" data-toc-modified-id=\"调试函数-7.2\"><span class=\"toc-item-num\">7.2&nbsp;&nbsp;</span>调试函数</a></span></li><li><span><a href=\"#创建数据表\" data-toc-modified-id=\"创建数据表-7.3\"><span class=\"toc-item-num\">7.3&nbsp;&nbsp;</span>创建数据表</a></span></li><li><span><a href=\"#写入数据库\" data-toc-modified-id=\"写入数据库-7.4\"><span class=\"toc-item-num\">7.4&nbsp;&nbsp;</span>写入数据库</a></span></li><li><span><a href=\"#验证写入的数据\" data-toc-modified-id=\"验证写入的数据-7.5\"><span class=\"toc-item-num\">7.5&nbsp;&nbsp;</span>验证写入的数据</a></span></li></ul></li><li><span><a href=\"#尝试解析输入\" data-toc-modified-id=\"尝试解析输入-8\"><span class=\"toc-item-num\">8&nbsp;&nbsp;</span>尝试解析输入</a></span></li><li><span><a href=\"#尝试添加特殊符号\" data-toc-modified-id=\"尝试添加特殊符号-9\"><span class=\"toc-item-num\">9&nbsp;&nbsp;</span>尝试添加特殊符号</a></span></li><li><span><a href=\"#查询及变更设置\" data-toc-modified-id=\"查询及变更设置-10\"><span class=\"toc-item-num\">10&nbsp;&nbsp;</span>查询及变更设置</a></span></li><li><span><a href=\"#Ngrams在复合词的应用\" data-toc-modified-id=\"Ngrams在复合词的应用-11\"><span class=\"toc-item-num\">11&nbsp;&nbsp;</span>Ngrams在复合词的应用</a></span></li><li><span><a href=\"#组合词-token-过滤器\" data-toc-modified-id=\"组合词-token-过滤器-12\"><span class=\"toc-item-num\">12&nbsp;&nbsp;</span>组合词 token 过滤器</a></span></li></ul></div>"
   ]
  },
  {
   "cell_type": "markdown",
   "metadata": {},
   "source": [
    "参考资料"
   ]
  },
  {
   "cell_type": "markdown",
   "metadata": {},
   "source": [
    "* [es python api文档](http://elasticsearch-py.readthedocs.io/en/latest/)\n",
    "* [Elasticsearch: 权威指南](https://www.elastic.co/guide/cn/elasticsearch/guide/current/index.html)"
   ]
  },
  {
   "cell_type": "markdown",
   "metadata": {},
   "source": [
    "## 连接 ES"
   ]
  },
  {
   "cell_type": "code",
   "execution_count": 367,
   "metadata": {
    "collapsed": true
   },
   "outputs": [],
   "source": [
    "from elasticsearch import Elasticsearch\n",
    "from elasticsearch import helpers\n",
    "from datetime import datetime\n",
    "import pprint"
   ]
  },
  {
   "cell_type": "code",
   "execution_count": 368,
   "metadata": {
    "collapsed": true
   },
   "outputs": [],
   "source": [
    "es = Elasticsearch()"
   ]
  },
  {
   "cell_type": "markdown",
   "metadata": {},
   "source": [
    "## 插入数据"
   ]
  },
  {
   "cell_type": "code",
   "execution_count": 369,
   "metadata": {},
   "outputs": [
    {
     "name": "stderr",
     "output_type": "stream",
     "text": [
      "PUT http://localhost:9200/test-index/tweet/1 [status:400 request:0.016s]\n"
     ]
    },
    {
     "ename": "RequestError",
     "evalue": "TransportError(400, 'illegal_argument_exception', 'Rejecting mapping update to [test-index] as the final mapping would have more than 1 type: [tweet, my_type]')",
     "output_type": "error",
     "traceback": [
      "\u001b[0;31m---------------------------------------------------------------------------\u001b[0m",
      "\u001b[0;31mRequestError\u001b[0m                              Traceback (most recent call last)",
      "\u001b[0;32m<ipython-input-369-dfdd205cb31f>\u001b[0m in \u001b[0;36m<module>\u001b[0;34m()\u001b[0m\n\u001b[1;32m      4\u001b[0m     \u001b[0;34m'timestamp'\u001b[0m\u001b[0;34m:\u001b[0m \u001b[0mdatetime\u001b[0m\u001b[0;34m.\u001b[0m\u001b[0mnow\u001b[0m\u001b[0;34m(\u001b[0m\u001b[0;34m)\u001b[0m\u001b[0;34m,\u001b[0m\u001b[0;34m\u001b[0m\u001b[0m\n\u001b[1;32m      5\u001b[0m }\n\u001b[0;32m----> 6\u001b[0;31m \u001b[0mes\u001b[0m\u001b[0;34m.\u001b[0m\u001b[0mindex\u001b[0m\u001b[0;34m(\u001b[0m\u001b[0mindex\u001b[0m\u001b[0;34m=\u001b[0m\u001b[0;34m\"test-index\"\u001b[0m\u001b[0;34m,\u001b[0m \u001b[0mdoc_type\u001b[0m\u001b[0;34m=\u001b[0m\u001b[0;34m'tweet'\u001b[0m\u001b[0;34m,\u001b[0m \u001b[0mid\u001b[0m\u001b[0;34m=\u001b[0m\u001b[0;36m1\u001b[0m\u001b[0;34m,\u001b[0m \u001b[0mbody\u001b[0m\u001b[0;34m=\u001b[0m\u001b[0mdoc\u001b[0m\u001b[0;34m)\u001b[0m\u001b[0;34m\u001b[0m\u001b[0m\n\u001b[0m",
      "\u001b[0;32m/root/anaconda3/lib/python3.6/site-packages/elasticsearch/client/utils.py\u001b[0m in \u001b[0;36m_wrapped\u001b[0;34m(*args, **kwargs)\u001b[0m\n\u001b[1;32m     74\u001b[0m                 \u001b[0;32mif\u001b[0m \u001b[0mp\u001b[0m \u001b[0;32min\u001b[0m \u001b[0mkwargs\u001b[0m\u001b[0;34m:\u001b[0m\u001b[0;34m\u001b[0m\u001b[0m\n\u001b[1;32m     75\u001b[0m                     \u001b[0mparams\u001b[0m\u001b[0;34m[\u001b[0m\u001b[0mp\u001b[0m\u001b[0;34m]\u001b[0m \u001b[0;34m=\u001b[0m \u001b[0mkwargs\u001b[0m\u001b[0;34m.\u001b[0m\u001b[0mpop\u001b[0m\u001b[0;34m(\u001b[0m\u001b[0mp\u001b[0m\u001b[0;34m)\u001b[0m\u001b[0;34m\u001b[0m\u001b[0m\n\u001b[0;32m---> 76\u001b[0;31m             \u001b[0;32mreturn\u001b[0m \u001b[0mfunc\u001b[0m\u001b[0;34m(\u001b[0m\u001b[0;34m*\u001b[0m\u001b[0margs\u001b[0m\u001b[0;34m,\u001b[0m \u001b[0mparams\u001b[0m\u001b[0;34m=\u001b[0m\u001b[0mparams\u001b[0m\u001b[0;34m,\u001b[0m \u001b[0;34m**\u001b[0m\u001b[0mkwargs\u001b[0m\u001b[0;34m)\u001b[0m\u001b[0;34m\u001b[0m\u001b[0m\n\u001b[0m\u001b[1;32m     77\u001b[0m         \u001b[0;32mreturn\u001b[0m \u001b[0m_wrapped\u001b[0m\u001b[0;34m\u001b[0m\u001b[0m\n\u001b[1;32m     78\u001b[0m     \u001b[0;32mreturn\u001b[0m \u001b[0m_wrapper\u001b[0m\u001b[0;34m\u001b[0m\u001b[0m\n",
      "\u001b[0;32m/root/anaconda3/lib/python3.6/site-packages/elasticsearch/client/__init__.py\u001b[0m in \u001b[0;36mindex\u001b[0;34m(self, index, doc_type, body, id, params)\u001b[0m\n\u001b[1;32m    317\u001b[0m                 \u001b[0;32mraise\u001b[0m \u001b[0mValueError\u001b[0m\u001b[0;34m(\u001b[0m\u001b[0;34m\"Empty value passed for a required argument.\"\u001b[0m\u001b[0;34m)\u001b[0m\u001b[0;34m\u001b[0m\u001b[0m\n\u001b[1;32m    318\u001b[0m         return self.transport.perform_request('POST' if id in SKIP_IN_PATH else 'PUT',\n\u001b[0;32m--> 319\u001b[0;31m             _make_path(index, doc_type, id), params=params, body=body)\n\u001b[0m\u001b[1;32m    320\u001b[0m \u001b[0;34m\u001b[0m\u001b[0m\n\u001b[1;32m    321\u001b[0m     @query_params('_source', '_source_exclude', '_source_include', 'parent',\n",
      "\u001b[0;32m/root/anaconda3/lib/python3.6/site-packages/elasticsearch/transport.py\u001b[0m in \u001b[0;36mperform_request\u001b[0;34m(self, method, url, headers, params, body)\u001b[0m\n\u001b[1;32m    312\u001b[0m \u001b[0;34m\u001b[0m\u001b[0m\n\u001b[1;32m    313\u001b[0m             \u001b[0;32mtry\u001b[0m\u001b[0;34m:\u001b[0m\u001b[0;34m\u001b[0m\u001b[0m\n\u001b[0;32m--> 314\u001b[0;31m                 \u001b[0mstatus\u001b[0m\u001b[0;34m,\u001b[0m \u001b[0mheaders_response\u001b[0m\u001b[0;34m,\u001b[0m \u001b[0mdata\u001b[0m \u001b[0;34m=\u001b[0m \u001b[0mconnection\u001b[0m\u001b[0;34m.\u001b[0m\u001b[0mperform_request\u001b[0m\u001b[0;34m(\u001b[0m\u001b[0mmethod\u001b[0m\u001b[0;34m,\u001b[0m \u001b[0murl\u001b[0m\u001b[0;34m,\u001b[0m \u001b[0mparams\u001b[0m\u001b[0;34m,\u001b[0m \u001b[0mbody\u001b[0m\u001b[0;34m,\u001b[0m \u001b[0mheaders\u001b[0m\u001b[0;34m=\u001b[0m\u001b[0mheaders\u001b[0m\u001b[0;34m,\u001b[0m \u001b[0mignore\u001b[0m\u001b[0;34m=\u001b[0m\u001b[0mignore\u001b[0m\u001b[0;34m,\u001b[0m \u001b[0mtimeout\u001b[0m\u001b[0;34m=\u001b[0m\u001b[0mtimeout\u001b[0m\u001b[0;34m)\u001b[0m\u001b[0;34m\u001b[0m\u001b[0m\n\u001b[0m\u001b[1;32m    315\u001b[0m \u001b[0;34m\u001b[0m\u001b[0m\n\u001b[1;32m    316\u001b[0m             \u001b[0;32mexcept\u001b[0m \u001b[0mTransportError\u001b[0m \u001b[0;32mas\u001b[0m \u001b[0me\u001b[0m\u001b[0;34m:\u001b[0m\u001b[0;34m\u001b[0m\u001b[0m\n",
      "\u001b[0;32m/root/anaconda3/lib/python3.6/site-packages/elasticsearch/connection/http_urllib3.py\u001b[0m in \u001b[0;36mperform_request\u001b[0;34m(self, method, url, params, body, timeout, ignore, headers)\u001b[0m\n\u001b[1;32m    178\u001b[0m         \u001b[0;32mif\u001b[0m \u001b[0;32mnot\u001b[0m \u001b[0;34m(\u001b[0m\u001b[0;36m200\u001b[0m \u001b[0;34m<=\u001b[0m \u001b[0mresponse\u001b[0m\u001b[0;34m.\u001b[0m\u001b[0mstatus\u001b[0m \u001b[0;34m<\u001b[0m \u001b[0;36m300\u001b[0m\u001b[0;34m)\u001b[0m \u001b[0;32mand\u001b[0m \u001b[0mresponse\u001b[0m\u001b[0;34m.\u001b[0m\u001b[0mstatus\u001b[0m \u001b[0;32mnot\u001b[0m \u001b[0;32min\u001b[0m \u001b[0mignore\u001b[0m\u001b[0;34m:\u001b[0m\u001b[0;34m\u001b[0m\u001b[0m\n\u001b[1;32m    179\u001b[0m             \u001b[0mself\u001b[0m\u001b[0;34m.\u001b[0m\u001b[0mlog_request_fail\u001b[0m\u001b[0;34m(\u001b[0m\u001b[0mmethod\u001b[0m\u001b[0;34m,\u001b[0m \u001b[0mfull_url\u001b[0m\u001b[0;34m,\u001b[0m \u001b[0murl\u001b[0m\u001b[0;34m,\u001b[0m \u001b[0mbody\u001b[0m\u001b[0;34m,\u001b[0m \u001b[0mduration\u001b[0m\u001b[0;34m,\u001b[0m \u001b[0mresponse\u001b[0m\u001b[0;34m.\u001b[0m\u001b[0mstatus\u001b[0m\u001b[0;34m,\u001b[0m \u001b[0mraw_data\u001b[0m\u001b[0;34m)\u001b[0m\u001b[0;34m\u001b[0m\u001b[0m\n\u001b[0;32m--> 180\u001b[0;31m             \u001b[0mself\u001b[0m\u001b[0;34m.\u001b[0m\u001b[0m_raise_error\u001b[0m\u001b[0;34m(\u001b[0m\u001b[0mresponse\u001b[0m\u001b[0;34m.\u001b[0m\u001b[0mstatus\u001b[0m\u001b[0;34m,\u001b[0m \u001b[0mraw_data\u001b[0m\u001b[0;34m)\u001b[0m\u001b[0;34m\u001b[0m\u001b[0m\n\u001b[0m\u001b[1;32m    181\u001b[0m \u001b[0;34m\u001b[0m\u001b[0m\n\u001b[1;32m    182\u001b[0m         self.log_request_success(method, full_url, url, body, response.status,\n",
      "\u001b[0;32m/root/anaconda3/lib/python3.6/site-packages/elasticsearch/connection/base.py\u001b[0m in \u001b[0;36m_raise_error\u001b[0;34m(self, status_code, raw_data)\u001b[0m\n\u001b[1;32m    123\u001b[0m             \u001b[0mlogger\u001b[0m\u001b[0;34m.\u001b[0m\u001b[0mwarning\u001b[0m\u001b[0;34m(\u001b[0m\u001b[0;34m'Undecodable raw error response from server: %s'\u001b[0m\u001b[0;34m,\u001b[0m \u001b[0merr\u001b[0m\u001b[0;34m)\u001b[0m\u001b[0;34m\u001b[0m\u001b[0m\n\u001b[1;32m    124\u001b[0m \u001b[0;34m\u001b[0m\u001b[0m\n\u001b[0;32m--> 125\u001b[0;31m         \u001b[0;32mraise\u001b[0m \u001b[0mHTTP_EXCEPTIONS\u001b[0m\u001b[0;34m.\u001b[0m\u001b[0mget\u001b[0m\u001b[0;34m(\u001b[0m\u001b[0mstatus_code\u001b[0m\u001b[0;34m,\u001b[0m \u001b[0mTransportError\u001b[0m\u001b[0;34m)\u001b[0m\u001b[0;34m(\u001b[0m\u001b[0mstatus_code\u001b[0m\u001b[0;34m,\u001b[0m \u001b[0merror_message\u001b[0m\u001b[0;34m,\u001b[0m \u001b[0madditional_info\u001b[0m\u001b[0;34m)\u001b[0m\u001b[0;34m\u001b[0m\u001b[0m\n\u001b[0m\u001b[1;32m    126\u001b[0m \u001b[0;34m\u001b[0m\u001b[0m\n\u001b[1;32m    127\u001b[0m \u001b[0;34m\u001b[0m\u001b[0m\n",
      "\u001b[0;31mRequestError\u001b[0m: TransportError(400, 'illegal_argument_exception', 'Rejecting mapping update to [test-index] as the final mapping would have more than 1 type: [tweet, my_type]')"
     ]
    }
   ],
   "source": [
    "doc = {\n",
    "    'author': 'kimchy',\n",
    "    'text': 'This is a brown fox test',\n",
    "    'timestamp': datetime.now(),\n",
    "}\n",
    "es.index(index=\"test-index\", doc_type='tweet', id=1, body=doc)"
   ]
  },
  {
   "cell_type": "markdown",
   "metadata": {},
   "source": [
    "## 批量操作"
   ]
  },
  {
   "cell_type": "code",
   "execution_count": 365,
   "metadata": {},
   "outputs": [
    {
     "ename": "BulkIndexError",
     "evalue": "('5 document(s) failed to index.', [{'index': {'_index': 'test-index', '_type': 'tweet', '_id': '2', 'status': 400, 'error': {'type': 'illegal_argument_exception', 'reason': 'Rejecting mapping update to [test-index] as the final mapping would have more than 1 type: [tweet, my_type]'}, 'data': {'author': 'jiexiao', 'text': 'This is a brown dog', 'timestamp': datetime.datetime(2018, 4, 24, 17, 5, 12, 725655)}}}, {'index': {'_index': 'test-index', '_type': 'tweet', '_id': '3', 'status': 400, 'error': {'type': 'illegal_argument_exception', 'reason': 'Rejecting mapping update to [test-index] as the final mapping would have more than 1 type: [tweet, my_type]'}, 'data': {'author': 'tangting', 'text': 'This dog is really brown', 'timestamp': datetime.datetime(2018, 4, 24, 17, 5, 12, 725723)}}}, {'index': {'_index': 'test-index', '_type': 'tweet', '_id': '4', 'status': 400, 'error': {'type': 'illegal_argument_exception', 'reason': 'Rejecting mapping update to [test-index] as the final mapping would have more than 1 type: [tweet, my_type]'}, 'data': {'author': 'tangting', 'text': 'The dog is brown but this document is very very long', 'timestamp': datetime.datetime(2018, 4, 24, 17, 5, 12, 725778)}}}, {'index': {'_index': 'test-index', '_type': 'tweet', '_id': '5', 'status': 400, 'error': {'type': 'illegal_argument_exception', 'reason': 'Rejecting mapping update to [test-index] as the final mapping would have more than 1 type: [tweet, my_type]'}, 'data': {'author': 'tangting', 'text': 'There is also a white cat', 'timestamp': datetime.datetime(2018, 4, 24, 17, 5, 12, 725830)}}}, {'index': {'_index': 'test-index', '_type': 'tweet', '_id': '6', 'status': 400, 'error': {'type': 'illegal_argument_exception', 'reason': 'Rejecting mapping update to [test-index] as the final mapping would have more than 1 type: [tweet, my_type]'}, 'data': {'author': 'tangting', 'text': 'The quick brown fox jumps over the lazy dog', 'timestamp': datetime.datetime(2018, 4, 24, 17, 5, 12, 725881)}}}])",
     "output_type": "error",
     "traceback": [
      "\u001b[0;31m---------------------------------------------------------------------------\u001b[0m",
      "\u001b[0;31mBulkIndexError\u001b[0m                            Traceback (most recent call last)",
      "\u001b[0;32m<ipython-input-365-b8414663db68>\u001b[0m in \u001b[0;36m<module>\u001b[0;34m()\u001b[0m\n\u001b[1;32m     31\u001b[0m     \u001b[0;34m{\u001b[0m \u001b[0;34m\"_index\"\u001b[0m\u001b[0;34m:\u001b[0m \u001b[0;34m\"test-index\"\u001b[0m\u001b[0;34m,\u001b[0m \u001b[0;34m\"_type\"\u001b[0m\u001b[0;34m:\u001b[0m \u001b[0;34m\"tweet\"\u001b[0m\u001b[0;34m,\u001b[0m \u001b[0;34m\"_id\"\u001b[0m\u001b[0;34m:\u001b[0m \u001b[0;36m6\u001b[0m\u001b[0;34m,\u001b[0m \u001b[0;34m\"_source\"\u001b[0m\u001b[0;34m:\u001b[0m \u001b[0mdoc6\u001b[0m\u001b[0;34m}\u001b[0m\u001b[0;34m\u001b[0m\u001b[0m\n\u001b[1;32m     32\u001b[0m )\n\u001b[0;32m---> 33\u001b[0;31m \u001b[0mhelpers\u001b[0m\u001b[0;34m.\u001b[0m\u001b[0mbulk\u001b[0m\u001b[0;34m(\u001b[0m\u001b[0mes\u001b[0m\u001b[0;34m,\u001b[0m \u001b[0mactions\u001b[0m\u001b[0;34m)\u001b[0m\u001b[0;34m\u001b[0m\u001b[0m\n\u001b[0m",
      "\u001b[0;32m/root/anaconda3/lib/python3.6/site-packages/elasticsearch/helpers/__init__.py\u001b[0m in \u001b[0;36mbulk\u001b[0;34m(client, actions, stats_only, **kwargs)\u001b[0m\n\u001b[1;32m    255\u001b[0m     \u001b[0;31m# make streaming_bulk yield successful results so we can count them\u001b[0m\u001b[0;34m\u001b[0m\u001b[0;34m\u001b[0m\u001b[0m\n\u001b[1;32m    256\u001b[0m     \u001b[0mkwargs\u001b[0m\u001b[0;34m[\u001b[0m\u001b[0;34m'yield_ok'\u001b[0m\u001b[0;34m]\u001b[0m \u001b[0;34m=\u001b[0m \u001b[0;32mTrue\u001b[0m\u001b[0;34m\u001b[0m\u001b[0m\n\u001b[0;32m--> 257\u001b[0;31m     \u001b[0;32mfor\u001b[0m \u001b[0mok\u001b[0m\u001b[0;34m,\u001b[0m \u001b[0mitem\u001b[0m \u001b[0;32min\u001b[0m \u001b[0mstreaming_bulk\u001b[0m\u001b[0;34m(\u001b[0m\u001b[0mclient\u001b[0m\u001b[0;34m,\u001b[0m \u001b[0mactions\u001b[0m\u001b[0;34m,\u001b[0m \u001b[0;34m**\u001b[0m\u001b[0mkwargs\u001b[0m\u001b[0;34m)\u001b[0m\u001b[0;34m:\u001b[0m\u001b[0;34m\u001b[0m\u001b[0m\n\u001b[0m\u001b[1;32m    258\u001b[0m         \u001b[0;31m# go through request-reponse pairs and detect failures\u001b[0m\u001b[0;34m\u001b[0m\u001b[0;34m\u001b[0m\u001b[0m\n\u001b[1;32m    259\u001b[0m         \u001b[0;32mif\u001b[0m \u001b[0;32mnot\u001b[0m \u001b[0mok\u001b[0m\u001b[0;34m:\u001b[0m\u001b[0;34m\u001b[0m\u001b[0m\n",
      "\u001b[0;32m/root/anaconda3/lib/python3.6/site-packages/elasticsearch/helpers/__init__.py\u001b[0m in \u001b[0;36mstreaming_bulk\u001b[0;34m(client, actions, chunk_size, max_chunk_bytes, raise_on_error, expand_action_callback, raise_on_exception, max_retries, initial_backoff, max_backoff, yield_ok, **kwargs)\u001b[0m\n\u001b[1;32m    190\u001b[0m                             _process_bulk_chunk(client, bulk_actions, bulk_data,\n\u001b[1;32m    191\u001b[0m                                                 \u001b[0mraise_on_exception\u001b[0m\u001b[0;34m,\u001b[0m\u001b[0;34m\u001b[0m\u001b[0m\n\u001b[0;32m--> 192\u001b[0;31m                                                 raise_on_error, **kwargs)\n\u001b[0m\u001b[1;32m    193\u001b[0m                         ):\n\u001b[1;32m    194\u001b[0m \u001b[0;34m\u001b[0m\u001b[0m\n",
      "\u001b[0;32m/root/anaconda3/lib/python3.6/site-packages/elasticsearch/helpers/__init__.py\u001b[0m in \u001b[0;36m_process_bulk_chunk\u001b[0;34m(client, bulk_actions, bulk_data, raise_on_exception, raise_on_error, **kwargs)\u001b[0m\n\u001b[1;32m    135\u001b[0m \u001b[0;34m\u001b[0m\u001b[0m\n\u001b[1;32m    136\u001b[0m     \u001b[0;32mif\u001b[0m \u001b[0merrors\u001b[0m\u001b[0;34m:\u001b[0m\u001b[0;34m\u001b[0m\u001b[0m\n\u001b[0;32m--> 137\u001b[0;31m         \u001b[0;32mraise\u001b[0m \u001b[0mBulkIndexError\u001b[0m\u001b[0;34m(\u001b[0m\u001b[0;34m'%i document(s) failed to index.'\u001b[0m \u001b[0;34m%\u001b[0m \u001b[0mlen\u001b[0m\u001b[0;34m(\u001b[0m\u001b[0merrors\u001b[0m\u001b[0;34m)\u001b[0m\u001b[0;34m,\u001b[0m \u001b[0merrors\u001b[0m\u001b[0;34m)\u001b[0m\u001b[0;34m\u001b[0m\u001b[0m\n\u001b[0m\u001b[1;32m    138\u001b[0m \u001b[0;34m\u001b[0m\u001b[0m\n\u001b[1;32m    139\u001b[0m def streaming_bulk(client, actions, chunk_size=500, max_chunk_bytes=100 * 1024 * 1024,\n",
      "\u001b[0;31mBulkIndexError\u001b[0m: ('5 document(s) failed to index.', [{'index': {'_index': 'test-index', '_type': 'tweet', '_id': '2', 'status': 400, 'error': {'type': 'illegal_argument_exception', 'reason': 'Rejecting mapping update to [test-index] as the final mapping would have more than 1 type: [tweet, my_type]'}, 'data': {'author': 'jiexiao', 'text': 'This is a brown dog', 'timestamp': datetime.datetime(2018, 4, 24, 17, 5, 12, 725655)}}}, {'index': {'_index': 'test-index', '_type': 'tweet', '_id': '3', 'status': 400, 'error': {'type': 'illegal_argument_exception', 'reason': 'Rejecting mapping update to [test-index] as the final mapping would have more than 1 type: [tweet, my_type]'}, 'data': {'author': 'tangting', 'text': 'This dog is really brown', 'timestamp': datetime.datetime(2018, 4, 24, 17, 5, 12, 725723)}}}, {'index': {'_index': 'test-index', '_type': 'tweet', '_id': '4', 'status': 400, 'error': {'type': 'illegal_argument_exception', 'reason': 'Rejecting mapping update to [test-index] as the final mapping would have more than 1 type: [tweet, my_type]'}, 'data': {'author': 'tangting', 'text': 'The dog is brown but this document is very very long', 'timestamp': datetime.datetime(2018, 4, 24, 17, 5, 12, 725778)}}}, {'index': {'_index': 'test-index', '_type': 'tweet', '_id': '5', 'status': 400, 'error': {'type': 'illegal_argument_exception', 'reason': 'Rejecting mapping update to [test-index] as the final mapping would have more than 1 type: [tweet, my_type]'}, 'data': {'author': 'tangting', 'text': 'There is also a white cat', 'timestamp': datetime.datetime(2018, 4, 24, 17, 5, 12, 725830)}}}, {'index': {'_index': 'test-index', '_type': 'tweet', '_id': '6', 'status': 400, 'error': {'type': 'illegal_argument_exception', 'reason': 'Rejecting mapping update to [test-index] as the final mapping would have more than 1 type: [tweet, my_type]'}, 'data': {'author': 'tangting', 'text': 'The quick brown fox jumps over the lazy dog', 'timestamp': datetime.datetime(2018, 4, 24, 17, 5, 12, 725881)}}}])"
     ]
    }
   ],
   "source": [
    "doc2 = {\n",
    "    'author': 'jiexiao',\n",
    "    'text': 'This is a brown dog',\n",
    "    'timestamp': datetime.now(),\n",
    "}\n",
    "doc3 = {\n",
    "    'author': 'tangting',\n",
    "    'text': 'This dog is really brown',\n",
    "    'timestamp': datetime.now(),\n",
    "}\n",
    "doc4 = {\n",
    "    'author': 'tangting',\n",
    "    'text': 'The dog is brown but this document is very very long',\n",
    "    'timestamp': datetime.now(),\n",
    "}\n",
    "doc5 = {\n",
    "    'author': 'tangting',\n",
    "    'text': 'There is also a white cat',\n",
    "    'timestamp': datetime.now(),\n",
    "}\n",
    "doc6 = {\n",
    "    'author': 'tangting',\n",
    "    'text': 'The quick brown fox jumps over the lazy dog',\n",
    "    'timestamp': datetime.now(),\n",
    "}\n",
    "actions = (\n",
    "    { \"_index\": \"test-index\", \"_type\": \"tweet\", \"_id\": 2, \"_source\": doc2},\n",
    "    { \"_index\": \"test-index\", \"_type\": \"tweet\", \"_id\": 3, \"_source\": doc3},\n",
    "    { \"_index\": \"test-index\", \"_type\": \"tweet\", \"_id\": 4, \"_source\": doc4},\n",
    "    { \"_index\": \"test-index\", \"_type\": \"tweet\", \"_id\": 5, \"_source\": doc5},\n",
    "    { \"_index\": \"test-index\", \"_type\": \"tweet\", \"_id\": 6, \"_source\": doc6}\n",
    ")\n",
    "helpers.bulk(es, actions)  "
   ]
  },
  {
   "cell_type": "markdown",
   "metadata": {},
   "source": [
    "## 查询数据"
   ]
  },
  {
   "cell_type": "markdown",
   "metadata": {},
   "source": [
    "根据 ID 单条查询"
   ]
  },
  {
   "cell_type": "code",
   "execution_count": 366,
   "metadata": {},
   "outputs": [
    {
     "name": "stderr",
     "output_type": "stream",
     "text": [
      "GET http://localhost:9200/test-index/tweet/1 [status:404 request:0.005s]\n"
     ]
    },
    {
     "ename": "NotFoundError",
     "evalue": "TransportError(404, '{\"_index\":\"test-index\",\"_type\":\"tweet\",\"_id\":\"1\",\"found\":false}')",
     "output_type": "error",
     "traceback": [
      "\u001b[0;31m---------------------------------------------------------------------------\u001b[0m",
      "\u001b[0;31mNotFoundError\u001b[0m                             Traceback (most recent call last)",
      "\u001b[0;32m<ipython-input-366-7698ad510c3b>\u001b[0m in \u001b[0;36m<module>\u001b[0;34m()\u001b[0m\n\u001b[0;32m----> 1\u001b[0;31m \u001b[0mes\u001b[0m\u001b[0;34m.\u001b[0m\u001b[0mget\u001b[0m\u001b[0;34m(\u001b[0m\u001b[0mindex\u001b[0m\u001b[0;34m=\u001b[0m\u001b[0;34m\"test-index\"\u001b[0m\u001b[0;34m,\u001b[0m \u001b[0mdoc_type\u001b[0m\u001b[0;34m=\u001b[0m\u001b[0;34m'tweet'\u001b[0m\u001b[0;34m,\u001b[0m \u001b[0mid\u001b[0m\u001b[0;34m=\u001b[0m\u001b[0;36m1\u001b[0m\u001b[0;34m)\u001b[0m\u001b[0;34m\u001b[0m\u001b[0m\n\u001b[0m",
      "\u001b[0;32m/root/anaconda3/lib/python3.6/site-packages/elasticsearch/client/utils.py\u001b[0m in \u001b[0;36m_wrapped\u001b[0;34m(*args, **kwargs)\u001b[0m\n\u001b[1;32m     74\u001b[0m                 \u001b[0;32mif\u001b[0m \u001b[0mp\u001b[0m \u001b[0;32min\u001b[0m \u001b[0mkwargs\u001b[0m\u001b[0;34m:\u001b[0m\u001b[0;34m\u001b[0m\u001b[0m\n\u001b[1;32m     75\u001b[0m                     \u001b[0mparams\u001b[0m\u001b[0;34m[\u001b[0m\u001b[0mp\u001b[0m\u001b[0;34m]\u001b[0m \u001b[0;34m=\u001b[0m \u001b[0mkwargs\u001b[0m\u001b[0;34m.\u001b[0m\u001b[0mpop\u001b[0m\u001b[0;34m(\u001b[0m\u001b[0mp\u001b[0m\u001b[0;34m)\u001b[0m\u001b[0;34m\u001b[0m\u001b[0m\n\u001b[0;32m---> 76\u001b[0;31m             \u001b[0;32mreturn\u001b[0m \u001b[0mfunc\u001b[0m\u001b[0;34m(\u001b[0m\u001b[0;34m*\u001b[0m\u001b[0margs\u001b[0m\u001b[0;34m,\u001b[0m \u001b[0mparams\u001b[0m\u001b[0;34m=\u001b[0m\u001b[0mparams\u001b[0m\u001b[0;34m,\u001b[0m \u001b[0;34m**\u001b[0m\u001b[0mkwargs\u001b[0m\u001b[0;34m)\u001b[0m\u001b[0;34m\u001b[0m\u001b[0m\n\u001b[0m\u001b[1;32m     77\u001b[0m         \u001b[0;32mreturn\u001b[0m \u001b[0m_wrapped\u001b[0m\u001b[0;34m\u001b[0m\u001b[0m\n\u001b[1;32m     78\u001b[0m     \u001b[0;32mreturn\u001b[0m \u001b[0m_wrapper\u001b[0m\u001b[0;34m\u001b[0m\u001b[0m\n",
      "\u001b[0;32m/root/anaconda3/lib/python3.6/site-packages/elasticsearch/client/__init__.py\u001b[0m in \u001b[0;36mget\u001b[0;34m(self, index, doc_type, id, params)\u001b[0m\n\u001b[1;32m    428\u001b[0m                 \u001b[0;32mraise\u001b[0m \u001b[0mValueError\u001b[0m\u001b[0;34m(\u001b[0m\u001b[0;34m\"Empty value passed for a required argument.\"\u001b[0m\u001b[0;34m)\u001b[0m\u001b[0;34m\u001b[0m\u001b[0m\n\u001b[1;32m    429\u001b[0m         return self.transport.perform_request('GET', _make_path(index,\n\u001b[0;32m--> 430\u001b[0;31m             doc_type, id), params=params)\n\u001b[0m\u001b[1;32m    431\u001b[0m \u001b[0;34m\u001b[0m\u001b[0m\n\u001b[1;32m    432\u001b[0m     @query_params('_source', '_source_exclude', '_source_include', 'parent',\n",
      "\u001b[0;32m/root/anaconda3/lib/python3.6/site-packages/elasticsearch/transport.py\u001b[0m in \u001b[0;36mperform_request\u001b[0;34m(self, method, url, headers, params, body)\u001b[0m\n\u001b[1;32m    312\u001b[0m \u001b[0;34m\u001b[0m\u001b[0m\n\u001b[1;32m    313\u001b[0m             \u001b[0;32mtry\u001b[0m\u001b[0;34m:\u001b[0m\u001b[0;34m\u001b[0m\u001b[0m\n\u001b[0;32m--> 314\u001b[0;31m                 \u001b[0mstatus\u001b[0m\u001b[0;34m,\u001b[0m \u001b[0mheaders_response\u001b[0m\u001b[0;34m,\u001b[0m \u001b[0mdata\u001b[0m \u001b[0;34m=\u001b[0m \u001b[0mconnection\u001b[0m\u001b[0;34m.\u001b[0m\u001b[0mperform_request\u001b[0m\u001b[0;34m(\u001b[0m\u001b[0mmethod\u001b[0m\u001b[0;34m,\u001b[0m \u001b[0murl\u001b[0m\u001b[0;34m,\u001b[0m \u001b[0mparams\u001b[0m\u001b[0;34m,\u001b[0m \u001b[0mbody\u001b[0m\u001b[0;34m,\u001b[0m \u001b[0mheaders\u001b[0m\u001b[0;34m=\u001b[0m\u001b[0mheaders\u001b[0m\u001b[0;34m,\u001b[0m \u001b[0mignore\u001b[0m\u001b[0;34m=\u001b[0m\u001b[0mignore\u001b[0m\u001b[0;34m,\u001b[0m \u001b[0mtimeout\u001b[0m\u001b[0;34m=\u001b[0m\u001b[0mtimeout\u001b[0m\u001b[0;34m)\u001b[0m\u001b[0;34m\u001b[0m\u001b[0m\n\u001b[0m\u001b[1;32m    315\u001b[0m \u001b[0;34m\u001b[0m\u001b[0m\n\u001b[1;32m    316\u001b[0m             \u001b[0;32mexcept\u001b[0m \u001b[0mTransportError\u001b[0m \u001b[0;32mas\u001b[0m \u001b[0me\u001b[0m\u001b[0;34m:\u001b[0m\u001b[0;34m\u001b[0m\u001b[0m\n",
      "\u001b[0;32m/root/anaconda3/lib/python3.6/site-packages/elasticsearch/connection/http_urllib3.py\u001b[0m in \u001b[0;36mperform_request\u001b[0;34m(self, method, url, params, body, timeout, ignore, headers)\u001b[0m\n\u001b[1;32m    178\u001b[0m         \u001b[0;32mif\u001b[0m \u001b[0;32mnot\u001b[0m \u001b[0;34m(\u001b[0m\u001b[0;36m200\u001b[0m \u001b[0;34m<=\u001b[0m \u001b[0mresponse\u001b[0m\u001b[0;34m.\u001b[0m\u001b[0mstatus\u001b[0m \u001b[0;34m<\u001b[0m \u001b[0;36m300\u001b[0m\u001b[0;34m)\u001b[0m \u001b[0;32mand\u001b[0m \u001b[0mresponse\u001b[0m\u001b[0;34m.\u001b[0m\u001b[0mstatus\u001b[0m \u001b[0;32mnot\u001b[0m \u001b[0;32min\u001b[0m \u001b[0mignore\u001b[0m\u001b[0;34m:\u001b[0m\u001b[0;34m\u001b[0m\u001b[0m\n\u001b[1;32m    179\u001b[0m             \u001b[0mself\u001b[0m\u001b[0;34m.\u001b[0m\u001b[0mlog_request_fail\u001b[0m\u001b[0;34m(\u001b[0m\u001b[0mmethod\u001b[0m\u001b[0;34m,\u001b[0m \u001b[0mfull_url\u001b[0m\u001b[0;34m,\u001b[0m \u001b[0murl\u001b[0m\u001b[0;34m,\u001b[0m \u001b[0mbody\u001b[0m\u001b[0;34m,\u001b[0m \u001b[0mduration\u001b[0m\u001b[0;34m,\u001b[0m \u001b[0mresponse\u001b[0m\u001b[0;34m.\u001b[0m\u001b[0mstatus\u001b[0m\u001b[0;34m,\u001b[0m \u001b[0mraw_data\u001b[0m\u001b[0;34m)\u001b[0m\u001b[0;34m\u001b[0m\u001b[0m\n\u001b[0;32m--> 180\u001b[0;31m             \u001b[0mself\u001b[0m\u001b[0;34m.\u001b[0m\u001b[0m_raise_error\u001b[0m\u001b[0;34m(\u001b[0m\u001b[0mresponse\u001b[0m\u001b[0;34m.\u001b[0m\u001b[0mstatus\u001b[0m\u001b[0;34m,\u001b[0m \u001b[0mraw_data\u001b[0m\u001b[0;34m)\u001b[0m\u001b[0;34m\u001b[0m\u001b[0m\n\u001b[0m\u001b[1;32m    181\u001b[0m \u001b[0;34m\u001b[0m\u001b[0m\n\u001b[1;32m    182\u001b[0m         self.log_request_success(method, full_url, url, body, response.status,\n",
      "\u001b[0;32m/root/anaconda3/lib/python3.6/site-packages/elasticsearch/connection/base.py\u001b[0m in \u001b[0;36m_raise_error\u001b[0;34m(self, status_code, raw_data)\u001b[0m\n\u001b[1;32m    123\u001b[0m             \u001b[0mlogger\u001b[0m\u001b[0;34m.\u001b[0m\u001b[0mwarning\u001b[0m\u001b[0;34m(\u001b[0m\u001b[0;34m'Undecodable raw error response from server: %s'\u001b[0m\u001b[0;34m,\u001b[0m \u001b[0merr\u001b[0m\u001b[0;34m)\u001b[0m\u001b[0;34m\u001b[0m\u001b[0m\n\u001b[1;32m    124\u001b[0m \u001b[0;34m\u001b[0m\u001b[0m\n\u001b[0;32m--> 125\u001b[0;31m         \u001b[0;32mraise\u001b[0m \u001b[0mHTTP_EXCEPTIONS\u001b[0m\u001b[0;34m.\u001b[0m\u001b[0mget\u001b[0m\u001b[0;34m(\u001b[0m\u001b[0mstatus_code\u001b[0m\u001b[0;34m,\u001b[0m \u001b[0mTransportError\u001b[0m\u001b[0;34m)\u001b[0m\u001b[0;34m(\u001b[0m\u001b[0mstatus_code\u001b[0m\u001b[0;34m,\u001b[0m \u001b[0merror_message\u001b[0m\u001b[0;34m,\u001b[0m \u001b[0madditional_info\u001b[0m\u001b[0;34m)\u001b[0m\u001b[0;34m\u001b[0m\u001b[0m\n\u001b[0m\u001b[1;32m    126\u001b[0m \u001b[0;34m\u001b[0m\u001b[0m\n\u001b[1;32m    127\u001b[0m \u001b[0;34m\u001b[0m\u001b[0m\n",
      "\u001b[0;31mNotFoundError\u001b[0m: TransportError(404, '{\"_index\":\"test-index\",\"_type\":\"tweet\",\"_id\":\"1\",\"found\":false}')"
     ]
    }
   ],
   "source": [
    "es.get(index=\"test-index\", doc_type='tweet', id=1)"
   ]
  },
  {
   "cell_type": "code",
   "execution_count": 315,
   "metadata": {},
   "outputs": [
    {
     "data": {
      "text/plain": [
       "{'_shards': {'failed': 0, 'successful': 5, 'total': 10}}"
      ]
     },
     "execution_count": 315,
     "metadata": {},
     "output_type": "execute_result"
    }
   ],
   "source": [
    "es.indices.refresh(index=\"test-index\")"
   ]
  },
  {
   "cell_type": "markdown",
   "metadata": {},
   "source": [
    "查询所有条目"
   ]
  },
  {
   "cell_type": "code",
   "execution_count": 316,
   "metadata": {},
   "outputs": [
    {
     "data": {
      "text/plain": [
       "{'_shards': {'failed': 0, 'skipped': 0, 'successful': 5, 'total': 5},\n",
       " 'hits': {'hits': [{'_id': '5',\n",
       "    '_index': 'test-index',\n",
       "    '_score': 1.0,\n",
       "    '_source': {'author': 'tangting',\n",
       "     'text': 'There is also a white cat',\n",
       "     'timestamp': '2018-04-21T10:59:23.399346'},\n",
       "    '_type': 'tweet'},\n",
       "   {'_id': '2',\n",
       "    '_index': 'test-index',\n",
       "    '_score': 1.0,\n",
       "    '_source': {'author': 'jiexiao',\n",
       "     'text': 'This is a brown dog',\n",
       "     'timestamp': '2018-04-21T10:59:23.399161'},\n",
       "    '_type': 'tweet'},\n",
       "   {'_id': '4',\n",
       "    '_index': 'test-index',\n",
       "    '_score': 1.0,\n",
       "    '_source': {'author': 'tangting',\n",
       "     'text': 'The dog is brown but this document is very very long',\n",
       "     'timestamp': '2018-04-21T10:59:23.399289'},\n",
       "    '_type': 'tweet'},\n",
       "   {'_id': '6',\n",
       "    '_index': 'test-index',\n",
       "    '_score': 1.0,\n",
       "    '_source': {'author': 'tangting',\n",
       "     'text': 'The quick brown fox jumps over the lazy dog',\n",
       "     'timestamp': '2018-04-21T10:59:23.399456'},\n",
       "    '_type': 'tweet'},\n",
       "   {'_id': '1',\n",
       "    '_index': 'test-index',\n",
       "    '_score': 1.0,\n",
       "    '_source': {'author': 'kimchy',\n",
       "     'text': 'This is a brown fox test',\n",
       "     'timestamp': '2018-04-21T11:00:51.285111'},\n",
       "    '_type': 'tweet'},\n",
       "   {'_id': '3',\n",
       "    '_index': 'test-index',\n",
       "    '_score': 1.0,\n",
       "    '_source': {'author': 'tangting',\n",
       "     'text': 'This dog is really brown',\n",
       "     'timestamp': '2018-04-21T10:59:23.399234'},\n",
       "    '_type': 'tweet'}],\n",
       "  'max_score': 1.0,\n",
       "  'total': 6},\n",
       " 'timed_out': False,\n",
       " 'took': 1}"
      ]
     },
     "execution_count": 316,
     "metadata": {},
     "output_type": "execute_result"
    }
   ],
   "source": [
    "es.search(index=\"test-index\", body={\"query\": {\"match_all\": {}}})"
   ]
  },
  {
   "cell_type": "markdown",
   "metadata": {},
   "source": [
    "## 全文搜索"
   ]
  },
  {
   "cell_type": "code",
   "execution_count": 29,
   "metadata": {},
   "outputs": [
    {
     "data": {
      "text/plain": [
       "{'_shards': {'failed': 0, 'skipped': 0, 'successful': 5, 'total': 5},\n",
       " 'hits': {'hits': [{'_id': '6',\n",
       "    '_index': 'test-index',\n",
       "    '_score': 1.2083462,\n",
       "    '_source': {'author': 'tangting',\n",
       "     'text': 'The quick brown fox jumps over the lazy dog',\n",
       "     'timestamp': '2018-04-18T10:55:35.734326'},\n",
       "    '_type': 'tweet'},\n",
       "   {'_id': '3',\n",
       "    '_index': 'test-index',\n",
       "    '_score': 0.5753642,\n",
       "    '_source': {'author': 'tangting',\n",
       "     'text': 'This dog is really brown',\n",
       "     'timestamp': '2018-04-18T10:55:35.733999'},\n",
       "    '_type': 'tweet'},\n",
       "   {'_id': '2',\n",
       "    '_index': 'test-index',\n",
       "    '_score': 0.31931418,\n",
       "    '_source': {'author': 'jiexiao',\n",
       "     'text': 'This is a brown dog',\n",
       "     'timestamp': '2018-04-18T10:55:35.733938'},\n",
       "    '_type': 'tweet'},\n",
       "   {'_id': '1',\n",
       "    '_index': 'test-index',\n",
       "    '_score': 0.2876821,\n",
       "    '_source': {'author': 'kimchy',\n",
       "     'text': 'This is a brown fox',\n",
       "     'timestamp': '2018-04-18T10:55:33.228343'},\n",
       "    '_type': 'tweet'},\n",
       "   {'_id': '4',\n",
       "    '_index': 'test-index',\n",
       "    '_score': 0.23614877,\n",
       "    '_source': {'author': 'tangting',\n",
       "     'text': 'The dog is brown but this document is very very long',\n",
       "     'timestamp': '2018-04-18T10:55:35.734050'},\n",
       "    '_type': 'tweet'}],\n",
       "  'max_score': 1.2083462,\n",
       "  'total': 5},\n",
       " 'timed_out': False,\n",
       " 'took': 4}"
      ]
     },
     "execution_count": 29,
     "metadata": {},
     "output_type": "execute_result"
    }
   ],
   "source": [
    "es.search(index=\"test-index\", body={\"query\": {\"match\": {\"text\": \"quick brown dog tangting\"}}})"
   ]
  },
  {
   "cell_type": "markdown",
   "metadata": {},
   "source": [
    "## 搜索词组"
   ]
  },
  {
   "cell_type": "code",
   "execution_count": 30,
   "metadata": {},
   "outputs": [
    {
     "data": {
      "text/plain": [
       "{'_shards': {'failed': 0, 'skipped': 0, 'successful': 5, 'total': 5},\n",
       " 'hits': {'hits': [{'_id': '2',\n",
       "    '_index': 'test-index',\n",
       "    '_score': 0.31931418,\n",
       "    '_source': {'author': 'jiexiao',\n",
       "     'text': 'This is a brown dog',\n",
       "     'timestamp': '2018-04-18T10:55:35.733938'},\n",
       "    '_type': 'tweet'},\n",
       "   {'_id': '4',\n",
       "    '_index': 'test-index',\n",
       "    '_score': 0.08451354,\n",
       "    '_source': {'author': 'tangting',\n",
       "     'text': 'The dog is brown but this document is very very long',\n",
       "     'timestamp': '2018-04-18T10:55:35.734050'},\n",
       "    '_type': 'tweet'}],\n",
       "  'max_score': 0.31931418,\n",
       "  'total': 2},\n",
       " 'timed_out': False,\n",
       " 'took': 3}"
      ]
     },
     "execution_count": 30,
     "metadata": {},
     "output_type": "execute_result"
    }
   ],
   "source": [
    "es.search(index=\"test-index\", body={\"query\": {\"match_phrase\": {\"text\": {\"query\": \"brown  dog\", \"slop\": 3}}}})"
   ]
  },
  {
   "cell_type": "markdown",
   "metadata": {},
   "source": [
    "## 实战"
   ]
  },
  {
   "cell_type": "markdown",
   "metadata": {},
   "source": [
    "### 读取 json 文件，导入数据"
   ]
  },
  {
   "cell_type": "code",
   "execution_count": 353,
   "metadata": {
    "collapsed": true
   },
   "outputs": [],
   "source": [
    "import pandas as pd"
   ]
  },
  {
   "cell_type": "code",
   "execution_count": 354,
   "metadata": {},
   "outputs": [
    {
     "name": "stderr",
     "output_type": "stream",
     "text": [
      "/root/anaconda3/lib/python3.6/site-packages/IPython/core/interactiveshell.py:2718: DtypeWarning: Columns (10,11,12,15,16,17,18,19,22,23,24,25,26,29,30,32,33,34,37,38,40,42,43,44,45,47,48,49,50,52,53,54,55,57,58,59) have mixed types. Specify dtype option on import or set low_memory=False.\n",
      "  interactivity=interactivity, compiler=compiler, result=result)\n"
     ]
    }
   ],
   "source": [
    "df = pd.read_csv(\"/tmp/API_RECOM/aw_cmd.csv\")"
   ]
  },
  {
   "cell_type": "markdown",
   "metadata": {
    "heading_collapsed": true
   },
   "source": [
    "### 调试函数"
   ]
  },
  {
   "cell_type": "code",
   "execution_count": 38,
   "metadata": {
    "hidden": true
   },
   "outputs": [
    {
     "name": "stderr",
     "output_type": "stream",
     "text": [
      "/root/anaconda3/lib/python3.6/site-packages/IPython/core/interactiveshell.py:2718: DtypeWarning: Columns (10,11,12,15,16,17,18,19,22,23,24,25,26,29,30,32,33,34,37,38,40,42,43,44,45,47,48,49,50,52,53,54,55,57,58,59) have mixed types. Specify dtype option on import or set low_memory=False.\n",
      "  interactivity=interactivity, compiler=compiler, result=result)\n"
     ]
    },
    {
     "data": {
      "text/plain": [
       "Index(['_id', 'id', 'id_label', 'file_name', 'file_path', 'type', 'belong_gem',\n",
       "       'belong_feature', 'cmd_version.0', 'cmd_version.1', 'cmd_desc.1_5_0_0',\n",
       "       'cmd_desc.1_5_1_0', 'cmd_desc.1_3_0_0', 'cmd_desc.8_1_1_0',\n",
       "       'cmd_desc.8_2_0_0', 'cmd_desc.8_8_1_0', 'cmd_desc.1_18_0_0',\n",
       "       'cmd_view.1_5_0_0', 'cmd_view.1_5_1_0', 'cmd_view.1_3_0_0',\n",
       "       'cmd_view.8_1_1_0', 'cmd_view.8_2_0_0', 'cmd_view.8_8_1_0',\n",
       "       'cmd_view.1_18_0_0', 'cmd_format.1_5_0_0', 'cmd_format.1_5_1_0',\n",
       "       'cmd_format.1_3_0_0', 'cmd_format.8_1_1_0', 'cmd_format.8_2_0_0',\n",
       "       'cmd_format.8_8_1_0', 'cmd_format.1_18_0_0', 'cmd_format_t',\n",
       "       'cmd_source_code.1_5_0_0', 'cmd_source_code.1_5_1_0',\n",
       "       'cmd_source_code.1_3_0_0', 'cmd_source_code.8_1_1_0',\n",
       "       'cmd_source_code.8_2_0_0', 'cmd_source_code.8_8_1_0',\n",
       "       'cmd_source_code.1_18_0_0', 'ret_version', 'ret_desc.8_8_1_0',\n",
       "       'ret_desc.8_2_0_0', 'ret_desc.1_3_0_0', 'ret_desc.1_5_1_0',\n",
       "       'ret_desc.1_5_0_0', 'ret_type.8_8_1_0', 'ret_type.8_2_0_0',\n",
       "       'ret_type.1_3_0_0', 'ret_type.1_5_1_0', 'ret_type.1_5_0_0',\n",
       "       'ret_format.8_8_1_0', 'ret_format.8_2_0_0', 'ret_format.1_3_0_0',\n",
       "       'ret_format.1_5_1_0', 'ret_format.1_5_0_0', 'ret_source_code.8_8_1_0',\n",
       "       'ret_source_code.8_2_0_0', 'ret_source_code.1_3_0_0',\n",
       "       'ret_source_code.1_5_1_0', 'ret_source_code.1_5_0_0', 'cmdmml_version',\n",
       "       'cmdmml_desc', 'cmdmml_view', 'cmdmml_format', 'cmdmml_source_code',\n",
       "       'retmml_version', 'retmml_desc', 'retmml_type', 'retmml_format',\n",
       "       'retmml_source_code', 'rpc_version', 'rpc_desc', 'rpc_target',\n",
       "       'rpc_operation', 'rpc_xpath', 'rpc_format', 'rpc_source_code',\n",
       "       'rpl_version', 'rpl_desc', 'rpl_xpath', 'rpl_format', 'rpl_source_code',\n",
       "       'created_by', 'created_date', 'last_updated_by', 'last_updated_date'],\n",
       "      dtype='object')"
      ]
     },
     "execution_count": 38,
     "metadata": {},
     "output_type": "execute_result"
    }
   ],
   "source": [
    "df.columns"
   ]
  },
  {
   "cell_type": "code",
   "execution_count": 180,
   "metadata": {
    "collapsed": true,
    "hidden": true
   },
   "outputs": [],
   "source": [
    "n = 0"
   ]
  },
  {
   "cell_type": "code",
   "execution_count": 185,
   "metadata": {
    "hidden": true
   },
   "outputs": [
    {
     "data": {
      "text/plain": [
       "{40: \"'display pae buffer-memory leak process %process_id% brief vm %vm_name%'\\\\r\\\\n \\\\n\",\n",
       " 41: \"'display pae buffer-memory info index %index_id% vm %vm_name%'\\\\r\\\\n \\\\n\",\n",
       " 42: \"'display pae memory info [vm %vm_name%]'\\\\r\\\\n \\\\n\",\n",
       " 43: \"'display pae forward-thread vm %vm_name%'\\\\r\\\\n \\\\n\",\n",
       " 44: \"'display hae kernel statistics [vm %vm_name%] [slot %slot_id%]'\\\\r\\\\n \\\\n'display hae kernel statistics [vm %vm_name%] [slot %slot_id%]'\\\\r\\\\n \\\\n\",\n",
       " 45: \"'display hae userspace statistics [vm %vm_name%] [slot %slot_id%]'\\\\r\\\\n \\\\n'display hae userspace statistics [vm %vm_name%] [slot %slot_id%]'\\\\r\\\\n \\\\n\",\n",
       " 46: \"'display pae port [vm %vmname%]'\\\\r\\\\n \\\\n\",\n",
       " 47: \"'display pae port thread statistics vm %vmname%'\\\\r\\\\n \\\\n\",\n",
       " 48: \"'display pae fabric link [vm %vmname%]'\\\\r\\\\n \\\\n\",\n",
       " 49: \"'display pae fabric gateway vm %vmname%'\\\\r\\\\n \\\\n\"}"
      ]
     },
     "execution_count": 185,
     "metadata": {},
     "output_type": "execute_result"
    }
   ],
   "source": [
    "n += 10\n",
    "tmp = df[\"cmd_format_t\"][n - 10 : n]\n",
    "tmp.to_dict()"
   ]
  },
  {
   "cell_type": "code",
   "execution_count": 190,
   "metadata": {
    "hidden": true
   },
   "outputs": [
    {
     "data": {
      "text/plain": [
       "int"
      ]
     },
     "execution_count": 190,
     "metadata": {},
     "output_type": "execute_result"
    },
    {
     "data": {
      "text/plain": [
       "pandas.core.series.Series"
      ]
     },
     "execution_count": 190,
     "metadata": {},
     "output_type": "execute_result"
    },
    {
     "data": {
      "text/plain": [
       "str"
      ]
     },
     "execution_count": 190,
     "metadata": {},
     "output_type": "execute_result"
    },
    {
     "data": {
      "text/plain": [
       "\"'display dcn encrypt channel [ne_id %neid%]'\\\\r\\\\n \\\\n\""
      ]
     },
     "execution_count": 190,
     "metadata": {},
     "output_type": "execute_result"
    },
    {
     "data": {
      "text/plain": [
       "\"'display dcn encrypt channel [ne_id %neid%]'\\\\r\\\\n \\\\n\""
      ]
     },
     "execution_count": 190,
     "metadata": {},
     "output_type": "execute_result"
    }
   ],
   "source": [
    "for idx, row in df.iterrows():\n",
    "    type(idx)\n",
    "    type(row)\n",
    "    type(row['cmd_format_t'])\n",
    "    row['cmd_format_t']\n",
    "    ' '.join([x for x in row['cmd_format_t'].split('\\\\r\\\\n') if x != ''])\n",
    "    break"
   ]
  },
  {
   "cell_type": "code",
   "execution_count": null,
   "metadata": {
    "collapsed": true,
    "hidden": true
   },
   "outputs": [],
   "source": [
    "[(i, x) for i, x in enumerate(df['cmd_format_t'].isnull()) if x]"
   ]
  },
  {
   "cell_type": "code",
   "execution_count": null,
   "metadata": {
    "collapsed": true,
    "hidden": true
   },
   "outputs": [],
   "source": [
    "tmp = df.iloc[5127]\n",
    "tmp.to_dict()"
   ]
  },
  {
   "cell_type": "code",
   "execution_count": 114,
   "metadata": {
    "hidden": true
   },
   "outputs": [
    {
     "data": {
      "text/plain": [
       "\"'ipv6 icmp [ %icmp_mode% ] source-address'\\\\r\\\\n \\\\n\""
      ]
     },
     "execution_count": 114,
     "metadata": {},
     "output_type": "execute_result"
    }
   ],
   "source": [
    "df.loc[2, 'cmd_format_t']"
   ]
  },
  {
   "cell_type": "code",
   "execution_count": 78,
   "metadata": {
    "hidden": true
   },
   "outputs": [
    {
     "data": {
      "text/plain": [
       "0"
      ]
     },
     "execution_count": 78,
     "metadata": {},
     "output_type": "execute_result"
    }
   ],
   "source": [
    "len([x for x in df['id_label'].isnull() if x])"
   ]
  },
  {
   "cell_type": "markdown",
   "metadata": {},
   "source": [
    "### 创建数据表"
   ]
  },
  {
   "cell_type": "code",
   "execution_count": 341,
   "metadata": {
    "collapsed": true
   },
   "outputs": [],
   "source": [
    "my_data_settting = {\n",
    "    \"settings\": {\n",
    "        \"analysis\": {\n",
    "            \"analyzer\": {\n",
    "                \"my_analyzer\": {\n",
    "                    \"tokenizer\": \"standard\",\n",
    "                    \"char_filter\": [\n",
    "                        \"my_char_filter\"\n",
    "                    ]\n",
    "                } \n",
    "            },\n",
    "            \"char_filter\": {\n",
    "                \"my_char_filter\": {\n",
    "                    \"type\": \"mapping\",\n",
    "                    \"mappings\": [\n",
    "                        \"- => _hyphen_\",\n",
    "                    ]\n",
    "                }\n",
    "            }\n",
    "        }\n",
    "    },\n",
    "    \"mappings\": {\n",
    "        \"my_type\": {\n",
    "            \"properties\": {\n",
    "                \"cmd_format_t\": {\n",
    "                    \"type\": \"text\",\n",
    "                    \"search_analyzer\": \"my_analyzer\",\n",
    "                    \"analyzer\": \"my_analyzer\"\n",
    "                }\n",
    "            }\n",
    "        }\n",
    "    }\n",
    "}"
   ]
  },
  {
   "cell_type": "code",
   "execution_count": 355,
   "metadata": {},
   "outputs": [
    {
     "data": {
      "text/plain": [
       "{'acknowledged': True}"
      ]
     },
     "execution_count": 355,
     "metadata": {},
     "output_type": "execute_result"
    },
    {
     "data": {
      "text/plain": [
       "{'acknowledged': True,\n",
       " 'index': 'my_data_settting',\n",
       " 'shards_acknowledged': True}"
      ]
     },
     "execution_count": 355,
     "metadata": {},
     "output_type": "execute_result"
    }
   ],
   "source": [
    "es.indices.delete(index=\"my_data_settting\")\n",
    "es.indices.create(index=\"my_data_settting\", body=my_data_settting)"
   ]
  },
  {
   "cell_type": "code",
   "execution_count": 356,
   "metadata": {},
   "outputs": [
    {
     "name": "stdout",
     "output_type": "stream",
     "text": [
      "{'my_data_settting': {'settings': {'index': {'analysis': {'analyzer': {'my_analyzer': {'char_filter': ['my_char_filter'],\n",
      "                                                                                       'tokenizer': 'standard'}},\n",
      "                                                          'char_filter': {'my_char_filter': {'mappings': ['- '\n",
      "                                                                                                          '=> '\n",
      "                                                                                                          '_hyphen_'],\n",
      "                                                                                             'type': 'mapping'}}},\n",
      "                                             'creation_date': '1524453506298',\n",
      "                                             'number_of_replicas': '1',\n",
      "                                             'number_of_shards': '5',\n",
      "                                             'provided_name': 'my_data_settting',\n",
      "                                             'uuid': 'Bn7Fy0TkTKabYQbmn21R2w',\n",
      "                                             'version': {'created': '6020399'}}}}}\n",
      "{'my_data_settting': {'mappings': {'my_type': {'properties': {'cmd_format_t': {'analyzer': 'my_analyzer',\n",
      "                                                                               'type': 'text'}}}}}}\n"
     ]
    }
   ],
   "source": [
    "pprint.pprint(es.indices.get_settings(index=\"my_data_settting\"))\n",
    "pprint.pprint(es.indices.get_mapping(index=\"my_data_settting\"))"
   ]
  },
  {
   "cell_type": "markdown",
   "metadata": {},
   "source": [
    "### 写入数据库"
   ]
  },
  {
   "cell_type": "code",
   "execution_count": 357,
   "metadata": {
    "collapsed": true
   },
   "outputs": [],
   "source": [
    "def decode_nginx_log_bak(_df):\n",
    "    for idx, row in _df.iterrows():\n",
    "        # Filter out the below from each log line\n",
    "        id_label = row['id_label']\n",
    "        cmd_format_t = str(row['cmd_format_t'])\n",
    "\n",
    "        # Index for elasticsearch. Typically timestamp.\n",
    "        # idx = ...\n",
    "\n",
    "        es_fields_keys = ('id_label', 'cmd_format_t')\n",
    "        es_fields_vals = (id_label, cmd_format_t)\n",
    "\n",
    "        # We return a dict holding values from each line\n",
    "        es_nginx_d = dict(zip(es_fields_keys, es_fields_vals))\n",
    "\n",
    "        # Return the row on each iteration\n",
    "        yield idx, es_nginx_d   # <- Note the usage of 'yield'\n",
    "\n",
    "import re\n",
    "\n",
    "APOSTROPHE = re.compile(r\"'\")\n",
    "NEWLINE_CHARACTER = re.compile(r\"\\\\r\\\\n \\\\n\")\n",
    "SQUARE_BRACKETS = re.compile(r'(?: \\[.+\\] *)')\n",
    "PERCENT_SIGN = re.compile(r'%.+%')\n",
    "SPACE = re.compile(r' ')\n",
    "CMD_FORMAT_T = r\"cmd_format_t\"\n",
    "def decode_nginx_log(_df):\n",
    "    index = -1\n",
    "    for idx, row in _df.iterrows():\n",
    "        # Filter out the below from each log line\n",
    "        id_label = row['id_label']\n",
    "        old_cmd_format_t = str(row[CMD_FORMAT_T])\n",
    "        \n",
    "        for line in NEWLINE_CHARACTER.split(old_cmd_format_t):\n",
    "            if line:\n",
    "                es_fields_keys = ['id_label','old_cmd_format_t',CMD_FORMAT_T,'cmd_format_t_len','cmd_format_max_len','cmd_format_min_len']\n",
    "                cmd_format_t = APOSTROPHE.sub('',line)\n",
    "                all_len = find_func_len(cmd_format_t)\n",
    "                es_fields_vals = [id_label,old_cmd_format_t,cmd_format_t,all_len[0],all_len[1],all_len[2]]\n",
    "                es_nginx_d = dict(zip(es_fields_keys, es_fields_vals))\n",
    "                index +=1\n",
    "                yield index, es_nginx_d\n",
    "                \n",
    "def find_func_len(line):\n",
    "    tmp_len = 0\n",
    "    tmp_max = 0\n",
    "    tmp_min = 0\n",
    "    squares  = SQUARE_BRACKETS.split(line)\n",
    "    for square in squares:\n",
    "        for one in SPACE.split(square):\n",
    "            if PERCENT_SIGN.match(one):\n",
    "                tmp_len+=1\n",
    "                tmp_max+=1\n",
    "            elif one:\n",
    "                tmp_len+=100 \n",
    "                tmp_max+=1\n",
    "                tmp_min+=1\n",
    "        \n",
    "    squares = SQUARE_BRACKETS.findall(line)\n",
    "    for square in squares:\n",
    "        for one in SPACE.split(square):\n",
    "            if one and one != '[' and one != ']':\n",
    "                tmp_len+=1\n",
    "                tmp_max+=1\n",
    "    return [tmp_len,tmp_max,tmp_min]\n",
    "\n",
    "def es_add_bulk(_df):\n",
    "    es = Elasticsearch(hosts = [{'host': 'localhost', 'port': 9200}])\n",
    "\n",
    "    # NOTE the (...) round brackets. This is for a generator.\n",
    "    k = ({\n",
    "            \"_index\": \"my_data_settting\",\n",
    "            \"_type\" : \"my_type\",\n",
    "            \"_id\"   : idx,\n",
    "            \"_source\": es_nginx_d,\n",
    "         } for idx, es_nginx_d in decode_nginx_log(_df))\n",
    "\n",
    "    helpers.bulk(es, k)\n",
    "\n",
    "# Now, just run it.\n",
    "es_add_bulk(df)"
   ]
  },
  {
   "cell_type": "markdown",
   "metadata": {},
   "source": [
    "### 验证写入的数据"
   ]
  },
  {
   "cell_type": "code",
   "execution_count": 332,
   "metadata": {},
   "outputs": [
    {
     "data": {
      "text/plain": [
       "{'_id': '1',\n",
       " '_index': 'my_data_settting',\n",
       " '_primary_term': 1,\n",
       " '_seq_no': 113117,\n",
       " '_shards': {'failed': 0, 'successful': 1, 'total': 2},\n",
       " '_type': 'my_type',\n",
       " '_version': 17,\n",
       " 'result': 'updated'}"
      ]
     },
     "execution_count": 332,
     "metadata": {},
     "output_type": "execute_result"
    }
   ],
   "source": [
    "doc1 = {\n",
    "    'cmd_format_t': 'This is-a [brown fox]',\n",
    "}\n",
    "es.index(index=\"my_data_settting\", doc_type='my_type', id=1, body=doc)"
   ]
  },
  {
   "cell_type": "code",
   "execution_count": 241,
   "metadata": {},
   "outputs": [
    {
     "name": "stdout",
     "output_type": "stream",
     "text": [
      "{'my_data_settting': {'mappings': {'my_type': {'properties': {'cmd_format_t': {'analyzer': 'my_analyzer',\n",
      "                                                                               'type': 'text'},\n",
      "                                                              'id_label': {'fields': {'keyword': {'ignore_above': 256,\n",
      "                                                                                                  'type': 'keyword'}},\n",
      "                                                                           'type': 'text'}}}}}}\n",
      "{'my_data_settting': {'settings': {'index': {'analysis': {'analyzer': {'my_analyzer': {'char_filter': ['my_char_filter'],\n",
      "                                                                                       'tokenizer': 'standard'}},\n",
      "                                                          'char_filter': {'my_char_filter': {'mappings': ['- '\n",
      "                                                                                                          '=> '\n",
      "                                                                                                          '_hyphen_'],\n",
      "                                                                                             'type': 'mapping'}}},\n",
      "                                             'creation_date': '1524144123059',\n",
      "                                             'number_of_replicas': '1',\n",
      "                                             'number_of_shards': '5',\n",
      "                                             'provided_name': 'my_data_settting',\n",
      "                                             'uuid': 'P7sZHA03QWazDhOH5qv13w',\n",
      "                                             'version': {'created': '6020399'}}}}}\n"
     ]
    }
   ],
   "source": [
    "pprint.pprint(es.indices.get_mapping(index=\"my_data_settting\"))\n",
    "pprint.pprint(es.indices.get_settings(index=\"my_data_settting\"))"
   ]
  },
  {
   "cell_type": "code",
   "execution_count": 358,
   "metadata": {
    "scrolled": false
   },
   "outputs": [
    {
     "data": {
      "text/plain": [
       "{'_shards': {'failed': 0, 'skipped': 0, 'successful': 5, 'total': 5},\n",
       " 'hits': {'hits': [{'_id': '15004',\n",
       "    '_index': 'my_data_settting',\n",
       "    '_score': 1.0,\n",
       "    '_source': {'cmd_format_max_len': 2,\n",
       "     'cmd_format_min_len': 2,\n",
       "     'cmd_format_t': 'undo warning-exhaust',\n",
       "     'cmd_format_t_len': 200,\n",
       "     'id_label': 'cmd_ip_pool_unset_warning_exhaust',\n",
       "     'old_cmd_format_t': \"'undo warning-exhaust'\\\\r\\\\n \\\\n\"},\n",
       "    '_type': 'my_type'},\n",
       "   {'_id': '15012',\n",
       "    '_index': 'my_data_settting',\n",
       "    '_score': 1.0,\n",
       "    '_source': {'cmd_format_max_len': 3,\n",
       "     'cmd_format_min_len': 2,\n",
       "     'cmd_format_t': 'dhcp-server group %group_name%',\n",
       "     'cmd_format_t_len': 201,\n",
       "     'id_label': 'cmd_set_dhcpserver_group',\n",
       "     'old_cmd_format_t': \"'dhcp-server group %group_name%'\\\\r\\\\n \\\\n\"},\n",
       "    '_type': 'my_type'},\n",
       "   {'_id': '15013',\n",
       "    '_index': 'my_data_settting',\n",
       "    '_score': 1.0,\n",
       "    '_source': {'cmd_format_max_len': 4,\n",
       "     'cmd_format_min_len': 3,\n",
       "     'cmd_format_t': 'undo dhcp-server group %group_name%',\n",
       "     'cmd_format_t_len': 301,\n",
       "     'id_label': 'cmd_unset_dhcpserver_group',\n",
       "     'old_cmd_format_t': \"'undo dhcp-server group %group_name%'\\\\r\\\\n \\\\n\"},\n",
       "    '_type': 'my_type'},\n",
       "   {'_id': '15017',\n",
       "    '_index': 'my_data_settting',\n",
       "    '_score': 1.0,\n",
       "    '_source': {'cmd_format_max_len': 11,\n",
       "     'cmd_format_min_len': 5,\n",
       "     'cmd_format_t': 'broadcast-suppression[ %value%][ cir %cir%][ cbs %cbs%][ packets %second%][ %bound%][ vlan %vlan%]',\n",
       "     'cmd_format_t_len': 506,\n",
       "     'id_label': 'cmd_vsi_broadcast_suppression',\n",
       "     'old_cmd_format_t': \"'broadcast-suppression[ %value%][ cir %cir%][ cbs %cbs%][ packets %second%][ %bound%][ vlan %vlan%]'\\\\r\\\\n \\\\n\"},\n",
       "    '_type': 'my_type'},\n",
       "   {'_id': '15019',\n",
       "    '_index': 'my_data_settting',\n",
       "    '_score': 1.0,\n",
       "    '_source': {'cmd_format_max_len': 11,\n",
       "     'cmd_format_min_len': 5,\n",
       "     'cmd_format_t': 'unknown-unicast-suppression[ %percent%][ cir %cir%][ cbs %cbs%][ packets %second%][ %bound%][ vlan %vlan_id%]',\n",
       "     'cmd_format_t_len': 506,\n",
       "     'id_label': 'cmd_vsi_set_unknown_unicast_suppression',\n",
       "     'old_cmd_format_t': \"'unknown-unicast-suppression[ %percent%][ cir %cir%][ cbs %cbs%][ packets %second%][ %bound%][ vlan %vlan_id%]'\\\\r\\\\n \\\\n\"},\n",
       "    '_type': 'my_type'},\n",
       "   {'_id': '15021',\n",
       "    '_index': 'my_data_settting',\n",
       "    '_score': 1.0,\n",
       "    '_source': {'cmd_format_max_len': 8,\n",
       "     'cmd_format_min_len': 2,\n",
       "     'cmd_format_t': 'l2-multicast fast-channel [source-address %source%] [%sourcemask%] [group-address %group%] [%groupmask%]',\n",
       "     'cmd_format_t_len': 206,\n",
       "     'id_label': 'cmd_vsi_set_l2multicast_fastchannel',\n",
       "     'old_cmd_format_t': \"'l2-multicast fast-channel [source-address %source%] [%sourcemask%] [group-address %group%] [%groupmask%]'\\\\r\\\\n \\\\n\"},\n",
       "    '_type': 'my_type'},\n",
       "   {'_id': '15026',\n",
       "    '_index': 'my_data_settting',\n",
       "    '_score': 1.0,\n",
       "    '_source': {'cmd_format_max_len': 4,\n",
       "     'cmd_format_min_len': 4,\n",
       "     'cmd_format_t': 'undo l2-multicast backup-report forward',\n",
       "     'cmd_format_t_len': 400,\n",
       "     'id_label': 'cmd_vsi_unset_l2multicast_backup_report_forward',\n",
       "     'old_cmd_format_t': \"'undo l2-multicast backup-report forward'\\\\r\\\\n \\\\n\"},\n",
       "    '_type': 'my_type'},\n",
       "   {'_id': '15027',\n",
       "    '_index': 'my_data_settting',\n",
       "    '_score': 1.0,\n",
       "    '_source': {'cmd_format_max_len': 2,\n",
       "     'cmd_format_min_len': 2,\n",
       "     'cmd_format_t': 'igmp-snooping enable',\n",
       "     'cmd_format_t_len': 200,\n",
       "     'id_label': 'cmd_vsi_igmpsnooping_enable',\n",
       "     'old_cmd_format_t': \"'igmp-snooping enable'\\\\r\\\\n \\\\n\"},\n",
       "    '_type': 'my_type'},\n",
       "   {'_id': '15029',\n",
       "    '_index': 'my_data_settting',\n",
       "    '_score': 1.0,\n",
       "    '_source': {'cmd_format_max_len': 3,\n",
       "     'cmd_format_min_len': 3,\n",
       "     'cmd_format_t': 'igmp-snooping pbb enable',\n",
       "     'cmd_format_t_len': 300,\n",
       "     'id_label': 'cmd_vsi_igmpsnooping_pbb_enable',\n",
       "     'old_cmd_format_t': \"'igmp-snooping pbb enable'\\\\r\\\\n \\\\n\"},\n",
       "    '_type': 'my_type'},\n",
       "   {'_id': '15030',\n",
       "    '_index': 'my_data_settting',\n",
       "    '_score': 1.0,\n",
       "    '_source': {'cmd_format_max_len': 4,\n",
       "     'cmd_format_min_len': 4,\n",
       "     'cmd_format_t': 'undo igmp-snooping pbb enable',\n",
       "     'cmd_format_t_len': 400,\n",
       "     'id_label': 'cmd_vsi_igmpsnooping_pbb_disable',\n",
       "     'old_cmd_format_t': \"'undo igmp-snooping pbb enable'\\\\r\\\\n \\\\n\"},\n",
       "    '_type': 'my_type'}],\n",
       "  'max_score': 1.0,\n",
       "  'total': 51920},\n",
       " 'timed_out': False,\n",
       " 'took': 5}"
      ]
     },
     "execution_count": 358,
     "metadata": {},
     "output_type": "execute_result"
    }
   ],
   "source": [
    "es.search(index=\"my_data_settting\", body={\"query\": {\"match_all\": {}}})"
   ]
  },
  {
   "cell_type": "code",
   "execution_count": 231,
   "metadata": {},
   "outputs": [
    {
     "data": {
      "text/plain": [
       "{'tokens': [{'end_offset': 4,\n",
       "   'position': 0,\n",
       "   'start_offset': 0,\n",
       "   'token': 'is_hyphen_a',\n",
       "   'type': '<ALPHANUM>'}]}"
      ]
     },
     "execution_count": 231,
     "metadata": {},
     "output_type": "execute_result"
    }
   ],
   "source": [
    "es.indices.analyze(index=\"my_data_settting\", body={\"text\": \"is-a\",  \"analyzer\": \"my_analyzer\"})"
   ]
  },
  {
   "cell_type": "code",
   "execution_count": 349,
   "metadata": {},
   "outputs": [
    {
     "data": {
      "text/plain": [
       "{'_shards': {'failed': 0, 'skipped': 0, 'successful': 5, 'total': 5},\n",
       " 'hits': {'hits': [{'_explanation': {'description': 'weight(cmd_format_t:\"undo mpls\"~100 in 7727) [PerFieldSimilarity], result of:',\n",
       "     'details': [{'description': 'score(doc=7727,freq=1.0 = phraseFreq=1.0\\n), product of:',\n",
       "       'details': [{'description': 'idf(), sum of:',\n",
       "         'details': [{'description': 'idf, computed as log(1 + (docCount - docFreq + 0.5) / (docFreq + 0.5)) from:',\n",
       "           'details': [{'description': 'docFreq',\n",
       "             'details': [],\n",
       "             'value': 2276.0},\n",
       "            {'description': 'docCount', 'details': [], 'value': 10398.0}],\n",
       "           'value': 1.5190705},\n",
       "          {'description': 'idf, computed as log(1 + (docCount - docFreq + 0.5) / (docFreq + 0.5)) from:',\n",
       "           'details': [{'description': 'docFreq',\n",
       "             'details': [],\n",
       "             'value': 228.0},\n",
       "            {'description': 'docCount', 'details': [], 'value': 10398.0}],\n",
       "           'value': 3.8179288}],\n",
       "         'value': 5.3369994},\n",
       "        {'description': 'tfNorm, computed as (freq * (k1 + 1)) / (freq + k1 * (1 - b + b * fieldLength / avgFieldLength)) from:',\n",
       "         'details': [{'description': 'phraseFreq=1.0',\n",
       "           'details': [],\n",
       "           'value': 1.0},\n",
       "          {'description': 'parameter k1', 'details': [], 'value': 1.2},\n",
       "          {'description': 'parameter b', 'details': [], 'value': 0.75},\n",
       "          {'description': 'avgFieldLength', 'details': [], 'value': 11.716772},\n",
       "          {'description': 'fieldLength', 'details': [], 'value': 2.0}],\n",
       "         'value': 1.5134568}],\n",
       "       'value': 8.077318}],\n",
       "     'value': 8.077318},\n",
       "    '_id': '37335',\n",
       "    '_index': 'my_data_settting',\n",
       "    '_node': 'KQm9L7T2RMmbxHKzB29jdw',\n",
       "    '_score': 8.077318,\n",
       "    '_shard': '[my_data_settting][1]',\n",
       "    '_source': {'cmd_format_t': 'undo mpls',\n",
       "     'id_label': 'cmd_mpls_disable',\n",
       "     'old_cmd_format_t': \"'undo mpls'\\\\r\\\\n \\\\n'undo mpls'\\\\r\\\\n \\\\n\"},\n",
       "    '_type': 'my_type',\n",
       "    'highlight': {'cmd_format_t': ['<em>undo</em> <em>mpls</em>']}},\n",
       "   {'_explanation': {'description': 'weight(cmd_format_t:\"undo mpls\"~100 in 7728) [PerFieldSimilarity], result of:',\n",
       "     'details': [{'description': 'score(doc=7728,freq=1.0 = phraseFreq=1.0\\n), product of:',\n",
       "       'details': [{'description': 'idf(), sum of:',\n",
       "         'details': [{'description': 'idf, computed as log(1 + (docCount - docFreq + 0.5) / (docFreq + 0.5)) from:',\n",
       "           'details': [{'description': 'docFreq',\n",
       "             'details': [],\n",
       "             'value': 2276.0},\n",
       "            {'description': 'docCount', 'details': [], 'value': 10398.0}],\n",
       "           'value': 1.5190705},\n",
       "          {'description': 'idf, computed as log(1 + (docCount - docFreq + 0.5) / (docFreq + 0.5)) from:',\n",
       "           'details': [{'description': 'docFreq',\n",
       "             'details': [],\n",
       "             'value': 228.0},\n",
       "            {'description': 'docCount', 'details': [], 'value': 10398.0}],\n",
       "           'value': 3.8179288}],\n",
       "         'value': 5.3369994},\n",
       "        {'description': 'tfNorm, computed as (freq * (k1 + 1)) / (freq + k1 * (1 - b + b * fieldLength / avgFieldLength)) from:',\n",
       "         'details': [{'description': 'phraseFreq=1.0',\n",
       "           'details': [],\n",
       "           'value': 1.0},\n",
       "          {'description': 'parameter k1', 'details': [], 'value': 1.2},\n",
       "          {'description': 'parameter b', 'details': [], 'value': 0.75},\n",
       "          {'description': 'avgFieldLength', 'details': [], 'value': 11.716772},\n",
       "          {'description': 'fieldLength', 'details': [], 'value': 2.0}],\n",
       "         'value': 1.5134568}],\n",
       "       'value': 8.077318}],\n",
       "     'value': 8.077318},\n",
       "    '_id': '37336',\n",
       "    '_index': 'my_data_settting',\n",
       "    '_node': 'KQm9L7T2RMmbxHKzB29jdw',\n",
       "    '_score': 8.077318,\n",
       "    '_shard': '[my_data_settting][1]',\n",
       "    '_source': {'cmd_format_t': 'undo mpls',\n",
       "     'id_label': 'cmd_mpls_disable',\n",
       "     'old_cmd_format_t': \"'undo mpls'\\\\r\\\\n \\\\n'undo mpls'\\\\r\\\\n \\\\n\"},\n",
       "    '_type': 'my_type',\n",
       "    'highlight': {'cmd_format_t': ['<em>undo</em> <em>mpls</em>']}},\n",
       "   {'_explanation': {'description': 'weight(cmd_format_t:\"undo mpls\"~100 in 6582) [PerFieldSimilarity], result of:',\n",
       "     'details': [{'description': 'score(doc=6582,freq=1.0 = phraseFreq=1.0\\n), product of:',\n",
       "       'details': [{'description': 'idf(), sum of:',\n",
       "         'details': [{'description': 'idf, computed as log(1 + (docCount - docFreq + 0.5) / (docFreq + 0.5)) from:',\n",
       "           'details': [{'description': 'docFreq',\n",
       "             'details': [],\n",
       "             'value': 2325.0},\n",
       "            {'description': 'docCount', 'details': [], 'value': 10374.0}],\n",
       "           'value': 1.495464},\n",
       "          {'description': 'idf, computed as log(1 + (docCount - docFreq + 0.5) / (docFreq + 0.5)) from:',\n",
       "           'details': [{'description': 'docFreq',\n",
       "             'details': [],\n",
       "             'value': 228.0},\n",
       "            {'description': 'docCount', 'details': [], 'value': 10374.0}],\n",
       "           'value': 3.815618}],\n",
       "         'value': 5.311082},\n",
       "        {'description': 'tfNorm, computed as (freq * (k1 + 1)) / (freq + k1 * (1 - b + b * fieldLength / avgFieldLength)) from:',\n",
       "         'details': [{'description': 'phraseFreq=1.0',\n",
       "           'details': [],\n",
       "           'value': 1.0},\n",
       "          {'description': 'parameter k1', 'details': [], 'value': 1.2},\n",
       "          {'description': 'parameter b', 'details': [], 'value': 0.75},\n",
       "          {'description': 'avgFieldLength', 'details': [], 'value': 11.823501},\n",
       "          {'description': 'fieldLength', 'details': [], 'value': 2.0}],\n",
       "         'value': 1.514902}],\n",
       "       'value': 8.045769}],\n",
       "     'value': 8.045769},\n",
       "    '_id': '41850',\n",
       "    '_index': 'my_data_settting',\n",
       "    '_node': 'KQm9L7T2RMmbxHKzB29jdw',\n",
       "    '_score': 8.045769,\n",
       "    '_shard': '[my_data_settting][3]',\n",
       "    '_source': {'cmd_format_t': 'undo mpls',\n",
       "     'id_label': 'cmd_tunnel_mpls_disable',\n",
       "     'old_cmd_format_t': \"'undo mpls'\\\\r\\\\n \\\\n\"},\n",
       "    '_type': 'my_type',\n",
       "    'highlight': {'cmd_format_t': ['<em>undo</em> <em>mpls</em>']}},\n",
       "   {'_explanation': {'description': 'weight(cmd_format_t:\"undo mpls\"~100 in 8103) [PerFieldSimilarity], result of:',\n",
       "     'details': [{'description': 'score(doc=8103,freq=1.0 = phraseFreq=1.0\\n), product of:',\n",
       "       'details': [{'description': 'idf(), sum of:',\n",
       "         'details': [{'description': 'idf, computed as log(1 + (docCount - docFreq + 0.5) / (docFreq + 0.5)) from:',\n",
       "           'details': [{'description': 'docFreq',\n",
       "             'details': [],\n",
       "             'value': 2325.0},\n",
       "            {'description': 'docCount', 'details': [], 'value': 10374.0}],\n",
       "           'value': 1.495464},\n",
       "          {'description': 'idf, computed as log(1 + (docCount - docFreq + 0.5) / (docFreq + 0.5)) from:',\n",
       "           'details': [{'description': 'docFreq',\n",
       "             'details': [],\n",
       "             'value': 228.0},\n",
       "            {'description': 'docCount', 'details': [], 'value': 10374.0}],\n",
       "           'value': 3.815618}],\n",
       "         'value': 5.311082},\n",
       "        {'description': 'tfNorm, computed as (freq * (k1 + 1)) / (freq + k1 * (1 - b + b * fieldLength / avgFieldLength)) from:',\n",
       "         'details': [{'description': 'phraseFreq=1.0',\n",
       "           'details': [],\n",
       "           'value': 1.0},\n",
       "          {'description': 'parameter k1', 'details': [], 'value': 1.2},\n",
       "          {'description': 'parameter b', 'details': [], 'value': 0.75},\n",
       "          {'description': 'avgFieldLength', 'details': [], 'value': 11.823501},\n",
       "          {'description': 'fieldLength', 'details': [], 'value': 2.0}],\n",
       "         'value': 1.514902}],\n",
       "       'value': 8.045769}],\n",
       "     'value': 8.045769},\n",
       "    '_id': '37338',\n",
       "    '_index': 'my_data_settting',\n",
       "    '_node': 'KQm9L7T2RMmbxHKzB29jdw',\n",
       "    '_score': 8.045769,\n",
       "    '_shard': '[my_data_settting][3]',\n",
       "    '_source': {'cmd_format_t': 'undo mpls',\n",
       "     'id_label': 'cmd_mpls_interface_disable',\n",
       "     'old_cmd_format_t': \"'undo mpls'\\\\r\\\\n \\\\n\"},\n",
       "    '_type': 'my_type',\n",
       "    'highlight': {'cmd_format_t': ['<em>undo</em> <em>mpls</em>']}},\n",
       "   {'_explanation': {'description': 'weight(cmd_format_t:\"undo mpls\"~100 in 853) [PerFieldSimilarity], result of:',\n",
       "     'details': [{'description': 'score(doc=853,freq=1.0 = phraseFreq=1.0\\n), product of:',\n",
       "       'details': [{'description': 'idf(), sum of:',\n",
       "         'details': [{'description': 'idf, computed as log(1 + (docCount - docFreq + 0.5) / (docFreq + 0.5)) from:',\n",
       "           'details': [{'description': 'docFreq',\n",
       "             'details': [],\n",
       "             'value': 2278.0},\n",
       "            {'description': 'docCount', 'details': [], 'value': 10377.0}],\n",
       "           'value': 1.5161709},\n",
       "          {'description': 'idf, computed as log(1 + (docCount - docFreq + 0.5) / (docFreq + 0.5)) from:',\n",
       "           'details': [{'description': 'docFreq',\n",
       "             'details': [],\n",
       "             'value': 191.0},\n",
       "            {'description': 'docCount', 'details': [], 'value': 10377.0}],\n",
       "           'value': 3.9925556}],\n",
       "         'value': 5.5087266},\n",
       "        {'description': 'tfNorm, computed as (freq * (k1 + 1)) / (freq + k1 * (1 - b + b * fieldLength / avgFieldLength)) from:',\n",
       "         'details': [{'description': 'phraseFreq=1.0',\n",
       "           'details': [],\n",
       "           'value': 1.0},\n",
       "          {'description': 'parameter k1', 'details': [], 'value': 1.2},\n",
       "          {'description': 'parameter b', 'details': [], 'value': 0.75},\n",
       "          {'description': 'avgFieldLength', 'details': [], 'value': 12.141177},\n",
       "          {'description': 'fieldLength', 'details': [], 'value': 3.0}],\n",
       "         'value': 1.4451022}],\n",
       "       'value': 7.960673}],\n",
       "     'value': 7.960673},\n",
       "    '_id': '5205',\n",
       "    '_index': 'my_data_settting',\n",
       "    '_node': 'KQm9L7T2RMmbxHKzB29jdw',\n",
       "    '_score': 7.960673,\n",
       "    '_shard': '[my_data_settting][2]',\n",
       "    '_source': {'cmd_format_t': 'undo mpls lsr-id ',\n",
       "     'id_label': 'cmd_ospf_area_fp_static_peer_mpls_lsr_id_unset',\n",
       "     'old_cmd_format_t': \"'undo mpls lsr-id '\\\\r\\\\n \\\\n\"},\n",
       "    '_type': 'my_type',\n",
       "    'highlight': {'cmd_format_t': ['<em>undo</em> <em>mpls</em> lsr-id']}}],\n",
       "  'max_score': 8.077318,\n",
       "  'total': 376},\n",
       " 'timed_out': False,\n",
       " 'took': 2}"
      ]
     },
     "execution_count": 349,
     "metadata": {},
     "output_type": "execute_result"
    }
   ],
   "source": [
    "tmp = es.search(index=\"my_data_settting\", explain = True,size=5, body={\n",
    "    \"query\": {\n",
    "        \"match_phrase\": {\n",
    "            \"cmd_format_t\": {\n",
    "                \"query\": \"undo mpls\", \"slop\": 100\n",
    "            }\n",
    "        }\n",
    "    },\n",
    "    \"highlight\": {\n",
    "        \"fields\" : {\n",
    "            \"cmd_format_t\" : {}\n",
    "        }\n",
    "    }\n",
    "})\n",
    "tmp"
   ]
  },
  {
   "cell_type": "code",
   "execution_count": 337,
   "metadata": {},
   "outputs": [
    {
     "data": {
      "text/plain": [
       "{'_shards': {'failed': 0, 'skipped': 0, 'successful': 5, 'total': 5},\n",
       " 'hits': {'hits': [{'_id': '28414',\n",
       "    '_index': 'my_data_settting',\n",
       "    '_score': 11.941045,\n",
       "    '_source': {'cmd_format_t': 'preempt manual',\n",
       "     'id_label': 'cmd_sep_preempt_maunal',\n",
       "     'old_cmd_format_t': \"'preempt manual'\\\\r\\\\n \\\\n\"},\n",
       "    '_type': 'my_type',\n",
       "    'highlight': {'cmd_format_t': ['preempt <em>manual</em>']}},\n",
       "   {'_id': '13338',\n",
       "    '_index': 'my_data_settting',\n",
       "    '_score': 11.696375,\n",
       "    '_source': {'cmd_format_t': 'debugging ipsec packet[ %manual%][ %vpn%]',\n",
       "     'id_label': 'cmd_set_debug_ipsec_pkt',\n",
       "     'old_cmd_format_t': \"'debugging ipsec packet[ %manual%][ %vpn%]'\\\\r\\\\n \\\\n\"},\n",
       "    '_type': 'my_type',\n",
       "    'highlight': {'cmd_format_t': ['debugging ipsec packet[ %<em>manual</em>%][ %vpn%]']}},\n",
       "   {'_id': '12498',\n",
       "    '_index': 'my_data_settting',\n",
       "    '_score': 10.222243,\n",
       "    '_source': {'cmd_format_t': 'display ipsec sa[ manual %manual%][ name %name%][ vpn][ slot %slot_id%] brief[ engine %engine_id%][ card %card_id%]',\n",
       "     'id_label': 'cmd_get_ipsec_sa_brief',\n",
       "     'old_cmd_format_t': '\\'display ipsec sa[ manual %manual%][ name %name%][ vpn][ slot %slot_id%] brief[ engine %engine_id%][ card %card_id%]\\'\\\\r\\\\n \\\\n[\\\\r\\\\n    \"\",\\\\r\\\\n    [\"saName\", :name, \"\"],\\\\r\\\\n    ]\\\\r\\\\n \\\\n'},\n",
       "    '_type': 'my_type',\n",
       "    'highlight': {'cmd_format_t': ['display ipsec sa[ <em>manual</em> %<em>manual</em>%][ name %name%][ vpn][ slot %slot_id%] brief[ engine %engine_id%][ card']}},\n",
       "   {'_id': '13841',\n",
       "    '_index': 'my_data_settting',\n",
       "    '_score': 10.219362,\n",
       "    '_source': {'cmd_format_t': 'mode manual load-balance',\n",
       "     'id_label': 'cmd_set_mode_manual_loadbalance',\n",
       "     'old_cmd_format_t': \"'mode manual load-balance'\\\\r\\\\n \\\\n\"},\n",
       "    '_type': 'my_type',\n",
       "    'highlight': {'cmd_format_t': ['mode <em>manual</em> load-balance']}},\n",
       "   {'_id': '13842',\n",
       "    '_index': 'my_data_settting',\n",
       "    '_score': 10.219362,\n",
       "    '_source': {'cmd_format_t': 'mode manual backup',\n",
       "     'id_label': 'cmd_set_mode_manual_backup',\n",
       "     'old_cmd_format_t': \"'mode manual backup'\\\\r\\\\n \\\\n\"},\n",
       "    '_type': 'my_type',\n",
       "    'highlight': {'cmd_format_t': ['mode <em>manual</em> backup']}}],\n",
       "  'max_score': 11.941045,\n",
       "  'total': 375},\n",
       " 'timed_out': False,\n",
       " 'took': 2}"
      ]
     },
     "execution_count": 337,
     "metadata": {},
     "output_type": "execute_result"
    }
   ],
   "source": [
    "tmp = es.search(index=\"my_data_settting\", size=5, body={\n",
    "    \"query\": {\n",
    "        \"match\": {\n",
    "            \"cmd_format_t\": {\n",
    "                \"query\": \"alarm manual\",\n",
    "                \"minimum_should_match\": \"75%\"\n",
    "            }\n",
    "        }\n",
    "    },\n",
    "    \"highlight\": {\n",
    "        \"fields\" : {\n",
    "            \"cmd_format_t\" : {}\n",
    "        }\n",
    "    }\n",
    "})\n",
    "tmp"
   ]
  },
  {
   "cell_type": "code",
   "execution_count": 203,
   "metadata": {},
   "outputs": [
    {
     "data": {
      "text/plain": [
       "{'_shards': {'failed': 0, 'skipped': 0, 'successful': 5, 'total': 5},\n",
       " 'hits': {'hits': [{'_id': '42618',\n",
       "    '_index': 'my_data_settting',\n",
       "    '_score': 17.719131,\n",
       "    '_source': {'cmd_format_t': \"'clear alarm manual-clear [sequence-number %num%] [%all%]'\\\\r\\\\n \\\\n\",\n",
       "     'id_label': 'cmd_fm_clear_alarm_manual_clear'},\n",
       "    '_type': 'my_type'},\n",
       "   {'_id': '20707',\n",
       "    '_index': 'my_data_settting',\n",
       "    '_score': 16.827383,\n",
       "    '_source': {'cmd_format_t': \"'nexthop recursive-lookup restrain suppress-interval[ %suppress%] hold-interval[ %hold%] clear-interval[ %clear%]'\\\\r\\\\n \\\\n\",\n",
       "     'id_label': 'cmd_bgp_nexthop_recursive_restrain_suppress_hold_clear_set'},\n",
       "    '_type': 'my_type'},\n",
       "   {'_id': '23684',\n",
       "    '_index': 'my_data_settting',\n",
       "    '_score': 16.827383,\n",
       "    '_source': {'cmd_format_t': \"'nexthop recursive-lookup restrain suppress-interval[ %suppress%] hold-interval[ %hold%] clear-interval[ %clear%]'\\\\r\\\\n \\\\n\",\n",
       "     'id_label': 'cmd_bgp_mul_instance_nexthop_recursive_restrain_suppress_hold_clear_set'},\n",
       "    '_type': 'my_type'},\n",
       "   {'_id': '20809',\n",
       "    '_index': 'my_data_settting',\n",
       "    '_score': 16.809269,\n",
       "    '_source': {'cmd_format_t': \"'clear'\\\\r\\\\n \\\\n\",\n",
       "     'id_label': 'cmd_erps_set_clear'},\n",
       "    '_type': 'my_type'},\n",
       "   {'_id': '5743',\n",
       "    '_index': 'my_data_settting',\n",
       "    '_score': 16.349323,\n",
       "    '_source': {'cmd_format_t': \"'clear candidate-configuration%'\\\\r\\\\n \\\\n\",\n",
       "     'id_label': 'cmd_nqa_clear_candidate'},\n",
       "    '_type': 'my_type'}],\n",
       "  'max_score': 17.719131,\n",
       "  'total': 142},\n",
       " 'timed_out': False,\n",
       " 'took': 2}"
      ]
     },
     "execution_count": 203,
     "metadata": {},
     "output_type": "execute_result"
    }
   ],
   "source": [
    "tmp = es.search(index=\"my_data_settting\", size=5, body={\n",
    "  \"query\": {\n",
    "    \"bool\": {\n",
    "      \"must\": {\n",
    "        \"match\": { \n",
    "          \"cmd_format_t\": {\n",
    "            \"query\": \"clear\",\n",
    "            \"minimum_should_match\": \"60%\"\n",
    "          }\n",
    "        }\n",
    "      },\n",
    "      \"should\": {\n",
    "        \"match_phrase\": { \n",
    "          \"cmd_format_t\": {\n",
    "            \"query\": \"clear\",\n",
    "            \"slop\":  50\n",
    "          }\n",
    "        }\n",
    "      }\n",
    "    }\n",
    "  }\n",
    "})\n",
    "tmp"
   ]
  },
  {
   "cell_type": "code",
   "execution_count": 5,
   "metadata": {
    "collapsed": true
   },
   "outputs": [],
   "source": [
    "es.search?"
   ]
  },
  {
   "cell_type": "code",
   "execution_count": 299,
   "metadata": {},
   "outputs": [
    {
     "data": {
      "text/plain": [
       "0"
      ]
     },
     "execution_count": 299,
     "metadata": {},
     "output_type": "execute_result"
    }
   ],
   "source": [
    "cmd_score = {}\n",
    "cmd_score.get('s', 0)"
   ]
  },
  {
   "cell_type": "code",
   "execution_count": 306,
   "metadata": {},
   "outputs": [
    {
     "data": {
      "text/plain": [
       "{'cmd_bgp_mvpn_ipmsi_tunnel_unset_te': 12.927313,\n",
       " 'cmd_mpls_te_interface_disable': 12.734599,\n",
       " 'cmd_ospf_area_te_disable': 12.946407,\n",
       " 'cmd_undo_mpls_te_metric': 12.556868,\n",
       " 'cmd_undo_mpls_te_reoptimization_frequency': 12.556868,\n",
       " 'cmd_unset_inclusive_root_mplste_view': 12.946407,\n",
       " 'cmd_unset_mplste_view': 12.763281}"
      ]
     },
     "execution_count": 306,
     "metadata": {},
     "output_type": "execute_result"
    }
   ],
   "source": [
    "cmd_score = {}\n",
    "for cmd in tmp['hits']['hits'][:1000]:\n",
    "    id_label = cmd['_source']['id_label']\n",
    "    _score = cmd['_score']\n",
    "    if _score > cmd_score.get(id_label, 0):\n",
    "        cmd_score[id_label] = cmd['_score']\n",
    "cmd_score"
   ]
  },
  {
   "cell_type": "code",
   "execution_count": 305,
   "metadata": {},
   "outputs": [
    {
     "data": {
      "text/plain": [
       "'cmd_ospf_area_te_disable,cmd_unset_inclusive_root_mplste_view,cmd_bgp_mvpn_ipmsi_tunnel_unset_te,cmd_unset_mplste_view,cmd_mpls_te_interface_disable,cmd_undo_mpls_te_metric,cmd_undo_mpls_te_reoptimization_frequency'"
      ]
     },
     "execution_count": 305,
     "metadata": {},
     "output_type": "execute_result"
    }
   ],
   "source": [
    "','.join(cmd_score.keys())"
   ]
  },
  {
   "cell_type": "code",
   "execution_count": 303,
   "metadata": {},
   "outputs": [
    {
     "data": {
      "text/plain": [
       "'cmd_ospf_area_te_disable'"
      ]
     },
     "execution_count": 303,
     "metadata": {},
     "output_type": "execute_result"
    }
   ],
   "source": [
    "tmp['hits']['hits'][0]['_source']['id_label']"
   ]
  },
  {
   "cell_type": "markdown",
   "metadata": {},
   "source": [
    "## 尝试解析输入"
   ]
  },
  {
   "cell_type": "code",
   "execution_count": 116,
   "metadata": {},
   "outputs": [
    {
     "data": {
      "text/plain": [
       "{'tokens': [{'end_offset': 4,\n",
       "   'position': 0,\n",
       "   'start_offset': 0,\n",
       "   'token': 'mpls',\n",
       "   'type': '<ALPHANUM>'},\n",
       "  {'end_offset': 7,\n",
       "   'position': 1,\n",
       "   'start_offset': 5,\n",
       "   'token': 'te',\n",
       "   'type': '<ALPHANUM>'}]}"
      ]
     },
     "execution_count": 116,
     "metadata": {},
     "output_type": "execute_result"
    }
   ],
   "source": [
    "es.indices.analyze(index=\"nginx\", body={\"text\": \"mpls-te\"})"
   ]
  },
  {
   "cell_type": "markdown",
   "metadata": {},
   "source": [
    "## 尝试添加特殊符号"
   ]
  },
  {
   "cell_type": "code",
   "execution_count": 15,
   "metadata": {
    "collapsed": true
   },
   "outputs": [],
   "source": [
    "test_hyphen = {\n",
    "    \"settings\": {\n",
    "        \"analysis\": {\n",
    "            \"analyzer\": {\n",
    "                \"my_analyzer\": {\n",
    "                    \"tokenizer\": \"standard\",\n",
    "                    \"char_filter\": [\n",
    "                        \"my_char_filter\"\n",
    "                    ]\n",
    "                } \n",
    "            },\n",
    "            \"char_filter\": {\n",
    "                \"my_char_filter\": {\n",
    "                    \"type\": \"mapping\",\n",
    "                    \"mappings\": [\n",
    "                        \"- => _hyphen_\",\n",
    "                    ]\n",
    "                }\n",
    "            }\n",
    "        }\n",
    "    }\n",
    "}"
   ]
  },
  {
   "cell_type": "code",
   "execution_count": null,
   "metadata": {
    "collapsed": true
   },
   "outputs": [],
   "source": [
    "map_test_hyphen = {'properties': {\n",
    "    'text': {\n",
    "        \"search_analyzer\": \"my_analyzer\",\n",
    "        \"analyzer\": \"my_analyzer\",\n",
    "        'type': 'text'}}}\n",
    "es.indices.put_mapping(index=\"test_hyphen\", body=map_test_hyphen, doc_type='tweet')"
   ]
  },
  {
   "cell_type": "code",
   "execution_count": 268,
   "metadata": {},
   "outputs": [
    {
     "data": {
      "text/plain": [
       "{'acknowledged': True}"
      ]
     },
     "execution_count": 268,
     "metadata": {},
     "output_type": "execute_result"
    },
    {
     "data": {
      "text/plain": [
       "{'acknowledged': True, 'index': 'test_hyphen', 'shards_acknowledged': True}"
      ]
     },
     "execution_count": 268,
     "metadata": {},
     "output_type": "execute_result"
    }
   ],
   "source": [
    "es.indices.delete(index=\"test_hyphen\")\n",
    "es.indices.create(index=\"test_hyphen\", body=test_hyphen)"
   ]
  },
  {
   "cell_type": "code",
   "execution_count": 123,
   "metadata": {},
   "outputs": [
    {
     "data": {
      "text/plain": [
       "{'tokens': [{'end_offset': 7,\n",
       "   'position': 0,\n",
       "   'start_offset': 0,\n",
       "   'token': 'mpls_hyphen_te',\n",
       "   'type': '<ALPHANUM>'}]}"
      ]
     },
     "execution_count": 123,
     "metadata": {},
     "output_type": "execute_result"
    }
   ],
   "source": [
    "es.indices.analyze(index=\"test_hyphen\", body={\"analyzer\": \"my_analyzer\", \"text\": \"mpls-te\"})"
   ]
  },
  {
   "cell_type": "markdown",
   "metadata": {},
   "source": [
    "## 查询及变更设置"
   ]
  },
  {
   "cell_type": "code",
   "execution_count": 14,
   "metadata": {},
   "outputs": [
    {
     "name": "stdout",
     "output_type": "stream",
     "text": [
      "{'test_hyphen': {'settings': {'index': {'analysis': {'analyzer': {'my_analyzer': {'char_filter': ['my_char_filter'],\n",
      "                                                                                  'tokenizer': 'standard'}},\n",
      "                                                     'char_filter': {'my_char_filter': {'mappings': ['[ '\n",
      "                                                                                                     '=> '\n",
      "                                                                                                     '_l_square_brackets_',\n",
      "                                                                                                     '] '\n",
      "                                                                                                     '=> '\n",
      "                                                                                                     '_r_square_brackets_'],\n",
      "                                                                                        'type': 'mapping'}}},\n",
      "                                        'creation_date': '1524046326806',\n",
      "                                        'number_of_replicas': '1',\n",
      "                                        'number_of_shards': '5',\n",
      "                                        'provided_name': 'test_hyphen',\n",
      "                                        'uuid': 'cvIBpXjWTfSX6PiLXzNq9Q',\n",
      "                                        'version': {'created': '6020399'}}}}}\n"
     ]
    }
   ],
   "source": [
    "pprint.pprint(es.indices.get_settings(index=\"test_hyphen\"))"
   ]
  },
  {
   "cell_type": "code",
   "execution_count": 13,
   "metadata": {},
   "outputs": [
    {
     "name": "stdout",
     "output_type": "stream",
     "text": [
      "{'test_hyphen': {'mappings': {'tweet': {'properties': {'text': {'analyzer': 'my_analyzer',\n",
      "                                                                'type': 'text'}}}}}}\n"
     ]
    }
   ],
   "source": [
    "pprint.pprint(es.indices.get_mapping(index=\"test_hyphen\"))"
   ]
  },
  {
   "cell_type": "code",
   "execution_count": 270,
   "metadata": {},
   "outputs": [
    {
     "data": {
      "text/plain": [
       "{'acknowledged': True}"
      ]
     },
     "execution_count": 270,
     "metadata": {},
     "output_type": "execute_result"
    }
   ],
   "source": [
    "map_test_hyphen = {'properties': {\n",
    "    'text': {\n",
    "        \"search_analyzer\": \"my_analyzer\",\n",
    "        \"analyzer\": \"my_analyzer\",\n",
    "        'type': 'text'}}}\n",
    "es.indices.put_mapping(index=\"test_hyphen\", body=map_test_hyphen, doc_type='tweet')"
   ]
  },
  {
   "cell_type": "code",
   "execution_count": 17,
   "metadata": {},
   "outputs": [
    {
     "data": {
      "text/plain": [
       "{'_id': '1',\n",
       " '_index': 'test_hyphen',\n",
       " '_primary_term': 5,\n",
       " '_seq_no': 4,\n",
       " '_shards': {'failed': 0, 'successful': 1, 'total': 2},\n",
       " '_type': 'tweet',\n",
       " '_version': 5,\n",
       " 'result': 'updated'}"
      ]
     },
     "execution_count": 17,
     "metadata": {},
     "output_type": "execute_result"
    },
    {
     "data": {
      "text/plain": [
       "{'_id': '2',\n",
       " '_index': 'test_hyphen',\n",
       " '_primary_term': 5,\n",
       " '_seq_no': 8,\n",
       " '_shards': {'failed': 0, 'successful': 1, 'total': 2},\n",
       " '_type': 'tweet',\n",
       " '_version': 5,\n",
       " 'result': 'updated'}"
      ]
     },
     "execution_count": 17,
     "metadata": {},
     "output_type": "execute_result"
    },
    {
     "data": {
      "text/plain": [
       "{'_id': '3',\n",
       " '_index': 'test_hyphen',\n",
       " '_primary_term': 5,\n",
       " '_seq_no': 4,\n",
       " '_shards': {'failed': 0, 'successful': 1, 'total': 2},\n",
       " '_type': 'tweet',\n",
       " '_version': 5,\n",
       " 'result': 'updated'}"
      ]
     },
     "execution_count": 17,
     "metadata": {},
     "output_type": "execute_result"
    },
    {
     "data": {
      "text/plain": [
       "{'_id': '4',\n",
       " '_index': 'test_hyphen',\n",
       " '_primary_term': 5,\n",
       " '_seq_no': 9,\n",
       " '_shards': {'failed': 0, 'successful': 1, 'total': 2},\n",
       " '_type': 'tweet',\n",
       " '_version': 5,\n",
       " 'result': 'updated'}"
      ]
     },
     "execution_count": 17,
     "metadata": {},
     "output_type": "execute_result"
    }
   ],
   "source": [
    "doc = {\n",
    "    'text': 'This is-a [brown fox]',\n",
    "}\n",
    "doc2 = {\n",
    "    'text': 'This is a brown fox',\n",
    "}\n",
    "doc3 = {\n",
    "    'text': 'This is_a brown fox',\n",
    "}\n",
    "doc4 = {\n",
    "    'text': 'This is-a [brown fox]',\n",
    "}\n",
    "es.index(index=\"test_hyphen\", doc_type='tweet', id=1, body=doc)\n",
    "es.index(index=\"test_hyphen\", doc_type='tweet', id=2, body=doc2)\n",
    "es.index(index=\"test_hyphen\", doc_type='tweet', id=3, body=doc3)\n",
    "es.index(index=\"test_hyphen\", doc_type='tweet', id=4, body=doc4)"
   ]
  },
  {
   "cell_type": "code",
   "execution_count": 275,
   "metadata": {
    "collapsed": true
   },
   "outputs": [],
   "source": [
    "test_hyphen_2 = {\n",
    "  \"settings\": {\n",
    "    \"analysis\": {\n",
    "      \"analyzer\": {\n",
    "        \"my_analyzer\": {\n",
    "          \"tokenizer\": \"standard\",\n",
    "          \"char_filter\": [\n",
    "            \"my_char_filter\"\n",
    "          ]\n",
    "        }\n",
    "      },\n",
    "      \"char_filter\": {\n",
    "        \"my_char_filter\": {\n",
    "          \"type\": \"mapping\",\n",
    "          \"mappings\": [\n",
    "            \"[ => _l_square_brackets_\",\n",
    "            \"] => _r_square_brackets_\"\n",
    "          ]\n",
    "        }\n",
    "      }\n",
    "    }\n",
    "  }\n",
    "}"
   ]
  },
  {
   "cell_type": "markdown",
   "metadata": {},
   "source": [
    "变更配置"
   ]
  },
  {
   "cell_type": "code",
   "execution_count": 16,
   "metadata": {},
   "outputs": [
    {
     "data": {
      "text/plain": [
       "{'acknowledged': True}"
      ]
     },
     "execution_count": 16,
     "metadata": {},
     "output_type": "execute_result"
    },
    {
     "data": {
      "text/plain": [
       "{'acknowledged': True}"
      ]
     },
     "execution_count": 16,
     "metadata": {},
     "output_type": "execute_result"
    },
    {
     "data": {
      "text/plain": [
       "{'acknowledged': True, 'shards_acknowledged': True}"
      ]
     },
     "execution_count": 16,
     "metadata": {},
     "output_type": "execute_result"
    },
    {
     "data": {
      "text/plain": [
       "{'test_hyphen': {'settings': {'index': {'analysis': {'analyzer': {'my_analyzer': {'char_filter': ['my_char_filter'],\n",
       "       'tokenizer': 'standard'}},\n",
       "     'char_filter': {'my_char_filter': {'mappings': ['- => _hyphen_'],\n",
       "       'type': 'mapping'}}},\n",
       "    'creation_date': '1524046326806',\n",
       "    'number_of_replicas': '1',\n",
       "    'number_of_shards': '5',\n",
       "    'provided_name': 'test_hyphen',\n",
       "    'uuid': 'cvIBpXjWTfSX6PiLXzNq9Q',\n",
       "    'version': {'created': '6020399'}}}}}"
      ]
     },
     "execution_count": 16,
     "metadata": {},
     "output_type": "execute_result"
    }
   ],
   "source": [
    "es.indices.close(index=\"test_hyphen\")\n",
    "es.indices.put_settings(index=\"test_hyphen\", body=test_hyphen)\n",
    "es.indices.open(index=\"test_hyphen\")\n",
    "es.indices.get_settings(index=\"test_hyphen\")"
   ]
  },
  {
   "cell_type": "code",
   "execution_count": 228,
   "metadata": {},
   "outputs": [
    {
     "data": {
      "text/plain": [
       "{'_shards': {'failed': 0, 'skipped': 0, 'successful': 5, 'total': 5},\n",
       " 'hits': {'hits': [{'_id': '2',\n",
       "    '_index': 'test_hyphen',\n",
       "    '_score': 0.66301036,\n",
       "    '_source': {'text': 'This is a brown fox'},\n",
       "    '_type': 'tweet'}],\n",
       "  'max_score': 0.66301036,\n",
       "  'total': 1},\n",
       " 'timed_out': False,\n",
       " 'took': 1}"
      ]
     },
     "execution_count": 228,
     "metadata": {},
     "output_type": "execute_result"
    }
   ],
   "source": [
    "es.search(index=\"test_hyphen\", body={\"query\": {\"match\": {\"text\": \"is\"}}})"
   ]
  },
  {
   "cell_type": "code",
   "execution_count": 227,
   "metadata": {},
   "outputs": [
    {
     "data": {
      "text/plain": [
       "{'_shards': {'failed': 0, 'skipped': 0, 'successful': 5, 'total': 5},\n",
       " 'hits': {'hits': [{'_id': '4',\n",
       "    '_index': 'test_hyphen',\n",
       "    '_score': 0.7261542,\n",
       "    '_source': {'text': 'This is-a [brown fox]'},\n",
       "    '_type': 'tweet'},\n",
       "   {'_id': '1',\n",
       "    '_index': 'test_hyphen',\n",
       "    '_score': 0.2876821,\n",
       "    '_source': {'text': 'This is-a [brown fox]'},\n",
       "    '_type': 'tweet'}],\n",
       "  'max_score': 0.7261542,\n",
       "  'total': 2},\n",
       " 'timed_out': False,\n",
       " 'took': 1}"
      ]
     },
     "execution_count": 227,
     "metadata": {},
     "output_type": "execute_result"
    }
   ],
   "source": [
    "es.search(index=\"test_hyphen\", body={\"query\": {\"match\": {\"text\": \"is-a\"}}})"
   ]
  },
  {
   "cell_type": "code",
   "execution_count": 160,
   "metadata": {},
   "outputs": [
    {
     "data": {
      "text/plain": [
       "{'_shards': {'failed': 0, 'skipped': 0, 'successful': 5, 'total': 5},\n",
       " 'hits': {'hits': [{'_id': '2',\n",
       "    '_index': 'test_hyphen',\n",
       "    '_score': 0.2876821,\n",
       "    '_source': {'text': 'This is_a brown fox'},\n",
       "    '_type': 'tweet'},\n",
       "   {'_id': '1',\n",
       "    '_index': 'test_hyphen',\n",
       "    '_score': 0.2876821,\n",
       "    '_source': {'text': 'This is_a [brown fox]'},\n",
       "    '_type': 'tweet'}],\n",
       "  'max_score': 0.2876821,\n",
       "  'total': 2},\n",
       " 'timed_out': False,\n",
       " 'took': 3}"
      ]
     },
     "execution_count": 160,
     "metadata": {},
     "output_type": "execute_result"
    }
   ],
   "source": [
    "es.search(index=\"test_hyphen\", body={\"query\": {\"match\": {\"text\": \"[brown\"}}})"
   ]
  },
  {
   "cell_type": "code",
   "execution_count": 288,
   "metadata": {},
   "outputs": [
    {
     "data": {
      "text/plain": [
       "{'_shards': {'failed': 0, 'successful': 5, 'total': 10}}"
      ]
     },
     "execution_count": 288,
     "metadata": {},
     "output_type": "execute_result"
    },
    {
     "data": {
      "text/plain": [
       "{'_shards': {'failed': 0, 'successful': 5, 'total': 10}}"
      ]
     },
     "execution_count": 288,
     "metadata": {},
     "output_type": "execute_result"
    },
    {
     "data": {
      "text/plain": [
       "{'_shards': {'failed': 0, 'successful': 5, 'total': 10},\n",
       " 'test_hyphen': {'failed': 0, 'successful': 5, 'total': 10}}"
      ]
     },
     "execution_count": 288,
     "metadata": {},
     "output_type": "execute_result"
    }
   ],
   "source": [
    "es.indices.refresh(index=\"test_hyphen\")\n",
    "es.indices.flush(index=\"test_hyphen\")\n",
    "es.indices.flush_synced(index=\"test_hyphen\")"
   ]
  },
  {
   "cell_type": "code",
   "execution_count": 227,
   "metadata": {},
   "outputs": [
    {
     "data": {
      "text/plain": [
       "{'tokens': [{'end_offset': 7,\n",
       "   'position': 0,\n",
       "   'start_offset': 0,\n",
       "   'token': 'mpls_hyphen_te',\n",
       "   'type': '<ALPHANUM>'}]}"
      ]
     },
     "execution_count": 227,
     "metadata": {},
     "output_type": "execute_result"
    }
   ],
   "source": [
    "es.indices.analyze(index=\"test_hyphen\", body={\"text\": \"mpls-te\", \"analyzer\": \"my_analyzer\"})"
   ]
  },
  {
   "cell_type": "markdown",
   "metadata": {},
   "source": [
    "## Ngrams在复合词的应用"
   ]
  },
  {
   "cell_type": "code",
   "execution_count": 49,
   "metadata": {
    "collapsed": true
   },
   "outputs": [],
   "source": [
    "test_ngrams = {\n",
    "    \"settings\": {\n",
    "        \"analysis\": {\n",
    "            \"filter\": {\n",
    "                \"trigrams_filter\": {\n",
    "                    \"type\":     \"ngram\",\n",
    "                    \"min_gram\": 2,\n",
    "                    \"max_gram\": 20\n",
    "                }\n",
    "            },\n",
    "            \"analyzer\": {\n",
    "                \"trigrams\": {\n",
    "                    \"type\":      \"custom\",\n",
    "                    \"tokenizer\": \"standard\",\n",
    "                    \"filter\":   [\n",
    "                        \"lowercase\",\n",
    "                        \"trigrams_filter\",\n",
    "                    ],\n",
    "                    \"char_filter\": [\n",
    "                        \"my_char_filter\"\n",
    "                    ]\n",
    "                }\n",
    "            },\n",
    "            \"char_filter\": {\n",
    "                \"my_char_filter\": {\n",
    "                    \"type\": \"mapping\",\n",
    "                    \"mappings\": [\n",
    "                        \"- => _hyphen_\",\n",
    "                    ]\n",
    "                }\n",
    "            }\n",
    "        }\n",
    "    },\n",
    "    \"mappings\": {\n",
    "        \"my_type\": {\n",
    "            \"properties\": {\n",
    "                \"text\": {\n",
    "                    \"type\":     \"text\",\n",
    "                    \"analyzer\": \"trigrams\" \n",
    "                }\n",
    "            }\n",
    "        }\n",
    "    }\n",
    "}"
   ]
  },
  {
   "cell_type": "code",
   "execution_count": 56,
   "metadata": {},
   "outputs": [
    {
     "data": {
      "text/plain": [
       "{'acknowledged': True}"
      ]
     },
     "execution_count": 56,
     "metadata": {},
     "output_type": "execute_result"
    },
    {
     "data": {
      "text/plain": [
       "{'acknowledged': True, 'index': 'test_ngrams', 'shards_acknowledged': True}"
      ]
     },
     "execution_count": 56,
     "metadata": {},
     "output_type": "execute_result"
    },
    {
     "name": "stdout",
     "output_type": "stream",
     "text": [
      "{'test_ngrams': {'settings': {'index': {'analysis': {'analyzer': {'trigrams': {'char_filter': ['my_char_filter'],\n",
      "                                                                               'filter': ['lowercase',\n",
      "                                                                                          'trigrams_filter'],\n",
      "                                                                               'tokenizer': 'standard',\n",
      "                                                                               'type': 'custom'}},\n",
      "                                                     'char_filter': {'my_char_filter': {'mappings': ['- '\n",
      "                                                                                                     '=> '\n",
      "                                                                                                     '_hyphen_'],\n",
      "                                                                                        'type': 'mapping'}},\n",
      "                                                     'filter': {'trigrams_filter': {'max_gram': '20',\n",
      "                                                                                    'min_gram': '2',\n",
      "                                                                                    'type': 'ngram'}}},\n",
      "                                        'creation_date': '1524124772311',\n",
      "                                        'number_of_replicas': '1',\n",
      "                                        'number_of_shards': '5',\n",
      "                                        'provided_name': 'test_ngrams',\n",
      "                                        'uuid': 'IEBgYAeVQ6aALFcPksRWFg',\n",
      "                                        'version': {'created': '6020399'}}}}}\n",
      "{'test_ngrams': {'mappings': {'my_type': {'properties': {'text': {'analyzer': 'trigrams',\n",
      "                                                                  'type': 'text'}}}}}}\n"
     ]
    }
   ],
   "source": [
    "es.indices.delete(index=\"test_ngrams\")\n",
    "es.indices.create(index=\"test_ngrams\", body=test_ngrams)\n",
    "pprint.pprint(es.indices.get_settings(index=\"test_ngrams\"))\n",
    "pprint.pprint(es.indices.get_mapping(index=\"test_ngrams\"))"
   ]
  },
  {
   "cell_type": "code",
   "execution_count": 63,
   "metadata": {
    "collapsed": true
   },
   "outputs": [
    {
     "data": {
      "text/plain": [
       "{'tokens': [{'end_offset': 7,\n",
       "   'position': 0,\n",
       "   'start_offset': 0,\n",
       "   'token': 'mp',\n",
       "   'type': '<ALPHANUM>'},\n",
       "  {'end_offset': 7,\n",
       "   'position': 0,\n",
       "   'start_offset': 0,\n",
       "   'token': 'mpl',\n",
       "   'type': '<ALPHANUM>'},\n",
       "  {'end_offset': 7,\n",
       "   'position': 0,\n",
       "   'start_offset': 0,\n",
       "   'token': 'mpls',\n",
       "   'type': '<ALPHANUM>'},\n",
       "  {'end_offset': 7,\n",
       "   'position': 0,\n",
       "   'start_offset': 0,\n",
       "   'token': 'mpls_',\n",
       "   'type': '<ALPHANUM>'},\n",
       "  {'end_offset': 7,\n",
       "   'position': 0,\n",
       "   'start_offset': 0,\n",
       "   'token': 'mpls_t',\n",
       "   'type': '<ALPHANUM>'},\n",
       "  {'end_offset': 7,\n",
       "   'position': 0,\n",
       "   'start_offset': 0,\n",
       "   'token': 'mpls_te',\n",
       "   'type': '<ALPHANUM>'},\n",
       "  {'end_offset': 7,\n",
       "   'position': 0,\n",
       "   'start_offset': 0,\n",
       "   'token': 'pl',\n",
       "   'type': '<ALPHANUM>'},\n",
       "  {'end_offset': 7,\n",
       "   'position': 0,\n",
       "   'start_offset': 0,\n",
       "   'token': 'pls',\n",
       "   'type': '<ALPHANUM>'},\n",
       "  {'end_offset': 7,\n",
       "   'position': 0,\n",
       "   'start_offset': 0,\n",
       "   'token': 'pls_',\n",
       "   'type': '<ALPHANUM>'},\n",
       "  {'end_offset': 7,\n",
       "   'position': 0,\n",
       "   'start_offset': 0,\n",
       "   'token': 'pls_t',\n",
       "   'type': '<ALPHANUM>'},\n",
       "  {'end_offset': 7,\n",
       "   'position': 0,\n",
       "   'start_offset': 0,\n",
       "   'token': 'pls_te',\n",
       "   'type': '<ALPHANUM>'},\n",
       "  {'end_offset': 7,\n",
       "   'position': 0,\n",
       "   'start_offset': 0,\n",
       "   'token': 'ls',\n",
       "   'type': '<ALPHANUM>'},\n",
       "  {'end_offset': 7,\n",
       "   'position': 0,\n",
       "   'start_offset': 0,\n",
       "   'token': 'ls_',\n",
       "   'type': '<ALPHANUM>'},\n",
       "  {'end_offset': 7,\n",
       "   'position': 0,\n",
       "   'start_offset': 0,\n",
       "   'token': 'ls_t',\n",
       "   'type': '<ALPHANUM>'},\n",
       "  {'end_offset': 7,\n",
       "   'position': 0,\n",
       "   'start_offset': 0,\n",
       "   'token': 'ls_te',\n",
       "   'type': '<ALPHANUM>'},\n",
       "  {'end_offset': 7,\n",
       "   'position': 0,\n",
       "   'start_offset': 0,\n",
       "   'token': 's_',\n",
       "   'type': '<ALPHANUM>'},\n",
       "  {'end_offset': 7,\n",
       "   'position': 0,\n",
       "   'start_offset': 0,\n",
       "   'token': 's_t',\n",
       "   'type': '<ALPHANUM>'},\n",
       "  {'end_offset': 7,\n",
       "   'position': 0,\n",
       "   'start_offset': 0,\n",
       "   'token': 's_te',\n",
       "   'type': '<ALPHANUM>'},\n",
       "  {'end_offset': 7,\n",
       "   'position': 0,\n",
       "   'start_offset': 0,\n",
       "   'token': '_t',\n",
       "   'type': '<ALPHANUM>'},\n",
       "  {'end_offset': 7,\n",
       "   'position': 0,\n",
       "   'start_offset': 0,\n",
       "   'token': '_te',\n",
       "   'type': '<ALPHANUM>'},\n",
       "  {'end_offset': 7,\n",
       "   'position': 0,\n",
       "   'start_offset': 0,\n",
       "   'token': 'te',\n",
       "   'type': '<ALPHANUM>'}]}"
      ]
     },
     "execution_count": 63,
     "metadata": {},
     "output_type": "execute_result"
    }
   ],
   "source": [
    "es.indices.analyze(index=\"test_ngrams\", body={\"text\": \"mpls_te\", \"analyzer\": \"trigrams\"})"
   ]
  },
  {
   "cell_type": "code",
   "execution_count": 57,
   "metadata": {
    "collapsed": true
   },
   "outputs": [
    {
     "data": {
      "text/plain": [
       "{'_id': '1',\n",
       " '_index': 'test_ngrams',\n",
       " '_primary_term': 1,\n",
       " '_seq_no': 0,\n",
       " '_shards': {'failed': 0, 'successful': 1, 'total': 2},\n",
       " '_type': 'my_type',\n",
       " '_version': 1,\n",
       " 'result': 'created'}"
      ]
     },
     "execution_count": 57,
     "metadata": {},
     "output_type": "execute_result"
    },
    {
     "data": {
      "text/plain": [
       "{'_id': '2',\n",
       " '_index': 'test_ngrams',\n",
       " '_primary_term': 1,\n",
       " '_seq_no': 0,\n",
       " '_shards': {'failed': 0, 'successful': 1, 'total': 2},\n",
       " '_type': 'my_type',\n",
       " '_version': 1,\n",
       " 'result': 'created'}"
      ]
     },
     "execution_count": 57,
     "metadata": {},
     "output_type": "execute_result"
    },
    {
     "data": {
      "text/plain": [
       "{'_id': '3',\n",
       " '_index': 'test_ngrams',\n",
       " '_primary_term': 1,\n",
       " '_seq_no': 0,\n",
       " '_shards': {'failed': 0, 'successful': 1, 'total': 2},\n",
       " '_type': 'my_type',\n",
       " '_version': 1,\n",
       " 'result': 'created'}"
      ]
     },
     "execution_count": 57,
     "metadata": {},
     "output_type": "execute_result"
    },
    {
     "data": {
      "text/plain": [
       "{'_id': '4',\n",
       " '_index': 'test_ngrams',\n",
       " '_primary_term': 1,\n",
       " '_seq_no': 1,\n",
       " '_shards': {'failed': 0, 'successful': 1, 'total': 2},\n",
       " '_type': 'my_type',\n",
       " '_version': 1,\n",
       " 'result': 'created'}"
      ]
     },
     "execution_count": 57,
     "metadata": {},
     "output_type": "execute_result"
    }
   ],
   "source": [
    "doc = {\n",
    "    'text': 'This is_a [brown fox]',\n",
    "}\n",
    "doc2 = {\n",
    "    'text': 'This is a brown fox',\n",
    "}\n",
    "doc3 = {\n",
    "    'text': 'This is_a brown fox',\n",
    "}\n",
    "doc4 = {\n",
    "    'text': 'This is a [brown fox]',\n",
    "}\n",
    "es.index(index=\"test_ngrams\", doc_type='my_type', id=1, body=doc)\n",
    "es.index(index=\"test_ngrams\", doc_type='my_type', id=2, body=doc2)\n",
    "es.index(index=\"test_ngrams\", doc_type='my_type', id=3, body=doc3)\n",
    "es.index(index=\"test_ngrams\", doc_type='my_type', id=4, body=doc4)"
   ]
  },
  {
   "cell_type": "code",
   "execution_count": 146,
   "metadata": {},
   "outputs": [
    {
     "data": {
      "text/plain": [
       "{'_shards': {'failed': 0, 'skipped': 0, 'successful': 5, 'total': 5},\n",
       " 'hits': {'hits': [{'_id': '1',\n",
       "    '_index': 'test_ngrams',\n",
       "    '_score': 0.5179219,\n",
       "    '_source': {'text': 'This is_a [brown fox]'},\n",
       "    '_type': 'my_type'},\n",
       "   {'_id': '3',\n",
       "    '_index': 'test_ngrams',\n",
       "    '_score': 0.5179219,\n",
       "    '_source': {'text': 'This is_a brown fox'},\n",
       "    '_type': 'my_type'},\n",
       "   {'_id': '2',\n",
       "    '_index': 'test_ngrams',\n",
       "    '_score': 0.32347375,\n",
       "    '_source': {'text': 'This is a brown fox'},\n",
       "    '_type': 'my_type'},\n",
       "   {'_id': '4',\n",
       "    '_index': 'test_ngrams',\n",
       "    '_score': 0.32347375,\n",
       "    '_source': {'text': 'This is a [brown fox]'},\n",
       "    '_type': 'my_type'}],\n",
       "  'max_score': 0.5179219,\n",
       "  'total': 4},\n",
       " 'timed_out': False,\n",
       " 'took': 2}"
      ]
     },
     "execution_count": 146,
     "metadata": {},
     "output_type": "execute_result"
    }
   ],
   "source": [
    "es.search(index=\"test_ngrams\", body={\"query\": {\"match_phrase\": {\"text\": {\"query\": \"is a\", \"slop\": 4}}}})"
   ]
  },
  {
   "cell_type": "markdown",
   "metadata": {},
   "source": [
    "## 组合词 token 过滤器"
   ]
  },
  {
   "cell_type": "code",
   "execution_count": 132,
   "metadata": {
    "collapsed": true
   },
   "outputs": [],
   "source": [
    " test_compound_word = {\n",
    "    \"settings\": {\n",
    "        \"index\": {\n",
    "            \"analysis\": {\n",
    "                \"analyzer\": {\n",
    "                    \"my_analyzer\": {\n",
    "                        \"type\": \"custom\",\n",
    "                        \"tokenizer\": \"standard\",\n",
    "                        \"filter\": [\"dictionary_decompounder\"]\n",
    "                    }\n",
    "                },\n",
    "                \"filter\": {\n",
    "                    \"dictionary_decompounder\": {\n",
    "                        \"type\": \"dictionary_decompounder\",\n",
    "                        \"word_list\": [\"one\", \"two\", \"three\"]\n",
    "                    }\n",
    "                }\n",
    "            }\n",
    "        }\n",
    "    },\n",
    "    \"mappings\": {\n",
    "        \"my_type\": {\n",
    "            \"properties\": {\n",
    "                \"text\": {\n",
    "                    \"type\":     \"text\",\n",
    "                    \"analyzer\": \"my_analyzer\",\n",
    "\n",
    "                }\n",
    "            }\n",
    "        }\n",
    "    }\n",
    "}"
   ]
  },
  {
   "cell_type": "code",
   "execution_count": 134,
   "metadata": {},
   "outputs": [
    {
     "data": {
      "text/plain": [
       "{'acknowledged': True,\n",
       " 'index': 'test_compound_word',\n",
       " 'shards_acknowledged': True}"
      ]
     },
     "execution_count": 134,
     "metadata": {},
     "output_type": "execute_result"
    },
    {
     "name": "stdout",
     "output_type": "stream",
     "text": [
      "{'test_compound_word': {'settings': {'index': {'analysis': {'analyzer': {'my_analyzer': {'filter': ['dictionary_decompounder'],\n",
      "                                                                                         'tokenizer': 'standard',\n",
      "                                                                                         'type': 'custom'}},\n",
      "                                                            'filter': {'dictionary_decompounder': {'type': 'dictionary_decompounder',\n",
      "                                                                                                   'word_list': ['one',\n",
      "                                                                                                                 'two',\n",
      "                                                                                                                 'three']}}},\n",
      "                                               'creation_date': '1524127276525',\n",
      "                                               'number_of_replicas': '1',\n",
      "                                               'number_of_shards': '5',\n",
      "                                               'provided_name': 'test_compound_word',\n",
      "                                               'uuid': 'lDzzjpDWSb6LMUvqhoNJ7g',\n",
      "                                               'version': {'created': '6020399'}}}}}\n",
      "{'test_compound_word': {'mappings': {'my_type': {'properties': {'text': {'analyzer': 'my_analyzer',\n",
      "                                                                         'type': 'text'}}}}}}\n"
     ]
    }
   ],
   "source": [
    "#es.indices.delete(index=\"test_compound_word\")\n",
    "es.indices.create(index=\"test_compound_word\", body=test_compound_word)\n",
    "pprint.pprint(es.indices.get_settings(index=\"test_compound_word\"))\n",
    "pprint.pprint(es.indices.get_mapping(index=\"test_compound_word\"))"
   ]
  },
  {
   "cell_type": "code",
   "execution_count": 139,
   "metadata": {},
   "outputs": [
    {
     "data": {
      "text/plain": [
       "{'tokens': [{'end_offset': 7,\n",
       "   'position': 0,\n",
       "   'start_offset': 0,\n",
       "   'token': 'two_one',\n",
       "   'type': '<ALPHANUM>'},\n",
       "  {'end_offset': 7,\n",
       "   'position': 0,\n",
       "   'start_offset': 0,\n",
       "   'token': 'two',\n",
       "   'type': '<ALPHANUM>'},\n",
       "  {'end_offset': 7,\n",
       "   'position': 0,\n",
       "   'start_offset': 0,\n",
       "   'token': 'one',\n",
       "   'type': '<ALPHANUM>'}]}"
      ]
     },
     "execution_count": 139,
     "metadata": {},
     "output_type": "execute_result"
    }
   ],
   "source": [
    "es.indices.analyze(index=\"test_compound_word\", body={\"text\": \"two_one\", \"analyzer\": \"my_analyzer\"})"
   ]
  },
  {
   "cell_type": "code",
   "execution_count": 170,
   "metadata": {},
   "outputs": [
    {
     "data": {
      "text/plain": [
       "{'_id': '1',\n",
       " '_index': 'test_compound_word',\n",
       " '_primary_term': 1,\n",
       " '_seq_no': 1,\n",
       " '_shards': {'failed': 0, 'successful': 1, 'total': 2},\n",
       " '_type': 'my_type',\n",
       " '_version': 2,\n",
       " 'result': 'updated'}"
      ]
     },
     "execution_count": 170,
     "metadata": {},
     "output_type": "execute_result"
    },
    {
     "data": {
      "text/plain": [
       "{'_id': '2',\n",
       " '_index': 'test_compound_word',\n",
       " '_primary_term': 1,\n",
       " '_seq_no': 2,\n",
       " '_shards': {'failed': 0, 'successful': 1, 'total': 2},\n",
       " '_type': 'my_type',\n",
       " '_version': 2,\n",
       " 'result': 'updated'}"
      ]
     },
     "execution_count": 170,
     "metadata": {},
     "output_type": "execute_result"
    },
    {
     "data": {
      "text/plain": [
       "{'_id': '3',\n",
       " '_index': 'test_compound_word',\n",
       " '_primary_term': 1,\n",
       " '_seq_no': 1,\n",
       " '_shards': {'failed': 0, 'successful': 1, 'total': 2},\n",
       " '_type': 'my_type',\n",
       " '_version': 2,\n",
       " 'result': 'updated'}"
      ]
     },
     "execution_count": 170,
     "metadata": {},
     "output_type": "execute_result"
    },
    {
     "data": {
      "text/plain": [
       "{'_id': '4',\n",
       " '_index': 'test_compound_word',\n",
       " '_primary_term': 1,\n",
       " '_seq_no': 3,\n",
       " '_shards': {'failed': 0, 'successful': 1, 'total': 2},\n",
       " '_type': 'my_type',\n",
       " '_version': 2,\n",
       " 'result': 'updated'}"
      ]
     },
     "execution_count": 170,
     "metadata": {},
     "output_type": "execute_result"
    }
   ],
   "source": [
    "doc = {\n",
    "    'text': 'This is one a two',\n",
    "}\n",
    "doc2 = {\n",
    "    'text': 'This is one a a a a two',\n",
    "}\n",
    "doc3 = {\n",
    "    'text': 'This is one a a a two',\n",
    "}\n",
    "doc4 = {\n",
    "    'text': 'This is one a a two',\n",
    "}\n",
    "es.index(index=\"test_compound_word\", doc_type='my_type', id=1, body=doc)\n",
    "es.index(index=\"test_compound_word\", doc_type='my_type', id=2, body=doc2)\n",
    "es.index(index=\"test_compound_word\", doc_type='my_type', id=3, body=doc3)\n",
    "es.index(index=\"test_compound_word\", doc_type='my_type', id=4, body=doc4)"
   ]
  },
  {
   "cell_type": "code",
   "execution_count": 173,
   "metadata": {},
   "outputs": [
    {
     "data": {
      "text/plain": [
       "{'_shards': {'failed': 0, 'skipped': 0, 'successful': 5, 'total': 5},\n",
       " 'hits': {'hits': [{'_id': '1',\n",
       "    '_index': 'test_compound_word',\n",
       "    '_score': 0.8630463,\n",
       "    '_source': {'text': 'This is one a two'},\n",
       "    '_type': 'my_type'},\n",
       "   {'_id': '3',\n",
       "    '_index': 'test_compound_word',\n",
       "    '_score': 0.41276127,\n",
       "    '_source': {'text': 'This is one a a a two'},\n",
       "    '_type': 'my_type'},\n",
       "   {'_id': '4',\n",
       "    '_index': 'test_compound_word',\n",
       "    '_score': 0.3828753,\n",
       "    '_source': {'text': 'This is one a a two'},\n",
       "    '_type': 'my_type'},\n",
       "   {'_id': '2',\n",
       "    '_index': 'test_compound_word',\n",
       "    '_score': 0.19057141,\n",
       "    '_source': {'text': 'This is one a a a a two'},\n",
       "    '_type': 'my_type'}],\n",
       "  'max_score': 0.8630463,\n",
       "  'total': 4},\n",
       " 'timed_out': False,\n",
       " 'took': 1}"
      ]
     },
     "execution_count": 173,
     "metadata": {},
     "output_type": "execute_result"
    }
   ],
   "source": [
    "es.search(index=\"test_compound_word\", body={\"query\": {\"match_phrase\": {\"text\": {\"query\": \"one a two\", \"slop\": 4}}}})"
   ]
  },
  {
   "cell_type": "code",
   "execution_count": 138,
   "metadata": {},
   "outputs": [
    {
     "data": {
      "text/plain": [
       "{'_shards': {'failed': 0, 'skipped': 0, 'successful': 5, 'total': 5},\n",
       " 'hits': {'hits': [{'_id': '1',\n",
       "    '_index': 'test_compound_word',\n",
       "    '_score': 0.5753642,\n",
       "    '_source': {'text': 'This is two one'},\n",
       "    '_type': 'my_type'},\n",
       "   {'_id': '3',\n",
       "    '_index': 'test_compound_word',\n",
       "    '_score': 0.47231385,\n",
       "    '_source': {'text': 'This is one_two'},\n",
       "    '_type': 'my_type'},\n",
       "   {'_id': '2',\n",
       "    '_index': 'test_compound_word',\n",
       "    '_score': 0.2865053,\n",
       "    '_source': {'text': 'This is two_one'},\n",
       "    '_type': 'my_type'},\n",
       "   {'_id': '4',\n",
       "    '_index': 'test_compound_word',\n",
       "    '_score': 0.1865616,\n",
       "    '_source': {'text': 'This is one two'},\n",
       "    '_type': 'my_type'}],\n",
       "  'max_score': 0.5753642,\n",
       "  'total': 4},\n",
       " 'timed_out': False,\n",
       " 'took': 1}"
      ]
     },
     "execution_count": 138,
     "metadata": {},
     "output_type": "execute_result"
    }
   ],
   "source": [
    "es.search(index=\"test_compound_word\", body={\"query\": {\"match_phrase\": {\"text\": {\"query\": \"two one\", \"slop\": 4}}}})"
   ]
  },
  {
   "cell_type": "code",
   "execution_count": 128,
   "metadata": {},
   "outputs": [
    {
     "data": {
      "text/plain": [
       "{'_shards': {'failed': 0, 'skipped': 0, 'successful': 5, 'total': 5},\n",
       " 'hits': {'hits': [{'_id': '3',\n",
       "    '_index': 'test_compound_word',\n",
       "    '_score': 0.47231385,\n",
       "    '_source': {'text': 'This is one_two'},\n",
       "    '_type': 'my_type'},\n",
       "   {'_id': '4',\n",
       "    '_index': 'test_compound_word',\n",
       "    '_score': 0.38200712,\n",
       "    '_source': {'text': 'This is one two'},\n",
       "    '_type': 'my_type'},\n",
       "   {'_id': '2',\n",
       "    '_index': 'test_compound_word',\n",
       "    '_score': 0.2865053,\n",
       "    '_source': {'text': 'This is two_one'},\n",
       "    '_type': 'my_type'},\n",
       "   {'_id': '1',\n",
       "    '_index': 'test_compound_word',\n",
       "    '_score': 0.27517417,\n",
       "    '_source': {'text': 'This is two one'},\n",
       "    '_type': 'my_type'}],\n",
       "  'max_score': 0.47231385,\n",
       "  'total': 4},\n",
       " 'timed_out': False,\n",
       " 'took': 1}"
      ]
     },
     "execution_count": 128,
     "metadata": {},
     "output_type": "execute_result"
    }
   ],
   "source": [
    "es.search(index=\"test_compound_word\", body={\"query\": {\"match_phrase\": {\"text\": {\"query\": \"one two\", \"slop\": 4}}}})"
   ]
  },
  {
   "cell_type": "code",
   "execution_count": 117,
   "metadata": {},
   "outputs": [
    {
     "data": {
      "text/plain": [
       "{'_shards': {'failed': 0, 'skipped': 0, 'successful': 5, 'total': 5},\n",
       " 'hits': {'hits': [{'_id': '3',\n",
       "    '_index': 'test_compound_word',\n",
       "    '_score': 0.49445358,\n",
       "    '_source': {'text': 'This is one_two'},\n",
       "    '_type': 'my_type'},\n",
       "   {'_id': '1',\n",
       "    '_index': 'test_compound_word',\n",
       "    '_score': 0.39556286,\n",
       "    '_source': {'text': 'This is two one'},\n",
       "    '_type': 'my_type'},\n",
       "   {'_id': '2',\n",
       "    '_index': 'test_compound_word',\n",
       "    '_score': 0.2766258,\n",
       "    '_source': {'text': 'This is two_one'},\n",
       "    '_type': 'my_type'},\n",
       "   {'_id': '4',\n",
       "    '_index': 'test_compound_word',\n",
       "    '_score': 0.25877902,\n",
       "    '_source': {'text': 'This is one two'},\n",
       "    '_type': 'my_type'}],\n",
       "  'max_score': 0.49445358,\n",
       "  'total': 4},\n",
       " 'timed_out': False,\n",
       " 'took': 1}"
      ]
     },
     "execution_count": 117,
     "metadata": {},
     "output_type": "execute_result"
    }
   ],
   "source": [
    "es.search(index=\"test_compound_word\", body={\"query\": {\"match_phrase\": {\"text\": {\"query\": \"one_two\", \"slop\": 4}}}})"
   ]
  }
 ],
 "metadata": {
  "kernelspec": {
   "display_name": "Python 3",
   "language": "python",
   "name": "python3"
  },
  "language_info": {
   "codemirror_mode": {
    "name": "ipython",
    "version": 3
   },
   "file_extension": ".py",
   "mimetype": "text/x-python",
   "name": "python",
   "nbconvert_exporter": "python",
   "pygments_lexer": "ipython3",
   "version": "3.6.4"
  },
  "toc": {
   "nav_menu": {},
   "number_sections": true,
   "sideBar": true,
   "skip_h1_title": true,
   "toc_cell": true,
   "toc_position": {
    "height": "869px",
    "left": "0px",
    "right": "1644px",
    "top": "50px",
    "width": "214px"
   },
   "toc_section_display": "block",
   "toc_window_display": true
  }
 },
 "nbformat": 4,
 "nbformat_minor": 2
}
