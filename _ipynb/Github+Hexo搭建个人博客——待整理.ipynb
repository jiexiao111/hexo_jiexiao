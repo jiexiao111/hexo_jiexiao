{
 "cells": [
  {
   "cell_type": "markdown",
   "metadata": {},
   "source": [
    "经过两天的折腾，彻底放弃jekyll搭建自己的Blog，究其原因就是目录、sitemap无法自动生成，一个没有前端开发经验的我最终发现Hexo。\n",
    "Hexo能够满足我对Blog的所有想法：\n",
    "1、我只负责写内容，至于文章的按标签分类还是按日期归档我都不关心，但是我需要使用这些功能\n",
    "2、文章要有一个漂亮的内容导航栏，开发做多了，对始终能在一屏内了解当前文件的整体结构有着某种偏执\n",
    "3、sitemap、文章目录最好能够复用网页位置，以便留出更多的位置显示正文，尽量少的翻页绝对能提升生产效率"
   ]
  },
  {
   "cell_type": "markdown",
   "metadata": {},
   "source": [
    "参考文档：\n",
    "Hexo的官方文档，慢慢的诚意\n",
    "https://hexo.io/zh-cn/docs/\n",
    "\n",
    "next官方文档，进去就充满了好感\n",
    "http://theme-next.iissnan.com/getting-started.html\n",
    "\n",
    "之所以从jekyll转换到hexo多亏了下面这篇文章\n",
    "https://www.ezlippi.com/blog/2016/02/jekyll-to-hexo.html"
   ]
  },
  {
   "cell_type": "markdown",
   "metadata": {},
   "source": [
    "安装git，我已经安装了就不重复了"
   ]
  },
  {
   "cell_type": "markdown",
   "metadata": {},
   "source": [
    "ubuntu安装node.js，我使用的是16.04LTS版本的ubuntu所以就直接安装了，没有参考官网安装最新的版本"
   ]
  },
  {
   "cell_type": "code",
   "execution_count": null,
   "metadata": {
    "collapsed": true
   },
   "outputs": [],
   "source": [
    "apt-get install -y nodejs\n",
    "apt-get install -y npm"
   ]
  },
  {
   "cell_type": "markdown",
   "metadata": {},
   "source": [
    "执行npm install发生错误，估计要安装特定版本的nodejs，网上整了一堆高级方法最终放弃，直接download官方的首页的文件node-v6.11.3-linux-x64.tar.xz，拷贝至linux的/usr目录，并解压"
   ]
  },
  {
   "cell_type": "code",
   "execution_count": null,
   "metadata": {
    "collapsed": true
   },
   "outputs": [],
   "source": [
    "tar -vxf node-v6.11.3-linux-x64.tar.xz"
   ]
  },
  {
   "cell_type": "markdown",
   "metadata": {},
   "source": [
    "将默认的npm切换成指定的版本"
   ]
  },
  {
   "cell_type": "code",
   "execution_count": null,
   "metadata": {
    "collapsed": true
   },
   "outputs": [],
   "source": [
    "ln -s /usr/node-v6.11.3-linux-x64/bin/node /usr/bin/node\n",
    "ln -s /usr/node-v6.11.3-linux-x64/bin/npm /usr/bin/npm"
   ]
  },
  {
   "cell_type": "markdown",
   "metadata": {},
   "source": [
    "默认hexo安装的位置与npm一致，安装hexo后发现无法找到hexo命令，所以建议将以下内容加入~/.bashrc,如果你和我一样使用zsh,就放到~/.zshrc中"
   ]
  },
  {
   "cell_type": "code",
   "execution_count": null,
   "metadata": {
    "collapsed": true
   },
   "outputs": [],
   "source": [
    "export PATH=\"/usr/node-v6.11.3-linux-x64/bin:$PATH\""
   ]
  },
  {
   "cell_type": "markdown",
   "metadata": {},
   "source": [
    "安装 hexo"
   ]
  },
  {
   "cell_type": "code",
   "execution_count": null,
   "metadata": {
    "collapsed": true
   },
   "outputs": [],
   "source": [
    "mkdir hexo_dir\n",
    "cd hexo_dir\n",
    "npm install -g hexo-cli"
   ]
  },
  {
   "cell_type": "markdown",
   "metadata": {},
   "source": [
    "安装next主题，在hexo_dir目录下执行"
   ]
  },
  {
   "cell_type": "code",
   "execution_count": null,
   "metadata": {
    "collapsed": true
   },
   "outputs": [],
   "source": [
    "git clone https://github.com/iissnan/hexo-theme-next themes/next"
   ]
  },
  {
   "cell_type": "markdown",
   "metadata": {},
   "source": [
    "启用主题，在hexo_dir目录下编辑_config.yml"
   ]
  },
  {
   "cell_type": "code",
   "execution_count": null,
   "metadata": {
    "collapsed": true
   },
   "outputs": [],
   "source": [
    "theme: next"
   ]
  },
  {
   "cell_type": "markdown",
   "metadata": {},
   "source": [
    "验证next主题，在hexo_dir目录下执行 hexo s --debug，如果未出现错误，则在浏览器中访问以下位置"
   ]
  },
  {
   "cell_type": "code",
   "execution_count": null,
   "metadata": {
    "collapsed": true
   },
   "outputs": [],
   "source": [
    "http://localhost:4000/"
   ]
  },
  {
   "cell_type": "markdown",
   "metadata": {},
   "source": [
    "修改scheme,编辑hexo_dir/themes/next/_config.yml"
   ]
  },
  {
   "cell_type": "code",
   "execution_count": null,
   "metadata": {
    "collapsed": true
   },
   "outputs": [],
   "source": [
    "# Schemes\n",
    "# scheme: Muse\n",
    "scheme: Mist\n",
    "#scheme: Pisces\n",
    "#scheme: Gemini"
   ]
  },
  {
   "cell_type": "markdown",
   "metadata": {},
   "source": [
    "修改默认标题、子标题、描述、作者、字符集，编辑hexo_dir/_config.yml，重新执行hexo s后生效"
   ]
  },
  {
   "cell_type": "code",
   "execution_count": null,
   "metadata": {
    "collapsed": true
   },
   "outputs": [],
   "source": [
    " # Site\n",
    " title: JieXiao's Blog\n",
    " subtitle:\n",
    " description:\n",
    " author: JIE XIAO\n",
    " language: zh-Hans"
   ]
  },
  {
   "cell_type": "markdown",
   "metadata": {},
   "source": [
    "设置侧边栏，编辑hexo_dir/themes/next/_config.yml"
   ]
  },
  {
   "cell_type": "code",
   "execution_count": null,
   "metadata": {
    "collapsed": true
   },
   "outputs": [],
   "source": [
    " sidebar:\n",
    "   position: left\n",
    "   display: always"
   ]
  },
  {
   "cell_type": "markdown",
   "metadata": {},
   "source": [
    "增加标签页，在hexo_dir目录下执行以下"
   ]
  },
  {
   "cell_type": "code",
   "execution_count": null,
   "metadata": {
    "collapsed": true
   },
   "outputs": [],
   "source": [
    "hexo new page tags\n",
    "hexo new page categories"
   ]
  },
  {
   "cell_type": "markdown",
   "metadata": {},
   "source": [
    "在生成的文件中分别写入以下信息"
   ]
  },
  {
   "cell_type": "code",
   "execution_count": null,
   "metadata": {
    "collapsed": true
   },
   "outputs": [],
   "source": [
    "cat > source/tags/index.md \n",
    "---\n",
    "title: tags\n",
    "date: 2017-09-10 12:21:49\n",
    "type: \"tags\"\n",
    "---\n",
    "\n",
    "cat > source/categories/index.md\n",
    "---\n",
    "title: categories\n",
    "date: 2017-09-10 12:25:38\n",
    "type: \"categories\"\n",
    "---"
   ]
  },
  {
   "cell_type": "markdown",
   "metadata": {},
   "source": []
  },
  {
   "cell_type": "markdown",
   "metadata": {},
   "source": [
    "修改字体，编辑hexo_dir/themes/next/_config.yml"
   ]
  },
  {
   "cell_type": "code",
   "execution_count": null,
   "metadata": {
    "collapsed": true
   },
   "outputs": [],
   "source": [
    "font:\n",
    "  enable: true\n",
    "\n",
    "  # 外链字体库地址，例如 //fonts.googleapis.com (默认值)\n",
    "  host:\n",
    "\n",
    "  # 全局字体，应用在 body 元素上\n",
    "  global:\n",
    "    external: true\n",
    "    family: Monda\n",
    "\n",
    "  # 标题字体 (h1, h2, h3, h4, h5, h6)\n",
    "  headings:\n",
    "    external: true\n",
    "    family: Roboto Slab\n",
    "\n",
    "  # 文章字体\n",
    "  posts:\n",
    "    external: true\n",
    "    family:\n",
    "\n",
    "  # Logo 字体\n",
    "  logo:\n",
    "    external: true\n",
    "    family: Lobster Two\n",
    "    size: 24\n",
    "\n",
    "  # 代码字体，应用于 code 以及代码块\n",
    "  codes:\n",
    "    external: true\n",
    "    family: PT Mono"
   ]
  },
  {
   "cell_type": "markdown",
   "metadata": {},
   "source": [
    "修改代码风格，编辑hexo_dir/themes/next/_config.yml"
   ]
  },
  {
   "cell_type": "code",
   "execution_count": null,
   "metadata": {
    "collapsed": true
   },
   "outputs": [],
   "source": [
    " highlight_theme: night"
   ]
  },
  {
   "cell_type": "markdown",
   "metadata": {},
   "source": [
    "侧边栏社交，，编辑hexo_dir/themes/next/_config.yml"
   ]
  },
  {
   "cell_type": "code",
   "execution_count": null,
   "metadata": {
    "collapsed": true
   },
   "outputs": [],
   "source": [
    "social:\n",
    "  GitHub: https://github.com/jiexiao111\n",
    "  E-Mail: mailto:jiexiao111@gmail.com\n",
    "social_icons:\n",
    "   GitHub: github\n",
    "   E-Mail: email"
   ]
  },
  {
   "cell_type": "markdown",
   "metadata": {},
   "source": [
    "开启背景动画"
   ]
  },
  {
   "cell_type": "code",
   "execution_count": null,
   "metadata": {
    "collapsed": true
   },
   "outputs": [],
   "source": [
    "canvas_nest: true"
   ]
  },
  {
   "cell_type": "markdown",
   "metadata": {},
   "source": [
    "增加搜索第三方服务，第一步安装"
   ]
  },
  {
   "cell_type": "code",
   "execution_count": null,
   "metadata": {
    "collapsed": true
   },
   "outputs": [],
   "source": [
    "npm install hexo-generator-searchdb --save"
   ]
  },
  {
   "cell_type": "markdown",
   "metadata": {},
   "source": [
    "增加搜索第三方服务，第二步修改hexo_dir/themes/next/_config.yml"
   ]
  },
  {
   "cell_type": "code",
   "execution_count": null,
   "metadata": {
    "collapsed": true
   },
   "outputs": [],
   "source": [
    "# Local search\n",
    "local_search:\n",
    "  enable: true"
   ]
  },
  {
   "cell_type": "markdown",
   "metadata": {},
   "source": [
    "增加搜索第三方服务，第三步修改hexo_dir/_config.yml"
   ]
  },
  {
   "cell_type": "code",
   "execution_count": null,
   "metadata": {
    "collapsed": true
   },
   "outputs": [],
   "source": [
    "search:\n",
    "  path: search.xml\n",
    "  field: post\n",
    "  format: html\n",
    "  limit: 10000"
   ]
  },
  {
   "cell_type": "markdown",
   "metadata": {},
   "source": [
    "开启公式显示"
   ]
  },
  {
   "cell_type": "code",
   "execution_count": null,
   "metadata": {
    "collapsed": true
   },
   "outputs": [],
   "source": [
    "mathjax:\n",
    "  enable: true"
   ]
  },
  {
   "cell_type": "markdown",
   "metadata": {},
   "source": [
    "开启访问统计"
   ]
  },
  {
   "cell_type": "code",
   "execution_count": null,
   "metadata": {
    "collapsed": true
   },
   "outputs": [],
   "source": [
    "busuanzi_count:\n",
    "   # count values only if the other configs are false\n",
    "   enable: true\n",
    "   # custom uv span for the whole site\n",
    "   site_uv: true\n",
    "   site_uv_header: <i class=\"fa fa-user\"></i> 访问\n",
    "   site_uv_footer: 人\n",
    "   # custom pv span for the whole site\n",
    "   site_pv: true\n",
    "   site_pv_header: <i class=\"fa fa-eye\"></i> 浏览\n",
    "   site_pv_footer: 次\n",
    "   # custom pv span for one page only\n",
    "   page_pv: true\n",
    "   page_pv_header: <i class=\"fa fa-file-o\"></i> 阅读\n",
    "   page_pv_footer:"
   ]
  },
  {
   "cell_type": "markdown",
   "metadata": {},
   "source": [
    "git部署插件，1安装"
   ]
  },
  {
   "cell_type": "code",
   "execution_count": null,
   "metadata": {
    "collapsed": true
   },
   "outputs": [],
   "source": [
    "npm install hexo-deployer-git --save"
   ]
  },
  {
   "cell_type": "markdown",
   "metadata": {},
   "source": [
    "git部署插件，2配置"
   ]
  },
  {
   "cell_type": "code",
   "execution_count": null,
   "metadata": {
    "collapsed": true
   },
   "outputs": [],
   "source": [
    "deploy:\n",
    "\ttype: git\n",
    "\trepository: git@github.com:jiexiao111/jiexiao111.github.io.git\n",
    "\tbranch: master"
   ]
  },
  {
   "cell_type": "markdown",
   "metadata": {},
   "source": [
    "git部署插件，3使用"
   ]
  },
  {
   "cell_type": "code",
   "execution_count": null,
   "metadata": {
    "collapsed": true
   },
   "outputs": [],
   "source": [
    "hexo deploy"
   ]
  },
  {
   "cell_type": "markdown",
   "metadata": {},
   "source": [
    "设置页面宽度，编辑hexo_dir/themes/next/source/css/_variables/custom.styl"
   ]
  },
  {
   "cell_type": "code",
   "execution_count": null,
   "metadata": {
    "collapsed": true
   },
   "outputs": [],
   "source": [
    " // 修改成你期望的宽度\n",
    " $content-desktop = 1000px\n",
    "\n",
    " // 当视窗超过 1600px 后的宽度\n",
    " $content-desktop-large = 1400px"
   ]
  },
  {
   "cell_type": "markdown",
   "metadata": {},
   "source": [
    "生成秘钥"
   ]
  },
  {
   "cell_type": "code",
   "execution_count": null,
   "metadata": {
    "collapsed": true
   },
   "outputs": [],
   "source": [
    "ssh-keygen -t rsa -C jiexiao111@gmail.com"
   ]
  },
  {
   "cell_type": "markdown",
   "metadata": {},
   "source": [
    "参考以下网页完成秘钥添加"
   ]
  },
  {
   "cell_type": "code",
   "execution_count": null,
   "metadata": {
    "collapsed": true
   },
   "outputs": [],
   "source": [
    "https://help.github.com/articles/adding-a-new-ssh-key-to-your-github-account/"
   ]
  },
  {
   "cell_type": "markdown",
   "metadata": {},
   "source": [
    "hexo环境仅将以下几个文件/目录同步至 git@github.com:jiexiao111/hexo_jiexiao.git"
   ]
  },
  {
   "cell_type": "raw",
   "metadata": {},
   "source": [
    "README.md    \n",
    "_config.yml\n",
    "_ipynb\n",
    "package.json\n",
    "scaffolds   \n",
    "source       \n",
    "themes"
   ]
  },
  {
   "cell_type": "markdown",
   "metadata": {},
   "source": [
    "在新的环境上更新博客"
   ]
  },
  {
   "cell_type": "code",
   "execution_count": null,
   "metadata": {
    "collapsed": true
   },
   "outputs": [],
   "source": [
    "git clone git@github.com:jiexiao111/hexo_jiexiao.git\n",
    "cd hexo_jiexiao\n",
    "npm install  \n",
    "hexo d -g"
   ]
  },
  {
   "cell_type": "markdown",
   "metadata": {},
   "source": [
    "尴尬的是出错了，themes中使用的next并不在我的仓库中，所以，我必须先fork一个next主题，然后把我修改的配置合入，然后还需要能够更新获取next的最新修改，于是参考了 这篇blog[https://gaohaoyang.github.io/2015/04/12/Syncing-a-fork/] 以及 官方帮助[https://help.github.com/articles/syncing-a-fork/]"
   ]
  },
  {
   "cell_type": "markdown",
   "metadata": {},
   "source": [
    "第一步fork主题，在刚刚clone好的hexo_jiexiao目录，然后clone到本地"
   ]
  },
  {
   "cell_type": "code",
   "execution_count": null,
   "metadata": {
    "collapsed": true
   },
   "outputs": [],
   "source": [
    "git clone git@github.com:jiexiao111/hexo-theme-next.git themes/next"
   ]
  },
  {
   "cell_type": "markdown",
   "metadata": {},
   "source": [
    "第二步进入themes/next，增加上游仓库"
   ]
  },
  {
   "cell_type": "code",
   "execution_count": null,
   "metadata": {
    "collapsed": true
   },
   "outputs": [],
   "source": [
    "cd themes/next\n",
    "git remote add upstream https://github.com/iissnan/hexo-theme-next.git"
   ]
  },
  {
   "cell_type": "markdown",
   "metadata": {},
   "source": [
    "第三步通过git remote -v确认执行结果正确"
   ]
  },
  {
   "cell_type": "code",
   "execution_count": null,
   "metadata": {
    "collapsed": true
   },
   "outputs": [],
   "source": [
    "$ git remote -v\n",
    "origin\tgit@github.com:jiexiao111/hexo-theme-next.git (fetch)\n",
    "origin\tgit@github.com:jiexiao111/hexo-theme-next.git (push)\n",
    "upstream\thttps://github.com/iissnan/hexo-theme-next.git (fetch)\n",
    "upstream\thttps://github.com/iissnan/hexo-theme-next.git (push)"
   ]
  },
  {
   "cell_type": "markdown",
   "metadata": {},
   "source": [
    "第四步，获取变更（获取next主题最新的修改），切换到master（一般不需要切换，可以通过git branch看到大多数时候都处于 master 分支），合并更改(获取next主题主线版本的最新修改)，最后把修改推送到fork的分支里"
   ]
  },
  {
   "cell_type": "code",
   "execution_count": null,
   "metadata": {
    "collapsed": true
   },
   "outputs": [],
   "source": [
    "git fetch upstream\n",
    "git checkout master\n",
    "git merge upstream/master\n",
    "git push origin master"
   ]
  },
  {
   "cell_type": "markdown",
   "metadata": {},
   "source": [
    "处理标签个数错误"
   ]
  },
  {
   "cell_type": "code",
   "execution_count": null,
   "metadata": {
    "collapsed": true
   },
   "outputs": [],
   "source": [
    "rm db.json\n",
    "hexo clean\n",
    "hexo g\n",
    "hexo s"
   ]
  },
  {
   "cell_type": "markdown",
   "metadata": {},
   "source": [
    "mac+chrome检查网页打开速度快慢"
   ]
  },
  {
   "cell_type": "code",
   "execution_count": null,
   "metadata": {
    "collapsed": true
   },
   "outputs": [],
   "source": [
    "鼠标右键->检查->performance->start"
   ]
  }
 ],
 "metadata": {
  "kernelspec": {
   "display_name": "Python 3",
   "language": "python",
   "name": "python3"
  },
  "language_info": {
   "codemirror_mode": {
    "name": "ipython",
    "version": 2
   },
   "file_extension": ".py",
   "mimetype": "text/x-python",
   "name": "python",
   "nbconvert_exporter": "python",
   "pygments_lexer": "ipython2",
   "version": "2.7.13"
  }
 },
 "nbformat": 4,
 "nbformat_minor": 2
}
