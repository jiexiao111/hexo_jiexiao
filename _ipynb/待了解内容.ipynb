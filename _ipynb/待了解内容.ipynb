{
 "cells": [
  {
   "cell_type": "code",
   "execution_count": null,
   "metadata": {
    "collapsed": true
   },
   "outputs": [],
   "source": [
    "1、Markdown语法\n",
    "\n",
    "2、Github Pages + jekyll 使用\n",
    "\n",
    "3、jupyter 使用\n",
    "\n",
    "4、Minimal Mistakes 使用\n",
    "\n",
    "5、Git 使用\n",
    "\n",
    "6、IPython 使用\n",
    "\n",
    "7、Tesorflow 使用\n",
    "\n",
    "8、pandas 使用\n",
    "\n",
    "9、numpy 使用\n",
    "\n",
    "10、scipy 使用\n",
    "\n",
    "11、kera 使用\n",
    "\n",
    "12、python 使用\n",
    "\n",
    "13、matplotlab 使用\n",
    "\n",
    "14、正则表达式"
   ]
  }
 ],
 "metadata": {
  "kernelspec": {
   "display_name": "Python 3",
   "language": "python",
   "name": "python3"
  },
  "language_info": {
   "codemirror_mode": {
    "name": "ipython",
    "version": 3
   },
   "file_extension": ".py",
   "mimetype": "text/x-python",
   "name": "python",
   "nbconvert_exporter": "python",
   "pygments_lexer": "ipython3",
   "version": "3.6.1"
  }
 },
 "nbformat": 4,
 "nbformat_minor": 2
}
