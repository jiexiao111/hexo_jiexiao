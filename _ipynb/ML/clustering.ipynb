{
 "cells": [
  {
   "cell_type": "markdown",
   "metadata": {
    "toc": true
   },
   "source": [
    "<h1>Table of Contents<span class=\"tocSkip\"></span></h1>\n",
    "<div class=\"toc\" style=\"margin-top: 1em;\"><ul class=\"toc-item\"><li><span><a href=\"#基础概念\" data-toc-modified-id=\"基础概念-1\"><span class=\"toc-item-num\">1&nbsp;&nbsp;</span>基础概念</a></span></li><li><span><a href=\"#符号表示\" data-toc-modified-id=\"符号表示-2\"><span class=\"toc-item-num\">2&nbsp;&nbsp;</span>符号表示</a></span></li></ul></div>"
   ]
  },
  {
   "cell_type": "markdown",
   "metadata": {},
   "source": [
    "## 基础概念"
   ]
  },
  {
   "cell_type": "markdown",
   "metadata": {},
   "source": [
    "* 无监督学习 unsupervised learning\n",
    "* 聚类 clustering\n",
    "* 簇 cluster\n",
    "* 簇标记 cluster label"
   ]
  },
  {
   "cell_type": "markdown",
   "metadata": {},
   "source": [
    "## 符号表示"
   ]
  },
  {
   "cell_type": "markdown",
   "metadata": {},
   "source": [
    "* 样本集包含 $m$ 个无标记样本： $ \\textbf{D}= \\left\\{x_1, x_2, ..., x_m\\right\\} $\n",
    "* 每个样本是一个 $n$ 维特征向量： $ \\textit{x}_{i} = \\left( x_{i1},x_{i2},..., x_{in} \\right) $\n",
    "* 聚类算法将样本 $D$ 划分为$k$个不相交的簇： $ \\left\\{C_l \\mid l = 1,2,...k\\right\\} 其中 C_{{l}'} \\bigcap _{{l}'\\neq l}C_l=\\varnothing 且D={\\bigcup _{l=1}^k}C_l $"
   ]
  }
 ],
 "metadata": {
  "kernelspec": {
   "display_name": "Python 3",
   "language": "python",
   "name": "python3"
  },
  "language_info": {
   "codemirror_mode": {
    "name": "ipython",
    "version": 3
   },
   "file_extension": ".py",
   "mimetype": "text/x-python",
   "name": "python",
   "nbconvert_exporter": "python",
   "pygments_lexer": "ipython3",
   "version": "3.6.4"
  },
  "toc": {
   "nav_menu": {},
   "number_sections": true,
   "sideBar": true,
   "skip_h1_title": true,
   "toc_cell": true,
   "toc_position": {},
   "toc_section_display": "block",
   "toc_window_display": true
  }
 },
 "nbformat": 4,
 "nbformat_minor": 2
}
