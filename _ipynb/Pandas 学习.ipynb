{
 "cells": [
  {
   "cell_type": "markdown",
   "metadata": {
    "toc": true
   },
   "source": [
    "<h1>Table of Contents<span class=\"tocSkip\"></span></h1>\n",
    "<div class=\"toc\" style=\"margin-top: 1em;\"><ul class=\"toc-item\"><li><span><a href=\"#增加行\" data-toc-modified-id=\"增加行-1\"><span class=\"toc-item-num\">1&nbsp;&nbsp;</span>增加行</a></span></li><li><span><a href=\"#增加列\" data-toc-modified-id=\"增加列-2\"><span class=\"toc-item-num\">2&nbsp;&nbsp;</span>增加列</a></span></li><li><span><a href=\"#删除列\" data-toc-modified-id=\"删除列-3\"><span class=\"toc-item-num\">3&nbsp;&nbsp;</span>删除列</a></span></li><li><span><a href=\"#合并\" data-toc-modified-id=\"合并-4\"><span class=\"toc-item-num\">4&nbsp;&nbsp;</span>合并</a></span></li><li><span><a href=\"#修改列名\" data-toc-modified-id=\"修改列名-5\"><span class=\"toc-item-num\">5&nbsp;&nbsp;</span>修改列名</a></span></li><li><span><a href=\"#选取列\" data-toc-modified-id=\"选取列-6\"><span class=\"toc-item-num\">6&nbsp;&nbsp;</span>选取列</a></span></li><li><span><a href=\"#选取行\" data-toc-modified-id=\"选取行-7\"><span class=\"toc-item-num\">7&nbsp;&nbsp;</span>选取行</a></span></li><li><span><a href=\"#遍历\" data-toc-modified-id=\"遍历-8\"><span class=\"toc-item-num\">8&nbsp;&nbsp;</span>遍历</a></span></li><li><span><a href=\"#Apply\" data-toc-modified-id=\"Apply-9\"><span class=\"toc-item-num\">9&nbsp;&nbsp;</span>Apply</a></span><ul class=\"toc-item\"><li><span><a href=\"#列元素\" data-toc-modified-id=\"列元素-9.1\"><span class=\"toc-item-num\">9.1&nbsp;&nbsp;</span>列元素</a></span></li><li><span><a href=\"#行元素\" data-toc-modified-id=\"行元素-9.2\"><span class=\"toc-item-num\">9.2&nbsp;&nbsp;</span>行元素</a></span></li><li><span><a href=\"#列\" data-toc-modified-id=\"列-9.3\"><span class=\"toc-item-num\">9.3&nbsp;&nbsp;</span>列</a></span></li><li><span><a href=\"#行\" data-toc-modified-id=\"行-9.4\"><span class=\"toc-item-num\">9.4&nbsp;&nbsp;</span>行</a></span></li><li><span><a href=\"#逐个元素处理\" data-toc-modified-id=\"逐个元素处理-9.5\"><span class=\"toc-item-num\">9.5&nbsp;&nbsp;</span>逐个元素处理</a></span></li></ul></li><li><span><a href=\"#读/写-CSV\" data-toc-modified-id=\"读/写-CSV-10\"><span class=\"toc-item-num\">10&nbsp;&nbsp;</span>读/写 CSV</a></span><ul class=\"toc-item\"><li><span><a href=\"#跳过首行、指定列名\" data-toc-modified-id=\"跳过首行、指定列名-10.1\"><span class=\"toc-item-num\">10.1&nbsp;&nbsp;</span>跳过首行、指定列名</a></span></li></ul></li><li><span><a href=\"#类型转化\" data-toc-modified-id=\"类型转化-11\"><span class=\"toc-item-num\">11&nbsp;&nbsp;</span>类型转化</a></span><ul class=\"toc-item\"><li><span><a href=\"#to_dict()-与-dict()-比较\" data-toc-modified-id=\"to_dict()-与-dict()-比较-11.1\"><span class=\"toc-item-num\">11.1&nbsp;&nbsp;</span>to_dict() 与 dict() 比较</a></span></li></ul></li><li><span><a href=\"#过滤\" data-toc-modified-id=\"过滤-12\"><span class=\"toc-item-num\">12&nbsp;&nbsp;</span>过滤</a></span></li></ul></div>"
   ]
  },
  {
   "cell_type": "markdown",
   "metadata": {
    "heading_collapsed": true
   },
   "source": [
    "## 增加行"
   ]
  },
  {
   "cell_type": "markdown",
   "metadata": {
    "hidden": true
   },
   "source": [
    "方法一："
   ]
  },
  {
   "cell_type": "code",
   "execution_count": null,
   "metadata": {
    "hidden": true
   },
   "outputs": [],
   "source": [
    "import pandas as pd\n",
    "df = pd.DataFrame(columns=['col1', 'col2', 'col3'])\n",
    "for i in range(5):\n",
    "    df.loc[i] = [i] * 3\n",
    "df"
   ]
  },
  {
   "cell_type": "markdown",
   "metadata": {
    "hidden": true
   },
   "source": [
    "方法二："
   ]
  },
  {
   "cell_type": "code",
   "execution_count": null,
   "metadata": {
    "hidden": true
   },
   "outputs": [],
   "source": [
    "import pandas as pd\n",
    "df = pd.DataFrame(columns=['col1', 'col2', 'col3'])\n",
    "for i in range(5):\n",
    "    df = df.append(pd.Series({'col1': i * 2, 'col2': i * 2, 'col3': [i] * 2}), ignore_index=True)\n",
    "df"
   ]
  },
  {
   "cell_type": "markdown",
   "metadata": {},
   "source": [
    "## 增加列"
   ]
  },
  {
   "cell_type": "markdown",
   "metadata": {},
   "source": [
    "方法一："
   ]
  },
  {
   "cell_type": "code",
   "execution_count": null,
   "metadata": {},
   "outputs": [],
   "source": [
    "import pandas as pd\n",
    "df = pd.DataFrame({'col1': range(5), 'col2': range(5, 10), 'col3': range(10,15)})\n",
    "df.assign(col4=['tangting'] * len(df))"
   ]
  },
  {
   "cell_type": "markdown",
   "metadata": {},
   "source": [
    "方法二："
   ]
  },
  {
   "cell_type": "code",
   "execution_count": null,
   "metadata": {},
   "outputs": [],
   "source": [
    "import pandas as pd\n",
    "df = pd.DataFrame({'col1': range(5), 'col2': range(5, 10), 'col3': range(10,15)})\n",
    "df['col4'] = ['jiexiao'] * len(df)\n",
    "df"
   ]
  },
  {
   "cell_type": "markdown",
   "metadata": {},
   "source": [
    "## 删除列"
   ]
  },
  {
   "cell_type": "code",
   "execution_count": null,
   "metadata": {},
   "outputs": [],
   "source": [
    "import pandas as pd\n",
    "df = pd.DataFrame({'col1': range(5), 'col2': range(5, 10), 'col3': range(10,15)})\n",
    "df['col4'] = ['jiexiao'] * len(df)\n",
    "df\n",
    "df.pop('col3')\n",
    "type(df.pop('col1'))\n",
    "df"
   ]
  },
  {
   "cell_type": "markdown",
   "metadata": {},
   "source": [
    "## 合并"
   ]
  },
  {
   "cell_type": "code",
   "execution_count": null,
   "metadata": {},
   "outputs": [],
   "source": [
    "import pandas as pd\n",
    "df = pd.DataFrame({'col1': range(5), 'col2': range(5), 'col3': range(5)})\n",
    "df1 = pd.DataFrame({'col1': range(5,10), 'col2': range(5,10), 'col3': range(5,10)})\n",
    "pd.concat([df, df1])"
   ]
  },
  {
   "cell_type": "markdown",
   "metadata": {
    "heading_collapsed": true
   },
   "source": [
    "## 修改列名"
   ]
  },
  {
   "cell_type": "markdown",
   "metadata": {
    "hidden": true
   },
   "source": [
    "替换原有名称"
   ]
  },
  {
   "cell_type": "code",
   "execution_count": null,
   "metadata": {
    "hidden": true
   },
   "outputs": [],
   "source": [
    "import pandas as pd\n",
    "df = pd.DataFrame({'col1': range(5), 'col2': range(5), 'col3': range(5)})\n",
    "df.rename(columns={'col1': 'new_col_1', 'col2': 'new_col_2', 'col3': 'new_col_3'})"
   ]
  },
  {
   "cell_type": "markdown",
   "metadata": {
    "hidden": true
   },
   "source": [
    "按列序号直接修改，注意 inplace 参数为 pandas-0.21 新增"
   ]
  },
  {
   "cell_type": "code",
   "execution_count": null,
   "metadata": {
    "hidden": true
   },
   "outputs": [],
   "source": [
    "import pandas as pd\n",
    "df = pd.DataFrame({'col1': range(5), 'col2': range(5), 'col3': range(5)})\n",
    "df.set_axis(labels=['new_col_1', 'new_col_2', 'new_col_3'], axis='columns', inplace=False)"
   ]
  },
  {
   "cell_type": "markdown",
   "metadata": {},
   "source": [
    "## 选取列"
   ]
  },
  {
   "cell_type": "code",
   "execution_count": null,
   "metadata": {},
   "outputs": [],
   "source": [
    "import pandas as pd\n",
    "df = pd.DataFrame({'col1': range(5), 'col2': range(5), 'col3': range(5)})\n",
    "df1 = df.loc[:, ['col1', 'col3']]\n",
    "df1"
   ]
  },
  {
   "cell_type": "markdown",
   "metadata": {},
   "source": [
    "可以看出来 loc 函数返回的是一个副本而不是引用"
   ]
  },
  {
   "cell_type": "code",
   "execution_count": null,
   "metadata": {},
   "outputs": [],
   "source": [
    "df1.set_axis(labels=['new_col_1', 'new_col_3'], axis='columns', inplace=True)\n",
    "df1\n",
    "df"
   ]
  },
  {
   "cell_type": "markdown",
   "metadata": {},
   "source": [
    "## 选取行"
   ]
  },
  {
   "cell_type": "code",
   "execution_count": null,
   "metadata": {},
   "outputs": [],
   "source": [
    "import pandas as pd\n",
    "df = pd.DataFrame({'col1': range(5), 'col2': range(5), 'col3': range(5)})\n",
    "df\n",
    "df.loc[:2]\n",
    "df.loc[2]"
   ]
  },
  {
   "cell_type": "markdown",
   "metadata": {},
   "source": [
    "## 遍历"
   ]
  },
  {
   "cell_type": "code",
   "execution_count": null,
   "metadata": {},
   "outputs": [],
   "source": [
    "import pandas as pd\n",
    "df = pd.DataFrame({'col1': [str(x) for x in range(5)], 'col2': [str(x) for x in range(5)], 'col3': [str(x) for x in range(5)]})\n",
    "df\n",
    "df.apply(lambda x: ' '.join(x))"
   ]
  },
  {
   "cell_type": "code",
   "execution_count": null,
   "metadata": {},
   "outputs": [],
   "source": [
    "import pandas as pd\n",
    "df = pd.DataFrame({'col1': range(5), 'col2': range(5), 'col3': range(5)})\n",
    "df\n",
    "for idx,row in df.iterrows():\n",
    "    print((row['col1'], row['col3']))\n",
    "    row['col1'] = 5\n",
    "    row.to_dict()\n",
    "df"
   ]
  },
  {
   "cell_type": "markdown",
   "metadata": {
    "heading_collapsed": true
   },
   "source": [
    "## Apply"
   ]
  },
  {
   "cell_type": "markdown",
   "metadata": {
    "heading_collapsed": true,
    "hidden": true
   },
   "source": [
    "### 列元素"
   ]
  },
  {
   "cell_type": "code",
   "execution_count": null,
   "metadata": {
    "hidden": true
   },
   "outputs": [],
   "source": [
    "import pandas as pd\n",
    "df = pd.DataFrame({'col1': range(5), 'col2': range(5, 10), 'col3': range(10, 15)})\n",
    "df\n",
    "df.loc[:, ['col1', 'col2']].apply(lambda x: x * x)"
   ]
  },
  {
   "cell_type": "markdown",
   "metadata": {
    "heading_collapsed": true,
    "hidden": true
   },
   "source": [
    "### 行元素"
   ]
  },
  {
   "cell_type": "code",
   "execution_count": null,
   "metadata": {
    "hidden": true
   },
   "outputs": [],
   "source": [
    "import pandas as pd\n",
    "df = pd.DataFrame({'col1': range(5), 'col2': range(5, 10), 'col3': range(10, 15)})\n",
    "df\n",
    "df.loc[1:3].apply(lambda x: x * x)"
   ]
  },
  {
   "cell_type": "markdown",
   "metadata": {
    "heading_collapsed": true,
    "hidden": true
   },
   "source": [
    "### 列"
   ]
  },
  {
   "cell_type": "code",
   "execution_count": null,
   "metadata": {
    "hidden": true
   },
   "outputs": [],
   "source": [
    "import pandas as pd\n",
    "df = pd.DataFrame({'col1': range(5), 'col2': range(5, 10), 'col3': range(10, 15)})\n",
    "df\n",
    "df.apply(lambda x: sum(x))"
   ]
  },
  {
   "cell_type": "markdown",
   "metadata": {
    "heading_collapsed": true,
    "hidden": true
   },
   "source": [
    "### 行"
   ]
  },
  {
   "cell_type": "code",
   "execution_count": null,
   "metadata": {
    "hidden": true
   },
   "outputs": [],
   "source": [
    "import pandas as pd\n",
    "df = pd.DataFrame({'col1': range(5), 'col2': range(5, 10), 'col3': range(10, 15)})\n",
    "df\n",
    "df.apply(lambda x: sum(x), axis=1)"
   ]
  },
  {
   "cell_type": "markdown",
   "metadata": {
    "heading_collapsed": true,
    "hidden": true
   },
   "source": [
    "### 逐个元素处理"
   ]
  },
  {
   "cell_type": "markdown",
   "metadata": {
    "hidden": true
   },
   "source": [
    "可以理解为 apply 传入的一定是一个 Series，如果需要特殊处理，需要转换为 list 最后再转换回去"
   ]
  },
  {
   "cell_type": "code",
   "execution_count": null,
   "metadata": {
    "hidden": true
   },
   "outputs": [],
   "source": [
    "import pandas as pd\n",
    "lst = [str(x) + '\\n             ' for x in range(5)]\n",
    "df = pd.DataFrame({'col1': lst, 'col2': lst, 'col3': lst})\n",
    "df\n",
    "df.apply(lambda x:  pd.Series([y.strip() if isinstance(y, str) else y for y in x]))"
   ]
  },
  {
   "cell_type": "code",
   "execution_count": null,
   "metadata": {
    "hidden": true
   },
   "outputs": [],
   "source": [
    "import pandas as pd\n",
    "lst = [str(x) + '\\n             ' for x in range(5)]\n",
    "df = pd.DataFrame({'col1': lst, 'col2': lst, 'col3': lst})\n",
    "df\n",
    "df.apply(lambda x: pd.Series((x['col1'], x['col2'])), axis=1)"
   ]
  },
  {
   "cell_type": "markdown",
   "metadata": {
    "heading_collapsed": true
   },
   "source": [
    "## 读/写 CSV"
   ]
  },
  {
   "cell_type": "code",
   "execution_count": null,
   "metadata": {
    "hidden": true
   },
   "outputs": [],
   "source": [
    "import pandas as pd\n",
    "BAW_PATH = \"/aiml/data/NoS_AW_Script/aw_baw.csv\"\n",
    "CAW_PATH = \"/aiml/data/NoS_AW_Script/aw_caw.csv\"\n",
    "df_caw = pd.read_csv(CAW_PATH)\n",
    "df_baw = pd.read_csv(BAW_PATH)\n",
    "len(df_caw)\n",
    "len(df_baw)"
   ]
  },
  {
   "cell_type": "code",
   "execution_count": null,
   "metadata": {
    "hidden": true
   },
   "outputs": [],
   "source": [
    "import pandas as pd\n",
    "df = pd.DataFrame({'col1': range(5), 'col2': range(5, 10), 'col3': range(10, 15)})\n",
    "df.to_csv('/tmp/tmp.csv', index=False)\n",
    "pd.read_csv('/tmp/tmp.csv')"
   ]
  },
  {
   "cell_type": "markdown",
   "metadata": {
    "heading_collapsed": true,
    "hidden": true
   },
   "source": [
    "### 跳过首行、指定列名"
   ]
  },
  {
   "cell_type": "code",
   "execution_count": null,
   "metadata": {
    "hidden": true
   },
   "outputs": [],
   "source": [
    "import pandas as pd\n",
    "\n",
    "CSV_COLUMN_NAMES = ['SepalLength', 'SepalWidth',\n",
    "                    'PetalLength', 'PetalWidth', 'Species']\n",
    "\n",
    "train_path = \"/tmp/iris_test.csv\"\n",
    "!head {train_path}"
   ]
  },
  {
   "cell_type": "code",
   "execution_count": null,
   "metadata": {
    "hidden": true
   },
   "outputs": [],
   "source": [
    "tmp1 = pd.read_csv(train_path, names=CSV_COLUMN_NAMES, header=0)\n",
    "tmp1 = tmp1.head()\n",
    "tmp1"
   ]
  },
  {
   "cell_type": "markdown",
   "metadata": {
    "heading_collapsed": true
   },
   "source": [
    "## 类型转化"
   ]
  },
  {
   "cell_type": "markdown",
   "metadata": {
    "hidden": true
   },
   "source": [
    "### to_dict() 与 dict() 比较"
   ]
  },
  {
   "cell_type": "markdown",
   "metadata": {
    "hidden": true
   },
   "source": [
    "可以看到，如果用强制转换，则每一列的内容依然为 Series，而使用 to_dict 内置函数则列信息变成了 dict"
   ]
  },
  {
   "cell_type": "code",
   "execution_count": null,
   "metadata": {
    "hidden": true
   },
   "outputs": [],
   "source": [
    "import pandas as pd\n",
    "df = pd.DataFrame({'col1': range(5), 'col2': range(5, 10), 'col3': range(10,15)})\n",
    "df\n",
    "type(df.to_dict())\n",
    "type(dict(df))\n",
    "# 两种转换后，字典的key一致\n",
    "df.to_dict().keys() == dict(df).keys()\n",
    "# 两种转换后，value的类型不一致\n",
    "type(df.to_dict()['col1'])\n",
    "type(dict(df)['col1'])\n",
    "# 经过多次转换，可以看出，保存的值还是一致的\n",
    "list(df.to_dict()['col1'].values()) == dict(df)['col1'].tolist()\n",
    "# 可以看出 to_dict 相当于是递归调用的\n",
    "df.to_dict()['col1']== dict(df)['col1'].to_dict()"
   ]
  },
  {
   "cell_type": "markdown",
   "metadata": {
    "heading_collapsed": true
   },
   "source": [
    "## 过滤"
   ]
  },
  {
   "cell_type": "code",
   "execution_count": null,
   "metadata": {
    "hidden": true
   },
   "outputs": [],
   "source": [
    "import pandas as pd\n",
    "df = pd.DataFrame({'col1': range(5), 'col2': range(5, 10), 'col3': range(10,15)})\n",
    "print(\"df:\")\n",
    "df\n",
    "# 过滤单个值\n",
    "print(\"df.loc[df['col1']==1]:\")\n",
    "df.loc[df['col1']==1]\n",
    "# 过滤多个值\n",
    "print(\"df.loc[df['col1'].isin([1, 2, 3])]:\")\n",
    "df.loc[df['col1'].isin([1, 2, 3])]\n",
    "# 同时符合多个条件\n",
    "print(\"df.loc[df['col1'].isin([1, 2, 3]) & df['col2'].isin([1, 7, 8])]:\")\n",
    "df.loc[df['col1'].isin([1, 2, 3]) & df['col2'].isin([1, 7, 8])]\n",
    "# 符合多个条件中的一个\n",
    "print(\"df.loc[df['col1'].isin([1, 2, 3]) | df['col2'].isin([5, 7, 8])]:\")\n",
    "df.loc[df['col1'].isin([1, 2, 3]) | df['col2'].isin([5, 7, 8])]"
   ]
  },
  {
   "cell_type": "markdown",
   "metadata": {
    "heading_collapsed": true
   },
   "source": [
    "## 改变列中的某些值"
   ]
  },
  {
   "cell_type": "code",
   "execution_count": null,
   "metadata": {
    "hidden": true
   },
   "outputs": [],
   "source": [
    "import pandas as pd\n",
    "df = pd.DataFrame({'col1': range(5), 'col2': range(5, 10), 'col3': range(10,15)})\n",
    "df\n",
    "mask = (df['col1'] % 2 == 0)\n",
    "df[mask]\n",
    "df.loc[mask, 'col2'] = [20] * len(df[mask])\n",
    "df"
   ]
  }
 ],
 "metadata": {
  "kernelspec": {
   "display_name": "Python 3",
   "language": "python",
   "name": "python3"
  },
  "language_info": {
   "codemirror_mode": {
    "name": "ipython",
    "version": 3
   },
   "file_extension": ".py",
   "mimetype": "text/x-python",
   "name": "python",
   "nbconvert_exporter": "python",
   "pygments_lexer": "ipython3",
   "version": "3.6.4"
  },
  "toc": {
   "nav_menu": {},
   "number_sections": true,
   "sideBar": true,
   "skip_h1_title": true,
   "toc_cell": true,
   "toc_position": {
    "height": "964px",
    "left": "0px",
    "right": "1617px",
    "top": "50px",
    "width": "241px"
   },
   "toc_section_display": "block",
   "toc_window_display": true
  }
 },
 "nbformat": 4,
 "nbformat_minor": 2
}
