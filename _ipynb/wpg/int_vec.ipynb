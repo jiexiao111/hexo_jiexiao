{
 "cells": [
  {
   "cell_type": "markdown",
   "metadata": {
    "toc": true
   },
   "source": [
    "<h1>Table of Contents<span class=\"tocSkip\"></span></h1>\n",
    "<div class=\"toc\" style=\"margin-top: 1em;\"><ul class=\"toc-item\"></ul></div>"
   ]
  },
  {
   "cell_type": "code",
   "execution_count": 1,
   "metadata": {},
   "outputs": [
    {
     "name": "stdout",
     "output_type": "stream",
     "text": [
      "test\n",
      "3009\n",
      "down\n"
     ]
    }
   ],
   "source": [
    "import csv\n",
    "from gensim.models import KeyedVectors\n",
    "\n",
    "MODEL_BIN_PATH = r'/tmp/GoogleNews-vectors-negative300.bin.gz'\n",
    "MODEL_VEC_PATH = r'/tmp/GoogleNews-vectors-negative300.model.vec'\n",
    "CSV_PATH = r'/tmp/clean_data.csv'\n",
    "WORDS_PATH = r'/tmp/words_data.csv'\n",
    "REMOVE_WORDS = r\"unknown\"\n",
    "\n",
    "# model = word2vec.Word2Vec.load(MODEL_BIN_PATH)\n",
    "model = KeyedVectors.load_word2vec_format(MODEL_BIN_PATH, binary=True)\n",
    "\n",
    "def generate_by_csv(csv_path=CSV_PATH, words_path=WORDS_PATH):\n",
    "    result_dict = dict()\n",
    "    with open(csv_path, \"r\", encoding=r\"utf-8\") as f:\n",
    "        csv_data = csv.reader(f)\n",
    "        for item in csv_data:\n",
    "            target = item[11]\n",
    "            if csv_data.line_num == 1:\n",
    "                print(target)\n",
    "                continue\n",
    "            if target:\n",
    "                words = target.split()\n",
    "                if REMOVE_WORDS in words:\n",
    "                    words.remove(REMOVE_WORDS)\n",
    "                for word in words:\n",
    "                    fren = result_dict.get(word)\n",
    "                    if fren:\n",
    "                        fren += 1\n",
    "                    else:\n",
    "                        fren = 1\n",
    "                    result_dict.__setitem__(word, fren)\n",
    "                \n",
    "    with open(words_path, 'w', encoding = 'utf-8') as f:\n",
    "        for key, val in result_dict.items():\n",
    "            f.write(\"%s,%s\\n\" % (key, str(val)))\n",
    "            \n",
    "def get_aw_embedding(text):\n",
    "    \"\"\"\n",
    "        将分词后的 AW 转换为 embedding，然后加权求平均\n",
    "    \"\"\"\n",
    "#     if text in model.wv.vocab:\n",
    "#         sum_emb = model.wv.word_vec(text).copy()\n",
    "    if text in model.vocab:\n",
    "        sum_emb = model.word_vec(text).copy()\n",
    "        return sum_emb\n",
    "    return []\n",
    "\n",
    "def generate_vec(words_path=WORDS_PATH):\n",
    "    aw_embedding_list = []\n",
    "    with open(words_path, \"r\", encoding=r\"utf-8\") as f:\n",
    "        csv_data = csv.reader(f)\n",
    "        for item in csv_data:\n",
    "            text = item[0]\n",
    "            aw_embedding = [text]\n",
    "            emb = get_aw_embedding(text)\n",
    "            if len(emb):\n",
    "                aw_embedding.extend(emb)\n",
    "                aw_embedding = [str(x).strip() for x in aw_embedding]\n",
    "                aw_embedding_list.append(aw_embedding)\n",
    "                \n",
    "    with open(MODEL_VEC_PATH, 'w', encoding = 'utf-8') as f:\n",
    "        _ = f.write(\"%d %d\\n\" % (len(aw_embedding_list), len(emb)))\n",
    "        for x in aw_embedding_list:\n",
    "            _ = f.write(\" \".join(x) + \"\\n\")\n",
    "\n",
    "def test():\n",
    "    model_vec = KeyedVectors.load_word2vec_format(\n",
    "                MODEL_VEC_PATH, binary=False)\n",
    "    keys = model_vec.vocab.keys()\n",
    "    print(len(keys))\n",
    "\n",
    "if __name__ == '__main__':\n",
    "#     print(\"start get word fren\")\n",
    "#     generate_by_csv()\n",
    "#     print(\"start int vec\")\n",
    "#     generate_vec()\n",
    "    print(\"test\")\n",
    "    test()\n",
    "    print(\"down\")\n",
    "    "
   ]
  }
 ],
 "metadata": {
  "kernelspec": {
   "display_name": "Python 3",
   "language": "python",
   "name": "python3"
  },
  "language_info": {
   "codemirror_mode": {
    "name": "ipython",
    "version": 3
   },
   "file_extension": ".py",
   "mimetype": "text/x-python",
   "name": "python",
   "nbconvert_exporter": "python",
   "pygments_lexer": "ipython3",
   "version": "3.6.4"
  },
  "toc": {
   "nav_menu": {},
   "number_sections": true,
   "sideBar": true,
   "skip_h1_title": true,
   "toc_cell": true,
   "toc_position": {},
   "toc_section_display": "block",
   "toc_window_display": true
  }
 },
 "nbformat": 4,
 "nbformat_minor": 2
}
