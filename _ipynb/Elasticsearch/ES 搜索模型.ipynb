{
 "cells": [
  {
   "cell_type": "markdown",
   "metadata": {
    "toc": true
   },
   "source": [
    "<h1>Table of Contents<span class=\"tocSkip\"></span></h1>\n",
    "<div class=\"toc\" style=\"margin-top: 1em;\"><ul class=\"toc-item\"><li><span><a href=\"#Setup\" data-toc-modified-id=\"Setup-1\"><span class=\"toc-item-num\">1&nbsp;&nbsp;</span>Setup</a></span></li><li><span><a href=\"#数据准备\" data-toc-modified-id=\"数据准备-2\"><span class=\"toc-item-num\">2&nbsp;&nbsp;</span>数据准备</a></span></li><li><span><a href=\"#创建表项\" data-toc-modified-id=\"创建表项-3\"><span class=\"toc-item-num\">3&nbsp;&nbsp;</span>创建表项</a></span></li><li><span><a href=\"#查看配置\" data-toc-modified-id=\"查看配置-4\"><span class=\"toc-item-num\">4&nbsp;&nbsp;</span>查看配置</a></span></li><li><span><a href=\"#搜索\" data-toc-modified-id=\"搜索-5\"><span class=\"toc-item-num\">5&nbsp;&nbsp;</span>搜索</a></span></li><li><span><a href=\"#近义词模型\" data-toc-modified-id=\"近义词模型-6\"><span class=\"toc-item-num\">6&nbsp;&nbsp;</span>近义词模型</a></span></li><li><span><a href=\"#结合近义词搜索\" data-toc-modified-id=\"结合近义词搜索-7\"><span class=\"toc-item-num\">7&nbsp;&nbsp;</span>结合近义词搜索</a></span><ul class=\"toc-item\"><li><span><a href=\"#测试\" data-toc-modified-id=\"测试-7.1\"><span class=\"toc-item-num\">7.1&nbsp;&nbsp;</span>测试</a></span></li><li><span><a href=\"#实现\" data-toc-modified-id=\"实现-7.2\"><span class=\"toc-item-num\">7.2&nbsp;&nbsp;</span>实现</a></span></li><li><span><a href=\"#验证\" data-toc-modified-id=\"验证-7.3\"><span class=\"toc-item-num\">7.3&nbsp;&nbsp;</span>验证</a></span></li></ul></li></ul></div>"
   ]
  },
  {
   "cell_type": "markdown",
   "metadata": {},
   "source": [
    "## Setup"
   ]
  },
  {
   "cell_type": "code",
   "execution_count": 5,
   "metadata": {
    "collapsed": true
   },
   "outputs": [],
   "source": [
    "from elasticsearch import Elasticsearch\n",
    "from elasticsearch import helpers\n",
    "from datetime import datetime\n",
    "import pprint\n",
    "import gensim"
   ]
  },
  {
   "cell_type": "code",
   "execution_count": 6,
   "metadata": {
    "collapsed": true
   },
   "outputs": [],
   "source": [
    "es = Elasticsearch()"
   ]
  },
  {
   "cell_type": "markdown",
   "metadata": {},
   "source": [
    "## 数据准备"
   ]
  },
  {
   "cell_type": "code",
   "execution_count": 7,
   "metadata": {
    "collapsed": true
   },
   "outputs": [
    {
     "name": "stdout",
     "output_type": "stream",
     "text": [
      "CAT统计\r\n",
      "获取上下行绑定的信道\r\n",
      "RCC模板配置与配置检查\r\n",
      "attenuation&equalizer\r\n",
      "通话结束后准入带宽占用查询\r\n",
      "*Node_cb068\r\n",
      "配置BPI+认证白名单\r\n",
      "防MAC欺骗验证:env_init(),execute(),check(),test_destory(),OWFunc\r\n",
      "配置证书管理状态:OWFunc;env_init();execute();check();test_destory()\r\n",
      "查询CM版本信息\r\n"
     ]
    }
   ],
   "source": [
    "!head /tmp/model_name.txt"
   ]
  },
  {
   "cell_type": "markdown",
   "metadata": {},
   "source": [
    "## 创建表项"
   ]
  },
  {
   "cell_type": "code",
   "execution_count": 8,
   "metadata": {
    "collapsed": true
   },
   "outputs": [],
   "source": [
    "test_score_index = \"modle_index\"\n",
    "type_name = \"my_type\"\n",
    "field_name = \"content\""
   ]
  },
  {
   "cell_type": "code",
   "execution_count": 9,
   "metadata": {
    "collapsed": true
   },
   "outputs": [],
   "source": [
    "my_data_settting = {\n",
    "    \"mappings\": {\n",
    "        type_name: {\n",
    "            \"properties\": {\n",
    "                field_name: {\n",
    "                    \"type\": \"text\",\n",
    "                    \"analyzer\": \"ik_max_word\",\n",
    "                    \"search_analyzer\": \"ik_smart\"\n",
    "                }\n",
    "            }\n",
    "        }\n",
    "    }\n",
    "}"
   ]
  },
  {
   "cell_type": "code",
   "execution_count": 100,
   "metadata": {
    "collapsed": true
   },
   "outputs": [
    {
     "data": {
      "text/plain": [
       "True"
      ]
     },
     "execution_count": 100,
     "metadata": {},
     "output_type": "execute_result"
    }
   ],
   "source": [
    "es.indices.exists(index=test_score_index)"
   ]
  },
  {
   "cell_type": "code",
   "execution_count": 98,
   "metadata": {
    "collapsed": true
   },
   "outputs": [
    {
     "name": "stderr",
     "output_type": "stream",
     "text": [
      "PUT http://localhost:9200/modle_index [status:400 request:0.005s]\n"
     ]
    },
    {
     "ename": "RequestError",
     "evalue": "TransportError(400, 'resource_already_exists_exception', 'index [modle_index/Hm75P_vgSGGpAXmzW4tW8Q] already exists')",
     "output_type": "error",
     "traceback": [
      "\u001b[0;31m---------------------------------------------------------------------------\u001b[0m",
      "\u001b[0;31mRequestError\u001b[0m                              Traceback (most recent call last)",
      "\u001b[0;32m<ipython-input-98-dd2dde761321>\u001b[0m in \u001b[0;36m<module>\u001b[0;34m()\u001b[0m\n\u001b[1;32m      1\u001b[0m \u001b[0;31m#es.indices.delete(index=test_score_index)\u001b[0m\u001b[0;34m\u001b[0m\u001b[0;34m\u001b[0m\u001b[0m\n\u001b[0;32m----> 2\u001b[0;31m \u001b[0mes\u001b[0m\u001b[0;34m.\u001b[0m\u001b[0mindices\u001b[0m\u001b[0;34m.\u001b[0m\u001b[0mcreate\u001b[0m\u001b[0;34m(\u001b[0m\u001b[0mindex\u001b[0m\u001b[0;34m=\u001b[0m\u001b[0mtest_score_index\u001b[0m\u001b[0;34m,\u001b[0m \u001b[0mbody\u001b[0m\u001b[0;34m=\u001b[0m\u001b[0mmy_data_settting\u001b[0m\u001b[0;34m)\u001b[0m\u001b[0;34m\u001b[0m\u001b[0m\n\u001b[0m",
      "\u001b[0;32m/root/anaconda3/lib/python3.6/site-packages/elasticsearch/client/utils.py\u001b[0m in \u001b[0;36m_wrapped\u001b[0;34m(*args, **kwargs)\u001b[0m\n\u001b[1;32m     74\u001b[0m                 \u001b[0;32mif\u001b[0m \u001b[0mp\u001b[0m \u001b[0;32min\u001b[0m \u001b[0mkwargs\u001b[0m\u001b[0;34m:\u001b[0m\u001b[0;34m\u001b[0m\u001b[0m\n\u001b[1;32m     75\u001b[0m                     \u001b[0mparams\u001b[0m\u001b[0;34m[\u001b[0m\u001b[0mp\u001b[0m\u001b[0;34m]\u001b[0m \u001b[0;34m=\u001b[0m \u001b[0mkwargs\u001b[0m\u001b[0;34m.\u001b[0m\u001b[0mpop\u001b[0m\u001b[0;34m(\u001b[0m\u001b[0mp\u001b[0m\u001b[0;34m)\u001b[0m\u001b[0;34m\u001b[0m\u001b[0m\n\u001b[0;32m---> 76\u001b[0;31m             \u001b[0;32mreturn\u001b[0m \u001b[0mfunc\u001b[0m\u001b[0;34m(\u001b[0m\u001b[0;34m*\u001b[0m\u001b[0margs\u001b[0m\u001b[0;34m,\u001b[0m \u001b[0mparams\u001b[0m\u001b[0;34m=\u001b[0m\u001b[0mparams\u001b[0m\u001b[0;34m,\u001b[0m \u001b[0;34m**\u001b[0m\u001b[0mkwargs\u001b[0m\u001b[0;34m)\u001b[0m\u001b[0;34m\u001b[0m\u001b[0m\n\u001b[0m\u001b[1;32m     77\u001b[0m         \u001b[0;32mreturn\u001b[0m \u001b[0m_wrapped\u001b[0m\u001b[0;34m\u001b[0m\u001b[0m\n\u001b[1;32m     78\u001b[0m     \u001b[0;32mreturn\u001b[0m \u001b[0m_wrapper\u001b[0m\u001b[0;34m\u001b[0m\u001b[0m\n",
      "\u001b[0;32m/root/anaconda3/lib/python3.6/site-packages/elasticsearch/client/indices.py\u001b[0m in \u001b[0;36mcreate\u001b[0;34m(self, index, body, params)\u001b[0m\n\u001b[1;32m     89\u001b[0m             \u001b[0;32mraise\u001b[0m \u001b[0mValueError\u001b[0m\u001b[0;34m(\u001b[0m\u001b[0;34m\"Empty value passed for a required argument 'index'.\"\u001b[0m\u001b[0;34m)\u001b[0m\u001b[0;34m\u001b[0m\u001b[0m\n\u001b[1;32m     90\u001b[0m         return self.transport.perform_request('PUT', _make_path(index),\n\u001b[0;32m---> 91\u001b[0;31m             params=params, body=body)\n\u001b[0m\u001b[1;32m     92\u001b[0m \u001b[0;34m\u001b[0m\u001b[0m\n\u001b[1;32m     93\u001b[0m     @query_params('allow_no_indices', 'expand_wildcards', 'flat_settings',\n",
      "\u001b[0;32m/root/anaconda3/lib/python3.6/site-packages/elasticsearch/transport.py\u001b[0m in \u001b[0;36mperform_request\u001b[0;34m(self, method, url, headers, params, body)\u001b[0m\n\u001b[1;32m    312\u001b[0m \u001b[0;34m\u001b[0m\u001b[0m\n\u001b[1;32m    313\u001b[0m             \u001b[0;32mtry\u001b[0m\u001b[0;34m:\u001b[0m\u001b[0;34m\u001b[0m\u001b[0m\n\u001b[0;32m--> 314\u001b[0;31m                 \u001b[0mstatus\u001b[0m\u001b[0;34m,\u001b[0m \u001b[0mheaders_response\u001b[0m\u001b[0;34m,\u001b[0m \u001b[0mdata\u001b[0m \u001b[0;34m=\u001b[0m \u001b[0mconnection\u001b[0m\u001b[0;34m.\u001b[0m\u001b[0mperform_request\u001b[0m\u001b[0;34m(\u001b[0m\u001b[0mmethod\u001b[0m\u001b[0;34m,\u001b[0m \u001b[0murl\u001b[0m\u001b[0;34m,\u001b[0m \u001b[0mparams\u001b[0m\u001b[0;34m,\u001b[0m \u001b[0mbody\u001b[0m\u001b[0;34m,\u001b[0m \u001b[0mheaders\u001b[0m\u001b[0;34m=\u001b[0m\u001b[0mheaders\u001b[0m\u001b[0;34m,\u001b[0m \u001b[0mignore\u001b[0m\u001b[0;34m=\u001b[0m\u001b[0mignore\u001b[0m\u001b[0;34m,\u001b[0m \u001b[0mtimeout\u001b[0m\u001b[0;34m=\u001b[0m\u001b[0mtimeout\u001b[0m\u001b[0;34m)\u001b[0m\u001b[0;34m\u001b[0m\u001b[0m\n\u001b[0m\u001b[1;32m    315\u001b[0m \u001b[0;34m\u001b[0m\u001b[0m\n\u001b[1;32m    316\u001b[0m             \u001b[0;32mexcept\u001b[0m \u001b[0mTransportError\u001b[0m \u001b[0;32mas\u001b[0m \u001b[0me\u001b[0m\u001b[0;34m:\u001b[0m\u001b[0;34m\u001b[0m\u001b[0m\n",
      "\u001b[0;32m/root/anaconda3/lib/python3.6/site-packages/elasticsearch/connection/http_urllib3.py\u001b[0m in \u001b[0;36mperform_request\u001b[0;34m(self, method, url, params, body, timeout, ignore, headers)\u001b[0m\n\u001b[1;32m    178\u001b[0m         \u001b[0;32mif\u001b[0m \u001b[0;32mnot\u001b[0m \u001b[0;34m(\u001b[0m\u001b[0;36m200\u001b[0m \u001b[0;34m<=\u001b[0m \u001b[0mresponse\u001b[0m\u001b[0;34m.\u001b[0m\u001b[0mstatus\u001b[0m \u001b[0;34m<\u001b[0m \u001b[0;36m300\u001b[0m\u001b[0;34m)\u001b[0m \u001b[0;32mand\u001b[0m \u001b[0mresponse\u001b[0m\u001b[0;34m.\u001b[0m\u001b[0mstatus\u001b[0m \u001b[0;32mnot\u001b[0m \u001b[0;32min\u001b[0m \u001b[0mignore\u001b[0m\u001b[0;34m:\u001b[0m\u001b[0;34m\u001b[0m\u001b[0m\n\u001b[1;32m    179\u001b[0m             \u001b[0mself\u001b[0m\u001b[0;34m.\u001b[0m\u001b[0mlog_request_fail\u001b[0m\u001b[0;34m(\u001b[0m\u001b[0mmethod\u001b[0m\u001b[0;34m,\u001b[0m \u001b[0mfull_url\u001b[0m\u001b[0;34m,\u001b[0m \u001b[0murl\u001b[0m\u001b[0;34m,\u001b[0m \u001b[0mbody\u001b[0m\u001b[0;34m,\u001b[0m \u001b[0mduration\u001b[0m\u001b[0;34m,\u001b[0m \u001b[0mresponse\u001b[0m\u001b[0;34m.\u001b[0m\u001b[0mstatus\u001b[0m\u001b[0;34m,\u001b[0m \u001b[0mraw_data\u001b[0m\u001b[0;34m)\u001b[0m\u001b[0;34m\u001b[0m\u001b[0m\n\u001b[0;32m--> 180\u001b[0;31m             \u001b[0mself\u001b[0m\u001b[0;34m.\u001b[0m\u001b[0m_raise_error\u001b[0m\u001b[0;34m(\u001b[0m\u001b[0mresponse\u001b[0m\u001b[0;34m.\u001b[0m\u001b[0mstatus\u001b[0m\u001b[0;34m,\u001b[0m \u001b[0mraw_data\u001b[0m\u001b[0;34m)\u001b[0m\u001b[0;34m\u001b[0m\u001b[0m\n\u001b[0m\u001b[1;32m    181\u001b[0m \u001b[0;34m\u001b[0m\u001b[0m\n\u001b[1;32m    182\u001b[0m         self.log_request_success(method, full_url, url, body, response.status,\n",
      "\u001b[0;32m/root/anaconda3/lib/python3.6/site-packages/elasticsearch/connection/base.py\u001b[0m in \u001b[0;36m_raise_error\u001b[0;34m(self, status_code, raw_data)\u001b[0m\n\u001b[1;32m    123\u001b[0m             \u001b[0mlogger\u001b[0m\u001b[0;34m.\u001b[0m\u001b[0mwarning\u001b[0m\u001b[0;34m(\u001b[0m\u001b[0;34m'Undecodable raw error response from server: %s'\u001b[0m\u001b[0;34m,\u001b[0m \u001b[0merr\u001b[0m\u001b[0;34m)\u001b[0m\u001b[0;34m\u001b[0m\u001b[0m\n\u001b[1;32m    124\u001b[0m \u001b[0;34m\u001b[0m\u001b[0m\n\u001b[0;32m--> 125\u001b[0;31m         \u001b[0;32mraise\u001b[0m \u001b[0mHTTP_EXCEPTIONS\u001b[0m\u001b[0;34m.\u001b[0m\u001b[0mget\u001b[0m\u001b[0;34m(\u001b[0m\u001b[0mstatus_code\u001b[0m\u001b[0;34m,\u001b[0m \u001b[0mTransportError\u001b[0m\u001b[0;34m)\u001b[0m\u001b[0;34m(\u001b[0m\u001b[0mstatus_code\u001b[0m\u001b[0;34m,\u001b[0m \u001b[0merror_message\u001b[0m\u001b[0;34m,\u001b[0m \u001b[0madditional_info\u001b[0m\u001b[0;34m)\u001b[0m\u001b[0;34m\u001b[0m\u001b[0m\n\u001b[0m\u001b[1;32m    126\u001b[0m \u001b[0;34m\u001b[0m\u001b[0m\n\u001b[1;32m    127\u001b[0m \u001b[0;34m\u001b[0m\u001b[0m\n",
      "\u001b[0;31mRequestError\u001b[0m: TransportError(400, 'resource_already_exists_exception', 'index [modle_index/Hm75P_vgSGGpAXmzW4tW8Q] already exists')"
     ]
    }
   ],
   "source": [
    "es.indices.delete(index=test_score_index)\n",
    "es.indices.create(index=test_score_index, body=my_data_settting)"
   ]
  },
  {
   "cell_type": "code",
   "execution_count": 11,
   "metadata": {
    "collapsed": true
   },
   "outputs": [],
   "source": [
    "def decode_nginx_log(data_iter):\n",
    "    for idx, row in enumerate(data_iter):\n",
    "        # Filter out the below from each log line\n",
    "        # id_label = row\n",
    "        # cmd_format_t = str(row['cmd_format_t'])\n",
    "\n",
    "        # Index for elasticsearch. Typically timestamp.\n",
    "        # idx = ...\n",
    "\n",
    "        es_fields_keys = (field_name,)\n",
    "        es_fields_vals = (row,)\n",
    "\n",
    "        # We return a dict holding values from each line\n",
    "        es_nginx_d = dict(zip(es_fields_keys, es_fields_vals))\n",
    "\n",
    "        # Return the row on each iteration\n",
    "        yield idx, es_nginx_d   # <- Note the usage of 'yield'\n",
    "\n",
    "def es_add_bulk():\n",
    "    with open(\"/tmp/model_name.txt\", \"r\") as f:\n",
    "        data_iter = f.readlines()\n",
    "        data_iter = [x.strip() for x in data_iter]\n",
    "\n",
    "    # NOTE the (...) round brackets. This is for a generator.\n",
    "    k = ({\n",
    "            \"_index\": test_score_index,\n",
    "            \"_type\" : type_name,\n",
    "            \"_id\"   : idx,\n",
    "            \"_source\": es_nginx_d,\n",
    "         } for idx, es_nginx_d in decode_nginx_log(data_iter))\n",
    "\n",
    "    helpers.bulk(es, k)\n",
    "\n",
    "# Now, just run it.\n",
    "es_add_bulk()"
   ]
  },
  {
   "cell_type": "markdown",
   "metadata": {},
   "source": [
    "## 查看配置"
   ]
  },
  {
   "cell_type": "code",
   "execution_count": 12,
   "metadata": {
    "collapsed": true
   },
   "outputs": [
    {
     "name": "stdout",
     "output_type": "stream",
     "text": [
      "{'modle_index': {'mappings': {'my_type': {'properties': {'content': {'analyzer': 'ik_max_word',\n",
      "                                                                     'search_analyzer': 'ik_smart',\n",
      "                                                                     'type': 'text'}}}}}}\n",
      "{'modle_index': {'settings': {'index': {'creation_date': '1525663749971',\n",
      "                                        'number_of_replicas': '1',\n",
      "                                        'number_of_shards': '5',\n",
      "                                        'provided_name': 'modle_index',\n",
      "                                        'uuid': 'Hm75P_vgSGGpAXmzW4tW8Q',\n",
      "                                        'version': {'created': '6020399'}}}}}\n"
     ]
    }
   ],
   "source": [
    "pprint.pprint(es.indices.get_mapping(index=test_score_index))\n",
    "pprint.pprint(es.indices.get_settings(index=test_score_index))"
   ]
  },
  {
   "cell_type": "code",
   "execution_count": 13,
   "metadata": {
    "collapsed": true
   },
   "outputs": [
    {
     "data": {
      "text/plain": [
       "{'_shards': {'failed': 0, 'skipped': 0, 'successful': 5, 'total': 5},\n",
       " 'hits': {'hits': [{'_id': '0',\n",
       "    '_index': 'modle_index',\n",
       "    '_score': 1.0,\n",
       "    '_source': {'content': 'CAT统计'},\n",
       "    '_type': 'my_type'},\n",
       "   {'_id': '14',\n",
       "    '_index': 'modle_index',\n",
       "    '_score': 1.0,\n",
       "    '_source': {'content': '配置EQAM信道模板'},\n",
       "    '_type': 'my_type'},\n",
       "   {'_id': '19',\n",
       "    '_index': 'modle_index',\n",
       "    '_score': 1.0,\n",
       "    '_source': {'content': '配置上行信道绑定的频谱管理策略组'},\n",
       "    '_type': 'my_type'},\n",
       "   {'_id': '22',\n",
       "    '_index': 'modle_index',\n",
       "    '_score': 1.0,\n",
       "    '_source': {'content': '配置RX光机的光路AGC增益控制范围'},\n",
       "    '_type': 'my_type'},\n",
       "   {'_id': '24',\n",
       "    '_index': 'modle_index',\n",
       "    '_score': 1.0,\n",
       "    '_source': {'content': '清除准入控制统计'},\n",
       "    '_type': 'my_type'},\n",
       "   {'_id': '25',\n",
       "    '_index': 'modle_index',\n",
       "    '_score': 1.0,\n",
       "    '_source': {'content': 'CM-REG-STATUS模板'},\n",
       "    '_type': 'my_type'},\n",
       "   {'_id': '26',\n",
       "    '_index': 'modle_index',\n",
       "    '_score': 1.0,\n",
       "    '_source': {'content': '配置负载均衡策略'},\n",
       "    '_type': 'my_type'},\n",
       "   {'_id': '29',\n",
       "    '_index': 'modle_index',\n",
       "    '_score': 1.0,\n",
       "    '_source': {'content': '下行通用modem负载均衡状态检查'},\n",
       "    '_type': 'my_type'},\n",
       "   {'_id': '40',\n",
       "    '_index': 'modle_index',\n",
       "    '_score': 1.0,\n",
       "    '_source': {'content': '基于any映射'},\n",
       "    '_type': 'my_type'},\n",
       "   {'_id': '41',\n",
       "    '_index': 'modle_index',\n",
       "    '_score': 1.0,\n",
       "    '_source': {'content': 'default QGC,single模式'},\n",
       "    '_type': 'my_type'}],\n",
       "  'max_score': 1.0,\n",
       "  'total': 808},\n",
       " 'timed_out': False,\n",
       " 'took': 1}"
      ]
     },
     "execution_count": 13,
     "metadata": {},
     "output_type": "execute_result"
    }
   ],
   "source": [
    "es.search(index=test_score_index, body={\"query\": {\"match_all\": {}}})"
   ]
  },
  {
   "cell_type": "markdown",
   "metadata": {},
   "source": [
    "## 搜索"
   ]
  },
  {
   "cell_type": "code",
   "execution_count": 14,
   "metadata": {
    "collapsed": true
   },
   "outputs": [
    {
     "data": {
      "text/plain": [
       "{'_shards': {'failed': 0, 'skipped': 0, 'successful': 5, 'total': 5},\n",
       " 'hits': {'hits': [{'_id': '37',\n",
       "    '_index': 'modle_index',\n",
       "    '_score': 4.8841333,\n",
       "    '_source': {'content': '获取动态流sfid信息'},\n",
       "    '_type': 'my_type',\n",
       "    'highlight': {'content': ['获取动态流<em>sfid</em>信息']}},\n",
       "   {'_id': '620',\n",
       "    '_index': 'modle_index',\n",
       "    '_score': 2.126432,\n",
       "    '_source': {'content': '配置vlan'},\n",
       "    '_type': 'my_type',\n",
       "    'highlight': {'content': ['<em>配置</em>vlan']}},\n",
       "   {'_id': '2',\n",
       "    '_index': 'modle_index',\n",
       "    '_score': 2.1227982,\n",
       "    '_source': {'content': 'RCC模板配置与配置检查'},\n",
       "    '_type': 'my_type',\n",
       "    'highlight': {'content': ['RCC模板<em>配置</em>与<em>配置</em>检查']}}],\n",
       "  'max_score': 4.8841333,\n",
       "  'total': 192},\n",
       " 'timed_out': False,\n",
       " 'took': 2}"
      ]
     },
     "execution_count": 14,
     "metadata": {},
     "output_type": "execute_result"
    }
   ],
   "source": [
    "es.search(index=test_score_index, explain = False,size=3, body={\n",
    "    \"query\": {\n",
    "        \"match\": {\n",
    "            field_name: {\n",
    "                \"query\": \"配置 sfid\"\n",
    "            }\n",
    "        }\n",
    "    },\n",
    "    \"highlight\": {\n",
    "        \"fields\" : {\n",
    "            field_name : {}\n",
    "        }\n",
    "    }\n",
    "})"
   ]
  },
  {
   "cell_type": "markdown",
   "metadata": {},
   "source": [
    "## 近义词模型"
   ]
  },
  {
   "cell_type": "code",
   "execution_count": 15,
   "metadata": {
    "collapsed": true
   },
   "outputs": [],
   "source": [
    "bin_file = '/root/workspace/mount/code/gensim/med256_5.model.bin'\n",
    "word_vectors = gensim.models.Word2Vec.load(bin_file)"
   ]
  },
  {
   "cell_type": "code",
   "execution_count": 16,
   "metadata": {
    "collapsed": true
   },
   "outputs": [
    {
     "data": {
      "text/plain": [
       "True"
      ]
     },
     "execution_count": 16,
     "metadata": {},
     "output_type": "execute_result"
    }
   ],
   "source": [
    "\"设置\" in word_vectors.wv.vocab"
   ]
  },
  {
   "cell_type": "code",
   "execution_count": 17,
   "metadata": {
    "collapsed": true
   },
   "outputs": [
    {
     "data": {
      "text/plain": [
       "[('修改', 0.523277759552002),\n",
       " ('设定', 0.39470696449279785),\n",
       " ('配置', 0.37758272886276245),\n",
       " ('更改', 0.35820212960243225),\n",
       " ('指定', 0.3255549371242523),\n",
       " ('小时数', 0.30822598934173584),\n",
       " ('为', 0.30258968472480774),\n",
       " ('调整', 0.3020206093788147),\n",
       " ('取值', 0.2891148030757904),\n",
       " ('无穷大', 0.28566598892211914)]"
      ]
     },
     "execution_count": 17,
     "metadata": {},
     "output_type": "execute_result"
    }
   ],
   "source": [
    "word_vectors.wv.most_similar(\"设置\", topn=10)"
   ]
  },
  {
   "cell_type": "code",
   "execution_count": 18,
   "metadata": {
    "collapsed": true
   },
   "outputs": [
    {
     "data": {
      "text/plain": [
       "['修改', '设定', '配置', '更改', '指定', '小时数', '调整', '取值', '无穷大']"
      ]
     },
     "execution_count": 18,
     "metadata": {},
     "output_type": "execute_result"
    }
   ],
   "source": [
    "[x[0] for x in word_vectors.wv.most_similar(\"设置\", topn=10) if len(x[0]) > 1]"
   ]
  },
  {
   "cell_type": "markdown",
   "metadata": {},
   "source": [
    "## 结合近义词搜索"
   ]
  },
  {
   "cell_type": "markdown",
   "metadata": {},
   "source": [
    "### 测试"
   ]
  },
  {
   "cell_type": "code",
   "execution_count": 127,
   "metadata": {
    "collapsed": true
   },
   "outputs": [
    {
     "data": {
      "text/plain": [
       "{'_shards': {'failed': 0, 'skipped': 0, 'successful': 5, 'total': 5},\n",
       " 'hits': {'hits': [{'_id': '116',\n",
       "    '_index': 'modle_index',\n",
       "    '_score': 1.3,\n",
       "    '_source': {'content': 'monitor查询与断言_EQ'},\n",
       "    '_type': 'my_type',\n",
       "    'highlight': {'content': ['monitor<em>查询</em>与断言_EQ']}},\n",
       "   {'_id': '145',\n",
       "    '_index': 'modle_index',\n",
       "    '_score': 1.3,\n",
       "    '_source': {'content': '查询VOD_input统计'},\n",
       "    '_type': 'my_type',\n",
       "    'highlight': {'content': ['<em>查询</em>VOD_input统计']}},\n",
       "   {'_id': '166',\n",
       "    '_index': 'modle_index',\n",
       "    '_score': 1.3,\n",
       "    '_source': {'content': '首次查询判断EQAM信道统计'},\n",
       "    '_type': 'my_type',\n",
       "    'highlight': {'content': ['首次<em>查询</em>判断EQAM信道统计']}},\n",
       "   {'_id': '206',\n",
       "    '_index': 'modle_index',\n",
       "    '_score': 1.3,\n",
       "    '_source': {'content': 'monitor查询与断言'},\n",
       "    '_type': 'my_type',\n",
       "    'highlight': {'content': ['monitor<em>查询</em>与断言']}},\n",
       "   {'_id': '254',\n",
       "    '_index': 'modle_index',\n",
       "    '_score': 1.3,\n",
       "    '_source': {'content': '查询及统计gate信息--通话过程中'},\n",
       "    '_type': 'my_type',\n",
       "    'highlight': {'content': ['<em>查询</em>及统计gate信息--通话过程中']}},\n",
       "   {'_id': '314',\n",
       "    '_index': 'modle_index',\n",
       "    '_score': 1.3,\n",
       "    '_source': {'content': '基于CM查询（index、mac、IP、IPv6）'},\n",
       "    '_type': 'my_type',\n",
       "    'highlight': {'content': ['基于CM<em>查询</em>（index、mac、IP、IPv6）']}},\n",
       "   {'_id': '385',\n",
       "    '_index': 'modle_index',\n",
       "    '_score': 1.3,\n",
       "    '_source': {'content': '查询并判断下行信道配置是否正确'},\n",
       "    '_type': 'my_type',\n",
       "    'highlight': {'content': ['<em>查询</em>并判断下行信道配置是否正确']}},\n",
       "   {'_id': '408',\n",
       "    '_index': 'modle_index',\n",
       "    '_score': 1.3,\n",
       "    '_source': {'content': '查询回传通道统计'},\n",
       "    '_type': 'my_type',\n",
       "    'highlight': {'content': ['<em>查询</em>回传通道统计']}},\n",
       "   {'_id': '468',\n",
       "    '_index': 'modle_index',\n",
       "    '_score': 1.3,\n",
       "    '_source': {'content': '查询及统计gate信息--通话过程中-1'},\n",
       "    '_type': 'my_type',\n",
       "    'highlight': {'content': ['<em>查询</em>及统计gate信息--通话过程中-1']}},\n",
       "   {'_id': '485',\n",
       "    '_index': 'modle_index',\n",
       "    '_score': 1.3,\n",
       "    '_source': {'content': '查询信道绑定数量并判断上行发送电平与信道绑定的关系_D31CM_31信道'},\n",
       "    '_type': 'my_type',\n",
       "    'highlight': {'content': ['<em>查询</em>信道绑定数量并判断上行发送电平与信道绑定的关系_D31CM_31信道']}}],\n",
       "  'max_score': 1.3,\n",
       "  'total': 110},\n",
       " 'timed_out': False,\n",
       " 'took': 304}"
      ]
     },
     "execution_count": 127,
     "metadata": {},
     "output_type": "execute_result"
    }
   ],
   "source": [
    "es.search(index=test_score_index, explain = False,size=10, body={\n",
    "    \"query\": {\n",
    "        \"bool\": {\n",
    "            \"should\": [\n",
    "                {\"constant_score\": {\"filter\": {\"term\": {field_name: \"清除\"}}, \"boost\": 1.2}},\n",
    "                {\"constant_score\": {\"filter\": {\"term\": {field_name: \"查询\"}}, \"boost\": 1.3}}\n",
    "            ]\n",
    "        }\n",
    "    },\n",
    "    \"highlight\": {\n",
    "        \"fields\" : {\n",
    "            field_name : {}\n",
    "        }\n",
    "    }\n",
    "})"
   ]
  },
  {
   "cell_type": "code",
   "execution_count": 154,
   "metadata": {
    "collapsed": true
   },
   "outputs": [
    {
     "data": {
      "text/plain": [
       "{'_shards': {'failed': 0, 'skipped': 0, 'successful': 5, 'total': 5},\n",
       " 'hits': {'hits': [{'_id': '718',\n",
       "    '_index': 'modle_index',\n",
       "    '_score': 5.3301387,\n",
       "    '_source': {'content': 'NIT验证参数'},\n",
       "    '_type': 'my_type',\n",
       "    'highlight': {'content': ['NIT<b>验证</b>参数']}}],\n",
       "  'max_score': 5.3301387,\n",
       "  'total': 14},\n",
       " 'timed_out': False,\n",
       " 'took': 112}"
      ]
     },
     "execution_count": 154,
     "metadata": {},
     "output_type": "execute_result"
    }
   ],
   "source": [
    "es.search(index=test_score_index, explain = False,size=1, body={\n",
    "    \"query\": {\n",
    "        \"match\": {\n",
    "            field_name: {\n",
    "                \"query\": \"设定  验证\"\n",
    "            }\n",
    "        }\n",
    "    },\n",
    "    \"highlight\": {\n",
    "        \"pre_tags\" : [\"<b>\"],\n",
    "        \"post_tags\" : [\"</b>\"],\n",
    "        \"fields\" : {\n",
    "            field_name : {}\n",
    "        }\n",
    "    }\n",
    "})"
   ]
  },
  {
   "cell_type": "code",
   "execution_count": 21,
   "metadata": {
    "collapsed": true
   },
   "outputs": [
    {
     "data": {
      "text/plain": [
       "'测试 上网 正常 定量 状态刷新 ipsubnet-vlan 检查 svrp 可靠性测试 正确处理'"
      ]
     },
     "execution_count": 21,
     "metadata": {},
     "output_type": "execute_result"
    },
    {
     "data": {
      "text/plain": [
       "'设置 aucmodifyfldlist 报文大小 接近 -tc 值未 _NUM_pps 文件大小 绝对 温度'"
      ]
     },
     "execution_count": 21,
     "metadata": {},
     "output_type": "execute_result"
    }
   ],
   "source": [
    "' '.join([x[0] for x in word_vectors.wv.most_similar(\"验证\", topn=10) if len(x[0]) > 1])\n",
    "' '.join([x[0] for x in word_vectors.wv.most_similar(\"设定\", topn=10) if len(x[0]) > 1])"
   ]
  },
  {
   "cell_type": "code",
   "execution_count": 22,
   "metadata": {
    "collapsed": true
   },
   "outputs": [
    {
     "data": {
      "text/plain": [
       "{'_shards': {'failed': 0, 'skipped': 0, 'successful': 5, 'total': 5},\n",
       " 'hits': {'hits': [{'_id': '255',\n",
       "    '_index': 'modle_index',\n",
       "    '_score': 11.838544,\n",
       "    '_source': {'content': '严格组设置及验证'},\n",
       "    '_type': 'my_type',\n",
       "    'highlight': {'content': ['严格组<em>设置</em>及<em>验证</em>']}}],\n",
       "  'max_score': 11.838544,\n",
       "  'total': 98},\n",
       " 'timed_out': False,\n",
       " 'took': 4}"
      ]
     },
     "execution_count": 22,
     "metadata": {},
     "output_type": "execute_result"
    }
   ],
   "source": [
    "es.search(index=test_score_index, explain = False,size=1, body={\n",
    "    \"query\": {\n",
    "        \"bool\": {\n",
    "            \"should\": [\n",
    "                {\"match\": { field_name: {\"query\": \"设定  验证\", \"boost\": 2}}},\n",
    "                {\"match\": { field_name: \"设置 aucmodifyfldlist 报文大小 接近 -tc 值未 _NUM_pps 文件大小 绝对 温度 测试 上网 正常 定量 状态刷新 ipsubnet-vlan 检查 svrp 可靠性测试 正确处理\"}},\n",
    "            ]\n",
    "        }\n",
    "    },\n",
    "    \"highlight\": {\n",
    "        \"fields\" : {\n",
    "            field_name : {}\n",
    "        }\n",
    "    }\n",
    "})"
   ]
  },
  {
   "cell_type": "markdown",
   "metadata": {},
   "source": [
    "### 实现"
   ]
  },
  {
   "cell_type": "code",
   "execution_count": 23,
   "metadata": {
    "collapsed": true
   },
   "outputs": [],
   "source": [
    "input_str_a = \"设定验证\"\n",
    "input_str_b = \"设置验证\""
   ]
  },
  {
   "cell_type": "code",
   "execution_count": 24,
   "metadata": {
    "collapsed": true
   },
   "outputs": [],
   "source": [
    "def analyze_with_ik(i_str):\n",
    "    ik_analyze = es.indices.analyze(body={\"text\": i_str, \"analyzer\": \"ik_smart\"})\n",
    "    return [x['token'] for x in ik_analyze['tokens']]"
   ]
  },
  {
   "cell_type": "code",
   "execution_count": 25,
   "metadata": {
    "collapsed": true
   },
   "outputs": [
    {
     "data": {
      "text/plain": [
       "['设定', '验证']"
      ]
     },
     "execution_count": 25,
     "metadata": {},
     "output_type": "execute_result"
    },
    {
     "data": {
      "text/plain": [
       "['设置', '验证']"
      ]
     },
     "execution_count": 25,
     "metadata": {},
     "output_type": "execute_result"
    }
   ],
   "source": [
    "analyze_with_ik(input_str_a)\n",
    "analyze_with_ik(input_str_b)"
   ]
  },
  {
   "cell_type": "code",
   "execution_count": 26,
   "metadata": {
    "collapsed": true
   },
   "outputs": [],
   "source": [
    "def get_similar_word(i_list):\n",
    "    assert isinstance(i_list, list)\n",
    "    ret_list = []\n",
    "    for v in i_list:\n",
    "        if v in word_vectors.wv.vocab:\n",
    "            ret_list.extend([x[0] for x in word_vectors.wv.most_similar(v, topn=10) if len(x[0]) > 1])\n",
    "        else:\n",
    "            ret_list.append(v)\n",
    "    return ret_list"
   ]
  },
  {
   "cell_type": "code",
   "execution_count": 133,
   "metadata": {
    "collapsed": true
   },
   "outputs": [],
   "source": [
    "def get_similar_word_v2(i_list):\n",
    "    assert isinstance(i_list, list)\n",
    "    ret_list = []\n",
    "    for v in i_list:\n",
    "        if v in word_vectors.wv.vocab:\n",
    "            ret_list.extend([(x[0], 1 / (i + 1)) for i, x in enumerate(word_vectors.wv.most_similar(v, topn=10)) if len(x[0]) > 1])\n",
    "        else:\n",
    "            ret_list.append((v, 1))\n",
    "    return ret_list"
   ]
  },
  {
   "cell_type": "code",
   "execution_count": 136,
   "metadata": {
    "collapsed": true
   },
   "outputs": [
    {
     "data": {
      "text/plain": [
       "[('观察', 1.0),\n",
       " ('检查', 0.5),\n",
       " ('查询', 0.3333333333333333),\n",
       " ('察看', 0.25),\n",
       " ('清除', 0.2),\n",
       " ('看到', 0.16666666666666666),\n",
       " ('显示', 0.14285714285714285),\n",
       " ('以及', 0.125)]"
      ]
     },
     "execution_count": 136,
     "metadata": {},
     "output_type": "execute_result"
    }
   ],
   "source": [
    "get_similar_word_v2([\"查看\"])"
   ]
  },
  {
   "cell_type": "code",
   "execution_count": 28,
   "metadata": {
    "collapsed": true
   },
   "outputs": [],
   "source": [
    "def get_similar_search_wrod(i_str):\n",
    "    analyze_list = analyze_with_ik(i_str)\n",
    "    similar_list = get_similar_word(analyze_list)\n",
    "    analyze_similar_list = analyze_with_ik(' '.join(similar_list))\n",
    "    return set(similar_list) & set(analyze_similar_list)"
   ]
  },
  {
   "cell_type": "code",
   "execution_count": 163,
   "metadata": {
    "collapsed": true
   },
   "outputs": [],
   "source": [
    "def get_similar_search_wrod_v2(i_str):\n",
    "    # 分词\n",
    "    analyze_list = analyze_with_ik(i_str)\n",
    "    # 近义词\n",
    "    similar_list = get_similar_word_v2(analyze_list)\n",
    "    # 对近义词分词\n",
    "    tmp = [x[0] for x in similar_list]\n",
    "    analyze_similar_list = analyze_with_ik(' '.join(tmp))\n",
    "    # 原始分词和近义词分词的交集\n",
    "    analyze_similar_list = set(tmp) & set(analyze_similar_list)\n",
    "    # 仅返回交集的list\n",
    "    similar_list = [x for x in similar_list if x[0] in analyze_similar_list]\n",
    "    # 将返回值格式化用于搜索\n",
    "    return [{\"constant_score\": {\"filter\": {\"term\": {field_name: key}}, \"boost\": score}} for key, score in similar_list]"
   ]
  },
  {
   "cell_type": "code",
   "execution_count": 162,
   "metadata": {
    "collapsed": true
   },
   "outputs": [
    {
     "data": {
      "text/plain": [
       "[{'constant_score': {'boost': 1.0, 'filter': {'term': {'content': '设置'}}}},\n",
       " {'constant_score': {'boost': 0.5,\n",
       "   'filter': {'term': {'content': 'aucmodifyfldlist'}}}},\n",
       " {'constant_score': {'boost': 0.25, 'filter': {'term': {'content': '接近'}}}},\n",
       " {'constant_score': {'boost': 0.125, 'filter': {'term': {'content': '文件大小'}}}},\n",
       " {'constant_score': {'boost': 0.1111111111111111,\n",
       "   'filter': {'term': {'content': '绝对'}}}},\n",
       " {'constant_score': {'boost': 0.1, 'filter': {'term': {'content': '温度'}}}},\n",
       " {'constant_score': {'boost': 1.0, 'filter': {'term': {'content': '测试'}}}},\n",
       " {'constant_score': {'boost': 0.5, 'filter': {'term': {'content': '上网'}}}},\n",
       " {'constant_score': {'boost': 0.3333333333333333,\n",
       "   'filter': {'term': {'content': '正常'}}}},\n",
       " {'constant_score': {'boost': 0.25, 'filter': {'term': {'content': '定量'}}}},\n",
       " {'constant_score': {'boost': 0.16666666666666666,\n",
       "   'filter': {'term': {'content': 'ipsubnet-vlan'}}}},\n",
       " {'constant_score': {'boost': 0.14285714285714285,\n",
       "   'filter': {'term': {'content': '检查'}}}},\n",
       " {'constant_score': {'boost': 0.125, 'filter': {'term': {'content': 'svrp'}}}},\n",
       " {'constant_score': {'boost': 0.1, 'filter': {'term': {'content': '正确处理'}}}}]"
      ]
     },
     "execution_count": 162,
     "metadata": {},
     "output_type": "execute_result"
    }
   ],
   "source": [
    "get_similar_search_wrod_v2(input_str_a)"
   ]
  },
  {
   "cell_type": "code",
   "execution_count": 159,
   "metadata": {
    "collapsed": true
   },
   "outputs": [
    {
     "data": {
      "text/plain": [
       "[{'constant_score': {'boost': 1.0, 'filter': {'term': {'content': '设置'}}}},\n",
       " {'constant_score': {'boost': 0.5,\n",
       "   'filter': {'term': {'content': 'aucmodifyfldlist'}}}},\n",
       " {'constant_score': {'boost': 0.25, 'filter': {'term': {'content': '接近'}}}},\n",
       " {'constant_score': {'boost': 0.125, 'filter': {'term': {'content': '文件大小'}}}},\n",
       " {'constant_score': {'boost': 0.1111111111111111,\n",
       "   'filter': {'term': {'content': '绝对'}}}},\n",
       " {'constant_score': {'boost': 0.1, 'filter': {'term': {'content': '温度'}}}},\n",
       " {'constant_score': {'boost': 1.0, 'filter': {'term': {'content': '测试'}}}},\n",
       " {'constant_score': {'boost': 0.5, 'filter': {'term': {'content': '上网'}}}},\n",
       " {'constant_score': {'boost': 0.3333333333333333,\n",
       "   'filter': {'term': {'content': '正常'}}}},\n",
       " {'constant_score': {'boost': 0.25, 'filter': {'term': {'content': '定量'}}}},\n",
       " {'constant_score': {'boost': 0.16666666666666666,\n",
       "   'filter': {'term': {'content': 'ipsubnet-vlan'}}}},\n",
       " {'constant_score': {'boost': 0.14285714285714285,\n",
       "   'filter': {'term': {'content': '检查'}}}},\n",
       " {'constant_score': {'boost': 0.125, 'filter': {'term': {'content': 'svrp'}}}},\n",
       " {'constant_score': {'boost': 0.1, 'filter': {'term': {'content': '正确处理'}}}}]"
      ]
     },
     "execution_count": 159,
     "metadata": {},
     "output_type": "execute_result"
    }
   ],
   "source": [
    "[{\"constant_score\": {\"filter\": {\"term\": {field_name: key}}, \"boost\": score}} for key, score in get_similar_search_wrod_v2(input_str_a)]"
   ]
  },
  {
   "cell_type": "code",
   "execution_count": 150,
   "metadata": {
    "collapsed": true
   },
   "outputs": [
    {
     "data": {
      "text/plain": [
       "['正确处理']"
      ]
     },
     "execution_count": 150,
     "metadata": {},
     "output_type": "execute_result"
    }
   ],
   "source": [
    "{\"constant_score\": {\"filter\": {\"term\": {field_name: \"清除\"}}, \"boost\": 1.2}},\n",
    "        {\"constant_score\": {\"filter\": {\"term\": {field_name: \"查询\"}}, \"boost\": 1.3}}"
   ]
  },
  {
   "cell_type": "code",
   "execution_count": 92,
   "metadata": {
    "collapsed": true
   },
   "outputs": [],
   "source": [
    "def search_api(i_str):   \n",
    "    ret = es.search(index=test_score_index, explain=False, size=10, body={\n",
    "        \"query\": {\n",
    "            \"bool\": {\n",
    "                \"should\": [\n",
    "                    {\"match\": { field_name: {\"query\": i_str, \"boost\": 4}}},\n",
    "                    {\"match\": { field_name: ' '.join(get_similar_search_wrod(i_str))}},\n",
    "                ]\n",
    "            }\n",
    "        },\n",
    "        \"highlight\": {\n",
    "            \"fields\" : {\n",
    "                field_name : {}\n",
    "            }\n",
    "        }\n",
    "    })\n",
    "    return ret"
   ]
  },
  {
   "cell_type": "code",
   "execution_count": 164,
   "metadata": {
    "collapsed": true
   },
   "outputs": [
    {
     "data": {
      "text/plain": [
       "[{'constant_score': {'boost': 1.0, 'filter': {'term': {'content': '观察'}}}},\n",
       " {'constant_score': {'boost': 0.5, 'filter': {'term': {'content': '检查'}}}},\n",
       " {'constant_score': {'boost': 0.3333333333333333,\n",
       "   'filter': {'term': {'content': '查询'}}}},\n",
       " {'constant_score': {'boost': 0.25, 'filter': {'term': {'content': '察看'}}}},\n",
       " {'constant_score': {'boost': 0.2, 'filter': {'term': {'content': '清除'}}}},\n",
       " {'constant_score': {'boost': 0.16666666666666666,\n",
       "   'filter': {'term': {'content': '看到'}}}},\n",
       " {'constant_score': {'boost': 0.14285714285714285,\n",
       "   'filter': {'term': {'content': '显示'}}}},\n",
       " {'constant_score': {'boost': 0.125, 'filter': {'term': {'content': '以及'}}}}]"
      ]
     },
     "execution_count": 164,
     "metadata": {},
     "output_type": "execute_result"
    }
   ],
   "source": [
    "get_similar_search_wrod_v2(\"查看\")"
   ]
  },
  {
   "cell_type": "code",
   "execution_count": 165,
   "metadata": {
    "collapsed": true
   },
   "outputs": [],
   "source": [
    "def search_api_v2(i_str):   \n",
    "    ret = es.search(index=test_score_index, explain=False, size=10, body={\n",
    "        \"query\": {\n",
    "            \"bool\": {\n",
    "                \"should\": [\n",
    "                    {\"match\": { field_name: {\"query\": i_str, \"boost\": 4}}},\n",
    "                    get_similar_search_wrod_v2(i_str)\n",
    "                ]\n",
    "            }\n",
    "        },\n",
    "        \"highlight\": {\n",
    "            \"fields\" : {\n",
    "                field_name : {}\n",
    "            }\n",
    "        }\n",
    "    })\n",
    "    return ret"
   ]
  },
  {
   "cell_type": "code",
   "execution_count": 166,
   "metadata": {
    "collapsed": true
   },
   "outputs": [
    {
     "data": {
      "text/plain": [
       "{'_shards': {'failed': 0, 'skipped': 0, 'successful': 5, 'total': 5},\n",
       " 'hits': {'hits': [{'_id': '581',\n",
       "    '_index': 'modle_index',\n",
       "    '_score': 1.0,\n",
       "    '_source': {'content': '观察tunner的频点信道输出功率'},\n",
       "    '_type': 'my_type',\n",
       "    'highlight': {'content': ['<em>观察</em>tunner的频点信道输出功率']}},\n",
       "   {'_id': '347',\n",
       "    '_index': 'modle_index',\n",
       "    '_score': 0.8333334,\n",
       "    '_source': {'content': '查询因SAV检查丢弃报文数:env_init();execute()'},\n",
       "    '_type': 'my_type',\n",
       "    'highlight': {'content': ['<em>查询</em>因SAV<em>检查</em>丢弃报文数:env_init();execute()']}},\n",
       "   {'_id': '29',\n",
       "    '_index': 'modle_index',\n",
       "    '_score': 0.5,\n",
       "    '_source': {'content': '下行通用modem负载均衡状态检查'},\n",
       "    '_type': 'my_type',\n",
       "    'highlight': {'content': ['下行通用modem负载均衡状态<em>检查</em>']}},\n",
       "   {'_id': '92',\n",
       "    '_index': 'modle_index',\n",
       "    '_score': 0.5,\n",
       "    '_source': {'content': '检查DIAGLOG-DETAIL-TYPE模板上报'},\n",
       "    '_type': 'my_type',\n",
       "    'highlight': {'content': ['<em>检查</em>DIAGLOG-DETAIL-TYPE模板上报']}},\n",
       "   {'_id': '190',\n",
       "    '_index': 'modle_index',\n",
       "    '_score': 0.5,\n",
       "    '_source': {'content': '检查发包仪的实时流量并判断是否正确'},\n",
       "    '_type': 'my_type',\n",
       "    'highlight': {'content': ['<em>检查</em>发包仪的实时流量并判断是否正确']}},\n",
       "   {'_id': '343',\n",
       "    '_index': 'modle_index',\n",
       "    '_score': 0.5,\n",
       "    '_source': {'content': '下行通用业务流负载均衡状态检查'},\n",
       "    '_type': 'my_type',\n",
       "    'highlight': {'content': ['下行通用业务流负载均衡状态<em>检查</em>']}},\n",
       "   {'_id': '386',\n",
       "    '_index': 'modle_index',\n",
       "    '_score': 0.5,\n",
       "    '_source': {'content': '检查组播参数配置'},\n",
       "    '_type': 'my_type',\n",
       "    'highlight': {'content': ['<em>检查</em>组播参数配置']}},\n",
       "   {'_id': '450',\n",
       "    '_index': 'modle_index',\n",
       "    '_score': 0.5,\n",
       "    '_source': {'content': '复位cm不检查'},\n",
       "    '_type': 'my_type',\n",
       "    'highlight': {'content': ['复位cm不<em>检查</em>']}},\n",
       "   {'_id': '486',\n",
       "    '_index': 'modle_index',\n",
       "    '_score': 0.5,\n",
       "    '_source': {'content': '结果检查_vlan切换增强业务流信息校验_translate'},\n",
       "    '_type': 'my_type',\n",
       "    'highlight': {'content': ['结果<em>检查</em>_vlan切换增强业务流信息校验_translate']}},\n",
       "   {'_id': '531',\n",
       "    '_index': 'modle_index',\n",
       "    '_score': 0.5,\n",
       "    '_source': {'content': '检查SAMIX-TYPE1模板上报'},\n",
       "    '_type': 'my_type',\n",
       "    'highlight': {'content': ['<em>检查</em>SAMIX-TYPE1模板上报']}}],\n",
       "  'max_score': 1.0,\n",
       "  'total': 154},\n",
       " 'timed_out': False,\n",
       " 'took': 259}"
      ]
     },
     "execution_count": 166,
     "metadata": {},
     "output_type": "execute_result"
    }
   ],
   "source": [
    "search_api_v2(\"查看\")"
   ]
  },
  {
   "cell_type": "code",
   "execution_count": 137,
   "metadata": {
    "collapsed": true
   },
   "outputs": [],
   "source": [
    "def search_api_demo(i_str):   \n",
    "    ret = search_api(i_str)\n",
    "    print('\\n'.join([x['_source']['content']  for x in ret['hits']['hits']]))"
   ]
  },
  {
   "cell_type": "code",
   "execution_count": 167,
   "metadata": {
    "collapsed": true
   },
   "outputs": [],
   "source": [
    "def search_api_demo_v2(i_str):   \n",
    "    ret = search_api_v2(i_str)\n",
    "    print('\\n'.join([x['_source']['content']  for x in ret['hits']['hits']]))"
   ]
  },
  {
   "cell_type": "code",
   "execution_count": 158,
   "metadata": {
    "collapsed": true
   },
   "outputs": [
    {
     "data": {
      "text/plain": [
       "['端口<em>流量</em><em>增长</em><em>查询</em>',\n",
       " '发包仪<em>查询</em>报文实时<em>流量</em>统计',\n",
       " '检查上行收包<em>流量</em>',\n",
       " '组播<em>流量</em>检查',\n",
       " '组播接收<em>流量</em>检查',\n",
       " '组播<em>流量</em>时延丢包验证',\n",
       " '上下行发送IP报文并实时检查<em>流量</em>',\n",
       " '检查发包仪的实时<em>流量</em>并判断是否正确',\n",
       " '<em>查询</em>下行信道<em>占用</em>率并作<em>记录</em>',\n",
       " '准入带宽<em>占用</em><em>查询</em>']"
      ]
     },
     "execution_count": 158,
     "metadata": {},
     "output_type": "execute_result"
    }
   ],
   "source": [
    "[x['highlight'][\"content\"][0] for x in search_api(\"显示流量增长\")['hits']['hits']]"
   ]
  },
  {
   "cell_type": "code",
   "execution_count": 33,
   "metadata": {
    "collapsed": true
   },
   "outputs": [
    {
     "data": {
      "text/plain": [
       "'设定验证'"
      ]
     },
     "execution_count": 33,
     "metadata": {},
     "output_type": "execute_result"
    },
    {
     "data": {
      "text/plain": [
       "'设置验证'"
      ]
     },
     "execution_count": 33,
     "metadata": {},
     "output_type": "execute_result"
    }
   ],
   "source": [
    "input_str_a\n",
    "input_str_b"
   ]
  },
  {
   "cell_type": "code",
   "execution_count": 34,
   "metadata": {
    "collapsed": true
   },
   "outputs": [
    {
     "data": {
      "text/plain": [
       "{'_shards': {'failed': 0, 'skipped': 0, 'successful': 5, 'total': 5},\n",
       " 'hits': {'hits': [{'_id': '255',\n",
       "    '_index': 'modle_index',\n",
       "    '_score': 11.838544,\n",
       "    '_source': {'content': '严格组设置及验证'},\n",
       "    '_type': 'my_type',\n",
       "    'highlight': {'content': ['严格组<em>设置</em>及<em>验证</em>']}},\n",
       "   {'_id': '718',\n",
       "    '_index': 'modle_index',\n",
       "    '_score': 10.660277,\n",
       "    '_source': {'content': 'NIT验证参数'},\n",
       "    '_type': 'my_type',\n",
       "    'highlight': {'content': ['NIT<em>验证</em>参数']}},\n",
       "   {'_id': '624',\n",
       "    '_index': 'modle_index',\n",
       "    '_score': 9.403228,\n",
       "    '_source': {'content': '验证信道模板生效'},\n",
       "    '_type': 'my_type',\n",
       "    'highlight': {'content': ['<em>验证</em>信道模板生效']}},\n",
       "   {'_id': '602',\n",
       "    '_index': 'modle_index',\n",
       "    '_score': 8.456335,\n",
       "    '_source': {'content': 'PAT版本号更新验证'},\n",
       "    '_type': 'my_type',\n",
       "    'highlight': {'content': ['PAT版本号更新<em>验证</em>']}},\n",
       "   {'_id': '313',\n",
       "    '_index': 'modle_index',\n",
       "    '_score': 8.128364,\n",
       "    '_source': {'content': '组播流量时延丢包验证'},\n",
       "    '_type': 'my_type',\n",
       "    'highlight': {'content': ['组播流量时延丢包<em>验证</em>']}},\n",
       "   {'_id': '612',\n",
       "    '_index': 'modle_index',\n",
       "    '_score': 8.1114,\n",
       "    '_source': {'content': '防MAC欺骗验证'},\n",
       "    '_type': 'my_type',\n",
       "    'highlight': {'content': ['防MAC欺骗<em>验证</em>']}},\n",
       "   {'_id': '647',\n",
       "    '_index': 'modle_index',\n",
       "    '_score': 7.5964684,\n",
       "    '_source': {'content': '动静态SAV验证'},\n",
       "    '_type': 'my_type',\n",
       "    'highlight': {'content': ['动静态SAV<em>验证</em>']}},\n",
       "   {'_id': '278',\n",
       "    '_index': 'modle_index',\n",
       "    '_score': 7.576614,\n",
       "    '_source': {'content': '丛匡复位后验证Transponder场景'},\n",
       "    '_type': 'my_type',\n",
       "    'highlight': {'content': ['丛匡复位后<em>验证</em>Transponder场景']}},\n",
       "   {'_id': '430',\n",
       "    '_index': 'modle_index',\n",
       "    '_score': 7.0129147,\n",
       "    '_source': {'content': '防MAC欺骗验证_独立'},\n",
       "    '_type': 'my_type',\n",
       "    'highlight': {'content': ['防MAC欺骗<em>验证</em>_独立']}},\n",
       "   {'_id': '370',\n",
       "    '_index': 'modle_index',\n",
       "    '_score': 6.9487457,\n",
       "    '_source': {'content': 'L2 CPE拨号验证'},\n",
       "    '_type': 'my_type',\n",
       "    'highlight': {'content': ['L2 CPE拨号<em>验证</em>']}}],\n",
       "  'max_score': 11.838544,\n",
       "  'total': 68},\n",
       " 'timed_out': False,\n",
       " 'took': 5}"
      ]
     },
     "execution_count": 34,
     "metadata": {},
     "output_type": "execute_result"
    }
   ],
   "source": [
    "search_api(input_str_a)"
   ]
  },
  {
   "cell_type": "code",
   "execution_count": 35,
   "metadata": {
    "collapsed": true
   },
   "outputs": [
    {
     "data": {
      "text/plain": [
       "{'_shards': {'failed': 0, 'skipped': 0, 'successful': 5, 'total': 5},\n",
       " 'hits': {'hits': [{'_id': '255',\n",
       "    '_index': 'modle_index',\n",
       "    '_score': 16.191895,\n",
       "    '_source': {'content': '严格组设置及验证'},\n",
       "    '_type': 'my_type',\n",
       "    'highlight': {'content': ['严格组<em>设置</em>及<em>验证</em>']}},\n",
       "   {'_id': '200',\n",
       "    '_index': 'modle_index',\n",
       "    '_score': 11.155458,\n",
       "    '_source': {'content': '满配置参数设置'},\n",
       "    '_type': 'my_type',\n",
       "    'highlight': {'content': ['满<em>配置</em>参数<em>设置</em>']}},\n",
       "   {'_id': '718',\n",
       "    '_index': 'modle_index',\n",
       "    '_score': 10.660277,\n",
       "    '_source': {'content': 'NIT验证参数'},\n",
       "    '_type': 'my_type',\n",
       "    'highlight': {'content': ['NIT<em>验证</em>参数']}},\n",
       "   {'_id': '307',\n",
       "    '_index': 'modle_index',\n",
       "    '_score': 10.296492,\n",
       "    '_source': {'content': '参数设置'},\n",
       "    '_type': 'my_type',\n",
       "    'highlight': {'content': ['参数<em>设置</em>']}},\n",
       "   {'_id': '624',\n",
       "    '_index': 'modle_index',\n",
       "    '_score': 9.403228,\n",
       "    '_source': {'content': '验证信道模板生效'},\n",
       "    '_type': 'my_type',\n",
       "    'highlight': {'content': ['<em>验证</em>信道模板生效']}},\n",
       "   {'_id': '602',\n",
       "    '_index': 'modle_index',\n",
       "    '_score': 8.456335,\n",
       "    '_source': {'content': 'PAT版本号更新验证'},\n",
       "    '_type': 'my_type',\n",
       "    'highlight': {'content': ['PAT版本号更新<em>验证</em>']}},\n",
       "   {'_id': '313',\n",
       "    '_index': 'modle_index',\n",
       "    '_score': 8.128364,\n",
       "    '_source': {'content': '组播流量时延丢包验证'},\n",
       "    '_type': 'my_type',\n",
       "    'highlight': {'content': ['组播流量时延丢包<em>验证</em>']}},\n",
       "   {'_id': '612',\n",
       "    '_index': 'modle_index',\n",
       "    '_score': 8.1114,\n",
       "    '_source': {'content': '防MAC欺骗验证'},\n",
       "    '_type': 'my_type',\n",
       "    'highlight': {'content': ['防MAC欺骗<em>验证</em>']}},\n",
       "   {'_id': '647',\n",
       "    '_index': 'modle_index',\n",
       "    '_score': 7.5964684,\n",
       "    '_source': {'content': '动静态SAV验证'},\n",
       "    '_type': 'my_type',\n",
       "    'highlight': {'content': ['动静态SAV<em>验证</em>']}},\n",
       "   {'_id': '278',\n",
       "    '_index': 'modle_index',\n",
       "    '_score': 7.576614,\n",
       "    '_source': {'content': '丛匡复位后验证Transponder场景'},\n",
       "    '_type': 'my_type',\n",
       "    'highlight': {'content': ['丛匡复位后<em>验证</em>Transponder场景']}}],\n",
       "  'max_score': 16.191895,\n",
       "  'total': 264},\n",
       " 'timed_out': False,\n",
       " 'took': 7}"
      ]
     },
     "execution_count": 35,
     "metadata": {},
     "output_type": "execute_result"
    }
   ],
   "source": [
    "search_api(input_str_b)"
   ]
  },
  {
   "cell_type": "code",
   "execution_count": 36,
   "metadata": {
    "collapsed": true
   },
   "outputs": [],
   "source": [
    "def origin_search(i_str):\n",
    "    return es.search(index=test_score_index, explain=True, size=3, body={\n",
    "        \"query\": {\n",
    "            \"match\": {\n",
    "                field_name: {\n",
    "                    \"query\": i_str\n",
    "                }\n",
    "            }\n",
    "        },\n",
    "        \"highlight\": {\n",
    "            \"fields\" : {\n",
    "                field_name : {}\n",
    "            }\n",
    "        }\n",
    "    })"
   ]
  },
  {
   "cell_type": "markdown",
   "metadata": {},
   "source": [
    "### 验证"
   ]
  },
  {
   "cell_type": "code",
   "execution_count": 110,
   "metadata": {
    "collapsed": true
   },
   "outputs": [
    {
     "data": {
      "text/plain": [
       "{'以及', '察看', '显示', '查询', '检查', '清除', '看到', '观察'}"
      ]
     },
     "execution_count": 110,
     "metadata": {},
     "output_type": "execute_result"
    }
   ],
   "source": [
    "get_similar_search_wrod([\"查看\"])"
   ]
  },
  {
   "cell_type": "markdown",
   "metadata": {},
   "source": [
    "通过这一组示例发现一个缺陷，“设置” 被扩展后，“设置” 和 “配置” 会重复命中，而 “设置” 的词频略低于 “视频” 导致 “满配置参数设置” 排序靠前"
   ]
  },
  {
   "cell_type": "code",
   "execution_count": 38,
   "metadata": {
    "collapsed": true
   },
   "outputs": [
    {
     "data": {
      "text/plain": [
       "{'_shards': {'failed': 0, 'skipped': 0, 'successful': 5, 'total': 5},\n",
       " 'hits': {'hits': [{'_id': '121',\n",
       "    '_index': 'modle_index',\n",
       "    '_score': 32.841454,\n",
       "    '_source': {'content': '端口流量增长查询'},\n",
       "    '_type': 'my_type',\n",
       "    'highlight': {'content': ['<em>端口</em><em>流量</em><em>增长</em><em>查询</em>']}},\n",
       "   {'_id': '242',\n",
       "    '_index': 'modle_index',\n",
       "    '_score': 12.690411,\n",
       "    '_source': {'content': '发包仪查询报文实时流量统计'},\n",
       "    '_type': 'my_type',\n",
       "    'highlight': {'content': ['发包仪<em>查询</em>报文实时<em>流量</em>统计']}},\n",
       "   {'_id': '146',\n",
       "    '_index': 'modle_index',\n",
       "    '_score': 12.079941,\n",
       "    '_source': {'content': '添加端口到vlan'},\n",
       "    '_type': 'my_type',\n",
       "    'highlight': {'content': ['添加<em>端口</em>到<em>vlan</em>']}},\n",
       "   {'_id': '766',\n",
       "    '_index': 'modle_index',\n",
       "    '_score': 11.551895,\n",
       "    '_source': {'content': '端口删除绑定'},\n",
       "    '_type': 'my_type',\n",
       "    'highlight': {'content': ['<em>端口</em>删除绑定']}},\n",
       "   {'_id': '399',\n",
       "    '_index': 'modle_index',\n",
       "    '_score': 11.03058,\n",
       "    '_source': {'content': '不输入框槽端口，无法查询'},\n",
       "    '_type': 'my_type',\n",
       "    'highlight': {'content': ['不输入框槽<em>端口</em>，无法<em>查询</em>']}},\n",
       "   {'_id': '68',\n",
       "    '_index': 'modle_index',\n",
       "    '_score': 9.768267,\n",
       "    '_source': {'content': '检查上行收包流量'},\n",
       "    '_type': 'my_type',\n",
       "    'highlight': {'content': ['检查上行收包<em>流量</em>']}},\n",
       "   {'_id': '619',\n",
       "    '_index': 'modle_index',\n",
       "    '_score': 9.704254,\n",
       "    '_source': {'content': '输入框槽端口，查询GCR信息'},\n",
       "    '_type': 'my_type',\n",
       "    'highlight': {'content': ['输入框槽<em>端口</em>，<em>查询</em>GCR信息']}},\n",
       "   {'_id': '31',\n",
       "    '_index': 'modle_index',\n",
       "    '_score': 9.526759,\n",
       "    '_source': {'content': '准入带宽占用查询'},\n",
       "    '_type': 'my_type',\n",
       "    'highlight': {'content': ['准入带宽<em>占用</em><em>查询</em>']}},\n",
       "   {'_id': '636',\n",
       "    '_index': 'modle_index',\n",
       "    '_score': 9.3991995,\n",
       "    '_source': {'content': 'cable端口统计'},\n",
       "    '_type': 'my_type',\n",
       "    'highlight': {'content': ['cable<em>端口</em>统计']}},\n",
       "   {'_id': '179',\n",
       "    '_index': 'modle_index',\n",
       "    '_score': 9.376853,\n",
       "    '_source': {'content': '组播流量检查'},\n",
       "    '_type': 'my_type',\n",
       "    'highlight': {'content': ['组播<em>流量</em>检查']}}],\n",
       "  'max_score': 32.841454,\n",
       "  'total': 183},\n",
       " 'timed_out': False,\n",
       " 'took': 8}"
      ]
     },
     "execution_count": 38,
     "metadata": {},
     "output_type": "execute_result"
    },
    {
     "data": {
      "text/plain": [
       "{'_shards': {'failed': 0, 'skipped': 0, 'successful': 5, 'total': 5},\n",
       " 'hits': {'hits': [{'_id': '121',\n",
       "    '_index': 'modle_index',\n",
       "    '_score': 22.065779,\n",
       "    '_source': {'content': '端口流量增长查询'},\n",
       "    '_type': 'my_type',\n",
       "    'highlight': {'content': ['端口<em>流量</em><em>增长</em><em>查询</em>']}},\n",
       "   {'_id': '242',\n",
       "    '_index': 'modle_index',\n",
       "    '_score': 10.775113,\n",
       "    '_source': {'content': '发包仪查询报文实时流量统计'},\n",
       "    '_type': 'my_type',\n",
       "    'highlight': {'content': ['发包仪<em>查询</em>报文实时<em>流量</em>统计']}},\n",
       "   {'_id': '68',\n",
       "    '_index': 'modle_index',\n",
       "    '_score': 9.768267,\n",
       "    '_source': {'content': '检查上行收包流量'},\n",
       "    '_type': 'my_type',\n",
       "    'highlight': {'content': ['检查上行收包<em>流量</em>']}},\n",
       "   {'_id': '179',\n",
       "    '_index': 'modle_index',\n",
       "    '_score': 9.376853,\n",
       "    '_source': {'content': '组播流量检查'},\n",
       "    '_type': 'my_type',\n",
       "    'highlight': {'content': ['组播<em>流量</em>检查']}},\n",
       "   {'_id': '435',\n",
       "    '_index': 'modle_index',\n",
       "    '_score': 8.272935,\n",
       "    '_source': {'content': '查询下行信道占用率并作记录'},\n",
       "    '_type': 'my_type',\n",
       "    'highlight': {'content': ['<em>查询</em>下行信道<em>占用</em>率并作<em>记录</em>']}},\n",
       "   {'_id': '635',\n",
       "    '_index': 'modle_index',\n",
       "    '_score': 7.611385,\n",
       "    '_source': {'content': '组播接收流量检查'},\n",
       "    '_type': 'my_type',\n",
       "    'highlight': {'content': ['组播接收<em>流量</em>检查']}},\n",
       "   {'_id': '31',\n",
       "    '_index': 'modle_index',\n",
       "    '_score': 7.1221533,\n",
       "    '_source': {'content': '准入带宽占用查询'},\n",
       "    '_type': 'my_type',\n",
       "    'highlight': {'content': ['准入带宽<em>占用</em><em>查询</em>']}},\n",
       "   {'_id': '202',\n",
       "    '_index': 'modle_index',\n",
       "    '_score': 6.659548,\n",
       "    '_source': {'content': '查询并记录上行信道的信道占用率之和'},\n",
       "    '_type': 'my_type',\n",
       "    'highlight': {'content': ['<em>查询</em>并<em>记录</em>上行信道的信道<em>占用</em>率之和']}},\n",
       "   {'_id': '244',\n",
       "    '_index': 'modle_index',\n",
       "    '_score': 6.3897786,\n",
       "    '_source': {'content': 'monitor初始值查询记录'},\n",
       "    '_type': 'my_type',\n",
       "    'highlight': {'content': ['monitor初始值<em>查询</em><em>记录</em>']}},\n",
       "   {'_id': '313',\n",
       "    '_index': 'modle_index',\n",
       "    '_score': 6.22113,\n",
       "    '_source': {'content': '组播流量时延丢包验证'},\n",
       "    '_type': 'my_type',\n",
       "    'highlight': {'content': ['组播<em>流量</em>时延丢包验证']}}],\n",
       "  'max_score': 22.065779,\n",
       "  'total': 120},\n",
       " 'timed_out': False,\n",
       " 'took': 3}"
      ]
     },
     "execution_count": 38,
     "metadata": {},
     "output_type": "execute_result"
    }
   ],
   "source": [
    "search_api(\"端口流量增长查询\")\n",
    "search_api(\"显示流量增长\")"
   ]
  },
  {
   "cell_type": "code",
   "execution_count": 39,
   "metadata": {
    "collapsed": true
   },
   "outputs": [
    {
     "data": {
      "text/plain": [
       "{'_shards': {'failed': 0, 'skipped': 0, 'successful': 5, 'total': 5},\n",
       " 'hits': {'hits': [{'_id': '110',\n",
       "    '_index': 'modle_index',\n",
       "    '_score': 22.629465,\n",
       "    '_source': {'content': '修改用户优先级'},\n",
       "    '_type': 'my_type',\n",
       "    'highlight': {'content': ['<em>修改</em><em>用户</em><em>优先级</em>']}},\n",
       "   {'_id': '73',\n",
       "    '_index': 'modle_index',\n",
       "    '_score': 15.526941,\n",
       "    '_source': {'content': '用户优先级'},\n",
       "    '_type': 'my_type',\n",
       "    'highlight': {'content': ['<em>用户</em><em>优先级</em>']}},\n",
       "   {'_id': '187',\n",
       "    '_index': 'modle_index',\n",
       "    '_score': 11.881593,\n",
       "    '_source': {'content': '基于用户vlan与优先级映射'},\n",
       "    '_type': 'my_type',\n",
       "    'highlight': {'content': ['基于<em>用户</em>vlan与<em>优先级</em>映射']}},\n",
       "   {'_id': '479',\n",
       "    '_index': 'modle_index',\n",
       "    '_score': 10.585472,\n",
       "    '_source': {'content': '修改频谱模板'},\n",
       "    '_type': 'my_type',\n",
       "    'highlight': {'content': ['<em>修改</em>频谱模板']}},\n",
       "   {'_id': '557',\n",
       "    '_index': 'modle_index',\n",
       "    '_score': 10.248034,\n",
       "    '_source': {'content': '配置网络侧用户'},\n",
       "    '_type': 'my_type',\n",
       "    'highlight': {'content': ['<em>配置</em>网络侧<em>用户</em>']}},\n",
       "   {'_id': '659',\n",
       "    '_index': 'modle_index',\n",
       "    '_score': 9.710796,\n",
       "    '_source': {'content': '配置上行调度优先级映射'},\n",
       "    '_type': 'my_type',\n",
       "    'highlight': {'content': ['<em>配置</em>上行调度<em>优先级</em>映射']}},\n",
       "   {'_id': '482',\n",
       "    '_index': 'modle_index',\n",
       "    '_score': 9.403228,\n",
       "    '_source': {'content': '批量用户统计检查'},\n",
       "    '_type': 'my_type',\n",
       "    'highlight': {'content': ['批量<em>用户</em>统计检查']}},\n",
       "   {'_id': '285',\n",
       "    '_index': 'modle_index',\n",
       "    '_score': 9.376853,\n",
       "    '_source': {'content': '映射规则修改index'},\n",
       "    '_type': 'my_type',\n",
       "    'highlight': {'content': ['映射规则<em>修改</em>index']}},\n",
       "   {'_id': '210',\n",
       "    '_index': 'modle_index',\n",
       "    '_score': 8.859816,\n",
       "    '_source': {'content': '关闭系统CMTS用户管理控制'},\n",
       "    '_type': 'my_type',\n",
       "    'highlight': {'content': ['关闭系统CMTS<em>用户</em>管理控制']}},\n",
       "   {'_id': '466',\n",
       "    '_index': 'modle_index',\n",
       "    '_score': 8.859816,\n",
       "    '_source': {'content': '预期修改后节目下线'},\n",
       "    '_type': 'my_type',\n",
       "    'highlight': {'content': ['预期<em>修改</em>后节目下线']}}],\n",
       "  'max_score': 22.629465,\n",
       "  'total': 236},\n",
       " 'timed_out': False,\n",
       " 'took': 5}"
      ]
     },
     "execution_count": 39,
     "metadata": {},
     "output_type": "execute_result"
    },
    {
     "data": {
      "text/plain": [
       "{'_shards': {'failed': 0, 'skipped': 0, 'successful': 5, 'total': 5},\n",
       " 'hits': {'hits': [{'_id': '110',\n",
       "    '_index': 'modle_index',\n",
       "    '_score': 11.314733,\n",
       "    '_source': {'content': '修改用户优先级'},\n",
       "    '_type': 'my_type',\n",
       "    'highlight': {'content': ['<em>修改</em>用户<em>优先级</em>']}},\n",
       "   {'_id': '659',\n",
       "    '_index': 'modle_index',\n",
       "    '_score': 10.8996935,\n",
       "    '_source': {'content': '配置上行调度优先级映射'},\n",
       "    '_type': 'my_type',\n",
       "    'highlight': {'content': ['<em>配置</em>上行调度<em>优先级</em>映射']}},\n",
       "   {'_id': '532',\n",
       "    '_index': 'modle_index',\n",
       "    '_score': 10.139364,\n",
       "    '_source': {'content': '配置高优先级呼叫统计周期'},\n",
       "    '_type': 'my_type',\n",
       "    'highlight': {'content': ['<em>配置</em>高<em>优先级</em>呼叫统计周期']}},\n",
       "   {'_id': '769',\n",
       "    '_index': 'modle_index',\n",
       "    '_score': 10.103866,\n",
       "    '_source': {'content': '模板删除绑定'},\n",
       "    '_type': 'my_type',\n",
       "    'highlight': {'content': ['模板<em>删除</em><em>绑定</em>']}},\n",
       "   {'_id': '773',\n",
       "    '_index': 'modle_index',\n",
       "    '_score': 10.007824,\n",
       "    '_source': {'content': '删除未绑定域后再创建'},\n",
       "    '_type': 'my_type',\n",
       "    'highlight': {'content': ['<em>删除</em>未<em>绑定</em>域后再<em>创建</em>']}},\n",
       "   {'_id': '766',\n",
       "    '_index': 'modle_index',\n",
       "    '_score': 8.400086,\n",
       "    '_source': {'content': '端口删除绑定'},\n",
       "    '_type': 'my_type',\n",
       "    'highlight': {'content': ['端口<em>删除</em><em>绑定</em>']}},\n",
       "   {'_id': '73',\n",
       "    '_index': 'modle_index',\n",
       "    '_score': 7.7634706,\n",
       "    '_source': {'content': '用户优先级'},\n",
       "    '_type': 'my_type',\n",
       "    'highlight': {'content': ['用户<em>优先级</em>']}},\n",
       "   {'_id': '536',\n",
       "    '_index': 'modle_index',\n",
       "    '_score': 7.6344223,\n",
       "    '_source': {'content': '删除已绑定域'},\n",
       "    '_type': 'my_type',\n",
       "    'highlight': {'content': ['<em>删除</em>已<em>绑定</em>域']}},\n",
       "   {'_id': '200',\n",
       "    '_index': 'modle_index',\n",
       "    '_score': 7.626381,\n",
       "    '_source': {'content': '满配置参数设置'},\n",
       "    '_type': 'my_type',\n",
       "    'highlight': {'content': ['满<em>配置</em>参数<em>设置</em>']}},\n",
       "   {'_id': '508',\n",
       "    '_index': 'modle_index',\n",
       "    '_score': 7.048974,\n",
       "    '_source': {'content': '修改从框位置和sn绑定关系'},\n",
       "    '_type': 'my_type',\n",
       "    'highlight': {'content': ['<em>修改</em>从框位置和sn<em>绑定</em>关系']}}],\n",
       "  'max_score': 11.314733,\n",
       "  'total': 236},\n",
       " 'timed_out': False,\n",
       " 'took': 5}"
      ]
     },
     "execution_count": 39,
     "metadata": {},
     "output_type": "execute_result"
    }
   ],
   "source": [
    "search_api(\"修改用户优先级\")\n",
    "search_api(\"配置优先级\")"
   ]
  },
  {
   "cell_type": "code",
   "execution_count": 40,
   "metadata": {
    "collapsed": true
   },
   "outputs": [
    {
     "data": {
      "text/plain": [
       "{'_shards': {'failed': 0, 'skipped': 0, 'successful': 5, 'total': 5},\n",
       " 'hits': {'hits': [{'_id': '179',\n",
       "    '_index': 'modle_index',\n",
       "    '_score': 28.952242,\n",
       "    '_source': {'content': '组播流量检查'},\n",
       "    '_type': 'my_type',\n",
       "    'highlight': {'content': ['<em>组</em><em>播</em><em>流量</em><em>检查</em>']}},\n",
       "   {'_id': '635',\n",
       "    '_index': 'modle_index',\n",
       "    '_score': 24.591267,\n",
       "    '_source': {'content': '组播接收流量检查'},\n",
       "    '_type': 'my_type',\n",
       "    'highlight': {'content': ['<em>组</em><em>播</em>接收<em>流量</em><em>检查</em>']}},\n",
       "   {'_id': '198',\n",
       "    '_index': 'modle_index',\n",
       "    '_score': 22.39802,\n",
       "    '_source': {'content': '组播节目在线检查'},\n",
       "    '_type': 'my_type',\n",
       "    'highlight': {'content': ['<em>组</em><em>播</em>节目在线<em>检查</em>']}},\n",
       "   {'_id': '420',\n",
       "    '_index': 'modle_index',\n",
       "    '_score': 16.909657,\n",
       "    '_source': {'content': '组播全局配置'},\n",
       "    '_type': 'my_type',\n",
       "    'highlight': {'content': ['<em>组</em><em>播</em>全局配置']}},\n",
       "   {'_id': '68',\n",
       "    '_index': 'modle_index',\n",
       "    '_score': 15.931786,\n",
       "    '_source': {'content': '检查上行收包流量'},\n",
       "    '_type': 'my_type',\n",
       "    'highlight': {'content': ['<em>检查</em>上行收包<em>流量</em>']}},\n",
       "   {'_id': '386',\n",
       "    '_index': 'modle_index',\n",
       "    '_score': 15.802721,\n",
       "    '_source': {'content': '检查组播参数配置'},\n",
       "    '_type': 'my_type',\n",
       "    'highlight': {'content': ['<em>检查</em><em>组</em><em>播</em>参数配置']}},\n",
       "   {'_id': '313',\n",
       "    '_index': 'modle_index',\n",
       "    '_score': 15.785662,\n",
       "    '_source': {'content': '组播流量时延丢包验证'},\n",
       "    '_type': 'my_type',\n",
       "    'highlight': {'content': ['<em>组</em><em>播</em><em>流量</em>时延丢包验证']}},\n",
       "   {'_id': '592',\n",
       "    '_index': 'modle_index',\n",
       "    '_score': 14.579016,\n",
       "    '_source': {'content': '获取组播节目gsf索引'},\n",
       "    '_type': 'my_type',\n",
       "    'highlight': {'content': ['获取<em>组</em><em>播</em>节目gsf索引']}},\n",
       "   {'_id': '102',\n",
       "    '_index': 'modle_index',\n",
       "    '_score': 13.748542,\n",
       "    '_source': {'content': '组播IP'},\n",
       "    '_type': 'my_type',\n",
       "    'highlight': {'content': ['<em>组</em><em>播</em>IP']}},\n",
       "   {'_id': '193',\n",
       "    '_index': 'modle_index',\n",
       "    '_score': 13.748542,\n",
       "    '_source': {'content': '组播加密'},\n",
       "    '_type': 'my_type',\n",
       "    'highlight': {'content': ['<em>组</em><em>播</em>加密']}}],\n",
       "  'max_score': 28.952242,\n",
       "  'total': 131},\n",
       " 'timed_out': False,\n",
       " 'took': 3}"
      ]
     },
     "execution_count": 40,
     "metadata": {},
     "output_type": "execute_result"
    },
    {
     "data": {
      "text/plain": [
       "{'_shards': {'failed': 0, 'skipped': 0, 'successful': 5, 'total': 5},\n",
       " 'hits': {'hits': [{'_id': '68',\n",
       "    '_index': 'modle_index',\n",
       "    '_score': 12.850026,\n",
       "    '_source': {'content': '检查上行收包流量'},\n",
       "    '_type': 'my_type',\n",
       "    'highlight': {'content': ['<em>检查</em>上行收包<em>流量</em>']}},\n",
       "   {'_id': '179',\n",
       "    '_index': 'modle_index',\n",
       "    '_score': 12.683599,\n",
       "    '_source': {'content': '组播流量检查'},\n",
       "    '_type': 'my_type',\n",
       "    'highlight': {'content': ['组播<em>流量</em><em>检查</em>']}},\n",
       "   {'_id': '121',\n",
       "    '_index': 'modle_index',\n",
       "    '_score': 11.53545,\n",
       "    '_source': {'content': '端口流量增长查询'},\n",
       "    '_type': 'my_type',\n",
       "    'highlight': {'content': ['端口<em>流量</em>增长<em>查询</em>']}},\n",
       "   {'_id': '242',\n",
       "    '_index': 'modle_index',\n",
       "    '_score': 10.775113,\n",
       "    '_source': {'content': '发包仪查询报文实时流量统计'},\n",
       "    '_type': 'my_type',\n",
       "    'highlight': {'content': ['发包仪<em>查询</em>报文实时<em>流量</em>统计']}},\n",
       "   {'_id': '635',\n",
       "    '_index': 'modle_index',\n",
       "    '_score': 10.250353,\n",
       "    '_source': {'content': '组播接收流量检查'},\n",
       "    '_type': 'my_type',\n",
       "    'highlight': {'content': ['组播接收<em>流量</em><em>检查</em>']}},\n",
       "   {'_id': '784',\n",
       "    '_index': 'modle_index',\n",
       "    '_score': 7.897254,\n",
       "    '_source': {'content': '上下行发送IP报文并实时检查流量'},\n",
       "    '_type': 'my_type',\n",
       "    'highlight': {'content': ['上下行发送IP报文并实时<em>检查</em><em>流量</em>']}},\n",
       "   {'_id': '190',\n",
       "    '_index': 'modle_index',\n",
       "    '_score': 7.468625,\n",
       "    '_source': {'content': '检查发包仪的实时流量并判断是否正确'},\n",
       "    '_type': 'my_type',\n",
       "    'highlight': {'content': ['<em>检查</em>发包仪的实时<em>流量</em>并判断是否正确']}},\n",
       "   {'_id': '313',\n",
       "    '_index': 'modle_index',\n",
       "    '_score': 6.22113,\n",
       "    '_source': {'content': '组播流量时延丢包验证'},\n",
       "    '_type': 'my_type',\n",
       "    'highlight': {'content': ['组播<em>流量</em>时延丢包验证']}},\n",
       "   {'_id': '39',\n",
       "    '_index': 'modle_index',\n",
       "    '_score': 5.743052,\n",
       "    '_source': {'content': '清除Gate统计'},\n",
       "    '_type': 'my_type',\n",
       "    'highlight': {'content': ['<em>清除</em>Gate统计']}},\n",
       "   {'_id': '644',\n",
       "    '_index': 'modle_index',\n",
       "    '_score': 4.78555,\n",
       "    '_source': {'content': 'gate统计清除'},\n",
       "    '_type': 'my_type',\n",
       "    'highlight': {'content': ['gate统计<em>清除</em>']}}],\n",
       "  'max_score': 12.850026,\n",
       "  'total': 155},\n",
       " 'timed_out': False,\n",
       " 'took': 3}"
      ]
     },
     "execution_count": 40,
     "metadata": {},
     "output_type": "execute_result"
    }
   ],
   "source": [
    "search_api(\"组播流量检查\")\n",
    "search_api(\"查看流量\")"
   ]
  },
  {
   "cell_type": "code",
   "execution_count": 93,
   "metadata": {
    "collapsed": true
   },
   "outputs": [
    {
     "name": "stdout",
     "output_type": "stream",
     "text": [
      "查询VOD_output统计\n",
      "<em>查询</em><em>VOD_output</em>统计\n",
      "清除VOD_output统计\n",
      "<em>清除</em><em>VOD_output</em>统计\n",
      "CM版本信息查询\n",
      "CM版本<em>信息</em><em>查询</em>\n",
      "CM远端信息查询\n",
      "CM远端<em>信息</em><em>查询</em>\n",
      "查询CM详细信息并判断Hqos信息是否正确\n",
      "<em>查询</em>CM<em>详细信息</em>并判断Hqos<em>信息</em>是否正确\n",
      "CM_PHY信息查询\n",
      "CM_PHY<em>信息</em><em>查询</em>\n",
      "查询EMTA信息\n",
      "<em>查询</em>EMTA<em>信息</em>\n",
      "查询信息输出\n",
      "<em>查询</em><em>信息</em>输出\n",
      "基于框槽信息查询\n",
      "基于框槽<em>信息</em><em>查询</em>\n",
      "CM详细信息查询（bonding&信道）\n",
      "CM<em>详细信息</em><em>查询</em>（bonding&信道）\n"
     ]
    }
   ],
   "source": [
    "search_api_demo(\"查询VOD_output信息\")"
   ]
  },
  {
   "cell_type": "code",
   "execution_count": 94,
   "metadata": {
    "collapsed": true
   },
   "outputs": [
    {
     "name": "stdout",
     "output_type": "stream",
     "text": [
      "查询EMTA信息\n",
      "<em>查询</em><em>EMTA</em>信息\n",
      "查询VOD_input统计\n",
      "<em>查询</em>VOD_input<em>统计</em>\n",
      "查询BC_input-ts统计\n",
      "<em>查询</em>BC_input-ts<em>统计</em>\n",
      "查询回传通道统计\n",
      "<em>查询</em>回传通道<em>统计</em>\n",
      "查询VOD_output统计\n",
      "<em>查询</em>VOD_output<em>统计</em>\n",
      "清除动态流统计\n",
      "<em>清除</em>动态流<em>统计</em>\n",
      "清除CM性能统计\n",
      "<em>清除</em>CM性能<em>统计</em>\n",
      "清除Gate统计\n",
      "<em>清除</em>Gate<em>统计</em>\n",
      "首次查询判断EQAM信道统计\n",
      "首次<em>查询</em>判断EQAM信道<em>统计</em>\n",
      "发包仪查询报文实时流量统计\n",
      "发包仪<em>查询</em>报文实时流量<em>统计</em>\n"
     ]
    }
   ],
   "source": [
    "search_api_demo(\"查询EMTA统计\")"
   ]
  },
  {
   "cell_type": "code",
   "execution_count": 48,
   "metadata": {
    "collapsed": true
   },
   "outputs": [
    {
     "data": {
      "text/plain": [
       "{'以及', '察看', '显示', '查询', '检查', '清除', '看到', '观察'}"
      ]
     },
     "execution_count": 48,
     "metadata": {},
     "output_type": "execute_result"
    }
   ],
   "source": [
    "get_similar_search_wrod([\"查看\"])"
   ]
  },
  {
   "cell_type": "code",
   "execution_count": 138,
   "metadata": {
    "collapsed": true
   },
   "outputs": [
    {
     "name": "stdout",
     "output_type": "stream",
     "text": [
      "端口流量增长查询\n",
      "端口删除绑定\n",
      "添加端口到vlan\n",
      "发包仪查询报文实时流量统计\n",
      "检查上行收包流量\n",
      "cable端口统计\n",
      "组播流量检查\n",
      "不输入框槽端口，无法查询\n",
      "配置端口角色\n",
      "组播接收流量检查\n",
      "--------------\n",
      "端口流量增长查询\n",
      "输入框槽端口，查询GCR信息\n",
      "端口删除绑定\n",
      "检查上行收包流量\n",
      "组播流量检查\n",
      "添加端口到vlan\n",
      "发包仪查询报文实时流量统计\n",
      "cable端口统计\n",
      "组播接收流量检查\n",
      "查询CM详细信息并判断Hqos信息是否正确\n",
      "--------------\n",
      "端口流量增长查询\n",
      "发包仪查询报文实时流量统计\n",
      "检查上行收包流量\n",
      "组播流量检查\n",
      "组播接收流量检查\n",
      "组播流量时延丢包验证\n",
      "上下行发送IP报文并实时检查流量\n",
      "检查发包仪的实时流量并判断是否正确\n",
      "查询下行信道占用率并作记录\n",
      "准入带宽占用查询\n"
     ]
    }
   ],
   "source": [
    "search_api_demo(\"获取端口流量增长\")\n",
    "print(\"--------------\")\n",
    "search_api_demo(\"端口流量增长信息查看\")\n",
    "print(\"--------------\")\n",
    "search_api_demo(\"显示流量增长\")"
   ]
  },
  {
   "cell_type": "code",
   "execution_count": 168,
   "metadata": {
    "collapsed": true
   },
   "outputs": [
    {
     "name": "stdout",
     "output_type": "stream",
     "text": [
      "端口流量增长查询\n",
      "端口删除绑定\n",
      "检查上行收包流量\n",
      "cable端口统计\n",
      "组播流量检查\n",
      "发包仪查询报文实时流量统计\n",
      "添加端口到vlan\n",
      "配置端口角色\n",
      "不输入框槽端口，无法查询\n",
      "组播接收流量检查\n",
      "--------------\n",
      "端口流量增长查询\n",
      "输入框槽端口，查询GCR信息\n",
      "端口删除绑定\n",
      "检查上行收包流量\n",
      "组播流量检查\n",
      "cable端口统计\n",
      "发包仪查询报文实时流量统计\n",
      "添加端口到vlan\n",
      "配置端口角色\n",
      "组播接收流量检查\n",
      "--------------\n",
      "端口流量增长查询\n",
      "检查上行收包流量\n",
      "组播流量检查\n",
      "发包仪查询报文实时流量统计\n",
      "组播接收流量检查\n",
      "组播流量时延丢包验证\n",
      "上下行发送IP报文并实时检查流量\n",
      "检查发包仪的实时流量并判断是否正确\n",
      "GQC生成正确性判断\n",
      "配置文件生成\n"
     ]
    }
   ],
   "source": [
    "search_api_demo_v2(\"获取端口流量增长\")\n",
    "print(\"--------------\")\n",
    "search_api_demo_v2(\"端口流量增长信息查看\")\n",
    "print(\"--------------\")\n",
    "search_api_demo_v2(\"显示流量增长\")"
   ]
  },
  {
   "cell_type": "code",
   "execution_count": 171,
   "metadata": {
    "collapsed": true
   },
   "outputs": [
    {
     "name": "stdout",
     "output_type": "stream",
     "text": [
      "清除Gate统计\n",
      "gate统计清除\n",
      "清除动态流统计\n",
      "清除CM性能统计\n",
      "清除准入控制统计\n",
      "清除动态流DSX消息统计\n",
      "清除回传通道统计\n",
      "DCS检查\n",
      "清除VOD_output统计\n",
      "GC匹配检查\n",
      "------------\n",
      "观察tunner的频点信道输出功率\n",
      "查询因SAV检查丢弃报文数:env_init();execute()\n",
      "下行通用modem负载均衡状态检查\n",
      "检查DIAGLOG-DETAIL-TYPE模板上报\n",
      "检查发包仪的实时流量并判断是否正确\n",
      "下行通用业务流负载均衡状态检查\n",
      "检查组播参数配置\n",
      "复位cm不检查\n",
      "结果检查_vlan切换增强业务流信息校验_translate\n",
      "检查SAMIX-TYPE1模板上报\n"
     ]
    }
   ],
   "source": [
    "search_api_demo(\"查看\")\n",
    "print(\"------------\")\n",
    "search_api_demo_v2(\"查看\")"
   ]
  }
 ],
 "metadata": {
  "kernelspec": {
   "display_name": "Python 3",
   "language": "python",
   "name": "python3"
  },
  "language_info": {
   "codemirror_mode": {
    "name": "ipython",
    "version": 3
   },
   "file_extension": ".py",
   "mimetype": "text/x-python",
   "name": "python",
   "nbconvert_exporter": "python",
   "pygments_lexer": "ipython3",
   "version": "3.6.4"
  },
  "toc": {
   "nav_menu": {},
   "number_sections": true,
   "sideBar": true,
   "skip_h1_title": true,
   "toc_cell": true,
   "toc_position": {},
   "toc_section_display": "block",
   "toc_window_display": true
  }
 },
 "nbformat": 4,
 "nbformat_minor": 2
}
