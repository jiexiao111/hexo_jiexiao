{
 "cells": [
  {
   "cell_type": "markdown",
   "metadata": {
    "toc": true
   },
   "source": [
    "<h1>Table of Contents<span class=\"tocSkip\"></span></h1>\n",
    "<div class=\"toc\" style=\"margin-top: 1em;\"><ul class=\"toc-item\"><li><span><a href=\"#安装-ik-插件\" data-toc-modified-id=\"安装-ik-插件-1\"><span class=\"toc-item-num\">1&nbsp;&nbsp;</span>安装 ik 插件</a></span></li><li><span><a href=\"#测试功能\" data-toc-modified-id=\"测试功能-2\"><span class=\"toc-item-num\">2&nbsp;&nbsp;</span>测试功能</a></span></li></ul></div>"
   ]
  },
  {
   "cell_type": "markdown",
   "metadata": {},
   "source": [
    "## 安装 ik 插件"
   ]
  },
  {
   "cell_type": "markdown",
   "metadata": {},
   "source": [
    "```\n",
    "cd /home/elasticsearch-6.2.3\n",
    "wget --no-check-certificate https://github.com/medcl/elasticsearch-analysis-ik/releases/download/v6.2.3/elasticsearch-analysis-ik-6.2.3.zip\n",
    "unzip elasticsearch-analysis-ik-6.2.3.zip -d plugins\n",
    "```"
   ]
  },
  {
   "cell_type": "markdown",
   "metadata": {},
   "source": [
    "## 测试功能"
   ]
  },
  {
   "cell_type": "code",
   "execution_count": 9,
   "metadata": {
    "collapsed": true
   },
   "outputs": [],
   "source": [
    "from elasticsearch import Elasticsearch\n",
    "from elasticsearch import helpers\n",
    "from datetime import datetime\n",
    "import pprint"
   ]
  },
  {
   "cell_type": "code",
   "execution_count": 10,
   "metadata": {
    "collapsed": true
   },
   "outputs": [],
   "source": [
    "es = Elasticsearch()"
   ]
  },
  {
   "cell_type": "code",
   "execution_count": 18,
   "metadata": {
    "scrolled": true
   },
   "outputs": [
    {
     "data": {
      "text/plain": [
       "{'tokens': [{'end_offset': 7,\n",
       "   'position': 0,\n",
       "   'start_offset': 0,\n",
       "   'token': '中华人民共和国',\n",
       "   'type': 'CN_WORD'},\n",
       "  {'end_offset': 4,\n",
       "   'position': 1,\n",
       "   'start_offset': 0,\n",
       "   'token': '中华人民',\n",
       "   'type': 'CN_WORD'},\n",
       "  {'end_offset': 2,\n",
       "   'position': 2,\n",
       "   'start_offset': 0,\n",
       "   'token': '中华',\n",
       "   'type': 'CN_WORD'},\n",
       "  {'end_offset': 3,\n",
       "   'position': 3,\n",
       "   'start_offset': 1,\n",
       "   'token': '华人',\n",
       "   'type': 'CN_WORD'},\n",
       "  {'end_offset': 7,\n",
       "   'position': 4,\n",
       "   'start_offset': 2,\n",
       "   'token': '人民共和国',\n",
       "   'type': 'CN_WORD'},\n",
       "  {'end_offset': 4,\n",
       "   'position': 5,\n",
       "   'start_offset': 2,\n",
       "   'token': '人民',\n",
       "   'type': 'CN_WORD'},\n",
       "  {'end_offset': 7,\n",
       "   'position': 6,\n",
       "   'start_offset': 4,\n",
       "   'token': '共和国',\n",
       "   'type': 'CN_WORD'},\n",
       "  {'end_offset': 6,\n",
       "   'position': 7,\n",
       "   'start_offset': 4,\n",
       "   'token': '共和',\n",
       "   'type': 'CN_WORD'},\n",
       "  {'end_offset': 7,\n",
       "   'position': 8,\n",
       "   'start_offset': 6,\n",
       "   'token': '国',\n",
       "   'type': 'CN_CHAR'},\n",
       "  {'end_offset': 15,\n",
       "   'position': 9,\n",
       "   'start_offset': 7,\n",
       "   'token': 'testtest',\n",
       "   'type': 'ENGLISH'},\n",
       "  {'end_offset': 17,\n",
       "   'position': 10,\n",
       "   'start_offset': 15,\n",
       "   'token': '国歌',\n",
       "   'type': 'CN_WORD'}]}"
      ]
     },
     "execution_count": 18,
     "metadata": {},
     "output_type": "execute_result"
    }
   ],
   "source": [
    "es.indices.analyze(index=\"nginx\", body={\"text\": \"中华人民共和国testtest国歌\", \"analyzer\": \"ik_max_word\"})"
   ]
  },
  {
   "cell_type": "code",
   "execution_count": 17,
   "metadata": {},
   "outputs": [
    {
     "data": {
      "text/plain": [
       "{'tokens': [{'end_offset': 7,\n",
       "   'position': 0,\n",
       "   'start_offset': 0,\n",
       "   'token': '中华人民共和国',\n",
       "   'type': 'CN_WORD'},\n",
       "  {'end_offset': 15,\n",
       "   'position': 1,\n",
       "   'start_offset': 7,\n",
       "   'token': 'testtest',\n",
       "   'type': 'ENGLISH'},\n",
       "  {'end_offset': 17,\n",
       "   'position': 2,\n",
       "   'start_offset': 15,\n",
       "   'token': '国歌',\n",
       "   'type': 'CN_WORD'}]}"
      ]
     },
     "execution_count": 17,
     "metadata": {},
     "output_type": "execute_result"
    }
   ],
   "source": [
    "es.indices.analyze(index=\"nginx\", body={\"text\": \"中华人民共和国testtest国歌\", \"analyzer\": \"ik_smart\"})"
   ]
  }
 ],
 "metadata": {
  "kernelspec": {
   "display_name": "Python 3",
   "language": "python",
   "name": "python3"
  },
  "language_info": {
   "codemirror_mode": {
    "name": "ipython",
    "version": 3
   },
   "file_extension": ".py",
   "mimetype": "text/x-python",
   "name": "python",
   "nbconvert_exporter": "python",
   "pygments_lexer": "ipython3",
   "version": "3.6.4"
  },
  "toc": {
   "nav_menu": {},
   "number_sections": true,
   "sideBar": true,
   "skip_h1_title": true,
   "toc_cell": true,
   "toc_position": {},
   "toc_section_display": "block",
   "toc_window_display": true
  }
 },
 "nbformat": 4,
 "nbformat_minor": 2
}
