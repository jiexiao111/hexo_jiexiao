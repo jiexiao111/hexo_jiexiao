{
 "cells": [
  {
   "cell_type": "markdown",
   "metadata": {
    "toc": true
   },
   "source": [
    "<h1>Table of Contents<span class=\"tocSkip\"></span></h1>\n",
    "<div class=\"toc\" style=\"margin-top: 1em;\"><ul class=\"toc-item\"></ul></div>"
   ]
  },
  {
   "cell_type": "code",
   "execution_count": 5,
   "metadata": {
    "collapsed": true
   },
   "outputs": [],
   "source": [
    "import os\n",
    "os.chdir('/aiml/data/DevMind/06.SRC/01.TestCaseBot/02.TestAWBot/AW_Recommand_V2')"
   ]
  },
  {
   "cell_type": "code",
   "execution_count": 200,
   "metadata": {
    "collapsed": true
   },
   "outputs": [],
   "source": [
    "# %load /aiml/data/DevMind/06.SRC/01.TestCaseBot/02.TestAWBot/AW_Recommand_V2/aw_recommand/infer/search_aw_by_key_word.py\n",
    "\n",
    "import logging\n",
    "import pandas as pd\n",
    "\n",
    "class Search_AW_By_Key(object):\n",
    "    def __init__(self, logger=None):\n",
    "        # AW 信息列表\n",
    "        df = pd.read_csv('./data/sentence_embeding/clean_data.csv')\n",
    "        self.df_aw = df.loc[:, ['_id', 'new_attr_aw']]\n",
    "\n",
    "        if logger:\n",
    "            self.logger = logger\n",
    "        else:\n",
    "            self.logger = logging.getLogger()\n",
    "            self.logger.setLevel(logging.INFO)\n",
    "\n",
    "    def update_score(self, word_weight_dict):\n",
    "        def get_score_by_str(input_str):\n",
    "            input_list = input_str.split()\n",
    "            score_list = [word_weight_dict.get(x, 0) for x in sorted(list(set(input_list)), key=input_list.index)]\n",
    "            return score_list\n",
    "        score_list = self.df_aw['new_attr_aw'].apply(get_score_by_str)\n",
    "        score = score_list.apply(lambda x: sum(x) + 1.0 / (pow(len(x) - len(word_weight_dict), 2) + 1))\n",
    "        self.df_aw = self.df_aw.assign(score_list=score_list)\n",
    "        self.df_aw = self.df_aw.assign(score=score)\n",
    "        if logger.level <= logging.INFO:\n",
    "            self.df_aw.to_csv('./log/aw_score.csv', index=False)\n",
    "        return score_list, score\n",
    "\n",
    "\n",
    "    def get_top_n_score_aw(self, word_weight_dict):\n",
    "        self.update_score(word_weight_dict)\n",
    "        return self.df_aw.sort_values('score', ascending=False).head(10).new_attr_aw.tolist()\n"
   ]
  },
  {
   "cell_type": "code",
   "execution_count": 201,
   "metadata": {
    "collapsed": true
   },
   "outputs": [],
   "source": [
    "tmp1 = Search_AW_By_Key()\n",
    "tmp_dict= {'deploy': 1, 'remove': 1, 'openflow': 2}"
   ]
  },
  {
   "cell_type": "code",
   "execution_count": 202,
   "metadata": {},
   "outputs": [
    {
     "data": {
      "text/plain": [
       "['unset openflow auth',\n",
       " 'get openflow session',\n",
       " 'config openflow controller',\n",
       " 'get openflow session',\n",
       " 'get openflow statistics',\n",
       " 'get openflow session',\n",
       " 'config openflow agent',\n",
       " 'set openflow auth',\n",
       " 'get openflow table socket',\n",
       " 'get openflow fpm table']"
      ]
     },
     "execution_count": 202,
     "metadata": {},
     "output_type": "execute_result"
    }
   ],
   "source": [
    "tmp1.get_top_n_score_aw(tmp_dict)"
   ]
  },
  {
   "cell_type": "code",
   "execution_count": 208,
   "metadata": {
    "collapsed": true
   },
   "outputs": [],
   "source": [
    "from gensim.models import word2vec\n",
    "from gensim.models import KeyedVectors"
   ]
  },
  {
   "cell_type": "code",
   "execution_count": 227,
   "metadata": {
    "collapsed": true
   },
   "outputs": [],
   "source": [
    "path_pretrain_model_in_aw = './data/sentence_embeding/GoogleNews-vectors-negative300.model.vec'\n",
    "pretrain_model_in_aw = KeyedVectors.load_word2vec_format(path_pretrain_model_in_aw)"
   ]
  },
  {
   "cell_type": "code",
   "execution_count": 233,
   "metadata": {},
   "outputs": [
    {
     "data": {
      "text/plain": [
       "[('do', 1.0),\n",
       " ('not', 0.7125732898712158),\n",
       " ('did', 0.6560217142105103),\n",
       " ('does', 0.6495506167411804),\n",
       " ('try', 0.5491036176681519),\n",
       " ('we', 0.5474551320075989),\n",
       " ('ask', 0.5471649765968323),\n",
       " ('if', 0.545981764793396),\n",
       " ('go', 0.5437604784965515),\n",
       " ('else', 0.5414758324623108)]"
      ]
     },
     "execution_count": 233,
     "metadata": {},
     "output_type": "execute_result"
    }
   ],
   "source": [
    "pretrain_model_in_aw.similar_by_vector(pretrain_model_in_aw.get_vector('do'))"
   ]
  }
 ],
 "metadata": {
  "kernelspec": {
   "display_name": "Python 3",
   "language": "python",
   "name": "python3"
  },
  "language_info": {
   "codemirror_mode": {
    "name": "ipython",
    "version": 3
   },
   "file_extension": ".py",
   "mimetype": "text/x-python",
   "name": "python",
   "nbconvert_exporter": "python",
   "pygments_lexer": "ipython3",
   "version": "3.6.4"
  },
  "toc": {
   "nav_menu": {},
   "number_sections": true,
   "sideBar": true,
   "skip_h1_title": true,
   "toc_cell": true,
   "toc_position": {},
   "toc_section_display": "block",
   "toc_window_display": true
  }
 },
 "nbformat": 4,
 "nbformat_minor": 2
}
