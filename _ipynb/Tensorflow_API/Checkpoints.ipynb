{
 "cells": [
  {
   "cell_type": "markdown",
   "metadata": {
    "toc": true
   },
   "source": [
    "<h1>Table of Contents<span class=\"tocSkip\"></span></h1>\n",
    "<div class=\"toc\" style=\"margin-top: 1em;\"><ul class=\"toc-item\"><li><span><a href=\"#Setup\" data-toc-modified-id=\"Setup-1\"><span class=\"toc-item-num\">1&nbsp;&nbsp;</span>Setup</a></span></li><li><span><a href=\"#Load-Data-Set\" data-toc-modified-id=\"Load-Data-Set-2\"><span class=\"toc-item-num\">2&nbsp;&nbsp;</span>Load Data Set</a></span></li><li><span><a href=\"#Feature-columns\" data-toc-modified-id=\"Feature-columns-3\"><span class=\"toc-item-num\">3&nbsp;&nbsp;</span>Feature columns</a></span></li><li><span><a href=\"#Model-&amp;-config\" data-toc-modified-id=\"Model-&amp;-config-4\"><span class=\"toc-item-num\">4&nbsp;&nbsp;</span>Model &amp; config</a></span></li><li><span><a href=\"#Input-function\" data-toc-modified-id=\"Input-function-5\"><span class=\"toc-item-num\">5&nbsp;&nbsp;</span>Input function</a></span></li><li><span><a href=\"#Train\" data-toc-modified-id=\"Train-6\"><span class=\"toc-item-num\">6&nbsp;&nbsp;</span>Train</a></span></li><li><span><a href=\"#Eval\" data-toc-modified-id=\"Eval-7\"><span class=\"toc-item-num\">7&nbsp;&nbsp;</span>Eval</a></span></li><li><span><a href=\"#Restore-Model\" data-toc-modified-id=\"Restore-Model-8\"><span class=\"toc-item-num\">8&nbsp;&nbsp;</span>Restore Model</a></span></li></ul></div>"
   ]
  },
  {
   "cell_type": "markdown",
   "metadata": {},
   "source": [
    "## Setup"
   ]
  },
  {
   "cell_type": "code",
   "execution_count": 1,
   "metadata": {},
   "outputs": [
    {
     "name": "stderr",
     "output_type": "stream",
     "text": [
      "/root/anaconda3/lib/python3.6/site-packages/h5py/__init__.py:36: FutureWarning: Conversion of the second argument of issubdtype from `float` to `np.floating` is deprecated. In future, it will be treated as `np.float64 == np.dtype(float).type`.\n",
      "  from ._conv import register_converters as _register_converters\n"
     ]
    }
   ],
   "source": [
    "import tensorflow as tf\n",
    "import numpy as np"
   ]
  },
  {
   "cell_type": "markdown",
   "metadata": {},
   "source": [
    "## Load Data Set"
   ]
  },
  {
   "cell_type": "code",
   "execution_count": 2,
   "metadata": {},
   "outputs": [],
   "source": [
    "(train_x, train_y), (test_x, test_y) = tf.keras.datasets.mnist.load_data()"
   ]
  },
  {
   "cell_type": "code",
   "execution_count": 3,
   "metadata": {},
   "outputs": [
    {
     "data": {
      "text/plain": [
       "(60000, 28, 28)"
      ]
     },
     "execution_count": 3,
     "metadata": {},
     "output_type": "execute_result"
    },
    {
     "data": {
      "text/plain": [
       "(60000,)"
      ]
     },
     "execution_count": 3,
     "metadata": {},
     "output_type": "execute_result"
    },
    {
     "data": {
      "text/plain": [
       "numpy.uint8"
      ]
     },
     "execution_count": 3,
     "metadata": {},
     "output_type": "execute_result"
    }
   ],
   "source": [
    "train_x.shape\n",
    "train_y.shape\n",
    "type(train_y[0])"
   ]
  },
  {
   "cell_type": "markdown",
   "metadata": {},
   "source": [
    "## Feature columns"
   ]
  },
  {
   "cell_type": "code",
   "execution_count": 4,
   "metadata": {
    "collapsed": true
   },
   "outputs": [],
   "source": [
    "feature_columns = [tf.feature_column.numeric_column(\"x\", shape=[28, 28])]"
   ]
  },
  {
   "cell_type": "markdown",
   "metadata": {},
   "source": [
    "## Model & config"
   ]
  },
  {
   "cell_type": "markdown",
   "metadata": {},
   "source": [
    "调整日志打印的频率为 1000"
   ]
  },
  {
   "cell_type": "code",
   "execution_count": 5,
   "metadata": {
    "collapsed": true
   },
   "outputs": [],
   "source": [
    "config = tf.estimator.RunConfig(log_step_count_steps=1000)"
   ]
  },
  {
   "cell_type": "markdown",
   "metadata": {},
   "source": [
    "这里可以看到能够修改的配置，比如 _keep_checkpoint_max用于设置保存的模型最大数量， _save_checkpoints_secs用于设置多久保存一次模型"
   ]
  },
  {
   "cell_type": "code",
   "execution_count": 27,
   "metadata": {},
   "outputs": [
    {
     "data": {
      "text/plain": [
       "{'_cluster_spec': <tensorflow.python.training.server_lib.ClusterSpec at 0x7f9fe86a9898>,\n",
       " '_distribute': None,\n",
       " '_evaluation_master': '',\n",
       " '_global_id_in_cluster': 0,\n",
       " '_is_chief': True,\n",
       " '_keep_checkpoint_every_n_hours': 10000,\n",
       " '_keep_checkpoint_max': 5,\n",
       " '_log_step_count_steps': 1000,\n",
       " '_master': '',\n",
       " '_model_dir': '/tmp/mnist_model',\n",
       " '_num_ps_replicas': 0,\n",
       " '_num_worker_replicas': 1,\n",
       " '_save_checkpoints_secs': 600,\n",
       " '_save_checkpoints_steps': None,\n",
       " '_save_summary_steps': 100,\n",
       " '_service': None,\n",
       " '_session_config': None,\n",
       " '_task_id': 0,\n",
       " '_task_type': 'worker',\n",
       " '_tf_random_seed': None}"
      ]
     },
     "execution_count": 27,
     "metadata": {},
     "output_type": "execute_result"
    }
   ],
   "source": [
    "vars(classifier.config)"
   ]
  },
  {
   "cell_type": "code",
   "execution_count": 6,
   "metadata": {},
   "outputs": [
    {
     "name": "stdout",
     "output_type": "stream",
     "text": [
      "INFO:tensorflow:Using config: {'_model_dir': '/tmp/mnist_model', '_tf_random_seed': None, '_save_summary_steps': 100, '_save_checkpoints_steps': None, '_save_checkpoints_secs': 600, '_session_config': None, '_keep_checkpoint_max': 5, '_keep_checkpoint_every_n_hours': 10000, '_log_step_count_steps': 1000, '_distribute': None, '_service': None, '_cluster_spec': <tensorflow.python.training.server_lib.ClusterSpec object at 0x7fa0db5cb4e0>, '_task_type': 'worker', '_task_id': 0, '_global_id_in_cluster': 0, '_master': '', '_evaluation_master': '', '_is_chief': True, '_num_ps_replicas': 0, '_num_worker_replicas': 1}\n"
     ]
    }
   ],
   "source": [
    "classifier = tf.estimator.DNNClassifier(feature_columns=feature_columns,\n",
    "                                        hidden_units=[256, 32],\n",
    "                                        optimizer=tf.train.AdamOptimizer(1e-4),\n",
    "                                        n_classes=10,\n",
    "                                        dropout=0.1, \n",
    "                                        config=config,\n",
    "                                        model_dir=\"/tmp/mnist_model\")"
   ]
  },
  {
   "cell_type": "markdown",
   "metadata": {},
   "source": [
    "这里需要将 label 转换为 int32，否则会提示：TypeError: Value passed to parameter ‘labels’ has DataType uint8 not in list of allowed values: int32, int64"
   ]
  },
  {
   "cell_type": "markdown",
   "metadata": {},
   "source": [
    "## Input function"
   ]
  },
  {
   "cell_type": "code",
   "execution_count": 12,
   "metadata": {},
   "outputs": [],
   "source": [
    "train_input_fn = tf.estimator.inputs.numpy_input_fn(x={\"x\": train_x}, y=train_y.astype(np.int32), num_epochs=None, batch_size=50, shuffle=True)\n",
    "test_input_fn = tf.estimator.inputs.numpy_input_fn(x={\"x\": test_x}, y=test_y.astype(np.int32), num_epochs=1, shuffle=False)"
   ]
  },
  {
   "cell_type": "markdown",
   "metadata": {},
   "source": [
    "## Train"
   ]
  },
  {
   "cell_type": "code",
   "execution_count": 8,
   "metadata": {},
   "outputs": [
    {
     "name": "stdout",
     "output_type": "stream",
     "text": [
      "INFO:tensorflow:Calling model_fn.\n",
      "INFO:tensorflow:Done calling model_fn.\n",
      "INFO:tensorflow:Create CheckpointSaverHook.\n",
      "INFO:tensorflow:Graph was finalized.\n",
      "INFO:tensorflow:Restoring parameters from /tmp/mnist_model/model.ckpt-10003\n",
      "INFO:tensorflow:Running local_init_op.\n",
      "INFO:tensorflow:Done running local_init_op.\n",
      "INFO:tensorflow:Saving checkpoints for 10004 into /tmp/mnist_model/model.ckpt.\n",
      "INFO:tensorflow:loss = 32.4552, step = 10004\n",
      "INFO:tensorflow:global_step/sec: 245.468\n",
      "INFO:tensorflow:loss = 14.070244, step = 11004 (4.076 sec)\n",
      "INFO:tensorflow:global_step/sec: 240.218\n",
      "INFO:tensorflow:loss = 9.689271, step = 12004 (4.164 sec)\n",
      "INFO:tensorflow:global_step/sec: 240.201\n",
      "INFO:tensorflow:loss = 15.497894, step = 13004 (4.163 sec)\n",
      "INFO:tensorflow:global_step/sec: 233.643\n",
      "INFO:tensorflow:loss = 14.839357, step = 14004 (4.281 sec)\n",
      "INFO:tensorflow:global_step/sec: 238.44\n",
      "INFO:tensorflow:loss = 3.9544375, step = 15004 (4.192 sec)\n",
      "INFO:tensorflow:global_step/sec: 235.545\n",
      "INFO:tensorflow:loss = 12.313757, step = 16004 (4.247 sec)\n",
      "INFO:tensorflow:global_step/sec: 234.455\n",
      "INFO:tensorflow:loss = 9.600996, step = 17004 (4.265 sec)\n",
      "INFO:tensorflow:global_step/sec: 234.195\n",
      "INFO:tensorflow:loss = 7.5997763, step = 18004 (4.269 sec)\n",
      "INFO:tensorflow:global_step/sec: 232.761\n",
      "INFO:tensorflow:loss = 2.0082543, step = 19004 (4.296 sec)\n",
      "INFO:tensorflow:global_step/sec: 234.411\n",
      "INFO:tensorflow:loss = 19.909729, step = 20004 (4.268 sec)\n",
      "INFO:tensorflow:global_step/sec: 231.711\n",
      "INFO:tensorflow:loss = 6.62292, step = 21004 (4.313 sec)\n",
      "INFO:tensorflow:global_step/sec: 232.054\n",
      "INFO:tensorflow:loss = 6.387688, step = 22004 (4.311 sec)\n",
      "INFO:tensorflow:global_step/sec: 234.253\n",
      "INFO:tensorflow:loss = 20.069363, step = 23004 (4.268 sec)\n",
      "INFO:tensorflow:global_step/sec: 232.934\n",
      "INFO:tensorflow:loss = 9.343334, step = 24004 (4.296 sec)\n",
      "INFO:tensorflow:global_step/sec: 229.351\n",
      "INFO:tensorflow:loss = 4.5771136, step = 25004 (4.358 sec)\n",
      "INFO:tensorflow:global_step/sec: 229.976\n",
      "INFO:tensorflow:loss = 6.9728394, step = 26004 (4.352 sec)\n",
      "INFO:tensorflow:global_step/sec: 225.44\n",
      "INFO:tensorflow:loss = 19.930805, step = 27004 (4.433 sec)\n",
      "INFO:tensorflow:global_step/sec: 225.669\n",
      "INFO:tensorflow:loss = 16.18435, step = 28004 (4.430 sec)\n",
      "INFO:tensorflow:global_step/sec: 223.201\n",
      "INFO:tensorflow:loss = 14.758995, step = 29004 (4.481 sec)\n",
      "INFO:tensorflow:Saving checkpoints for 30003 into /tmp/mnist_model/model.ckpt.\n",
      "INFO:tensorflow:Loss for final step: 2.0043294.\n"
     ]
    },
    {
     "data": {
      "text/plain": [
       "<tensorflow.python.estimator.canned.dnn.DNNClassifier at 0x7fa0db5cb320>"
      ]
     },
     "execution_count": 8,
     "metadata": {},
     "output_type": "execute_result"
    }
   ],
   "source": [
    "classifier.train(input_fn=train_input_fn, steps=20000)"
   ]
  },
  {
   "cell_type": "code",
   "execution_count": 16,
   "metadata": {},
   "outputs": [
    {
     "name": "stdout",
     "output_type": "stream",
     "text": [
      "total 20544\r\n",
      "-rw-r--r-- 1 root root     277 Apr  7 20:04 checkpoint\r\n",
      "drwxr-xr-x 2 root root    4096 Apr  7 20:12 eval\r\n",
      "-rw-r--r-- 1 root root 3010526 Apr  7 19:49 events.out.tfevents.1523101541.ubuntu\r\n",
      "-rw-r--r-- 1 root root 1672160 Apr  7 20:01 events.out.tfevents.1523101753.ubuntu\r\n",
      "-rw-r--r-- 1 root root 1207185 Apr  7 20:03 events.out.tfevents.1523102516.ubuntu\r\n",
      "-rw-r--r-- 1 root root 1474407 Apr  7 20:04 events.out.tfevents.1523102586.ubuntu\r\n",
      "-rw-r--r-- 1 root root  325958 Apr  7 20:03 graph.pbtxt\r\n",
      "-rw-r--r-- 1 root root 2514184 Apr  7 19:49 model.ckpt-10001.data-00000-of-00001\r\n",
      "-rw-r--r-- 1 root root     799 Apr  7 19:49 model.ckpt-10001.index\r\n",
      "-rw-r--r-- 1 root root  143591 Apr  7 19:49 model.ckpt-10001.meta\r\n",
      "-rw-r--r-- 1 root root 2514184 Apr  7 20:01 model.ckpt-10002.data-00000-of-00001\r\n",
      "-rw-r--r-- 1 root root     799 Apr  7 20:01 model.ckpt-10002.index\r\n",
      "-rw-r--r-- 1 root root  143591 Apr  7 20:01 model.ckpt-10002.meta\r\n",
      "-rw-r--r-- 1 root root 2514184 Apr  7 20:01 model.ckpt-10003.data-00000-of-00001\r\n",
      "-rw-r--r-- 1 root root     799 Apr  7 20:01 model.ckpt-10003.index\r\n",
      "-rw-r--r-- 1 root root  143591 Apr  7 20:01 model.ckpt-10003.meta\r\n",
      "-rw-r--r-- 1 root root 2514184 Apr  7 20:03 model.ckpt-10004.data-00000-of-00001\r\n",
      "-rw-r--r-- 1 root root     799 Apr  7 20:03 model.ckpt-10004.index\r\n",
      "-rw-r--r-- 1 root root  143591 Apr  7 20:03 model.ckpt-10004.meta\r\n",
      "-rw-r--r-- 1 root root 2514184 Apr  7 20:04 model.ckpt-30003.data-00000-of-00001\r\n",
      "-rw-r--r-- 1 root root     799 Apr  7 20:04 model.ckpt-30003.index\r\n",
      "-rw-r--r-- 1 root root  143591 Apr  7 20:04 model.ckpt-30003.meta\r\n"
     ]
    }
   ],
   "source": [
    "!ls -l {classifier.model_dir}"
   ]
  },
  {
   "cell_type": "markdown",
   "metadata": {},
   "source": [
    "## Eval"
   ]
  },
  {
   "cell_type": "code",
   "execution_count": 13,
   "metadata": {},
   "outputs": [
    {
     "name": "stdout",
     "output_type": "stream",
     "text": [
      "INFO:tensorflow:Calling model_fn.\n",
      "INFO:tensorflow:Done calling model_fn.\n",
      "INFO:tensorflow:Starting evaluation at 2018-04-07-12:12:16\n",
      "INFO:tensorflow:Graph was finalized.\n",
      "INFO:tensorflow:Restoring parameters from /tmp/mnist_model/model.ckpt-30003\n",
      "INFO:tensorflow:Running local_init_op.\n",
      "INFO:tensorflow:Done running local_init_op.\n",
      "INFO:tensorflow:Finished evaluation at 2018-04-07-12:12:16\n",
      "INFO:tensorflow:Saving dict for global step 30003: accuracy = 0.9673, average_loss = 0.16608413, global_step = 30003, loss = 21.023306\n"
     ]
    },
    {
     "data": {
      "text/plain": [
       "{'accuracy': 0.9673,\n",
       " 'average_loss': 0.16608413,\n",
       " 'global_step': 30003,\n",
       " 'loss': 21.023306}"
      ]
     },
     "execution_count": 13,
     "metadata": {},
     "output_type": "execute_result"
    }
   ],
   "source": [
    "classifier.evaluate(input_fn=test_input_fn)"
   ]
  },
  {
   "cell_type": "markdown",
   "metadata": {},
   "source": [
    "## Restore Model"
   ]
  },
  {
   "cell_type": "markdown",
   "metadata": {},
   "source": [
    "指定了 model_dir 后，模型会自动读取相关参数，但是需要保证超参一直，例如，训练时设置hidden_units=[256, 32]，加载时设置hidden_units=[256, 33]，则会在 eval 时报错：\n",
    "```\n",
    "InvalidArgumentError (see above for traceback): tensor_name = dnn/hiddenlayer_1/bias; shape in shape_and_slice spec [33] does not match the shape stored in checkpoint: [32]\n",
    "```"
   ]
  },
  {
   "cell_type": "code",
   "execution_count": 34,
   "metadata": {},
   "outputs": [
    {
     "name": "stdout",
     "output_type": "stream",
     "text": [
      "INFO:tensorflow:Using config: {'_model_dir': '/tmp/mnist_model', '_tf_random_seed': None, '_save_summary_steps': 100, '_save_checkpoints_steps': None, '_save_checkpoints_secs': 600, '_session_config': None, '_keep_checkpoint_max': 5, '_keep_checkpoint_every_n_hours': 10000, '_log_step_count_steps': 1000, '_distribute': None, '_service': None, '_cluster_spec': <tensorflow.python.training.server_lib.ClusterSpec object at 0x7f9f88714940>, '_task_type': 'worker', '_task_id': 0, '_global_id_in_cluster': 0, '_master': '', '_evaluation_master': '', '_is_chief': True, '_num_ps_replicas': 0, '_num_worker_replicas': 1}\n"
     ]
    }
   ],
   "source": [
    "classifier2 = tf.estimator.DNNClassifier(feature_columns=feature_columns,\n",
    "                                        hidden_units=[256, 32],\n",
    "                                        optimizer=tf.train.AdamOptimizer(1e-4),\n",
    "                                        n_classes=10,\n",
    "                                        dropout=0.1, \n",
    "                                        config=config,\n",
    "                                        model_dir=\"/tmp/mnist_model\")"
   ]
  },
  {
   "cell_type": "markdown",
   "metadata": {},
   "source": [
    "默认读取最新的 checkpoint"
   ]
  },
  {
   "cell_type": "code",
   "execution_count": 39,
   "metadata": {},
   "outputs": [
    {
     "name": "stdout",
     "output_type": "stream",
     "text": [
      "INFO:tensorflow:Calling model_fn.\n",
      "INFO:tensorflow:Done calling model_fn.\n",
      "INFO:tensorflow:Starting evaluation at 2018-04-07-12:34:17\n",
      "INFO:tensorflow:Graph was finalized.\n",
      "INFO:tensorflow:Restoring parameters from /tmp/mnist_model/model.ckpt-30003\n",
      "INFO:tensorflow:Running local_init_op.\n",
      "INFO:tensorflow:Done running local_init_op.\n",
      "INFO:tensorflow:Finished evaluation at 2018-04-07-12:34:17\n",
      "INFO:tensorflow:Saving dict for global step 30003: accuracy = 0.9673, average_loss = 0.16608413, global_step = 30003, loss = 21.023306\n"
     ]
    },
    {
     "data": {
      "text/plain": [
       "{'accuracy': 0.9673,\n",
       " 'average_loss': 0.16608413,\n",
       " 'global_step': 30003,\n",
       " 'loss': 21.023306}"
      ]
     },
     "execution_count": 39,
     "metadata": {},
     "output_type": "execute_result"
    }
   ],
   "source": [
    "classifier2.evaluate(input_fn=test_input_fn)"
   ]
  },
  {
   "cell_type": "markdown",
   "metadata": {},
   "source": [
    "也可以指定想要读取的 checkpoint"
   ]
  },
  {
   "cell_type": "code",
   "execution_count": 38,
   "metadata": {},
   "outputs": [
    {
     "name": "stdout",
     "output_type": "stream",
     "text": [
      "INFO:tensorflow:Calling model_fn.\n",
      "INFO:tensorflow:Done calling model_fn.\n",
      "INFO:tensorflow:Starting evaluation at 2018-04-07-12:34:14\n",
      "INFO:tensorflow:Graph was finalized.\n",
      "INFO:tensorflow:Restoring parameters from /tmp/mnist_model/model.ckpt-10001\n",
      "INFO:tensorflow:Running local_init_op.\n",
      "INFO:tensorflow:Done running local_init_op.\n",
      "INFO:tensorflow:Finished evaluation at 2018-04-07-12:34:15\n",
      "INFO:tensorflow:Saving dict for global step 10001: accuracy = 0.9116, average_loss = 0.35408103, global_step = 10001, loss = 44.820385\n"
     ]
    },
    {
     "data": {
      "text/plain": [
       "{'accuracy': 0.9116,\n",
       " 'average_loss': 0.35408103,\n",
       " 'global_step': 10001,\n",
       " 'loss': 44.820385}"
      ]
     },
     "execution_count": 38,
     "metadata": {},
     "output_type": "execute_result"
    }
   ],
   "source": [
    "classifier2.evaluate(input_fn=test_input_fn, checkpoint_path=\"/tmp/mnist_model/model.ckpt-10001\")"
   ]
  }
 ],
 "metadata": {
  "kernelspec": {
   "display_name": "Python 3",
   "language": "python",
   "name": "python3"
  },
  "language_info": {
   "codemirror_mode": {
    "name": "ipython",
    "version": 3
   },
   "file_extension": ".py",
   "mimetype": "text/x-python",
   "name": "python",
   "nbconvert_exporter": "python",
   "pygments_lexer": "ipython3",
   "version": "3.6.4"
  },
  "toc": {
   "nav_menu": {},
   "number_sections": true,
   "sideBar": true,
   "skip_h1_title": true,
   "toc_cell": true,
   "toc_position": {
    "height": "964px",
    "left": "0px",
    "right": "1639px",
    "top": "50px",
    "width": "219px"
   },
   "toc_section_display": "block",
   "toc_window_display": true
  }
 },
 "nbformat": 4,
 "nbformat_minor": 2
}
