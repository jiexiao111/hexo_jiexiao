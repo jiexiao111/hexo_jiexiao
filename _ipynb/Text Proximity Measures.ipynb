{
 "cells": [
  {
   "cell_type": "markdown",
   "metadata": {
    "toc": true
   },
   "source": [
    "<h1>Table of Contents<span class=\"tocSkip\"></span></h1>\n",
    "<div class=\"toc\" style=\"margin-top: 1em;\"><ul class=\"toc-item\"><li><span><a href=\"#splitWords\" data-toc-modified-id=\"splitWords-1\"><span class=\"toc-item-num\">1&nbsp;&nbsp;</span>splitWords</a></span></li><li><span><a href=\"#termWeight\" data-toc-modified-id=\"termWeight-2\"><span class=\"toc-item-num\">2&nbsp;&nbsp;</span>termWeight</a></span><ul class=\"toc-item\"><li><span><a href=\"#jieba\" data-toc-modified-id=\"jieba-2.1\"><span class=\"toc-item-num\">2.1&nbsp;&nbsp;</span>jieba</a></span></li></ul></li><li><span><a href=\"#parseAttr\" data-toc-modified-id=\"parseAttr-3\"><span class=\"toc-item-num\">3&nbsp;&nbsp;</span>parseAttr</a></span></li></ul></div>"
   ]
  },
  {
   "cell_type": "code",
   "execution_count": 22,
   "metadata": {
    "collapsed": true
   },
   "outputs": [],
   "source": [
    "import re\n",
    "import jieba\n",
    "import jieba.analyse"
   ]
  },
  {
   "cell_type": "markdown",
   "metadata": {},
   "source": [
    "## splitWords"
   ]
  },
  {
   "cell_type": "markdown",
   "metadata": {},
   "source": [
    "我可能不需要，这里是将连续单词按照\"-\"\"_\"以及大小写规则进行分词"
   ]
  },
  {
   "cell_type": "code",
   "execution_count": 23,
   "metadata": {},
   "outputs": [],
   "source": [
    "re_camel_common = '(^[a-z0-9]+)|([A-Z0-9]+[a-z0-9]*)'\n",
    "pattern1 = re.compile(re_camel_common)\n",
    "re_camel = '[A-Z][a-z0-9]+$'\n",
    "pattern2 = re.compile(re_camel)\n",
    "\n",
    "def splitWords(words):\n",
    "    word = words.split(\"-\")\n",
    "    if len(word) > 1:\n",
    "        return word\n",
    "\n",
    "    word = words.split(\"_\")\n",
    "    if len(word) > 1:\n",
    "        return word\n",
    "\n",
    "    # TODO 这里没有细看\n",
    "    result = []\n",
    "    ret = pattern1.findall(words)\n",
    "    for tupl in ret:\n",
    "        if not tupl[0] == '':\n",
    "            result.append(tupl[0])\n",
    "        elif not tupl[1] == '':\n",
    "            result.append(tupl[1])\n",
    "\n",
    "            r = pattern2.search(tupl[1])\n",
    "            if r is None:\n",
    "                continue\n",
    "\n",
    "            vt = r.span()\n",
    "            if vt[0] == 0:\n",
    "                continue\n",
    "\n",
    "            v0 = tupl[1][:r.span()[0]]\n",
    "            v1 = tupl[1][r.span()[0]:]\n",
    "            if not v0 == '':\n",
    "                result.append(v0)\n",
    "            if not v1 == '':\n",
    "                result.append(v1)\n",
    "\n",
    "    return result"
   ]
  },
  {
   "cell_type": "code",
   "execution_count": 30,
   "metadata": {},
   "outputs": [
    {
     "data": {
      "text/plain": [
       "['test']"
      ]
     },
     "execution_count": 30,
     "metadata": {},
     "output_type": "execute_result"
    }
   ],
   "source": [
    "splitWords(\"test\")"
   ]
  },
  {
   "cell_type": "code",
   "execution_count": 25,
   "metadata": {},
   "outputs": [
    {
     "data": {
      "text/plain": [
       "['test', 'test', 'test']"
      ]
     },
     "execution_count": 25,
     "metadata": {},
     "output_type": "execute_result"
    }
   ],
   "source": [
    "splitWords(\"test_test_test\")"
   ]
  },
  {
   "cell_type": "code",
   "execution_count": 32,
   "metadata": {},
   "outputs": [
    {
     "data": {
      "text/plain": [
       "['test123', 'Test', 'Test']"
      ]
     },
     "execution_count": 32,
     "metadata": {},
     "output_type": "execute_result"
    }
   ],
   "source": [
    "splitWords(\"test123TestTest\")"
   ]
  },
  {
   "cell_type": "markdown",
   "metadata": {},
   "source": [
    "## termWeight"
   ]
  },
  {
   "cell_type": "code",
   "execution_count": 6,
   "metadata": {},
   "outputs": [],
   "source": [
    "def termWeight(attrValue):\n",
    "    \"\"\"\n",
    "    kwd_weight: 保存了word-weight的键值对，不包括idf值过低的词\n",
    "    qy_seg: 保存了切分后的 word 集合\n",
    "    topic_wd: 以idf最大的值做为候选结果中的必需值\n",
    "    \"\"\"\n",
    "    if not isinstance(attrValue, str):\n",
    "        return None, None, None\n",
    "\n",
    "    # topic_wd以idf最大的值做为候选结果中的必需值，qy_kwd/kwd_weight中保存了word-weight的键值对，不包括idf值过低的词\n",
    "    kwd_weight = {}\n",
    "    topic_wd = ''\n",
    "    qy_kwd = []\n",
    "    qy_kwd_tmp = jieba.analyse.extract_tags(attrValue, topK=20, withWeight=True, allowPOS=(), withFlag=False)\n",
    "    for item in qy_kwd_tmp:\n",
    "        if topic_wd == '':\n",
    "            topic_wd = item[0]\n",
    "        subseg = splitWords(item[0])\n",
    "        if len(subseg) > 1:\n",
    "            for word in subseg:\n",
    "                kwd_weight[word] = item[1]\n",
    "                unit = [word,item[1]]\n",
    "                qy_kwd.append(unit)\n",
    "        else:\n",
    "            kwd_weight[item[0]] = item[1]\n",
    "            qy_kwd.append([item[0],item[1]])\n",
    "    \n",
    "    qy_seg = []\n",
    "    qy_seg_tmp = jieba.lcut(attrValue)\n",
    "    # 英文value切词，英文切词是基于jieba的结果\n",
    "    for item in qy_seg_tmp:\n",
    "        subseg = splitWords(item)\n",
    "        if len(subseg) > 1:\n",
    "            for word in subseg:\n",
    "                qy_seg.append(word)\n",
    "        else:\n",
    "            qy_seg.append(item)\n",
    "    return kwd_weight, qy_seg, topic_wd\n",
    "\n",
    "#GET CANDIDATE RESULT\n"
   ]
  },
  {
   "cell_type": "code",
   "execution_count": 34,
   "metadata": {},
   "outputs": [
    {
     "data": {
      "text/plain": [
       "({'test': 5.97738375145},\n",
       " ['This', ' ', 'is', ' ', 'test', ' ', 'test', 'test'],\n",
       " 'test')"
      ]
     },
     "execution_count": 34,
     "metadata": {},
     "output_type": "execute_result"
    }
   ],
   "source": [
    "termWeight('This is test test_test')"
   ]
  },
  {
   "cell_type": "markdown",
   "metadata": {},
   "source": [
    "### jieba"
   ]
  },
  {
   "cell_type": "code",
   "execution_count": 33,
   "metadata": {},
   "outputs": [
    {
     "data": {
      "text/plain": [
       "[('test', 5.97738375145), ('test_test', 5.97738375145)]"
      ]
     },
     "execution_count": 33,
     "metadata": {},
     "output_type": "execute_result"
    },
    {
     "data": {
      "text/plain": [
       "['This', ' ', 'is', ' ', 'test', ' ', 'test_test']"
      ]
     },
     "execution_count": 33,
     "metadata": {},
     "output_type": "execute_result"
    }
   ],
   "source": [
    "attrValue = 'This is test test_test'\n",
    "jieba.analyse.extract_tags(attrValue,topK=20,withWeight=True,allowPOS=(),withFlag=False)\n",
    "jieba.lcut(attrValue)"
   ]
  },
  {
   "cell_type": "markdown",
   "metadata": {},
   "source": [
    "## parseAttr"
   ]
  },
  {
   "cell_type": "code",
   "execution_count": null,
   "metadata": {
    "collapsed": true
   },
   "outputs": [],
   "source": [
    "# %load -s parseAttr /tmp/API_RECOM/recomm.py\n",
    "def parseAttr(attrName, attrValue, wt, candidates, flag_topic):\n",
    "    if attrName is None or attrValue is None:\n",
    "        return None\n",
    "    kwd_weight, qy_seg, topic_wd = termWeight(attrValue)\n",
    "    if kwd_weight is None or qy_seg is None:\n",
    "        return None\n",
    "\n",
    "    #查找倒排索引,将每条候选结果展开成向量\n",
    "    rst_list = {}\n",
    "    score_list= {}\n",
    "    vector_pos = -1\n",
    "    for kwd_val in qy_seg:\n",
    "        if not kwd_val in kwd_weight:\n",
    "            continue\n",
    "        kwd_tmp = ''\n",
    "        if attrName == 'NONE':\n",
    "            kwd_tmp = kwd_val\n",
    "        else:\n",
    "            kwd_tmp = attrName + \"-\" + kwd_val\n",
    "        kwd = kwd_tmp.lower()\n",
    "        vector_pos += 1\n",
    "        if not kwd in invdict:\n",
    "            continue\n",
    "        kwd_list = {}\n",
    "        for one_rst in invdict[kwd]:\n",
    "            kwd_list[one_rst] = 1\n",
    "        for one_rst in candidates:\n",
    "            if one_rst in invdict_all[kwd]:\n",
    "                kwd_list[one_rst] = 1\n",
    "        for one_rst in kwd_list:\n",
    "            if not one_rst in rst_list:\n",
    "                rst_list[one_rst] = []\n",
    "            times = vector_pos - len(rst_list[one_rst])\n",
    "            if times >= 0:\n",
    "                rst_list[one_rst] = rst_list[one_rst]+[0]*times+[1]\n",
    "            else:\n",
    "                rst_list[one_rst][vector_pos] += 1\n",
    "\n",
    "    #调整每个结果向量的各维度权重\n",
    "    for a_rst in rst_list:\n",
    "        #分析kwd之间的连接情况，考虑N-gam(N>2)特征，防止切词粒度太细\n",
    "        i = 0\n",
    "        window_start = 0\n",
    "        window_end = 0\n",
    "        window_max_weight = -1\n",
    "        start_is_none = 0\n",
    "        while i < len(rst_list[a_rst]):\n",
    "            if not qy_seg[i] in kwd_weight:\n",
    "                i += 1\n",
    "                continue\n",
    "            if rst_list[a_rst][i]>0:\n",
    "                #调整同一个term多次出现在某行的权值比例\n",
    "                rst_list[a_rst][i] = 1+(rst_list[a_rst][i]-1)/repeat_weight_punish\n",
    "                w = kwd_weight[qy_seg[i]]\n",
    "                #根据invdict_all调整kwd的权值，start\n",
    "                #kwd_tmp = ''\n",
    "                #if attrName == 'NONE':\n",
    "                #    kwd_tmp = qy_seg[i]\n",
    "                #else:\n",
    "                #    kwd_tmp = attrName + \"-\" + qy_seg[i]\n",
    "                #kwd = kwd_tmp.lower()\n",
    "                #if kwd in invdict_all:\n",
    "                #    ln = len(invdict_all[kwd])\n",
    "                #    if ln > kw_inverted_num_norm:\n",
    "                #        ln =  kw_inverted_num_norm\n",
    "                #    if ln < 1:\n",
    "                #        ln = 1\n",
    "                    #w = w*(1/ln)\n",
    "                #end\n",
    "                if window_max_weight < w:\n",
    "                    window_max_weight = w\n",
    "                window_end = i\n",
    "                if start_is_none > 0:\n",
    "                    window_start = i\n",
    "                    start_is_none = 0\n",
    "            else:\n",
    "                if window_max_weight > 0:\n",
    "                    j = window_start\n",
    "                    while j <= window_end:\n",
    "                        rst_list[a_rst][j] = window_max_weight\n",
    "                        j += 1\n",
    "                start_is_none = 1\n",
    "                window_start = i\n",
    "                window_end = window_start\n",
    "                window_max_weight = -1\n",
    "            i += 1\n",
    "        #检查是否最后一个窗口没有执行赋值操作\n",
    "        if window_max_weight > -1:\n",
    "            j = window_start\n",
    "            \n",
    "            while j <= window_end:\n",
    "                rst_list[a_rst][j] = window_max_weight\n",
    "                j += 1\n",
    "    #主体词要求\n",
    "    topic_wd_final = ''\n",
    "    if flag_topic > 0 and not topic_wd is None:\n",
    "        if attrName == 'NONE':\n",
    "            topic_wd_tmp = topic_wd\n",
    "        else:\n",
    "            topic_wd_tmp = attrName + \"-\" + topic_wd\n",
    "        topic_wd_final = topic_wd_tmp.lower()\n",
    "    #统计得分\n",
    "    for a_rst in rst_list:\n",
    "        score = 0.0\n",
    "        if topic_wd_final == '' or not topic_wd_final in invdict_all:\n",
    "            for w in rst_list[a_rst]:\n",
    "                score += w\n",
    "        else:\n",
    "            if a_rst in invdict_all[topic_wd_final]:\n",
    "                for w in rst_list[a_rst]:\n",
    "                    score += w\n",
    "        score_list[a_rst] = score*wt\n",
    "    return score_list\n",
    "\n",
    "#TRANS FROM API TO VECTOR\n"
   ]
  }
 ],
 "metadata": {
  "kernelspec": {
   "display_name": "Python 3",
   "language": "python",
   "name": "python3"
  },
  "language_info": {
   "codemirror_mode": {
    "name": "ipython",
    "version": 3
   },
   "file_extension": ".py",
   "mimetype": "text/x-python",
   "name": "python",
   "nbconvert_exporter": "python",
   "pygments_lexer": "ipython3",
   "version": "3.6.4"
  },
  "toc": {
   "nav_menu": {},
   "number_sections": true,
   "sideBar": true,
   "skip_h1_title": true,
   "toc_cell": true,
   "toc_position": {},
   "toc_section_display": "block",
   "toc_window_display": true
  }
 },
 "nbformat": 4,
 "nbformat_minor": 2
}
