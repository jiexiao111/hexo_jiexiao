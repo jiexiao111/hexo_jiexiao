{
 "cells": [
  {
   "cell_type": "markdown",
   "metadata": {},
   "source": [
    "## 安装pymongo"
   ]
  },
  {
   "cell_type": "code",
   "execution_count": 62,
   "metadata": {},
   "outputs": [
    {
     "name": "stdout",
     "output_type": "stream",
     "text": [
      "Requirement already satisfied: pymongo in /root/anaconda3/lib/python3.6/site-packages\r\n"
     ]
    }
   ],
   "source": [
    "!pip --proxy=http://用户名:密码@proxyhk.huawei.com:8080 install pymongo"
   ]
  },
  {
   "cell_type": "markdown",
   "metadata": {},
   "source": [
    "## 连接数据库"
   ]
  },
  {
   "cell_type": "code",
   "execution_count": 3,
   "metadata": {},
   "outputs": [
    {
     "data": {
      "text/plain": [
       "True"
      ]
     },
     "execution_count": 3,
     "metadata": {},
     "output_type": "execute_result"
    }
   ],
   "source": [
    "from pymongo import *\n",
    "from urllib.parse import quote_plus\n",
    "import datetime\n",
    "client = MongoClient(\"mongodb://100.112.81.170:27017\")\n",
    "db = client.TestReviewBot\n",
    "db.authenticate('TestReviewBot', 'TestReviewBot')"
   ]
  },
  {
   "cell_type": "markdown",
   "metadata": {},
   "source": [
    "## 查询聚类列表名称"
   ]
  },
  {
   "cell_type": "code",
   "execution_count": 4,
   "metadata": {},
   "outputs": [
    {
     "data": {
      "text/plain": [
       "['testCaseDescEntity',\n",
       " 'checkRuleEntity',\n",
       " 'leftReasonsMapEntity',\n",
       " 'adminInfoEntity',\n",
       " 'checkRuleExcelEntity',\n",
       " 'testCaseDescMsgEntity',\n",
       " 'testDescWhiteListMsgEntity',\n",
       " 'checkResultEntity',\n",
       " 'leftTestCaseEntity',\n",
       " 'testCaseMsgHistoryEntity',\n",
       " 'statisticsLogProfileEntity',\n",
       " 'testDescWhiteListEntity',\n",
       " 'testCaseRightMsgEntity',\n",
       " 'leftTestCaseMsgEntity',\n",
       " 'caseQualityKeywordsEntity',\n",
       " 'fs.chunks',\n",
       " 'testCaseRightEntity',\n",
       " 'testCaseMsgEntity',\n",
       " 'statisticsLogEntity',\n",
       " 'fs.files']"
      ]
     },
     "execution_count": 4,
     "metadata": {},
     "output_type": "execute_result"
    }
   ],
   "source": [
    "db.collection_names()"
   ]
  },
  {
   "cell_type": "markdown",
   "metadata": {},
   "source": [
    "## 打开聚类列表"
   ]
  },
  {
   "cell_type": "code",
   "execution_count": 5,
   "metadata": {
    "collapsed": true
   },
   "outputs": [],
   "source": [
    "collect = db.testCaseDescMsgEntity"
   ]
  },
  {
   "cell_type": "markdown",
   "metadata": {},
   "source": [
    "## 查看单条记录"
   ]
  },
  {
   "cell_type": "code",
   "execution_count": 6,
   "metadata": {},
   "outputs": [
    {
     "data": {
      "text/plain": [
       "{'_class': 'com.huawei.reviewbot.deep.entity.TestCaseDescMsgEntity',\n",
       " '_id': ObjectId('59b7c630954b2f985156e9ef'),\n",
       " 'changeBefore': {'ExpectOutput': '界面布局实现镜像；界面不存在截断（长度、高度截断）、打点截断、重叠、单词内换行、布局、不存在无字串项，以及字串显示乱码、字串未翻译等问题（如果竖屏截断，需要看横屏是否正常）。',\n",
       "  'Preparation': '1、手机PC化，在大屏端操作',\n",
       "  'TestStep': '1、进入图片目录，更多按钮--全选，底部弹出快捷工具栏。\\n2、选中一到多张图片，点击“剪切”，剪切到任意路径，查看剪切进度条显示；'},\n",
       " 'changeEnd': {'TestStep': '1、进入图片目录，更多按钮--全选，底部弹出快捷工具栏。\\n2、选中一到多张（10张）图片，点击“剪切”，剪切到任意路径，查看剪切进度条显示；'},\n",
       " 'descId': '59b7c101954b2f9851772015',\n",
       " 'logDate': datetime.datetime(2017, 9, 12, 11, 34, 8, 13000),\n",
       " 'quality': 0,\n",
       " 'qualityResult': {'fuzzy_Result': []},\n",
       " 'resultId': '59b7c62f954b2f985156e9ed',\n",
       " 'type': 2,\n",
       " 'uri': '0atp6akc519'}"
      ]
     },
     "execution_count": 6,
     "metadata": {},
     "output_type": "execute_result"
    }
   ],
   "source": [
    "collect.find_one()"
   ]
  },
  {
   "cell_type": "markdown",
   "metadata": {},
   "source": [
    "## 查看多条记录"
   ]
  },
  {
   "cell_type": "code",
   "execution_count": 7,
   "metadata": {
    "scrolled": false
   },
   "outputs": [
    {
     "data": {
      "text/plain": [
       "<pymongo.cursor.Cursor at 0x7fac71dc9828>"
      ]
     },
     "execution_count": 7,
     "metadata": {},
     "output_type": "execute_result"
    },
    {
     "data": {
      "text/plain": [
       "[{'_class': 'com.huawei.reviewbot.deep.entity.TestCaseDescMsgEntity',\n",
       "  '_id': ObjectId('59b7c630954b2f985156e9ef'),\n",
       "  'changeBefore': {'ExpectOutput': '界面布局实现镜像；界面不存在截断（长度、高度截断）、打点截断、重叠、单词内换行、布局、不存在无字串项，以及字串显示乱码、字串未翻译等问题（如果竖屏截断，需要看横屏是否正常）。',\n",
       "   'Preparation': '1、手机PC化，在大屏端操作',\n",
       "   'TestStep': '1、进入图片目录，更多按钮--全选，底部弹出快捷工具栏。\\n2、选中一到多张图片，点击“剪切”，剪切到任意路径，查看剪切进度条显示；'},\n",
       "  'changeEnd': {'TestStep': '1、进入图片目录，更多按钮--全选，底部弹出快捷工具栏。\\n2、选中一到多张（10张）图片，点击“剪切”，剪切到任意路径，查看剪切进度条显示；'},\n",
       "  'descId': '59b7c101954b2f9851772015',\n",
       "  'logDate': datetime.datetime(2017, 9, 12, 11, 34, 8, 13000),\n",
       "  'quality': 0,\n",
       "  'qualityResult': {'fuzzy_Result': []},\n",
       "  'resultId': '59b7c62f954b2f985156e9ed',\n",
       "  'type': 2,\n",
       "  'uri': '0atp6akc519'},\n",
       " {'_class': 'com.huawei.reviewbot.deep.entity.TestCaseDescMsgEntity',\n",
       "  '_id': ObjectId('59b7c659954b2f985156e9f2'),\n",
       "  'changeBefore': {'ExpectOutput': '1-2、界面布局实现镜像；界面不存在截断（长度.高度截断）.打点截断.重叠.单词内换行.布局.不存在无字串项，以及字串显示乱码.字串未翻译等问题（如果竖屏截断，需要看横屏是否正常）。',\n",
       "   'Preparation': '0、切换到12小时制，注意\"am\"和“pm”显示； 时间切换为10点到12点之间；',\n",
       "   'TestStep': '1、点击桌面上的文件夹（含有多个应用的夹子），左右滑动，查看界面显示；\\n2、点击添加按钮，上下滑动，检查界面显示\\n\\n注：以上所有要检查的页面横竖屏下均需检查'},\n",
       "  'changeEnd': {'TestStep': '1、点击桌面上的文件夹（含有多个（10个）应用的夹子），左右滑动，查看界面显示；\\n2、点击添加按钮，上下滑动，检查界面显示\\n\\n注：以上所有要检查的页面横竖屏下均需检查'},\n",
       "  'descId': '59b7c101954b2f9851772015',\n",
       "  'logDate': datetime.datetime(2017, 9, 12, 11, 34, 49, 140000),\n",
       "  'quality': 0,\n",
       "  'qualityResult': {'fuzzy_Result': []},\n",
       "  'resultId': '59b7c659954b2f985156e9f0',\n",
       "  'type': 2,\n",
       "  'uri': '0avp7jntm5p'}]"
      ]
     },
     "execution_count": 7,
     "metadata": {},
     "output_type": "execute_result"
    }
   ],
   "source": [
    "items = collect.find()\n",
    "items.limit(2)\n",
    "list(items)"
   ]
  },
  {
   "cell_type": "markdown",
   "metadata": {},
   "source": [
    "## 查看聚类中的所有key"
   ]
  },
  {
   "cell_type": "code",
   "execution_count": 8,
   "metadata": {},
   "outputs": [
    {
     "data": {
      "text/plain": [
       "dict_keys(['_id', '_class', 'uri', 'descId', 'resultId', 'type', 'quality', 'logDate', 'changeBefore', 'changeEnd', 'qualityResult'])"
      ]
     },
     "execution_count": 8,
     "metadata": {},
     "output_type": "execute_result"
    }
   ],
   "source": [
    "collect.find_one().keys()"
   ]
  },
  {
   "cell_type": "markdown",
   "metadata": {},
   "source": [
    "## 查看记录总数"
   ]
  },
  {
   "cell_type": "code",
   "execution_count": 9,
   "metadata": {
    "scrolled": true
   },
   "outputs": [
    {
     "data": {
      "text/plain": [
       "77"
      ]
     },
     "execution_count": 9,
     "metadata": {},
     "output_type": "execute_result"
    }
   ],
   "source": [
    "collect.find().count()"
   ]
  },
  {
   "cell_type": "markdown",
   "metadata": {},
   "source": [
    "## 查询条目"
   ]
  },
  {
   "cell_type": "code",
   "execution_count": 10,
   "metadata": {},
   "outputs": [
    {
     "data": {
      "text/plain": [
       "[{'_class': 'com.huawei.reviewbot.deep.entity.TestCaseDescMsgEntity',\n",
       "  '_id': ObjectId('59b7c630954b2f985156e9ef'),\n",
       "  'changeBefore': {'ExpectOutput': '界面布局实现镜像；界面不存在截断（长度、高度截断）、打点截断、重叠、单词内换行、布局、不存在无字串项，以及字串显示乱码、字串未翻译等问题（如果竖屏截断，需要看横屏是否正常）。',\n",
       "   'Preparation': '1、手机PC化，在大屏端操作',\n",
       "   'TestStep': '1、进入图片目录，更多按钮--全选，底部弹出快捷工具栏。\\n2、选中一到多张图片，点击“剪切”，剪切到任意路径，查看剪切进度条显示；'},\n",
       "  'changeEnd': {'TestStep': '1、进入图片目录，更多按钮--全选，底部弹出快捷工具栏。\\n2、选中一到多张（10张）图片，点击“剪切”，剪切到任意路径，查看剪切进度条显示；'},\n",
       "  'descId': '59b7c101954b2f9851772015',\n",
       "  'logDate': datetime.datetime(2017, 9, 12, 11, 34, 8, 13000),\n",
       "  'quality': 0,\n",
       "  'qualityResult': {'fuzzy_Result': []},\n",
       "  'resultId': '59b7c62f954b2f985156e9ed',\n",
       "  'type': 2,\n",
       "  'uri': '0atp6akc519'}]"
      ]
     },
     "execution_count": 10,
     "metadata": {},
     "output_type": "execute_result"
    }
   ],
   "source": [
    "items = collect.find({\"logDate\": datetime.datetime(2017, 9, 12, 11, 34, 8, 13000)})\n",
    "list(items)"
   ]
  },
  {
   "cell_type": "markdown",
   "metadata": {},
   "source": [
    "## 条件查询"
   ]
  },
  {
   "cell_type": "code",
   "execution_count": 53,
   "metadata": {},
   "outputs": [
    {
     "data": {
      "text/plain": [
       "77"
      ]
     },
     "execution_count": 53,
     "metadata": {},
     "output_type": "execute_result"
    },
    {
     "data": {
      "text/plain": [
       "28"
      ]
     },
     "execution_count": 53,
     "metadata": {},
     "output_type": "execute_result"
    },
    {
     "data": {
      "text/plain": [
       "49"
      ]
     },
     "execution_count": 53,
     "metadata": {},
     "output_type": "execute_result"
    },
    {
     "data": {
      "text/plain": [
       "0"
      ]
     },
     "execution_count": 53,
     "metadata": {},
     "output_type": "execute_result"
    },
    {
     "data": {
      "text/plain": [
       "77"
      ]
     },
     "execution_count": 53,
     "metadata": {},
     "output_type": "execute_result"
    }
   ],
   "source": [
    "collect.find().count()\n",
    "collect.find({\"logDate\":{\"$lt\": datetime.datetime(2017, 9, 13)}}).count()\n",
    "collect.find({\"logDate\":{\"$gte\": datetime.datetime(2017, 9, 13)}}).count()\n",
    "collect.find({\n",
    "    \"$and\":[\n",
    "        {\"logDate\":{\"$lt\": datetime.datetime(2017, 9, 13)}},\n",
    "        {\"logDate\":{\"$gte\": datetime.datetime(2017, 9, 13)}}\n",
    "        ]\n",
    "}).count()\n",
    "collect.find({\n",
    "    \"$or\":[\n",
    "        {\"logDate\":{\"$lt\": datetime.datetime(2017, 9, 13)}},\n",
    "        {\"logDate\":{\"$gte\": datetime.datetime(2017, 9, 13)}}\n",
    "        ]\n",
    "}).count()"
   ]
  }
 ],
 "metadata": {
  "kernelspec": {
   "display_name": "Python 3",
   "language": "python",
   "name": "python3"
  },
  "language_info": {
   "codemirror_mode": {
    "name": "ipython",
    "version": 3
   },
   "file_extension": ".py",
   "mimetype": "text/x-python",
   "name": "python",
   "nbconvert_exporter": "python",
   "pygments_lexer": "ipython3",
   "version": "3.6.1"
  }
 },
 "nbformat": 4,
 "nbformat_minor": 2
}
