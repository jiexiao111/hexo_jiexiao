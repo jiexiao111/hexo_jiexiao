{
 "cells": [
  {
   "cell_type": "markdown",
   "metadata": {
    "toc": true
   },
   "source": [
    "<h1>Table of Contents<span class=\"tocSkip\"></span></h1>\n",
    "<div class=\"toc\" style=\"margin-top: 1em;\"><ul class=\"toc-item\"></ul></div>"
   ]
  },
  {
   "cell_type": "code",
   "execution_count": null,
   "metadata": {
    "collapsed": true
   },
   "outputs": [],
   "source": [
    "from skimage import exposure, filters, io\n",
    "from matplotlib import pyplot as plt\n",
    "import numpy as np\n",
    "from keras.preprocessing.image import ImageDataGenerator\n",
    "import skimage.morphology as sm\n",
    "import random\n",
    "\n",
    "%matplotlib inline"
   ]
  },
  {
   "cell_type": "code",
   "execution_count": null,
   "metadata": {
    "collapsed": true
   },
   "outputs": [],
   "source": [
    "test_dir = '/aiml/data/test/'\n",
    "batch_size = 64\n",
    "pix = 64"
   ]
  },
  {
   "cell_type": "code",
   "execution_count": null,
   "metadata": {
    "collapsed": true
   },
   "outputs": [],
   "source": [
    "def plots(ims, interp=False, titles=None):\n",
    "    ims=np.array(ims)\n",
    "    mn,mx=ims.min(),ims.max()\n",
    "    f = plt.figure(figsize=(12,24))\n",
    "    for i in range(len(ims)):\n",
    "        sp=f.add_subplot(1, len(ims), i+1)\n",
    "        if not titles is None: sp.set_title(titles[i], fontsize=18)\n",
    "        plt.imshow(ims[i], interpolation=None if interp else 'none', vmin=mn,vmax=mx)\n",
    "\n",
    "def plot(im, interp=False):\n",
    "    f = plt.figure(figsize=(3,6), frameon=True)\n",
    "    plt.imshow(im, interpolation=None if interp else 'none')\n",
    "\n",
    "plt.gray()\n",
    "plt.close()"
   ]
  },
  {
   "cell_type": "code",
   "execution_count": null,
   "metadata": {
    "collapsed": true
   },
   "outputs": [],
   "source": [
    "# %load -r 108-162 /aiml/code/python_code/prepare_data.py\n",
    "global_config = {'gaussian_train_max':  -1, \n",
    "                 'gaussian_train_min':  -1, \n",
    "                 'gaussian_test': -1, \n",
    "                 'dilation_train_max': -1,\n",
    "                 'dilation_train_min': -1,\n",
    "                 'dilation_test': -1, \n",
    "                 'threshold_otsu': True, \n",
    "                 'rescale_intensity': True,\n",
    "                 'norm_input': False}\n",
    "\n",
    "def preprocess_fun(x, gaussian_sigma, dilation_square, threshold_otsu, rescale_intensity, norm_input):\n",
    "    if norm_input:\n",
    "        std_px = 63.556923\n",
    "        mean_px = 222.517471\n",
    "        x = x - mean_px / std_px\n",
    "    if threshold_otsu:\n",
    "        thresh = filters.threshold_otsu(x) #返回一个阈值\n",
    "        x = (x >= thresh )* 1.0 #根据阈值进行分割\n",
    "    if gaussian_sigma > 0:\n",
    "        x = exposure.rescale_intensity(x)\n",
    "        x = filters.gaussian(x, sigma=gaussian_sigma)\n",
    "    if dilation_square > 0:\n",
    "        x = sm.dilation(x.reshape(64, 64), sm.square(dilation_square))\n",
    "        x = x.reshape(64, 64, 1)\n",
    "    if rescale_intensity:\n",
    "        x = exposure.rescale_intensity(x)\n",
    "    return x\n",
    "\n",
    "def train_preprocess(x):\n",
    "    global global_config\n",
    "    gaussian_train_max = global_config['gaussian_train_max']\n",
    "    gaussian_train_min = global_config['gaussian_train_min']\n",
    "    gaussian_test = global_config['gaussian_test']\n",
    "    dilation_train_max = global_config['dilation_train_max']\n",
    "    dilation_train_min = global_config['dilation_train_min']\n",
    "    dilation_test = global_config['dilation_test']\n",
    "    rescale_intensity = global_config['rescale_intensity']\n",
    "    threshold_otsu = global_config['threshold_otsu']\n",
    "    norm_input = global_config['norm_input']\n",
    "\n",
    "    if gaussian_train_max > 0:\n",
    "        gaussian_sigma = random.random() * gaussian_train_max\n",
    "    else:\n",
    "        gaussian_sigma = gaussian_test\n",
    "\n",
    "    if dilation_train_max > 0:\n",
    "        dilation_square = random.randint(dilation_train_min, dilation_train_max)\n",
    "    else:\n",
    "        dilation_square = dilation_test\n",
    "\n",
    "    x = preprocess_fun(x, gaussian_sigma, dilation_square,\n",
    "                       threshold_otsu, rescale_intensity, norm_input)\n",
    "\n",
    "    return x\n",
    "\n",
    "def test_preprocess(x):\n",
    "    global global_config\n",
    "    gaussian_test = global_config['gaussian_test']\n",
    "    dilation_test = global_config['dilation_test']\n",
    "    threshold_otsu = global_config['threshold_otsu']\n",
    "    rescale_intensity = global_config['rescale_intensity']\n",
    "    norm_input = global_config['norm_input']\n",
    "\n",
    "    x = preprocess_fun(x, gaussian_test, dilation_test,\n",
    "                       threshold_otsu, rescale_intensity, norm_input)\n",
    "    return x\n"
   ]
  },
  {
   "cell_type": "code",
   "execution_count": null,
   "metadata": {
    "collapsed": true
   },
   "outputs": [],
   "source": [
    "test_data = ImageDataGenerator(preprocessing_function=train_preprocess)\n",
    "test_gen = test_data.flow_from_directory(test_dir, color_mode='grayscale', target_size=(pix, pix), batch_size=batch_size)"
   ]
  },
  {
   "cell_type": "code",
   "execution_count": null,
   "metadata": {
    "collapsed": true
   },
   "outputs": [],
   "source": [
    "images = test_gen.next()[0]\n",
    "images = images.reshape(batch_size, pix, pix)\n",
    "n = 0"
   ]
  },
  {
   "cell_type": "code",
   "execution_count": null,
   "metadata": {
    "collapsed": true
   },
   "outputs": [],
   "source": [
    "n += 5\n",
    "plots(images[n:n+5])"
   ]
  },
  {
   "cell_type": "code",
   "execution_count": null,
   "metadata": {
    "collapsed": true
   },
   "outputs": [],
   "source": [
    "for image in images[n:n+5]:\n",
    "    print(np.min(image), np.max(image))"
   ]
  },
  {
   "cell_type": "markdown",
   "metadata": {},
   "source": [
    "膨胀的效果演示"
   ]
  },
  {
   "cell_type": "code",
   "execution_count": null,
   "metadata": {
    "collapsed": true
   },
   "outputs": [],
   "source": [
    "plots([sm.dilation(x.reshape(64, 64), sm.square(2)) for x in images[n:n+5]])"
   ]
  },
  {
   "cell_type": "markdown",
   "metadata": {},
   "source": [
    "高斯滤波效果演示"
   ]
  },
  {
   "cell_type": "code",
   "execution_count": null,
   "metadata": {
    "collapsed": true
   },
   "outputs": [],
   "source": [
    "plots([filters.gaussian(exposure.rescale_intensity(x), sigma=1) for x in images[n:n+5]])"
   ]
  }
 ],
 "metadata": {
  "kernelspec": {
   "display_name": "Python 3",
   "language": "python",
   "name": "python3"
  },
  "language_info": {
   "codemirror_mode": {
    "name": "ipython",
    "version": 2
   },
   "file_extension": ".py",
   "mimetype": "text/x-python",
   "name": "python",
   "nbconvert_exporter": "python",
   "pygments_lexer": "ipython2",
   "version": "2.7.13"
  },
  "toc": {
   "nav_menu": {},
   "number_sections": true,
   "sideBar": true,
   "skip_h1_title": true,
   "toc_cell": true,
   "toc_position": {},
   "toc_section_display": "block",
   "toc_window_display": true
  }
 },
 "nbformat": 4,
 "nbformat_minor": 2
}
